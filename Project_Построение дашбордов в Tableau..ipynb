{
 "cells": [
  {
   "cell_type": "markdown",
   "id": "edf6117b",
   "metadata": {},
   "source": [
    "<div style=\"border:solid Chocolate 2px; padding: 40px\">\n",
    "\n",
    "<b> Матвей, привет!</b>\n",
    "\n",
    "Меня зовут Евгений Головин, я буду ревьюером твоего проекта. Если ты не против, то предлагаю построить наше общение на \"ты\" ;) Если удобнее на \"вы\", то нет проблем, только скажи об этом. \n",
    "\n",
    "В ходе работы я оставил тебе комментарии <font color='green'>зеленого</font>, <font color='gold'>желтого</font> и <font color='red'>красного</font> цветов. Сейчас объясню, что они значат:\n",
    "\n",
    "<br/>\n",
    "\n",
    "<div class=\"alert alert-success\">\n",
    "<h2> Комментарий ревьюера <a class=\"tocSkip\"> </h2>\n",
    "\n",
    "<b>Все супер!👍:</b> Решение на этом шаге является полностью правильным.\n",
    "</div>\n",
    "\n",
    "<br/>\n",
    "\n",
    "<div class=\"alert alert-warning\">\n",
    "    <h2> Комментарий ревьюера <a class=\"tocSkip\"> </h2>\n",
    "    \n",
    "<b>Небольшие замечания и рекомендации💡:</b> Решение на этом шаге станет еще лучше, если внести небольшие коррективы.\n",
    "</div>\n",
    "\n",
    "\n",
    "<br/>\n",
    "<div class=\"alert alert-block alert-danger\">\n",
    "<h2> Комментарий ревьюера <a class=\"tocSkip\"></h2>\n",
    "\n",
    "    \n",
    "<b>На доработку🤔:</b>\n",
    " Решение на этом шаге требует существенной переработки и внесения правок. Напоминаю, что проект не может быть принят с первого раза, если ревью содержит комментарии, рекомендующие доработать шаги.\n",
    "</div>\n",
    "    \n",
    "Увидев мой комментарий, не удаляй его, он будет очень полезен в случае повторной проверки работы :)\n",
    "    \n",
    "<div class=\"alert alert-info\">\n",
    "<b>А свой помечай вот так, чтобы я его не потерял ;)</b> \n",
    "</div>\n",
    "    \n",
    "На мои комменатрии можно и нужно реагировать, только делать это стоит так, чтобы твои и мои комменты не смешались: выделяй свои цветами, сильно отличающимися от моих.\n",
    "    \n",
    "Увидев у тебя неточность, в первый раз я лишь укажу на ее наличие и дам тебе возможность самому найти и исправить ее. На реальной работе твой руководитель будет поступать также, и я пытаюсь подготовить тебя именно к работе аналитиком. Но если ты пока не справишься с такой задачей - при следующей проверке я дам более точную подсказку!"
   ]
  },
  {
   "cell_type": "markdown",
   "id": "815e4b01",
   "metadata": {},
   "source": [
    "# Построение дашбордов в Tableau."
   ]
  },
  {
   "cell_type": "markdown",
   "id": "dc644ae4",
   "metadata": {},
   "source": [
    "### Цель проекта.\n",
    "Подготовить исследование истории TED-конференций с помощью Tableau. Выявить сфоримровавшиеся тенденции в данной области, факторы влиявшие на организацию мероприятий.\n",
    "Сформулировать и презентовать полученные результаты в виде дашбордов в Tableau.  \n"
   ]
  },
  {
   "cell_type": "markdown",
   "id": "511cc62e",
   "metadata": {},
   "source": [
    "### Ссылка на презентацию\n",
    "\n",
    "https://public.tableau.com/app/profile/matvey.gorelikov/viz/Progect_10_TED/sheet12?publish=yes"
   ]
  },
  {
   "cell_type": "markdown",
   "id": "d2a79346",
   "metadata": {},
   "source": [
    "<div class=\"alert alert-info\">\n",
    "<b>Привет Евгений, исправил сортировку круговой диаграммы</b> \n",
    "</div>"
   ]
  },
  {
   "cell_type": "markdown",
   "id": "7a96a5e3",
   "metadata": {},
   "source": [
    "# Дашборд \"История выступлений\""
   ]
  },
  {
   "cell_type": "markdown",
   "id": "72f41f39",
   "metadata": {},
   "source": [
    "<div class=\"alert alert-success\">\n",
    "<h2> Комментарий ревьюера v1 <a class=\"tocSkip\"> </h2>\n",
    "\n",
    "<b>Все супер!👍:</b> Идеальный дашборд! Все 3 графика сделаны верно, action настроен, а фильтр по дате добавлен, дата, с которой начался рост количества вытсуплений определена правильно. Молодец!"
   ]
  },
  {
   "cell_type": "markdown",
   "id": "8cbcc8db",
   "metadata": {},
   "source": [
    "# Дашборд \"Тематики выступлений\""
   ]
  },
  {
   "cell_type": "markdown",
   "id": "c69a3df3",
   "metadata": {},
   "source": [
    "<div class=\"alert alert-success\">\n",
    "<h2> Комментарий ревьюера v1 <a class=\"tocSkip\"> </h2>\n",
    "\n",
    "<b>Все супер!👍:</b> Идеальный дашборд! Все 4 графика сделаны верно, action настроен, а фильтр по дате добавлен, боксплоты отсортированы. Молодец!"
   ]
  },
  {
   "cell_type": "markdown",
   "id": "ef6c9754",
   "metadata": {},
   "source": [
    "<div class=\"alert alert-block alert-danger\">\n",
    "<h2> Комментарий ревьюера v1<a class=\"tocSkip\"></h2>\n",
    "\n",
    "<b>На доработку🤔:</b>  Круговую диаграмму нужно отсортировать, так как это одно из правил этикета при построение графика такого типа"
   ]
  },
  {
   "cell_type": "markdown",
   "id": "2f56d63c",
   "metadata": {},
   "source": [
    "<div class=\"alert alert-success\">\n",
    "<h2> Комментарий ревьюера v2 <a class=\"tocSkip\"> </h2>\n",
    "\n",
    "<b>Все супер!👍:</b>  Доработано!"
   ]
  },
  {
   "cell_type": "markdown",
   "id": "b610ceeb",
   "metadata": {},
   "source": [
    "# Дашборд \"Авторы выступлений\""
   ]
  },
  {
   "cell_type": "markdown",
   "id": "be359ec4",
   "metadata": {},
   "source": [
    "<div class=\"alert alert-success\">\n",
    "<h2> Комментарий ревьюера v1 <a class=\"tocSkip\"> </h2>\n",
    "\n",
    "<b>Все супер!👍:</b> Графики построены верно, таблицы сделаны правильно! Action сделан, качественная работа проведена. Хвалю!"
   ]
  },
  {
   "cell_type": "markdown",
   "id": "c5cdef8f",
   "metadata": {},
   "source": [
    "# Дашборд на свободную тему"
   ]
  },
  {
   "cell_type": "markdown",
   "id": "8ee47dd3",
   "metadata": {},
   "source": [
    "<div class=\"alert alert-success\">\n",
    "<h2> Комментарий ревьюера v1 <a class=\"tocSkip\"> </h2>\n",
    "\n",
    "<b>Все супер!👍:</b> Интересное исследование. Спасибо!"
   ]
  },
  {
   "cell_type": "markdown",
   "id": "29831848",
   "metadata": {},
   "source": [
    "<div style=\"border:solid Chocolate 2px; padding: 40px\">\n",
    "\n",
    "**Общий вывод по проекту ревьювера v1**:\n",
    "\n",
    "Матвей, спасибо за  проект! Ты приложила много усилий, чтобы довести его до конца, проделана огромная работа, и это видно невооруженным глазом, ты большой молодец!\n",
    "\n",
    "**Отмечу положительные моменты**:\n",
    "\n",
    "1. Все разложено по полочкам, всегда понятен ход твоих мыслей, приятно смотреть\n",
    "\n",
    "2. Отличные визуализации\n",
    "\n",
    "3. На разных шагах проекта ты предлагала очень интересные решения и методы для их реализации. Хорошая работа!\n",
    "\n",
    "**На что стоит обратить внимание**:\n",
    "\n",
    "1. Круговая диаграмма на втором листе не отсортирована\n",
    "\n",
    "**Удачи и жду твой проект на повторное ревью!**"
   ]
  },
  {
   "cell_type": "markdown",
   "id": "933fe289",
   "metadata": {},
   "source": [
    "<div style=\"border:solid Chocolate 2px; padding: 40px\">\n",
    "\n",
    "**Общий вывод по проекту ревьювера v2**:\n",
    "\n",
    "Матвей, ошибки исправлены, проект принят, поздравляю тебя! Успешной учебы и еще увидимся в Практикуме!"
   ]
  },
  {
   "cell_type": "code",
   "execution_count": null,
   "id": "7c75ac55",
   "metadata": {},
   "outputs": [],
   "source": []
  }
 ],
 "metadata": {
  "kernelspec": {
   "display_name": "Python 3 (ipykernel)",
   "language": "python",
   "name": "python3"
  },
  "language_info": {
   "codemirror_mode": {
    "name": "ipython",
    "version": 3
   },
   "file_extension": ".py",
   "mimetype": "text/x-python",
   "name": "python",
   "nbconvert_exporter": "python",
   "pygments_lexer": "ipython3",
   "version": "3.9.5"
  },
  "toc": {
   "base_numbering": 1,
   "nav_menu": {},
   "number_sections": true,
   "sideBar": true,
   "skip_h1_title": true,
   "title_cell": "Table of Contents",
   "title_sidebar": "Contents",
   "toc_cell": false,
   "toc_position": {},
   "toc_section_display": true,
   "toc_window_display": false
  }
 },
 "nbformat": 4,
 "nbformat_minor": 5
}
