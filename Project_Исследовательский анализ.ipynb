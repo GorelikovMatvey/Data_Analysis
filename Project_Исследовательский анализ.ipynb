{
 "cells": [
  {
   "cell_type": "markdown",
   "metadata": {},
   "source": [
    "<div style=\"border:solid green 3px; padding: 20px\">\n",
    "\t\t\t\t\t\t\t\t\t\t\t\t\t\t\t\t\t\t\t\t\t\t\t\n",
    "<b>Привет!</b>\n",
    "\t\t\t\t\t\t\t\t\t\t\t\t\t\t\t\t\t\t\t\t\t\n",
    "Меня зовут Сороколетов Илья и я буду проверять твой проект. \n",
    "\t\t\t\t\t\t\t\t\t\t\t\t\t\t\t\t\t\t\t\t\t\n",
    "Предлагаю общаться на «**ты**», но если тебе будет комфортнее общаться на «**вы**», то сообщи об этом в комментариях)\n",
    "\t\t\t\t\t\t\t\t\t\t\t\t\t\t\t\t\t\t\t\t\t\n",
    "\t\t\t\t\t\t\t\t\t\t\t\t\t\t\t\t\t\t\t\t\t\n",
    "Для твоего удобства, я буду выделять свои комментарии следующим образом:\n",
    "\t\t\t\t\t\t\t\t\t\t\t\t\t\t\t\t\t\t\t\t\t\n",
    "<div class=\"alert alert-danger\">\n",
    "<b>❌ Комментарий ревьюера v1:</b> Самые важные замечания. Они указывают на ключевые моменты, которые влияют на конечный результат проекта. </div>\n",
    "\t\t\t\t\t\t\t\t\t\t\t\t\t\t\t\t\t\t\t\t\t\n",
    "<div class=\"alert alert-warning\">\n",
    "<b>⚠️ Комментарий ревьюера v1:</b> Советы или замечания, которые помогут сделать твою работу лучше, но необязательны к выполнению.\n",
    "\t\t\t\t\t\t\t\t\t\t\t\t\t\t\t\t\t\t\t\t\t\n",
    "</div>\n",
    "\t\t\t\t\t\t\t\t\t\t\t\t\t\t\t\t\t\t\t\t\t\n",
    "<div class=\"alert alert-success\">\n",
    "<b>✔️ Комментарий ревьюера v1:</b> Так я выделяю все остальные комментарии.</div>\n",
    "\t\t\t\t\t\t\t\t\t\t\t\t\t\t\t\t\t\t\t\t\t\n",
    "\t\t\t\t\t\t\t\t\t\t\t\t\t\t\t\t\t\t\t\t\t\n",
    "Пометками <b>v1-v2-v3-...</b> я буду отмечать версию проверки. Так ты сможешь быстро найти мои новые комментарии.\n",
    "\t\t\t\t\t\t\t\t\t\t\t\t\t\t\t\t\t\t\t\t\t\n",
    "Давай работать над проектом в диалоге: если ты что-то меняешь в проекте по моим рекомендациям — пиши об этом. Выбери для своих комментариев какой-то заметный цвет, так мне будет легче отследить изменения, например вот так:\n",
    "\t\t\t\t\t\t\t\t\t\t\t\t\t\t\t\t\t\t\t\t\t    \n",
    "<div class=\"alert alert-info\">\n",
    "<b>Комментарий студента:</b>\n",
    "<br>\n",
    "</div>\n",
    "\t\t\t\t\t\t\t\t\t\t\t\t\t\t\t\t\t\t\t\t\t\n",
    "<b>Пожалуйста, не перемещай, не изменяй и не удаляй мои комментарии.</b> Если ты оставляешь свои комментарии, то делай это под моими, чтобы сообщения были расположены в хронологическом порядке. Всё это поможет выполнить повторную проверку твоего проекта быстрее. \n",
    "\t\t\t\t\t\t\t\t\t\t\t\t\t\t\t\t\t\t\t\t\t\n",
    "Перед отправкой работы я рекомендую нажимать Kernel -> Restart & Run All. Это перезапустит ядро и по очереди выполнит все ячейки. Так ты сможешь проверить, что всё работает корректно. Кнопка Kernel находится в панели сверху\n",
    "\t\t\t\t\t\t\t\t\t\t\t\t\t\t\t\t\t\t\t\t\t\n",
    "Обязательно задавай вопросы если они возникнут, а я перехожу к проверке)\n",
    "\t\t\t\t\t\t\t\t\t\t\t\t\t\t\t\t\t\t\t\t\t\n",
    "P.S. На всякий случай, я оставлю пустой шаблон для твоих комментариев ниже. Кликни два раза на мой комментарий, скопируй последние четыре строчки кода и вставляй их в пустую ячейку там, где ты хочешь оставить комментарий. Не забудь только перед этим сменить тип ячейки на Markdown. Быстро это можно сделать так: кликнуть на ячейку - нажать ESC - нажать M. \n",
    "\t\t\t\t\t\t\t\t\t\t\t\t\t\t\t\t\t\t\t\t\t    \n",
    "\t\t\t\t\t\t\t\t\t\t\t\t\t\t\t\t\t\t\t\t\t    \n",
    "<div class=\"alert alert-info\">\n",
    "<b>Комментарий студента:</b>\n",
    "<br>Удали этот текст и вместо него напиши свой комментарий 🙂\n",
    "</div>"
   ]
  },
  {
   "cell_type": "markdown",
   "metadata": {
    "id": "-VFbjcb3Awb7"
   },
   "source": [
    "# Исследование объявлений о продаже квартир\n",
    "\n",
    "В вашем распоряжении данные сервиса Яндекс Недвижимость — архив объявлений о продаже квартир в Санкт-Петербурге и соседних населённых пунктах за несколько лет. Вам нужно научиться определять рыночную стоимость объектов недвижимости. Для этого проведите исследовательский анализ данных и установите параметры, влияющие на цену объектов. Это позволит построить автоматизированную систему: она отследит аномалии и мошенническую деятельность.\n",
    "\n",
    "По каждой квартире на продажу доступны два вида данных. Первые вписаны пользователем, вторые — получены автоматически на основе картографических данных. Например, расстояние до центра, аэропорта и других объектов — эти данные автоматически получены из геосервисов. Количество парков и водоёмов также заполняется без участия пользователя."
   ]
  },
  {
   "cell_type": "markdown",
   "metadata": {},
   "source": [
    "<div class=\"alert alert-success\">\n",
    "<b>✔️ Комментарий ревьюера v1:</b> \n",
    "<br>Молодец, что добавляешь краткое описание задачи. Это поможет тебе быстро вспомнить о чем проект, если спустя время ты решишь к нему вернуться)\n",
    "</div>"
   ]
  },
  {
   "cell_type": "markdown",
   "metadata": {
    "id": "aeFLH07FAwb9"
   },
   "source": [
    "### Откройте файл с данными и изучите общую информацию"
   ]
  },
  {
   "cell_type": "markdown",
   "metadata": {},
   "source": [
    "Импортируем необходимые для работы библиотеки, читаем файл."
   ]
  },
  {
   "cell_type": "code",
   "execution_count": 1,
   "metadata": {},
   "outputs": [],
   "source": [
    "import pandas as pd\n",
    "import seaborn as sns\n",
    "import numpy as np\n",
    "import matplotlib.pyplot as plt"
   ]
  },
  {
   "cell_type": "markdown",
   "metadata": {},
   "source": [
    "Увеличим максимальное количество отображающихся столбцов."
   ]
  },
  {
   "cell_type": "code",
   "execution_count": 2,
   "metadata": {
    "id": "7MZxY65pAwb9"
   },
   "outputs": [
    {
     "data": {
      "text/html": [
       "<div>\n",
       "<style scoped>\n",
       "    .dataframe tbody tr th:only-of-type {\n",
       "        vertical-align: middle;\n",
       "    }\n",
       "\n",
       "    .dataframe tbody tr th {\n",
       "        vertical-align: top;\n",
       "    }\n",
       "\n",
       "    .dataframe thead th {\n",
       "        text-align: right;\n",
       "    }\n",
       "</style>\n",
       "<table border=\"1\" class=\"dataframe\">\n",
       "  <thead>\n",
       "    <tr style=\"text-align: right;\">\n",
       "      <th></th>\n",
       "      <th>total_images</th>\n",
       "      <th>last_price</th>\n",
       "      <th>total_area</th>\n",
       "      <th>first_day_exposition</th>\n",
       "      <th>rooms</th>\n",
       "      <th>ceiling_height</th>\n",
       "      <th>floors_total</th>\n",
       "      <th>living_area</th>\n",
       "      <th>floor</th>\n",
       "      <th>is_apartment</th>\n",
       "      <th>studio</th>\n",
       "      <th>open_plan</th>\n",
       "      <th>kitchen_area</th>\n",
       "      <th>balcony</th>\n",
       "      <th>locality_name</th>\n",
       "      <th>airports_nearest</th>\n",
       "      <th>cityCenters_nearest</th>\n",
       "      <th>parks_around3000</th>\n",
       "      <th>parks_nearest</th>\n",
       "      <th>ponds_around3000</th>\n",
       "      <th>ponds_nearest</th>\n",
       "      <th>days_exposition</th>\n",
       "    </tr>\n",
       "  </thead>\n",
       "  <tbody>\n",
       "    <tr>\n",
       "      <th>0</th>\n",
       "      <td>20</td>\n",
       "      <td>13000000.0</td>\n",
       "      <td>108.0</td>\n",
       "      <td>2019-03-07T00:00:00</td>\n",
       "      <td>3</td>\n",
       "      <td>2.70</td>\n",
       "      <td>16.0</td>\n",
       "      <td>51.0</td>\n",
       "      <td>8</td>\n",
       "      <td>NaN</td>\n",
       "      <td>False</td>\n",
       "      <td>False</td>\n",
       "      <td>25.0</td>\n",
       "      <td>NaN</td>\n",
       "      <td>Санкт-Петербург</td>\n",
       "      <td>18863.0</td>\n",
       "      <td>16028.0</td>\n",
       "      <td>1.0</td>\n",
       "      <td>482.0</td>\n",
       "      <td>2.0</td>\n",
       "      <td>755.0</td>\n",
       "      <td>NaN</td>\n",
       "    </tr>\n",
       "    <tr>\n",
       "      <th>1</th>\n",
       "      <td>7</td>\n",
       "      <td>3350000.0</td>\n",
       "      <td>40.4</td>\n",
       "      <td>2018-12-04T00:00:00</td>\n",
       "      <td>1</td>\n",
       "      <td>NaN</td>\n",
       "      <td>11.0</td>\n",
       "      <td>18.6</td>\n",
       "      <td>1</td>\n",
       "      <td>NaN</td>\n",
       "      <td>False</td>\n",
       "      <td>False</td>\n",
       "      <td>11.0</td>\n",
       "      <td>2.0</td>\n",
       "      <td>посёлок Шушары</td>\n",
       "      <td>12817.0</td>\n",
       "      <td>18603.0</td>\n",
       "      <td>0.0</td>\n",
       "      <td>NaN</td>\n",
       "      <td>0.0</td>\n",
       "      <td>NaN</td>\n",
       "      <td>81.0</td>\n",
       "    </tr>\n",
       "    <tr>\n",
       "      <th>2</th>\n",
       "      <td>10</td>\n",
       "      <td>5196000.0</td>\n",
       "      <td>56.0</td>\n",
       "      <td>2015-08-20T00:00:00</td>\n",
       "      <td>2</td>\n",
       "      <td>NaN</td>\n",
       "      <td>5.0</td>\n",
       "      <td>34.3</td>\n",
       "      <td>4</td>\n",
       "      <td>NaN</td>\n",
       "      <td>False</td>\n",
       "      <td>False</td>\n",
       "      <td>8.3</td>\n",
       "      <td>0.0</td>\n",
       "      <td>Санкт-Петербург</td>\n",
       "      <td>21741.0</td>\n",
       "      <td>13933.0</td>\n",
       "      <td>1.0</td>\n",
       "      <td>90.0</td>\n",
       "      <td>2.0</td>\n",
       "      <td>574.0</td>\n",
       "      <td>558.0</td>\n",
       "    </tr>\n",
       "    <tr>\n",
       "      <th>3</th>\n",
       "      <td>0</td>\n",
       "      <td>64900000.0</td>\n",
       "      <td>159.0</td>\n",
       "      <td>2015-07-24T00:00:00</td>\n",
       "      <td>3</td>\n",
       "      <td>NaN</td>\n",
       "      <td>14.0</td>\n",
       "      <td>NaN</td>\n",
       "      <td>9</td>\n",
       "      <td>NaN</td>\n",
       "      <td>False</td>\n",
       "      <td>False</td>\n",
       "      <td>NaN</td>\n",
       "      <td>0.0</td>\n",
       "      <td>Санкт-Петербург</td>\n",
       "      <td>28098.0</td>\n",
       "      <td>6800.0</td>\n",
       "      <td>2.0</td>\n",
       "      <td>84.0</td>\n",
       "      <td>3.0</td>\n",
       "      <td>234.0</td>\n",
       "      <td>424.0</td>\n",
       "    </tr>\n",
       "    <tr>\n",
       "      <th>4</th>\n",
       "      <td>2</td>\n",
       "      <td>10000000.0</td>\n",
       "      <td>100.0</td>\n",
       "      <td>2018-06-19T00:00:00</td>\n",
       "      <td>2</td>\n",
       "      <td>3.03</td>\n",
       "      <td>14.0</td>\n",
       "      <td>32.0</td>\n",
       "      <td>13</td>\n",
       "      <td>NaN</td>\n",
       "      <td>False</td>\n",
       "      <td>False</td>\n",
       "      <td>41.0</td>\n",
       "      <td>NaN</td>\n",
       "      <td>Санкт-Петербург</td>\n",
       "      <td>31856.0</td>\n",
       "      <td>8098.0</td>\n",
       "      <td>2.0</td>\n",
       "      <td>112.0</td>\n",
       "      <td>1.0</td>\n",
       "      <td>48.0</td>\n",
       "      <td>121.0</td>\n",
       "    </tr>\n",
       "  </tbody>\n",
       "</table>\n",
       "</div>"
      ],
      "text/plain": [
       "   total_images  last_price  total_area first_day_exposition  rooms  \\\n",
       "0            20  13000000.0       108.0  2019-03-07T00:00:00      3   \n",
       "1             7   3350000.0        40.4  2018-12-04T00:00:00      1   \n",
       "2            10   5196000.0        56.0  2015-08-20T00:00:00      2   \n",
       "3             0  64900000.0       159.0  2015-07-24T00:00:00      3   \n",
       "4             2  10000000.0       100.0  2018-06-19T00:00:00      2   \n",
       "\n",
       "   ceiling_height  floors_total  living_area  floor is_apartment  studio  \\\n",
       "0            2.70          16.0         51.0      8          NaN   False   \n",
       "1             NaN          11.0         18.6      1          NaN   False   \n",
       "2             NaN           5.0         34.3      4          NaN   False   \n",
       "3             NaN          14.0          NaN      9          NaN   False   \n",
       "4            3.03          14.0         32.0     13          NaN   False   \n",
       "\n",
       "   open_plan  kitchen_area  balcony    locality_name  airports_nearest  \\\n",
       "0      False          25.0      NaN  Санкт-Петербург           18863.0   \n",
       "1      False          11.0      2.0   посёлок Шушары           12817.0   \n",
       "2      False           8.3      0.0  Санкт-Петербург           21741.0   \n",
       "3      False           NaN      0.0  Санкт-Петербург           28098.0   \n",
       "4      False          41.0      NaN  Санкт-Петербург           31856.0   \n",
       "\n",
       "   cityCenters_nearest  parks_around3000  parks_nearest  ponds_around3000  \\\n",
       "0              16028.0               1.0          482.0               2.0   \n",
       "1              18603.0               0.0            NaN               0.0   \n",
       "2              13933.0               1.0           90.0               2.0   \n",
       "3               6800.0               2.0           84.0               3.0   \n",
       "4               8098.0               2.0          112.0               1.0   \n",
       "\n",
       "   ponds_nearest  days_exposition  \n",
       "0          755.0              NaN  \n",
       "1            NaN             81.0  \n",
       "2          574.0            558.0  \n",
       "3          234.0            424.0  \n",
       "4           48.0            121.0  "
      ]
     },
     "execution_count": 2,
     "metadata": {},
     "output_type": "execute_result"
    }
   ],
   "source": [
    "#pd.options.display.float_format = '{:,.2f}'.format\n",
    "data  = pd.read_csv('/datasets/real_estate_data.csv', sep='\\t')\n",
    "pd.set_option('display.max_columns', None)\n",
    "data.head(5) "
   ]
  },
  {
   "cell_type": "markdown",
   "metadata": {},
   "source": [
    "<div class=\"alert alert-warning\">\n",
    "<b>⚠️ Комментарий ревьюера v1:</b> \n",
    "<br>Все библиотеки лучше импортировать отдельно в первой ячейке. Это позволит тебе в любой момент добавить ещё одну библиотеку без перезаписи переменных.\n",
    "</div>"
   ]
  },
  {
   "cell_type": "markdown",
   "metadata": {},
   "source": [
    " <div class=\"alert alert-warning\">\n",
    "<b>⚠️ Комментарий ревьюера v1:</b> \n",
    "<br>Обрати внимание, что часть столбцов заменилась на \"...\". Чтобы это исправить, нужно увеличить максимальное количество отображающихся столбцов командой\n",
    "\t\t\t\n",
    "\tpd.set_option('display.max_columns', None)\n",
    "</div>"
   ]
  },
  {
   "cell_type": "markdown",
   "metadata": {},
   "source": [
    "<div class=\"alert alert-info\">\n",
    "<b>Комментарий студента:</b>\n",
    "<br> Увеличил максимальное количество отображающихся столбцов.\n",
    "</div>"
   ]
  },
  {
   "cell_type": "code",
   "execution_count": 3,
   "metadata": {},
   "outputs": [
    {
     "name": "stdout",
     "output_type": "stream",
     "text": [
      "<class 'pandas.core.frame.DataFrame'>\n",
      "RangeIndex: 23699 entries, 0 to 23698\n",
      "Data columns (total 22 columns):\n",
      " #   Column                Non-Null Count  Dtype  \n",
      "---  ------                --------------  -----  \n",
      " 0   total_images          23699 non-null  int64  \n",
      " 1   last_price            23699 non-null  float64\n",
      " 2   total_area            23699 non-null  float64\n",
      " 3   first_day_exposition  23699 non-null  object \n",
      " 4   rooms                 23699 non-null  int64  \n",
      " 5   ceiling_height        14504 non-null  float64\n",
      " 6   floors_total          23613 non-null  float64\n",
      " 7   living_area           21796 non-null  float64\n",
      " 8   floor                 23699 non-null  int64  \n",
      " 9   is_apartment          2775 non-null   object \n",
      " 10  studio                23699 non-null  bool   \n",
      " 11  open_plan             23699 non-null  bool   \n",
      " 12  kitchen_area          21421 non-null  float64\n",
      " 13  balcony               12180 non-null  float64\n",
      " 14  locality_name         23650 non-null  object \n",
      " 15  airports_nearest      18157 non-null  float64\n",
      " 16  cityCenters_nearest   18180 non-null  float64\n",
      " 17  parks_around3000      18181 non-null  float64\n",
      " 18  parks_nearest         8079 non-null   float64\n",
      " 19  ponds_around3000      18181 non-null  float64\n",
      " 20  ponds_nearest         9110 non-null   float64\n",
      " 21  days_exposition       20518 non-null  float64\n",
      "dtypes: bool(2), float64(14), int64(3), object(3)\n",
      "memory usage: 3.7+ MB\n"
     ]
    }
   ],
   "source": [
    "# Изучаем общую информацию о полученном датафрейме.\n",
    "data.info()"
   ]
  },
  {
   "cell_type": "code",
   "execution_count": 4,
   "metadata": {},
   "outputs": [
    {
     "data": {
      "image/png": "[encoded data removed]",
      "text/plain": [
       "<Figure size 1080x1440 with 20 Axes>"
      ]
     },
     "metadata": {
      "needs_background": "light"
     },
     "output_type": "display_data"
    }
   ],
   "source": [
    "# Cтроим гистограмму для всех числовых столбцов таблицы на одном графике.\n",
    "data.hist(figsize=(15, 20))\n",
    "plt.show()"
   ]
  },
  {
   "cell_type": "markdown",
   "metadata": {},
   "source": [
    "В данном датасете содержится 23699 записи. Для целого ряда столбцов, есть пропущенные значения и некорректные типы данных. По построенным, гистограммам видно, что в данных присутствуют аномальные значения. Также, необходимо будет проверить данные на наличие явных и неявных дубликатов."
   ]
  },
  {
   "cell_type": "markdown",
   "metadata": {},
   "source": [
    "<div class=\"alert alert-success\">\n",
    "<b>✔️ Комментарий ревьюера v1:</b> \n",
    "<br>Графики построено верно! \n",
    "</div>"
   ]
  },
  {
   "cell_type": "markdown",
   "metadata": {},
   "source": [
    "<div class=\"alert alert-danger\">\n",
    "<b>❌ Комментарий ревьюера v1:</b> \n",
    "<br>Здесь необходимо написать короткий вывод о проблемах с данными (пропуски, дубликаты, неверный тип данных, странные значения и т.д.)\n",
    "</div>"
   ]
  },
  {
   "cell_type": "markdown",
   "metadata": {},
   "source": [
    "<div class=\"alert alert-info\">\n",
    "<b>Комментарий студента:</b>\n",
    "<br> Написал краткий вывод выше.\n",
    "</div>"
   ]
  },
  {
   "cell_type": "markdown",
   "metadata": {},
   "source": [
    "<div class=\"alert alert-success\">\n",
    "<b>✔️ Комментарий ревьюера v2:</b>\n",
    "<br>Правка выполнена 👍\n",
    "</div>"
   ]
  },
  {
   "cell_type": "markdown",
   "metadata": {},
   "source": [
    "### Предобработка данных"
   ]
  },
  {
   "cell_type": "markdown",
   "metadata": {},
   "source": [
    "Приводим названия столбцов в надлежащий вид."
   ]
  },
  {
   "cell_type": "code",
   "execution_count": 5,
   "metadata": {},
   "outputs": [
    {
     "data": {
      "text/html": [
       "<div>\n",
       "<style scoped>\n",
       "    .dataframe tbody tr th:only-of-type {\n",
       "        vertical-align: middle;\n",
       "    }\n",
       "\n",
       "    .dataframe tbody tr th {\n",
       "        vertical-align: top;\n",
       "    }\n",
       "\n",
       "    .dataframe thead th {\n",
       "        text-align: right;\n",
       "    }\n",
       "</style>\n",
       "<table border=\"1\" class=\"dataframe\">\n",
       "  <thead>\n",
       "    <tr style=\"text-align: right;\">\n",
       "      <th></th>\n",
       "      <th>total_images</th>\n",
       "      <th>last_price</th>\n",
       "      <th>total_area</th>\n",
       "      <th>first_day_exposition</th>\n",
       "      <th>rooms</th>\n",
       "      <th>ceiling_height</th>\n",
       "      <th>floors_total</th>\n",
       "      <th>living_area</th>\n",
       "      <th>floor</th>\n",
       "      <th>is_apartment</th>\n",
       "      <th>studio</th>\n",
       "      <th>open_plan</th>\n",
       "      <th>kitchen_area</th>\n",
       "      <th>balcony</th>\n",
       "      <th>locality_name</th>\n",
       "      <th>airports_nearest</th>\n",
       "      <th>city_centers_nearest</th>\n",
       "      <th>parks_around_3km</th>\n",
       "      <th>parks_nearest</th>\n",
       "      <th>ponds_around_3km</th>\n",
       "      <th>ponds_nearest</th>\n",
       "      <th>days_exposition</th>\n",
       "    </tr>\n",
       "  </thead>\n",
       "  <tbody>\n",
       "    <tr>\n",
       "      <th>0</th>\n",
       "      <td>20</td>\n",
       "      <td>13000000.0</td>\n",
       "      <td>108.0</td>\n",
       "      <td>2019-03-07T00:00:00</td>\n",
       "      <td>3</td>\n",
       "      <td>2.70</td>\n",
       "      <td>16.0</td>\n",
       "      <td>51.0</td>\n",
       "      <td>8</td>\n",
       "      <td>NaN</td>\n",
       "      <td>False</td>\n",
       "      <td>False</td>\n",
       "      <td>25.0</td>\n",
       "      <td>NaN</td>\n",
       "      <td>Санкт-Петербург</td>\n",
       "      <td>18863.0</td>\n",
       "      <td>16028.0</td>\n",
       "      <td>1.0</td>\n",
       "      <td>482.0</td>\n",
       "      <td>2.0</td>\n",
       "      <td>755.0</td>\n",
       "      <td>NaN</td>\n",
       "    </tr>\n",
       "    <tr>\n",
       "      <th>1</th>\n",
       "      <td>7</td>\n",
       "      <td>3350000.0</td>\n",
       "      <td>40.4</td>\n",
       "      <td>2018-12-04T00:00:00</td>\n",
       "      <td>1</td>\n",
       "      <td>NaN</td>\n",
       "      <td>11.0</td>\n",
       "      <td>18.6</td>\n",
       "      <td>1</td>\n",
       "      <td>NaN</td>\n",
       "      <td>False</td>\n",
       "      <td>False</td>\n",
       "      <td>11.0</td>\n",
       "      <td>2.0</td>\n",
       "      <td>посёлок Шушары</td>\n",
       "      <td>12817.0</td>\n",
       "      <td>18603.0</td>\n",
       "      <td>0.0</td>\n",
       "      <td>NaN</td>\n",
       "      <td>0.0</td>\n",
       "      <td>NaN</td>\n",
       "      <td>81.0</td>\n",
       "    </tr>\n",
       "    <tr>\n",
       "      <th>2</th>\n",
       "      <td>10</td>\n",
       "      <td>5196000.0</td>\n",
       "      <td>56.0</td>\n",
       "      <td>2015-08-20T00:00:00</td>\n",
       "      <td>2</td>\n",
       "      <td>NaN</td>\n",
       "      <td>5.0</td>\n",
       "      <td>34.3</td>\n",
       "      <td>4</td>\n",
       "      <td>NaN</td>\n",
       "      <td>False</td>\n",
       "      <td>False</td>\n",
       "      <td>8.3</td>\n",
       "      <td>0.0</td>\n",
       "      <td>Санкт-Петербург</td>\n",
       "      <td>21741.0</td>\n",
       "      <td>13933.0</td>\n",
       "      <td>1.0</td>\n",
       "      <td>90.0</td>\n",
       "      <td>2.0</td>\n",
       "      <td>574.0</td>\n",
       "      <td>558.0</td>\n",
       "    </tr>\n",
       "    <tr>\n",
       "      <th>3</th>\n",
       "      <td>0</td>\n",
       "      <td>64900000.0</td>\n",
       "      <td>159.0</td>\n",
       "      <td>2015-07-24T00:00:00</td>\n",
       "      <td>3</td>\n",
       "      <td>NaN</td>\n",
       "      <td>14.0</td>\n",
       "      <td>NaN</td>\n",
       "      <td>9</td>\n",
       "      <td>NaN</td>\n",
       "      <td>False</td>\n",
       "      <td>False</td>\n",
       "      <td>NaN</td>\n",
       "      <td>0.0</td>\n",
       "      <td>Санкт-Петербург</td>\n",
       "      <td>28098.0</td>\n",
       "      <td>6800.0</td>\n",
       "      <td>2.0</td>\n",
       "      <td>84.0</td>\n",
       "      <td>3.0</td>\n",
       "      <td>234.0</td>\n",
       "      <td>424.0</td>\n",
       "    </tr>\n",
       "    <tr>\n",
       "      <th>4</th>\n",
       "      <td>2</td>\n",
       "      <td>10000000.0</td>\n",
       "      <td>100.0</td>\n",
       "      <td>2018-06-19T00:00:00</td>\n",
       "      <td>2</td>\n",
       "      <td>3.03</td>\n",
       "      <td>14.0</td>\n",
       "      <td>32.0</td>\n",
       "      <td>13</td>\n",
       "      <td>NaN</td>\n",
       "      <td>False</td>\n",
       "      <td>False</td>\n",
       "      <td>41.0</td>\n",
       "      <td>NaN</td>\n",
       "      <td>Санкт-Петербург</td>\n",
       "      <td>31856.0</td>\n",
       "      <td>8098.0</td>\n",
       "      <td>2.0</td>\n",
       "      <td>112.0</td>\n",
       "      <td>1.0</td>\n",
       "      <td>48.0</td>\n",
       "      <td>121.0</td>\n",
       "    </tr>\n",
       "  </tbody>\n",
       "</table>\n",
       "</div>"
      ],
      "text/plain": [
       "   total_images  last_price  total_area first_day_exposition  rooms  \\\n",
       "0            20  13000000.0       108.0  2019-03-07T00:00:00      3   \n",
       "1             7   3350000.0        40.4  2018-12-04T00:00:00      1   \n",
       "2            10   5196000.0        56.0  2015-08-20T00:00:00      2   \n",
       "3             0  64900000.0       159.0  2015-07-24T00:00:00      3   \n",
       "4             2  10000000.0       100.0  2018-06-19T00:00:00      2   \n",
       "\n",
       "   ceiling_height  floors_total  living_area  floor is_apartment  studio  \\\n",
       "0            2.70          16.0         51.0      8          NaN   False   \n",
       "1             NaN          11.0         18.6      1          NaN   False   \n",
       "2             NaN           5.0         34.3      4          NaN   False   \n",
       "3             NaN          14.0          NaN      9          NaN   False   \n",
       "4            3.03          14.0         32.0     13          NaN   False   \n",
       "\n",
       "   open_plan  kitchen_area  balcony    locality_name  airports_nearest  \\\n",
       "0      False          25.0      NaN  Санкт-Петербург           18863.0   \n",
       "1      False          11.0      2.0   посёлок Шушары           12817.0   \n",
       "2      False           8.3      0.0  Санкт-Петербург           21741.0   \n",
       "3      False           NaN      0.0  Санкт-Петербург           28098.0   \n",
       "4      False          41.0      NaN  Санкт-Петербург           31856.0   \n",
       "\n",
       "   city_centers_nearest  parks_around_3km  parks_nearest  ponds_around_3km  \\\n",
       "0               16028.0               1.0          482.0               2.0   \n",
       "1               18603.0               0.0            NaN               0.0   \n",
       "2               13933.0               1.0           90.0               2.0   \n",
       "3                6800.0               2.0           84.0               3.0   \n",
       "4                8098.0               2.0          112.0               1.0   \n",
       "\n",
       "   ponds_nearest  days_exposition  \n",
       "0          755.0              NaN  \n",
       "1            NaN             81.0  \n",
       "2          574.0            558.0  \n",
       "3          234.0            424.0  \n",
       "4           48.0            121.0  "
      ]
     },
     "execution_count": 5,
     "metadata": {},
     "output_type": "execute_result"
    }
   ],
   "source": [
    "data.columns = [col.lower().replace(' ','_') for col in data.columns]\n",
    "data.rename(columns={'citycenters_nearest': 'city_centers_nearest'}, inplace=True)\n",
    "data.rename(columns={'parks_around3000': 'parks_around_3km'}, inplace=True)\n",
    "data.rename(columns={'ponds_around3000': 'ponds_around_3km'}, inplace=True)\n",
    "data.head(5) "
   ]
  },
  {
   "cell_type": "markdown",
   "metadata": {},
   "source": [
    "<div class=\"alert alert-success\">\n",
    "<b>✔️ Комментарий ревьюера v1:</b> \n",
    "<br>Отлично, что ты увеличиваешь лимит для отображаемых столбцов, но лучше это делать в самом начале)\n",
    "</div>"
   ]
  },
  {
   "cell_type": "markdown",
   "metadata": {},
   "source": [
    "Определяем, в каких столбцах есть пропуски и их количество."
   ]
  },
  {
   "cell_type": "code",
   "execution_count": 6,
   "metadata": {},
   "outputs": [
    {
     "data": {
      "text/plain": [
       "total_images                0\n",
       "last_price                  0\n",
       "total_area                  0\n",
       "first_day_exposition        0\n",
       "rooms                       0\n",
       "ceiling_height           9195\n",
       "floors_total               86\n",
       "living_area              1903\n",
       "floor                       0\n",
       "is_apartment            20924\n",
       "studio                      0\n",
       "open_plan                   0\n",
       "kitchen_area             2278\n",
       "balcony                 11519\n",
       "locality_name              49\n",
       "airports_nearest         5542\n",
       "city_centers_nearest     5519\n",
       "parks_around_3km         5518\n",
       "parks_nearest           15620\n",
       "ponds_around_3km         5518\n",
       "ponds_nearest           14589\n",
       "days_exposition          3181\n",
       "dtype: int64"
      ]
     },
     "execution_count": 6,
     "metadata": {},
     "output_type": "execute_result"
    }
   ],
   "source": [
    "data.isna().sum()"
   ]
  },
  {
   "cell_type": "markdown",
   "metadata": {},
   "source": [
    "Определяем количество явных дубликатов."
   ]
  },
  {
   "cell_type": "code",
   "execution_count": 7,
   "metadata": {},
   "outputs": [
    {
     "data": {
      "text/plain": [
       "0"
      ]
     },
     "execution_count": 7,
     "metadata": {},
     "output_type": "execute_result"
    }
   ],
   "source": [
    "data.duplicated().sum()"
   ]
  },
  {
   "cell_type": "code",
   "execution_count": 8,
   "metadata": {},
   "outputs": [
    {
     "name": "stdout",
     "output_type": "stream",
     "text": [
      "<class 'pandas.core.frame.DataFrame'>\n",
      "RangeIndex: 23699 entries, 0 to 23698\n",
      "Data columns (total 22 columns):\n",
      " #   Column                Non-Null Count  Dtype  \n",
      "---  ------                --------------  -----  \n",
      " 0   total_images          23699 non-null  int64  \n",
      " 1   last_price            23699 non-null  float64\n",
      " 2   total_area            23699 non-null  float64\n",
      " 3   first_day_exposition  23699 non-null  object \n",
      " 4   rooms                 23699 non-null  int64  \n",
      " 5   ceiling_height        14504 non-null  float64\n",
      " 6   floors_total          23613 non-null  float64\n",
      " 7   living_area           21796 non-null  float64\n",
      " 8   floor                 23699 non-null  int64  \n",
      " 9   is_apartment          2775 non-null   object \n",
      " 10  studio                23699 non-null  bool   \n",
      " 11  open_plan             23699 non-null  bool   \n",
      " 12  kitchen_area          21421 non-null  float64\n",
      " 13  balcony               12180 non-null  float64\n",
      " 14  locality_name         23650 non-null  object \n",
      " 15  airports_nearest      18157 non-null  float64\n",
      " 16  city_centers_nearest  18180 non-null  float64\n",
      " 17  parks_around_3km      18181 non-null  float64\n",
      " 18  parks_nearest         8079 non-null   float64\n",
      " 19  ponds_around_3km      18181 non-null  float64\n",
      " 20  ponds_nearest         9110 non-null   float64\n",
      " 21  days_exposition       20518 non-null  float64\n",
      "dtypes: bool(2), float64(14), int64(3), object(3)\n",
      "memory usage: 3.7+ MB\n"
     ]
    }
   ],
   "source": [
    "data.info()"
   ]
  },
  {
   "cell_type": "markdown",
   "metadata": {},
   "source": [
    "Изменим типы данных на необходимые с следующих столбцах. В тех столбцах, где есть пропуски сразу заменим их на нули, так как мы не знаем происхождение этих пропусков и ни на что другое заменить не можем. Оставиим пропуски в тех столбцах, где логичную замену предложить невозможно. "
   ]
  },
  {
   "cell_type": "markdown",
   "metadata": {},
   "source": [
    "Столбец с общим коичеством этажей в доме оставим без изменений, так как их меньше 1% всех значений."
   ]
  },
  {
   "cell_type": "code",
   "execution_count": 9,
   "metadata": {},
   "outputs": [
    {
     "data": {
      "text/plain": [
       "total_images                0\n",
       "last_price                  0\n",
       "total_area                  0\n",
       "first_day_exposition        0\n",
       "rooms                       0\n",
       "ceiling_height              0\n",
       "floors_total               86\n",
       "living_area              1903\n",
       "floor                       0\n",
       "is_apartment                0\n",
       "studio                      0\n",
       "open_plan                   0\n",
       "kitchen_area             2278\n",
       "balcony                     0\n",
       "locality_name               0\n",
       "airports_nearest         5542\n",
       "city_centers_nearest     5519\n",
       "parks_around_3km            0\n",
       "parks_nearest           15620\n",
       "ponds_around_3km            0\n",
       "ponds_nearest           14589\n",
       "days_exposition          3181\n",
       "dtype: int64"
      ]
     },
     "execution_count": 9,
     "metadata": {},
     "output_type": "execute_result"
    }
   ],
   "source": [
    "data['last_price'] = data['last_price'].astype('int')\n",
    "data['balcony'] = data['balcony'].fillna(0).astype(int)\n",
    "data['parks_around_3km'] = data['parks_around_3km'].fillna(0).astype(int)\n",
    "data['ponds_around_3km'] = data['ponds_around_3km'].fillna(0).astype(int)\n",
    "data['locality_name'] = data['locality_name'].fillna('unknown')\n",
    "data['is_apartment'] = data['is_apartment'].fillna(False).astype(bool)\n",
    "# В данном случае логичной заменой высоты потолков будут медианные значения, чтобы не оставлять Nan.\n",
    "data['ceiling_height'] = data['ceiling_height'].fillna(data['ceiling_height'].median())\n",
    "# Зададим правильную маску для даты.\n",
    "data['first_day_exposition'] = pd.to_datetime(data['first_day_exposition'], format='%Y-%m-%dT%H:%M:%S')\n",
    "data.isna().sum()\n",
    "#data.head(10)"
   ]
  },
  {
   "cell_type": "markdown",
   "metadata": {},
   "source": [
    "<div class=\"alert alert-warning\">\n",
    "<b>⚠️ Комментарий ревьюера v1:</b> \n",
    "<br>Пропуски в столбце floors_total можно заменить на этаж квартиры либо оставить как есть или либо вообще удалить, так как пропусков меньше 1%\n",
    "</div>"
   ]
  },
  {
   "cell_type": "markdown",
   "metadata": {},
   "source": [
    "<div class=\"alert alert-info\">\n",
    "<b>Комментарий студента:</b>\n",
    "<br> В столбце floors_total оставил значения без изменений, так как их менее 1%.\n",
    "</div>"
   ]
  },
  {
   "cell_type": "markdown",
   "metadata": {},
   "source": [
    "<div class=\"alert alert-success\">\n",
    "<b>✔️ Комментарий ревьюера v1:</b> \n",
    "<br>Согласен с таким решением для столбца с высотой потолков, так как основная часть данных в этом столбце находится в небольшом диапазоне.\n",
    "</div>"
   ]
  },
  {
   "cell_type": "markdown",
   "metadata": {},
   "source": [
    "Пропуски в данных могли возникнуть на этапах копирования, считывания, смене формата при выгрузке данных. Изначально, некоторые поля могли быть заполнены таким образом, что на одном из описанных выше этапов система восприняла их как пропуски. Также не стоит исключать человеческий фактор."
   ]
  },
  {
   "cell_type": "markdown",
   "metadata": {},
   "source": [
    "Изучим уникальные значения в столбце с названиями и устраним неявные дубликаты."
   ]
  },
  {
   "cell_type": "code",
   "execution_count": 10,
   "metadata": {},
   "outputs": [
    {
     "data": {
      "text/plain": [
       "Санкт-Петербург       15721\n",
       "посёлок Мурино          522\n",
       "посёлок Шушары          440\n",
       "Всеволожск              398\n",
       "Пушкин                  369\n",
       "                      ...  \n",
       "поселок Калитино          1\n",
       "деревня Каськово          1\n",
       "деревня Иссад             1\n",
       "посёлок Ропша             1\n",
       "деревня Новолисино        1\n",
       "Name: locality_name, Length: 365, dtype: int64"
      ]
     },
     "execution_count": 10,
     "metadata": {},
     "output_type": "execute_result"
    }
   ],
   "source": [
    "# Определимся с условием для устранения, неявных дубликатов в locality_name.\n",
    "data.locality_name.value_counts()"
   ]
  },
  {
   "cell_type": "markdown",
   "metadata": {},
   "source": [
    "Избавляемся от неявных дубликатов следующим образом."
   ]
  },
  {
   "cell_type": "code",
   "execution_count": 11,
   "metadata": {},
   "outputs": [
    {
     "data": {
      "text/html": [
       "<div>\n",
       "<style scoped>\n",
       "    .dataframe tbody tr th:only-of-type {\n",
       "        vertical-align: middle;\n",
       "    }\n",
       "\n",
       "    .dataframe tbody tr th {\n",
       "        vertical-align: top;\n",
       "    }\n",
       "\n",
       "    .dataframe thead th {\n",
       "        text-align: right;\n",
       "    }\n",
       "</style>\n",
       "<table border=\"1\" class=\"dataframe\">\n",
       "  <thead>\n",
       "    <tr style=\"text-align: right;\">\n",
       "      <th></th>\n",
       "      <th>total_images</th>\n",
       "      <th>last_price</th>\n",
       "      <th>total_area</th>\n",
       "      <th>first_day_exposition</th>\n",
       "      <th>rooms</th>\n",
       "      <th>ceiling_height</th>\n",
       "      <th>floors_total</th>\n",
       "      <th>living_area</th>\n",
       "      <th>floor</th>\n",
       "      <th>is_apartment</th>\n",
       "      <th>studio</th>\n",
       "      <th>open_plan</th>\n",
       "      <th>kitchen_area</th>\n",
       "      <th>balcony</th>\n",
       "      <th>locality_name</th>\n",
       "      <th>airports_nearest</th>\n",
       "      <th>city_centers_nearest</th>\n",
       "      <th>parks_around_3km</th>\n",
       "      <th>parks_nearest</th>\n",
       "      <th>ponds_around_3km</th>\n",
       "      <th>ponds_nearest</th>\n",
       "      <th>days_exposition</th>\n",
       "    </tr>\n",
       "  </thead>\n",
       "  <tbody>\n",
       "    <tr>\n",
       "      <th>0</th>\n",
       "      <td>20</td>\n",
       "      <td>13000000</td>\n",
       "      <td>108.00</td>\n",
       "      <td>2019-03-07</td>\n",
       "      <td>3</td>\n",
       "      <td>2.70</td>\n",
       "      <td>16.0</td>\n",
       "      <td>51.00</td>\n",
       "      <td>8</td>\n",
       "      <td>False</td>\n",
       "      <td>False</td>\n",
       "      <td>False</td>\n",
       "      <td>25.00</td>\n",
       "      <td>0</td>\n",
       "      <td>Санкт-Петербург</td>\n",
       "      <td>18863.0</td>\n",
       "      <td>16028.0</td>\n",
       "      <td>1</td>\n",
       "      <td>482.0</td>\n",
       "      <td>2</td>\n",
       "      <td>755.0</td>\n",
       "      <td>NaN</td>\n",
       "    </tr>\n",
       "    <tr>\n",
       "      <th>1</th>\n",
       "      <td>7</td>\n",
       "      <td>3350000</td>\n",
       "      <td>40.40</td>\n",
       "      <td>2018-12-04</td>\n",
       "      <td>1</td>\n",
       "      <td>2.65</td>\n",
       "      <td>11.0</td>\n",
       "      <td>18.60</td>\n",
       "      <td>1</td>\n",
       "      <td>False</td>\n",
       "      <td>False</td>\n",
       "      <td>False</td>\n",
       "      <td>11.00</td>\n",
       "      <td>2</td>\n",
       "      <td>Шушары</td>\n",
       "      <td>12817.0</td>\n",
       "      <td>18603.0</td>\n",
       "      <td>0</td>\n",
       "      <td>NaN</td>\n",
       "      <td>0</td>\n",
       "      <td>NaN</td>\n",
       "      <td>81.0</td>\n",
       "    </tr>\n",
       "    <tr>\n",
       "      <th>2</th>\n",
       "      <td>10</td>\n",
       "      <td>5196000</td>\n",
       "      <td>56.00</td>\n",
       "      <td>2015-08-20</td>\n",
       "      <td>2</td>\n",
       "      <td>2.65</td>\n",
       "      <td>5.0</td>\n",
       "      <td>34.30</td>\n",
       "      <td>4</td>\n",
       "      <td>False</td>\n",
       "      <td>False</td>\n",
       "      <td>False</td>\n",
       "      <td>8.30</td>\n",
       "      <td>0</td>\n",
       "      <td>Санкт-Петербург</td>\n",
       "      <td>21741.0</td>\n",
       "      <td>13933.0</td>\n",
       "      <td>1</td>\n",
       "      <td>90.0</td>\n",
       "      <td>2</td>\n",
       "      <td>574.0</td>\n",
       "      <td>558.0</td>\n",
       "    </tr>\n",
       "    <tr>\n",
       "      <th>3</th>\n",
       "      <td>0</td>\n",
       "      <td>64900000</td>\n",
       "      <td>159.00</td>\n",
       "      <td>2015-07-24</td>\n",
       "      <td>3</td>\n",
       "      <td>2.65</td>\n",
       "      <td>14.0</td>\n",
       "      <td>NaN</td>\n",
       "      <td>9</td>\n",
       "      <td>False</td>\n",
       "      <td>False</td>\n",
       "      <td>False</td>\n",
       "      <td>NaN</td>\n",
       "      <td>0</td>\n",
       "      <td>Санкт-Петербург</td>\n",
       "      <td>28098.0</td>\n",
       "      <td>6800.0</td>\n",
       "      <td>2</td>\n",
       "      <td>84.0</td>\n",
       "      <td>3</td>\n",
       "      <td>234.0</td>\n",
       "      <td>424.0</td>\n",
       "    </tr>\n",
       "    <tr>\n",
       "      <th>4</th>\n",
       "      <td>2</td>\n",
       "      <td>10000000</td>\n",
       "      <td>100.00</td>\n",
       "      <td>2018-06-19</td>\n",
       "      <td>2</td>\n",
       "      <td>3.03</td>\n",
       "      <td>14.0</td>\n",
       "      <td>32.00</td>\n",
       "      <td>13</td>\n",
       "      <td>False</td>\n",
       "      <td>False</td>\n",
       "      <td>False</td>\n",
       "      <td>41.00</td>\n",
       "      <td>0</td>\n",
       "      <td>Санкт-Петербург</td>\n",
       "      <td>31856.0</td>\n",
       "      <td>8098.0</td>\n",
       "      <td>2</td>\n",
       "      <td>112.0</td>\n",
       "      <td>1</td>\n",
       "      <td>48.0</td>\n",
       "      <td>121.0</td>\n",
       "    </tr>\n",
       "    <tr>\n",
       "      <th>5</th>\n",
       "      <td>10</td>\n",
       "      <td>2890000</td>\n",
       "      <td>30.40</td>\n",
       "      <td>2018-09-10</td>\n",
       "      <td>1</td>\n",
       "      <td>2.65</td>\n",
       "      <td>12.0</td>\n",
       "      <td>14.40</td>\n",
       "      <td>5</td>\n",
       "      <td>False</td>\n",
       "      <td>False</td>\n",
       "      <td>False</td>\n",
       "      <td>9.10</td>\n",
       "      <td>0</td>\n",
       "      <td>Янино-1</td>\n",
       "      <td>NaN</td>\n",
       "      <td>NaN</td>\n",
       "      <td>0</td>\n",
       "      <td>NaN</td>\n",
       "      <td>0</td>\n",
       "      <td>NaN</td>\n",
       "      <td>55.0</td>\n",
       "    </tr>\n",
       "    <tr>\n",
       "      <th>6</th>\n",
       "      <td>6</td>\n",
       "      <td>3700000</td>\n",
       "      <td>37.30</td>\n",
       "      <td>2017-11-02</td>\n",
       "      <td>1</td>\n",
       "      <td>2.65</td>\n",
       "      <td>26.0</td>\n",
       "      <td>10.60</td>\n",
       "      <td>6</td>\n",
       "      <td>False</td>\n",
       "      <td>False</td>\n",
       "      <td>False</td>\n",
       "      <td>14.40</td>\n",
       "      <td>1</td>\n",
       "      <td>Парголово</td>\n",
       "      <td>52996.0</td>\n",
       "      <td>19143.0</td>\n",
       "      <td>0</td>\n",
       "      <td>NaN</td>\n",
       "      <td>0</td>\n",
       "      <td>NaN</td>\n",
       "      <td>155.0</td>\n",
       "    </tr>\n",
       "    <tr>\n",
       "      <th>7</th>\n",
       "      <td>5</td>\n",
       "      <td>7915000</td>\n",
       "      <td>71.60</td>\n",
       "      <td>2019-04-18</td>\n",
       "      <td>2</td>\n",
       "      <td>2.65</td>\n",
       "      <td>24.0</td>\n",
       "      <td>NaN</td>\n",
       "      <td>22</td>\n",
       "      <td>False</td>\n",
       "      <td>False</td>\n",
       "      <td>False</td>\n",
       "      <td>18.90</td>\n",
       "      <td>2</td>\n",
       "      <td>Санкт-Петербург</td>\n",
       "      <td>23982.0</td>\n",
       "      <td>11634.0</td>\n",
       "      <td>0</td>\n",
       "      <td>NaN</td>\n",
       "      <td>0</td>\n",
       "      <td>NaN</td>\n",
       "      <td>NaN</td>\n",
       "    </tr>\n",
       "    <tr>\n",
       "      <th>8</th>\n",
       "      <td>20</td>\n",
       "      <td>2900000</td>\n",
       "      <td>33.16</td>\n",
       "      <td>2018-05-23</td>\n",
       "      <td>1</td>\n",
       "      <td>2.65</td>\n",
       "      <td>27.0</td>\n",
       "      <td>15.43</td>\n",
       "      <td>26</td>\n",
       "      <td>False</td>\n",
       "      <td>False</td>\n",
       "      <td>False</td>\n",
       "      <td>8.81</td>\n",
       "      <td>0</td>\n",
       "      <td>Мурино</td>\n",
       "      <td>NaN</td>\n",
       "      <td>NaN</td>\n",
       "      <td>0</td>\n",
       "      <td>NaN</td>\n",
       "      <td>0</td>\n",
       "      <td>NaN</td>\n",
       "      <td>189.0</td>\n",
       "    </tr>\n",
       "    <tr>\n",
       "      <th>9</th>\n",
       "      <td>18</td>\n",
       "      <td>5400000</td>\n",
       "      <td>61.00</td>\n",
       "      <td>2017-02-26</td>\n",
       "      <td>3</td>\n",
       "      <td>2.50</td>\n",
       "      <td>9.0</td>\n",
       "      <td>43.60</td>\n",
       "      <td>7</td>\n",
       "      <td>False</td>\n",
       "      <td>False</td>\n",
       "      <td>False</td>\n",
       "      <td>6.50</td>\n",
       "      <td>2</td>\n",
       "      <td>Санкт-Петербург</td>\n",
       "      <td>50898.0</td>\n",
       "      <td>15008.0</td>\n",
       "      <td>0</td>\n",
       "      <td>NaN</td>\n",
       "      <td>0</td>\n",
       "      <td>NaN</td>\n",
       "      <td>289.0</td>\n",
       "    </tr>\n",
       "  </tbody>\n",
       "</table>\n",
       "</div>"
      ],
      "text/plain": [
       "   total_images  last_price  total_area first_day_exposition  rooms  \\\n",
       "0            20    13000000      108.00           2019-03-07      3   \n",
       "1             7     3350000       40.40           2018-12-04      1   \n",
       "2            10     5196000       56.00           2015-08-20      2   \n",
       "3             0    64900000      159.00           2015-07-24      3   \n",
       "4             2    10000000      100.00           2018-06-19      2   \n",
       "5            10     2890000       30.40           2018-09-10      1   \n",
       "6             6     3700000       37.30           2017-11-02      1   \n",
       "7             5     7915000       71.60           2019-04-18      2   \n",
       "8            20     2900000       33.16           2018-05-23      1   \n",
       "9            18     5400000       61.00           2017-02-26      3   \n",
       "\n",
       "   ceiling_height  floors_total  living_area  floor  is_apartment  studio  \\\n",
       "0            2.70          16.0        51.00      8         False   False   \n",
       "1            2.65          11.0        18.60      1         False   False   \n",
       "2            2.65           5.0        34.30      4         False   False   \n",
       "3            2.65          14.0          NaN      9         False   False   \n",
       "4            3.03          14.0        32.00     13         False   False   \n",
       "5            2.65          12.0        14.40      5         False   False   \n",
       "6            2.65          26.0        10.60      6         False   False   \n",
       "7            2.65          24.0          NaN     22         False   False   \n",
       "8            2.65          27.0        15.43     26         False   False   \n",
       "9            2.50           9.0        43.60      7         False   False   \n",
       "\n",
       "   open_plan  kitchen_area  balcony    locality_name  airports_nearest  \\\n",
       "0      False         25.00        0  Санкт-Петербург           18863.0   \n",
       "1      False         11.00        2           Шушары           12817.0   \n",
       "2      False          8.30        0  Санкт-Петербург           21741.0   \n",
       "3      False           NaN        0  Санкт-Петербург           28098.0   \n",
       "4      False         41.00        0  Санкт-Петербург           31856.0   \n",
       "5      False          9.10        0          Янино-1               NaN   \n",
       "6      False         14.40        1        Парголово           52996.0   \n",
       "7      False         18.90        2  Санкт-Петербург           23982.0   \n",
       "8      False          8.81        0           Мурино               NaN   \n",
       "9      False          6.50        2  Санкт-Петербург           50898.0   \n",
       "\n",
       "   city_centers_nearest  parks_around_3km  parks_nearest  ponds_around_3km  \\\n",
       "0               16028.0                 1          482.0                 2   \n",
       "1               18603.0                 0            NaN                 0   \n",
       "2               13933.0                 1           90.0                 2   \n",
       "3                6800.0                 2           84.0                 3   \n",
       "4                8098.0                 2          112.0                 1   \n",
       "5                   NaN                 0            NaN                 0   \n",
       "6               19143.0                 0            NaN                 0   \n",
       "7               11634.0                 0            NaN                 0   \n",
       "8                   NaN                 0            NaN                 0   \n",
       "9               15008.0                 0            NaN                 0   \n",
       "\n",
       "   ponds_nearest  days_exposition  \n",
       "0          755.0              NaN  \n",
       "1            NaN             81.0  \n",
       "2          574.0            558.0  \n",
       "3          234.0            424.0  \n",
       "4           48.0            121.0  \n",
       "5            NaN             55.0  \n",
       "6            NaN            155.0  \n",
       "7            NaN              NaN  \n",
       "8            NaN            189.0  \n",
       "9            NaN            289.0  "
      ]
     },
     "execution_count": 11,
     "metadata": {},
     "output_type": "execute_result"
    }
   ],
   "source": [
    "data['locality_name'] = (data['locality_name']\n",
    "                            .str.replace('ё', 'е')\n",
    "                            .replace(['городской посёлок ',\n",
    "                                      'городской поселок ',\n",
    "                                      'посёлок городского типа ',\n",
    "                                      'поселок городского типа ',\n",
    "                                      'посёлок ',\n",
    "                                      'поселок ',\n",
    "                                      'при железнодорожной ',\n",
    "                                      'садоводческое некоммерческое товарищество ',\n",
    "                                      'садовое товарищество ',\n",
    "                                      'станции ',\n",
    "                                      'село ',\n",
    "                                      'имени ',\n",
    "                                      'пансионат ',\n",
    "                                      'деревня ',\n",
    "                                      'коттеджный ',], '', regex=True)\n",
    ") \n",
    "data.head(10)"
   ]
  },
  {
   "cell_type": "code",
   "execution_count": 12,
   "metadata": {},
   "outputs": [
    {
     "data": {
      "text/plain": [
       "array(['Санкт-Петербург', 'Шушары', 'Янино-1', 'Парголово', 'Мурино',\n",
       "       'Ломоносов', 'Сертолово', 'Петергоф', 'Пушкин', 'Кудрово',\n",
       "       'Коммунар', 'Колпино', 'Красный Бор', 'Гатчина', 'Федоровское',\n",
       "       'Выборг', 'Кронштадт', 'Кировск', 'Новое Девяткино',\n",
       "       'Металлострой', 'Лебяжье', 'Сиверский', 'Молодцово',\n",
       "       'Кузьмоловский', 'Новая Ропша', 'Павловск', 'Пикколово',\n",
       "       'Всеволожск', 'Волхов', 'Кингисепп', 'Приозерск', 'Сестрорецк',\n",
       "       'Куттузи', 'Аннино', 'Ефимовский', 'Плодовое', 'Заклинье',\n",
       "       'Торковичи', 'Первомайское', 'Красное Село', 'Понтонный',\n",
       "       'Сясьстрой', 'Старая', 'Лесколово', 'Новый Свет', 'Сланцы',\n",
       "       'Путилово', 'Ивангород', 'Шлиссельбург', 'Никольское',\n",
       "       'Зеленогорск', 'Сосновый Бор', 'Оржицы', 'Кальтино', 'Романовка',\n",
       "       'Бугры', 'Рощино', 'Кириши', 'Луга', 'Волосово', 'Отрадное',\n",
       "       'Павлово', 'Оредеж', 'Копорье', 'Молодежное', 'Тихвин', 'Победа',\n",
       "       'Нурма', 'Синявино', 'Тосно', 'Стрельна', 'Бокситогорск',\n",
       "       'Александровская', 'Лопухинка', 'Пикалево', 'Терволово',\n",
       "       'Советский', 'Подпорожье', 'Петровское', 'Токсово', 'Сельцо',\n",
       "       'Вырица', 'Кипень', 'Келози', 'Вартемяги', 'Тельмана',\n",
       "       'Севастьяново', 'Большая Ижора', 'unknown', 'Агалатово',\n",
       "       'Новогорелово', 'Лесогорский', 'Лаголово', 'Цвелодубово', 'Рахья',\n",
       "       'Белогорка', 'Заводской', 'Новоселье', 'Большие Колпаны',\n",
       "       'Горбунки', 'Батово', 'Заневка', 'Иссад', 'Приморск', 'Мистолово',\n",
       "       'Новая Ладога', 'Зимитицы', 'Барышево', 'Разметелево', 'Свердлова',\n",
       "       'Пеники', 'Рябово', 'Пудомяги', 'Корнево', 'Низино', 'Бегуницы',\n",
       "       'Поляны', 'Мга', 'Елизаветино', 'Кузнечное', 'Колтуши',\n",
       "       'Запорожское', 'Гостилицы', 'Малое Карлино', 'Мичуринское',\n",
       "       'Морозова', 'Песочный', 'Сосново', 'Аро', 'Ильичево', 'Тайцы',\n",
       "       'Малое Верево', 'Извара', 'Вещево', 'Паша', 'Калитино',\n",
       "       'Ульяновка', 'Чудской Бор', 'Дубровка', 'Мины', 'Войсковицы',\n",
       "       'Коркино', 'Ропша', 'Приладожский', 'Щеглово', 'Гаврилово',\n",
       "       'Лодейное Поле', 'Рабитицы', 'Никольский', 'Кузьмолово',\n",
       "       'Малые Колпаны', 'Петро-Славянка', 'Назия', 'Репино', 'Углово',\n",
       "       'Старая Малукса', 'Меньково', 'Старые Бегуницы', 'Саперный',\n",
       "       'Семрино', 'Глажево', 'Кобринское', 'Гарболово', 'Юкки',\n",
       "       'Приветнинское', 'Мануйлово', 'Пчева', 'Цвылево', 'Мельниково',\n",
       "       'Пудость', 'Усть-Луга', 'Светогорск', 'Любань', 'Селезнево',\n",
       "       'Каменногорск', 'Кривко', 'Глебычево', 'Парицы', 'Жилпоселок',\n",
       "       'Войскорово', 'Стеклянный', 'Важины', 'Мыза-Ивановка',\n",
       "       'Русско-Высоцкое', 'Форносово', 'Старая Ладога', 'Житково',\n",
       "       'Виллози', 'Лампово', 'Шпаньково', 'Лаврики', 'Сумино',\n",
       "       'Возрождение', 'Старосиверская', 'Кикерино', 'Старое Хинколово',\n",
       "       'Пригородный', 'Торфяное', 'Будогощь', 'Суходолье',\n",
       "       'Красная Долина', 'Хапо-Ое', 'Дружная Горка', 'Лисий Нос',\n",
       "       'Яльгелево', 'Рождествено', 'Старополье', 'Левашово', 'Сяськелево',\n",
       "       'Камышовка', 'Лесная Поляна', 'Хязельки', 'Жилгородок', 'Ялгино',\n",
       "       'Новый Учхоз', 'Гончарово', 'Почап', 'Саперное',\n",
       "       'Платформа 69-й километр', 'Каложицы', 'Фалилеево', 'Пельгора',\n",
       "       'Торошковичи', 'Белоостров', 'Алексеевка', 'Серебрянский',\n",
       "       'Лукаши', 'Тарасово', 'Кингисеппский', 'Ушаки', 'Котлы', 'Сижно',\n",
       "       'Торосово', 'Форт Красная Горка', 'Новолисино', 'Громово',\n",
       "       'Глинка', 'Старая Пустошь', 'Коммунары', 'Починок', 'Вознесенье',\n",
       "       'Разбегаево', 'Гладкое', 'Тесово-4', 'Бор', 'Коробицыно',\n",
       "       'Большая Вруда', 'Курковицы', 'Кобралово', 'Суоранда',\n",
       "       'Кондратьево', 'Счастье', 'Реброво', 'Тойворово', 'Семиозерье',\n",
       "       'Лесное', 'Совхозный', 'Ленинское', 'Суйда', 'Нижние Осельки',\n",
       "       'Свирь', 'Перово', 'Высоцк', 'Шум', 'Котельский', 'Лужайка',\n",
       "       'Большая Пустомержа', 'Красносельское', 'Вахнова Кара', 'Пижма',\n",
       "       'Кивеннапа Север', 'Ромашки', 'Каськово', 'Куровицы', 'Плоское',\n",
       "       'Кирпичное', 'Ям-Тесово', 'Раздолье', 'Терпилицы', 'Шугозеро',\n",
       "       'Ваганово', 'Пушное', 'Садко', 'Усть-Ижора', 'Выскатка',\n",
       "       'Свирьстрой', 'Кисельня', 'Трубников Бор', 'Высокоключевой',\n",
       "       'Пансионат Зеленый Бор', 'Ненимяки', 'Снегиревка', 'Рапполово',\n",
       "       'Пустынка', 'Большой Сабск', 'Русско', 'Лупполово',\n",
       "       'Большое Рейзино', 'Малая Романовка', 'Дружноселье', 'Пчевжа',\n",
       "       'Володарское', 'Нижняя', 'Тихковицы', 'Борисова Грива',\n",
       "       'Дзержинского'], dtype=object)"
      ]
     },
     "execution_count": 12,
     "metadata": {},
     "output_type": "execute_result"
    }
   ],
   "source": [
    "# Смотрим на результат\n",
    "data.locality_name.unique()"
   ]
  },
  {
   "cell_type": "markdown",
   "metadata": {},
   "source": [
    "<div class=\"alert alert-success\">\n",
    "<b>✔️ Комментарий ревьюера v1:</b> \n",
    "<br>Здесь всё верно, но лучше постараться автоматизировать этот процесс)\n",
    "</div>"
   ]
  },
  {
   "cell_type": "markdown",
   "metadata": {},
   "source": [
    "### Добавление в таблицу новых столбцов"
   ]
  },
  {
   "cell_type": "code",
   "execution_count": 13,
   "metadata": {},
   "outputs": [
    {
     "data": {
      "text/html": [
       "<div>\n",
       "<style scoped>\n",
       "    .dataframe tbody tr th:only-of-type {\n",
       "        vertical-align: middle;\n",
       "    }\n",
       "\n",
       "    .dataframe tbody tr th {\n",
       "        vertical-align: top;\n",
       "    }\n",
       "\n",
       "    .dataframe thead th {\n",
       "        text-align: right;\n",
       "    }\n",
       "</style>\n",
       "<table border=\"1\" class=\"dataframe\">\n",
       "  <thead>\n",
       "    <tr style=\"text-align: right;\">\n",
       "      <th></th>\n",
       "      <th>total_images</th>\n",
       "      <th>last_price</th>\n",
       "      <th>total_area</th>\n",
       "      <th>first_day_exposition</th>\n",
       "      <th>rooms</th>\n",
       "      <th>ceiling_height</th>\n",
       "      <th>floors_total</th>\n",
       "      <th>living_area</th>\n",
       "      <th>floor</th>\n",
       "      <th>is_apartment</th>\n",
       "      <th>studio</th>\n",
       "      <th>open_plan</th>\n",
       "      <th>kitchen_area</th>\n",
       "      <th>balcony</th>\n",
       "      <th>locality_name</th>\n",
       "      <th>airports_nearest</th>\n",
       "      <th>city_centers_nearest</th>\n",
       "      <th>parks_around_3km</th>\n",
       "      <th>parks_nearest</th>\n",
       "      <th>ponds_around_3km</th>\n",
       "      <th>ponds_nearest</th>\n",
       "      <th>days_exposition</th>\n",
       "      <th>square_meter_price</th>\n",
       "      <th>publication_weekday</th>\n",
       "      <th>publication_month</th>\n",
       "      <th>publication_year</th>\n",
       "      <th>type_of_floor</th>\n",
       "      <th>center_distance</th>\n",
       "    </tr>\n",
       "  </thead>\n",
       "  <tbody>\n",
       "    <tr>\n",
       "      <th>0</th>\n",
       "      <td>20</td>\n",
       "      <td>13000000</td>\n",
       "      <td>108.00</td>\n",
       "      <td>2019-03-07</td>\n",
       "      <td>3</td>\n",
       "      <td>2.70</td>\n",
       "      <td>16.0</td>\n",
       "      <td>51.00</td>\n",
       "      <td>8</td>\n",
       "      <td>False</td>\n",
       "      <td>False</td>\n",
       "      <td>False</td>\n",
       "      <td>25.00</td>\n",
       "      <td>0</td>\n",
       "      <td>Санкт-Петербург</td>\n",
       "      <td>18863.0</td>\n",
       "      <td>16028.0</td>\n",
       "      <td>1</td>\n",
       "      <td>482.0</td>\n",
       "      <td>2</td>\n",
       "      <td>755.0</td>\n",
       "      <td>NaN</td>\n",
       "      <td>120370.37</td>\n",
       "      <td>3</td>\n",
       "      <td>3</td>\n",
       "      <td>2019</td>\n",
       "      <td>другой</td>\n",
       "      <td>16.0</td>\n",
       "    </tr>\n",
       "    <tr>\n",
       "      <th>1</th>\n",
       "      <td>7</td>\n",
       "      <td>3350000</td>\n",
       "      <td>40.40</td>\n",
       "      <td>2018-12-04</td>\n",
       "      <td>1</td>\n",
       "      <td>2.65</td>\n",
       "      <td>11.0</td>\n",
       "      <td>18.60</td>\n",
       "      <td>1</td>\n",
       "      <td>False</td>\n",
       "      <td>False</td>\n",
       "      <td>False</td>\n",
       "      <td>11.00</td>\n",
       "      <td>2</td>\n",
       "      <td>Шушары</td>\n",
       "      <td>12817.0</td>\n",
       "      <td>18603.0</td>\n",
       "      <td>0</td>\n",
       "      <td>NaN</td>\n",
       "      <td>0</td>\n",
       "      <td>NaN</td>\n",
       "      <td>81.0</td>\n",
       "      <td>82920.79</td>\n",
       "      <td>1</td>\n",
       "      <td>12</td>\n",
       "      <td>2018</td>\n",
       "      <td>первый</td>\n",
       "      <td>19.0</td>\n",
       "    </tr>\n",
       "    <tr>\n",
       "      <th>2</th>\n",
       "      <td>10</td>\n",
       "      <td>5196000</td>\n",
       "      <td>56.00</td>\n",
       "      <td>2015-08-20</td>\n",
       "      <td>2</td>\n",
       "      <td>2.65</td>\n",
       "      <td>5.0</td>\n",
       "      <td>34.30</td>\n",
       "      <td>4</td>\n",
       "      <td>False</td>\n",
       "      <td>False</td>\n",
       "      <td>False</td>\n",
       "      <td>8.30</td>\n",
       "      <td>0</td>\n",
       "      <td>Санкт-Петербург</td>\n",
       "      <td>21741.0</td>\n",
       "      <td>13933.0</td>\n",
       "      <td>1</td>\n",
       "      <td>90.0</td>\n",
       "      <td>2</td>\n",
       "      <td>574.0</td>\n",
       "      <td>558.0</td>\n",
       "      <td>92785.71</td>\n",
       "      <td>3</td>\n",
       "      <td>8</td>\n",
       "      <td>2015</td>\n",
       "      <td>другой</td>\n",
       "      <td>14.0</td>\n",
       "    </tr>\n",
       "    <tr>\n",
       "      <th>3</th>\n",
       "      <td>0</td>\n",
       "      <td>64900000</td>\n",
       "      <td>159.00</td>\n",
       "      <td>2015-07-24</td>\n",
       "      <td>3</td>\n",
       "      <td>2.65</td>\n",
       "      <td>14.0</td>\n",
       "      <td>NaN</td>\n",
       "      <td>9</td>\n",
       "      <td>False</td>\n",
       "      <td>False</td>\n",
       "      <td>False</td>\n",
       "      <td>NaN</td>\n",
       "      <td>0</td>\n",
       "      <td>Санкт-Петербург</td>\n",
       "      <td>28098.0</td>\n",
       "      <td>6800.0</td>\n",
       "      <td>2</td>\n",
       "      <td>84.0</td>\n",
       "      <td>3</td>\n",
       "      <td>234.0</td>\n",
       "      <td>424.0</td>\n",
       "      <td>408176.10</td>\n",
       "      <td>4</td>\n",
       "      <td>7</td>\n",
       "      <td>2015</td>\n",
       "      <td>другой</td>\n",
       "      <td>7.0</td>\n",
       "    </tr>\n",
       "    <tr>\n",
       "      <th>4</th>\n",
       "      <td>2</td>\n",
       "      <td>10000000</td>\n",
       "      <td>100.00</td>\n",
       "      <td>2018-06-19</td>\n",
       "      <td>2</td>\n",
       "      <td>3.03</td>\n",
       "      <td>14.0</td>\n",
       "      <td>32.00</td>\n",
       "      <td>13</td>\n",
       "      <td>False</td>\n",
       "      <td>False</td>\n",
       "      <td>False</td>\n",
       "      <td>41.00</td>\n",
       "      <td>0</td>\n",
       "      <td>Санкт-Петербург</td>\n",
       "      <td>31856.0</td>\n",
       "      <td>8098.0</td>\n",
       "      <td>2</td>\n",
       "      <td>112.0</td>\n",
       "      <td>1</td>\n",
       "      <td>48.0</td>\n",
       "      <td>121.0</td>\n",
       "      <td>100000.00</td>\n",
       "      <td>1</td>\n",
       "      <td>6</td>\n",
       "      <td>2018</td>\n",
       "      <td>другой</td>\n",
       "      <td>8.0</td>\n",
       "    </tr>\n",
       "    <tr>\n",
       "      <th>5</th>\n",
       "      <td>10</td>\n",
       "      <td>2890000</td>\n",
       "      <td>30.40</td>\n",
       "      <td>2018-09-10</td>\n",
       "      <td>1</td>\n",
       "      <td>2.65</td>\n",
       "      <td>12.0</td>\n",
       "      <td>14.40</td>\n",
       "      <td>5</td>\n",
       "      <td>False</td>\n",
       "      <td>False</td>\n",
       "      <td>False</td>\n",
       "      <td>9.10</td>\n",
       "      <td>0</td>\n",
       "      <td>Янино-1</td>\n",
       "      <td>NaN</td>\n",
       "      <td>NaN</td>\n",
       "      <td>0</td>\n",
       "      <td>NaN</td>\n",
       "      <td>0</td>\n",
       "      <td>NaN</td>\n",
       "      <td>55.0</td>\n",
       "      <td>95065.79</td>\n",
       "      <td>0</td>\n",
       "      <td>9</td>\n",
       "      <td>2018</td>\n",
       "      <td>другой</td>\n",
       "      <td>NaN</td>\n",
       "    </tr>\n",
       "    <tr>\n",
       "      <th>6</th>\n",
       "      <td>6</td>\n",
       "      <td>3700000</td>\n",
       "      <td>37.30</td>\n",
       "      <td>2017-11-02</td>\n",
       "      <td>1</td>\n",
       "      <td>2.65</td>\n",
       "      <td>26.0</td>\n",
       "      <td>10.60</td>\n",
       "      <td>6</td>\n",
       "      <td>False</td>\n",
       "      <td>False</td>\n",
       "      <td>False</td>\n",
       "      <td>14.40</td>\n",
       "      <td>1</td>\n",
       "      <td>Парголово</td>\n",
       "      <td>52996.0</td>\n",
       "      <td>19143.0</td>\n",
       "      <td>0</td>\n",
       "      <td>NaN</td>\n",
       "      <td>0</td>\n",
       "      <td>NaN</td>\n",
       "      <td>155.0</td>\n",
       "      <td>99195.71</td>\n",
       "      <td>3</td>\n",
       "      <td>11</td>\n",
       "      <td>2017</td>\n",
       "      <td>другой</td>\n",
       "      <td>19.0</td>\n",
       "    </tr>\n",
       "    <tr>\n",
       "      <th>7</th>\n",
       "      <td>5</td>\n",
       "      <td>7915000</td>\n",
       "      <td>71.60</td>\n",
       "      <td>2019-04-18</td>\n",
       "      <td>2</td>\n",
       "      <td>2.65</td>\n",
       "      <td>24.0</td>\n",
       "      <td>NaN</td>\n",
       "      <td>22</td>\n",
       "      <td>False</td>\n",
       "      <td>False</td>\n",
       "      <td>False</td>\n",
       "      <td>18.90</td>\n",
       "      <td>2</td>\n",
       "      <td>Санкт-Петербург</td>\n",
       "      <td>23982.0</td>\n",
       "      <td>11634.0</td>\n",
       "      <td>0</td>\n",
       "      <td>NaN</td>\n",
       "      <td>0</td>\n",
       "      <td>NaN</td>\n",
       "      <td>NaN</td>\n",
       "      <td>110544.69</td>\n",
       "      <td>3</td>\n",
       "      <td>4</td>\n",
       "      <td>2019</td>\n",
       "      <td>другой</td>\n",
       "      <td>12.0</td>\n",
       "    </tr>\n",
       "    <tr>\n",
       "      <th>8</th>\n",
       "      <td>20</td>\n",
       "      <td>2900000</td>\n",
       "      <td>33.16</td>\n",
       "      <td>2018-05-23</td>\n",
       "      <td>1</td>\n",
       "      <td>2.65</td>\n",
       "      <td>27.0</td>\n",
       "      <td>15.43</td>\n",
       "      <td>26</td>\n",
       "      <td>False</td>\n",
       "      <td>False</td>\n",
       "      <td>False</td>\n",
       "      <td>8.81</td>\n",
       "      <td>0</td>\n",
       "      <td>Мурино</td>\n",
       "      <td>NaN</td>\n",
       "      <td>NaN</td>\n",
       "      <td>0</td>\n",
       "      <td>NaN</td>\n",
       "      <td>0</td>\n",
       "      <td>NaN</td>\n",
       "      <td>189.0</td>\n",
       "      <td>87454.76</td>\n",
       "      <td>2</td>\n",
       "      <td>5</td>\n",
       "      <td>2018</td>\n",
       "      <td>другой</td>\n",
       "      <td>NaN</td>\n",
       "    </tr>\n",
       "    <tr>\n",
       "      <th>9</th>\n",
       "      <td>18</td>\n",
       "      <td>5400000</td>\n",
       "      <td>61.00</td>\n",
       "      <td>2017-02-26</td>\n",
       "      <td>3</td>\n",
       "      <td>2.50</td>\n",
       "      <td>9.0</td>\n",
       "      <td>43.60</td>\n",
       "      <td>7</td>\n",
       "      <td>False</td>\n",
       "      <td>False</td>\n",
       "      <td>False</td>\n",
       "      <td>6.50</td>\n",
       "      <td>2</td>\n",
       "      <td>Санкт-Петербург</td>\n",
       "      <td>50898.0</td>\n",
       "      <td>15008.0</td>\n",
       "      <td>0</td>\n",
       "      <td>NaN</td>\n",
       "      <td>0</td>\n",
       "      <td>NaN</td>\n",
       "      <td>289.0</td>\n",
       "      <td>88524.59</td>\n",
       "      <td>6</td>\n",
       "      <td>2</td>\n",
       "      <td>2017</td>\n",
       "      <td>другой</td>\n",
       "      <td>15.0</td>\n",
       "    </tr>\n",
       "  </tbody>\n",
       "</table>\n",
       "</div>"
      ],
      "text/plain": [
       "   total_images  last_price  total_area first_day_exposition  rooms  \\\n",
       "0            20    13000000      108.00           2019-03-07      3   \n",
       "1             7     3350000       40.40           2018-12-04      1   \n",
       "2            10     5196000       56.00           2015-08-20      2   \n",
       "3             0    64900000      159.00           2015-07-24      3   \n",
       "4             2    10000000      100.00           2018-06-19      2   \n",
       "5            10     2890000       30.40           2018-09-10      1   \n",
       "6             6     3700000       37.30           2017-11-02      1   \n",
       "7             5     7915000       71.60           2019-04-18      2   \n",
       "8            20     2900000       33.16           2018-05-23      1   \n",
       "9            18     5400000       61.00           2017-02-26      3   \n",
       "\n",
       "   ceiling_height  floors_total  living_area  floor  is_apartment  studio  \\\n",
       "0            2.70          16.0        51.00      8         False   False   \n",
       "1            2.65          11.0        18.60      1         False   False   \n",
       "2            2.65           5.0        34.30      4         False   False   \n",
       "3            2.65          14.0          NaN      9         False   False   \n",
       "4            3.03          14.0        32.00     13         False   False   \n",
       "5            2.65          12.0        14.40      5         False   False   \n",
       "6            2.65          26.0        10.60      6         False   False   \n",
       "7            2.65          24.0          NaN     22         False   False   \n",
       "8            2.65          27.0        15.43     26         False   False   \n",
       "9            2.50           9.0        43.60      7         False   False   \n",
       "\n",
       "   open_plan  kitchen_area  balcony    locality_name  airports_nearest  \\\n",
       "0      False         25.00        0  Санкт-Петербург           18863.0   \n",
       "1      False         11.00        2           Шушары           12817.0   \n",
       "2      False          8.30        0  Санкт-Петербург           21741.0   \n",
       "3      False           NaN        0  Санкт-Петербург           28098.0   \n",
       "4      False         41.00        0  Санкт-Петербург           31856.0   \n",
       "5      False          9.10        0          Янино-1               NaN   \n",
       "6      False         14.40        1        Парголово           52996.0   \n",
       "7      False         18.90        2  Санкт-Петербург           23982.0   \n",
       "8      False          8.81        0           Мурино               NaN   \n",
       "9      False          6.50        2  Санкт-Петербург           50898.0   \n",
       "\n",
       "   city_centers_nearest  parks_around_3km  parks_nearest  ponds_around_3km  \\\n",
       "0               16028.0                 1          482.0                 2   \n",
       "1               18603.0                 0            NaN                 0   \n",
       "2               13933.0                 1           90.0                 2   \n",
       "3                6800.0                 2           84.0                 3   \n",
       "4                8098.0                 2          112.0                 1   \n",
       "5                   NaN                 0            NaN                 0   \n",
       "6               19143.0                 0            NaN                 0   \n",
       "7               11634.0                 0            NaN                 0   \n",
       "8                   NaN                 0            NaN                 0   \n",
       "9               15008.0                 0            NaN                 0   \n",
       "\n",
       "   ponds_nearest  days_exposition  square_meter_price  publication_weekday  \\\n",
       "0          755.0              NaN           120370.37                    3   \n",
       "1            NaN             81.0            82920.79                    1   \n",
       "2          574.0            558.0            92785.71                    3   \n",
       "3          234.0            424.0           408176.10                    4   \n",
       "4           48.0            121.0           100000.00                    1   \n",
       "5            NaN             55.0            95065.79                    0   \n",
       "6            NaN            155.0            99195.71                    3   \n",
       "7            NaN              NaN           110544.69                    3   \n",
       "8            NaN            189.0            87454.76                    2   \n",
       "9            NaN            289.0            88524.59                    6   \n",
       "\n",
       "   publication_month  publication_year type_of_floor  center_distance  \n",
       "0                  3              2019        другой             16.0  \n",
       "1                 12              2018        первый             19.0  \n",
       "2                  8              2015        другой             14.0  \n",
       "3                  7              2015        другой              7.0  \n",
       "4                  6              2018        другой              8.0  \n",
       "5                  9              2018        другой              NaN  \n",
       "6                 11              2017        другой             19.0  \n",
       "7                  4              2019        другой             12.0  \n",
       "8                  5              2018        другой              NaN  \n",
       "9                  2              2017        другой             15.0  "
      ]
     },
     "execution_count": 13,
     "metadata": {},
     "output_type": "execute_result"
    }
   ],
   "source": [
    "# Добавим в таблицу следующие столбцы:\n",
    "# Цена одного квадратного метра\n",
    "data['square_meter_price'] = (data['last_price'] / data['total_area']).round(2)\n",
    "# День недели, месяц и год публикации объявления\n",
    "data['publication_weekday'] = data['first_day_exposition'].dt.weekday\n",
    "data['publication_month'] = data['first_day_exposition'].dt.month\n",
    "data['publication_year'] = data['first_day_exposition'].dt.year    \n",
    "# Функция, категоризирующая значения столбца этажи по трем типам.\n",
    "def categorize_floors(i):\n",
    "    if i['floor'] == 1:\n",
    "        return 'первый'\n",
    "    elif i['floor'] == i['floors_total']:\n",
    "        return 'последний'\n",
    "    else:\n",
    "        return 'другой'\n",
    "data['type_of_floor'] = data.apply(categorize_floors, axis=1) \n",
    "# Расстояние до центра города в километрах в км.\n",
    "data['center_distance'] = (data['city_centers_nearest'] / 1000).round(0)\n",
    "data.head(10)"
   ]
  },
  {
   "cell_type": "markdown",
   "metadata": {},
   "source": [
    "<div class=\"alert alert-success\">\n",
    "<b>✔️ Комментарий ревьюера v1:</b> \n",
    "<br>Все необходимые колонки добавлены. Идём дальше)\n",
    "</div>"
   ]
  },
  {
   "cell_type": "markdown",
   "metadata": {
    "id": "pPyxrKWTAwb-"
   },
   "source": [
    "### Исследовательский анализ данных"
   ]
  },
  {
   "cell_type": "markdown",
   "metadata": {
    "id": "V2f0D3kLAwb-"
   },
   "source": [
    "**Изучим следующие параметры объектов и построим гистограммы для каждого из них.**"
   ]
  },
  {
   "cell_type": "markdown",
   "metadata": {},
   "source": [
    "**Общая площадь (кв. метры)**"
   ]
  },
  {
   "cell_type": "code",
   "execution_count": 14,
   "metadata": {},
   "outputs": [
    {
     "data": {
      "text/plain": [
       "count    23699.000000\n",
       "mean        60.348651\n",
       "std         35.654083\n",
       "min         12.000000\n",
       "25%         40.000000\n",
       "50%         52.000000\n",
       "75%         69.900000\n",
       "max        900.000000\n",
       "Name: total_area, dtype: float64"
      ]
     },
     "execution_count": 14,
     "metadata": {},
     "output_type": "execute_result"
    }
   ],
   "source": [
    "# Оценим характеристику данных.\n",
    "#data.total_area.sort_values()\n",
    "#data['total_area'].sort_values(ascending=False).head(10)\n",
    "data.total_area.describe()"
   ]
  },
  {
   "cell_type": "code",
   "execution_count": 15,
   "metadata": {},
   "outputs": [
    {
     "data": {
      "text/plain": [
       "19904    12.0\n",
       "17961    13.0\n",
       "19546    13.0\n",
       "19807    13.0\n",
       "19558    13.2\n",
       "19642    14.0\n",
       "16949    15.0\n",
       "12040    15.0\n",
       "8886     15.5\n",
       "9412     16.0\n",
       "Name: total_area, dtype: float64"
      ]
     },
     "execution_count": 15,
     "metadata": {},
     "output_type": "execute_result"
    }
   ],
   "source": [
    "data['total_area'].sort_values().head(10)"
   ]
  },
  {
   "cell_type": "markdown",
   "metadata": {},
   "source": [
    "В данных видны явные аномалии, общая площадь 900, 630 кв.м . Такая площадь теоретически может существовать, но это сложно представимо. Поэтому для более точного анализа показателей, избавимся от них определим максимум значений в 120 кв.м.\n",
    "Построим гистограмму распределения квартир в зависимости от их общей площади."
   ]
  },
  {
   "cell_type": "code",
   "execution_count": 16,
   "metadata": {},
   "outputs": [
    {
     "data": {
      "image/png": "[encoded data removed]",
      "text/plain": [
       "<Figure size 576x360 with 1 Axes>"
      ]
     },
     "metadata": {
      "needs_background": "light"
     },
     "output_type": "display_data"
    }
   ],
   "source": [
    "new_total_area = data.loc[data['total_area'] <= 120, 'total_area']\n",
    "new_total_area.hist(bins = 70, figsize = (8, 5))\n",
    "plt.xlabel('Кв.м.')\n",
    "plt.ylabel('Количество квартир')\n",
    "plt.title('Общая площадь')\n",
    "plt.show()"
   ]
  },
  {
   "cell_type": "markdown",
   "metadata": {},
   "source": [
    "Определим количество данных которое мы отбросили в итоге. Оно составляет не более 10%, что является удовлетворительным."
   ]
  },
  {
   "cell_type": "code",
   "execution_count": 17,
   "metadata": {},
   "outputs": [
    {
     "name": "stdout",
     "output_type": "stream",
     "text": [
      "count    22637.000000\n",
      "mean        54.861196\n",
      "std         20.098237\n",
      "min         12.000000\n",
      "25%         39.500000\n",
      "50%         50.500000\n",
      "75%         66.000000\n",
      "max        120.000000\n",
      "Name: total_area, dtype: float64\n"
     ]
    },
    {
     "data": {
      "text/plain": [
       "0.9551879826153002"
      ]
     },
     "execution_count": 17,
     "metadata": {},
     "output_type": "execute_result"
    }
   ],
   "source": [
    "print(new_total_area.describe())\n",
    "new_total_area.shape[0] / data.shape[0]"
   ]
  },
  {
   "cell_type": "markdown",
   "metadata": {},
   "source": [
    "На основании построенной гистограммы и описании данных можем сделать выбор о том, что большая часть квартир находится в диапазоне (20 - 120 кв.м). Самыми популярными являются квартиры в диапазоне с общей площадью в 45 и 42 кв.м. Гистограмма, в целом, соответствует распределению Пуассона, но данные имеют разброс (std= 20.1)."
   ]
  },
  {
   "cell_type": "markdown",
   "metadata": {},
   "source": [
    "<div class=\"alert alert-info\">\n",
    "<b>Комментарий студента:</b>\n",
    "<br> Избавился от аномалий, задал наиболее наглядный диапазон 'total_area' <= 120 кв.м. Вывод исправил.\n",
    " </div>"
   ]
  },
  {
   "cell_type": "markdown",
   "metadata": {},
   "source": [
    "**Жилая площадь (кв. метры)**"
   ]
  },
  {
   "cell_type": "code",
   "execution_count": 18,
   "metadata": {},
   "outputs": [
    {
     "data": {
      "text/plain": [
       "count    21796.000000\n",
       "mean        34.457852\n",
       "std         22.030445\n",
       "min          2.000000\n",
       "25%         18.600000\n",
       "50%         30.000000\n",
       "75%         42.300000\n",
       "max        409.700000\n",
       "Name: living_area, dtype: float64"
      ]
     },
     "execution_count": 18,
     "metadata": {},
     "output_type": "execute_result"
    }
   ],
   "source": [
    "#data.living_area.sort_values()\n",
    "#data['living_area'].sort_values(ascending=False).head(10)\n",
    "data.living_area.describe()"
   ]
  },
  {
   "cell_type": "markdown",
   "metadata": {},
   "source": [
    "В данных видны явные аномалии -  жилая площадь 400 кв.м .Такая площадь теоретически может существовать, но это сложно представимо. Поэтому для более точного анализа показателей, избавимся от них и определим максимум значений в 120 кв.м. и минимум в 5 кв.м."
   ]
  },
  {
   "cell_type": "markdown",
   "metadata": {},
   "source": [
    "Построим гистограмму распределения квартир в зависимости от их жилой площади."
   ]
  },
  {
   "cell_type": "code",
   "execution_count": 19,
   "metadata": {},
   "outputs": [
    {
     "data": {
      "image/png": "[encoded data removed]",
      "text/plain": [
       "<Figure size 576x360 with 1 Axes>"
      ]
     },
     "metadata": {
      "needs_background": "light"
     },
     "output_type": "display_data"
    }
   ],
   "source": [
    "# Построим гистограмму в диапазоне основных значений.\n",
    "new_living_area = data.loc[(data['living_area'] <= 120) & (data['living_area'] >= 5), 'living_area']\n",
    "new_living_area.hist(bins = 70, figsize = (8, 5))\n",
    "plt.xlabel('Кв.м.')\n",
    "plt.ylabel('Количество квартир')\n",
    "plt.title('Жилая площадь')\n",
    "plt.show()"
   ]
  },
  {
   "cell_type": "code",
   "execution_count": 20,
   "metadata": {},
   "outputs": [
    {
     "name": "stdout",
     "output_type": "stream",
     "text": [
      "count    21576.000000\n",
      "mean        33.125759\n",
      "std         16.888306\n",
      "min          5.000000\n",
      "25%         18.600000\n",
      "50%         30.000000\n",
      "75%         42.000000\n",
      "max        120.000000\n",
      "Name: living_area, dtype: float64\n"
     ]
    },
    {
     "data": {
      "text/plain": [
       "0.910418161103844"
      ]
     },
     "execution_count": 20,
     "metadata": {},
     "output_type": "execute_result"
    }
   ],
   "source": [
    "print(new_living_area.describe())\n",
    "new_living_area.shape[0] / data.shape[0]"
   ]
  },
  {
   "cell_type": "markdown",
   "metadata": {},
   "source": [
    "Определим количество данных которое мы отбросили в итоге. Оно составляет не более 10%, что является удовлетворительным."
   ]
  },
  {
   "cell_type": "markdown",
   "metadata": {},
   "source": [
    "На основании построенной гистограммы и описании данных можем сделать выбор о том, что большая часть квартир находится в диапазоне (15 - 60 кв.м). Самыми популярными являются квартиры в диапазоне с жилой площадью примерно 18 и 30 кв.м. Гистограмма, в целом, соответствует распределению Пуассона, но данные имеют разброс (std= 16.8). "
   ]
  },
  {
   "cell_type": "markdown",
   "metadata": {},
   "source": [
    "<div class=\"alert alert-info\">\n",
    "<b>Комментарий студента:</b>\n",
    "<br> Избавился от аномалий, задал наиболее наглядный диапазон (5-120) кв.м. Вывод исправил.\n",
    " </div>"
   ]
  },
  {
   "cell_type": "markdown",
   "metadata": {},
   "source": [
    "**Площадь кухни (кв. метры)**"
   ]
  },
  {
   "cell_type": "code",
   "execution_count": 21,
   "metadata": {},
   "outputs": [
    {
     "data": {
      "text/plain": [
       "count    21421.000000\n",
       "mean        10.569807\n",
       "std          5.905438\n",
       "min          1.300000\n",
       "25%          7.000000\n",
       "50%          9.100000\n",
       "75%         12.000000\n",
       "max        112.000000\n",
       "Name: kitchen_area, dtype: float64"
      ]
     },
     "execution_count": 21,
     "metadata": {},
     "output_type": "execute_result"
    }
   ],
   "source": [
    "#data.kitchen_area.sort_values()\n",
    "#data['kitchen_area'].sort_values(ascending=False).head(10)\n",
    "data.kitchen_area.describe()"
   ]
  },
  {
   "cell_type": "markdown",
   "metadata": {},
   "source": [
    "В данных видны явные аномалии - площадь кухни 112 кв.м . Такая площадь теоретически может существовать, но это сложно представимо. Поэтому для более точного анализа показателей, избавимся от них и определим максимум значений в 50 кв.м."
   ]
  },
  {
   "cell_type": "markdown",
   "metadata": {},
   "source": [
    "Построим гистограмму распределения квартир в зависимости от площади кухни."
   ]
  },
  {
   "cell_type": "code",
   "execution_count": 22,
   "metadata": {},
   "outputs": [
    {
     "data": {
      "image/png": "[encoded data removed]",
      "text/plain": [
       "<Figure size 576x360 with 1 Axes>"
      ]
     },
     "metadata": {
      "needs_background": "light"
     },
     "output_type": "display_data"
    }
   ],
   "source": [
    "new_kitchen_area = data.loc[data['kitchen_area'] <= 50, 'kitchen_area']\n",
    "new_kitchen_area.hist(bins = 70, figsize = (8, 5))\n",
    "plt.xlabel('Кв.м.')\n",
    "plt.ylabel('Количество квартир')\n",
    "plt.title('Площадь кухни')\n",
    "plt.show()"
   ]
  },
  {
   "cell_type": "code",
   "execution_count": 23,
   "metadata": {},
   "outputs": [
    {
     "name": "stdout",
     "output_type": "stream",
     "text": [
      "count    21375.000000\n",
      "mean        10.450126\n",
      "std          5.267284\n",
      "min          1.300000\n",
      "25%          7.000000\n",
      "50%          9.100000\n",
      "75%         12.000000\n",
      "max         50.000000\n",
      "Name: kitchen_area, dtype: float64\n"
     ]
    },
    {
     "data": {
      "text/plain": [
       "0.9019367905818811"
      ]
     },
     "execution_count": 23,
     "metadata": {},
     "output_type": "execute_result"
    }
   ],
   "source": [
    "print(new_kitchen_area.describe())\n",
    "new_kitchen_area.shape[0] / data.shape[0]"
   ]
  },
  {
   "cell_type": "markdown",
   "metadata": {},
   "source": [
    "Определим количество данных которое мы отбросили в итоге. Оно составляет не более 10%, что является удовлетворительным."
   ]
  },
  {
   "cell_type": "markdown",
   "metadata": {},
   "source": [
    "На основании построенной гистограммы и описании данных можем сделать выбор о том, что большая часть квартир находится в диапазоне (5 - 20 кв.м). Самыми популярными являются квартиры с площадью кухни примерно 6 и 10 кв.м. Гистограмма, в целом, соответствует распределению Пуассона, но данные имеют разброс (std= 16.8). "
   ]
  },
  {
   "cell_type": "markdown",
   "metadata": {},
   "source": [
    "<div class=\"alert alert-info\">\n",
    "<b>Комментарий студента:</b>\n",
    "<br> Избавился от аномалий, задал наиболее наглядный диапазон ('kitchen_area'<=50) кв.м. Вывод исправил.\n",
    " </div>"
   ]
  },
  {
   "cell_type": "markdown",
   "metadata": {},
   "source": [
    "**Цена объекта**"
   ]
  },
  {
   "cell_type": "code",
   "execution_count": 24,
   "metadata": {},
   "outputs": [
    {
     "name": "stdout",
     "output_type": "stream",
     "text": [
      "12971    763000000\n",
      "19540    420000000\n",
      "14706    401300000\n",
      "1436     330000000\n",
      "15651    300000000\n",
      "22831    289238400\n",
      "16461    245000000\n",
      "13749    240000000\n",
      "5893     230000000\n",
      "8900     190870000\n",
      "Name: last_price, dtype: int64\n"
     ]
    },
    {
     "data": {
      "text/plain": [
       "count    2.369900e+04\n",
       "mean     6.541549e+06\n",
       "std      1.088701e+07\n",
       "min      1.219000e+04\n",
       "25%      3.400000e+06\n",
       "50%      4.650000e+06\n",
       "75%      6.800000e+06\n",
       "max      7.630000e+08\n",
       "Name: last_price, dtype: float64"
      ]
     },
     "execution_count": 24,
     "metadata": {},
     "output_type": "execute_result"
    }
   ],
   "source": [
    "#data.last_price.sort_values()\n",
    "print(data['last_price'].sort_values(ascending=False).head(10))\n",
    "data.last_price.describe()"
   ]
  },
  {
   "cell_type": "markdown",
   "metadata": {},
   "source": [
    "В данных видны явные аномалии - цена квартиры в 763 млн. Такая цена теоретически может существовать, но это сложно представимо. Поэтому для более точного анализа показателей, избавимся от них и определим максимум значений в 20 млн. руб."
   ]
  },
  {
   "cell_type": "markdown",
   "metadata": {},
   "source": [
    "Построим гистограмму распределения квартир в зависимости от цены объекта."
   ]
  },
  {
   "cell_type": "code",
   "execution_count": 25,
   "metadata": {},
   "outputs": [
    {
     "data": {
      "image/png": "[encoded data removed]",
      "text/plain": [
       "<Figure size 576x360 with 1 Axes>"
      ]
     },
     "metadata": {
      "needs_background": "light"
     },
     "output_type": "display_data"
    }
   ],
   "source": [
    "new_last_price = data.loc[data['last_price'] <= 20000000, 'last_price']\n",
    "(new_last_price/1000000).hist(bins = 70, figsize = (8, 5))\n",
    "plt.xlabel('Мл.руб')\n",
    "plt.ylabel('Количество квартир')\n",
    "plt.title('Цена объекта')\n",
    "plt.show()"
   ]
  },
  {
   "cell_type": "code",
   "execution_count": 26,
   "metadata": {},
   "outputs": [
    {
     "name": "stdout",
     "output_type": "stream",
     "text": [
      "count    2.299200e+04\n",
      "mean     5.423607e+06\n",
      "std      3.220160e+06\n",
      "min      1.219000e+04\n",
      "25%      3.400000e+06\n",
      "50%      4.550000e+06\n",
      "75%      6.500000e+06\n",
      "max      2.000000e+07\n",
      "Name: last_price, dtype: float64\n"
     ]
    },
    {
     "data": {
      "text/plain": [
       "0.9701675176167771"
      ]
     },
     "execution_count": 26,
     "metadata": {},
     "output_type": "execute_result"
    }
   ],
   "source": [
    "print(new_last_price.describe())\n",
    "new_last_price.shape[0] / data.shape[0]"
   ]
  },
  {
   "cell_type": "markdown",
   "metadata": {},
   "source": [
    "Определим количество данных которое мы отбросили в итоге. Оно составляет не более 10%, что является удовлетворительным."
   ]
  },
  {
   "cell_type": "markdown",
   "metadata": {},
   "source": [
    "<div class=\"alert alert-warning\">\n",
    "<b>⚠️ Комментарий ревьюера v1:</b> \n",
    "<br>Тут можно разделить все значения в столбце last_price на 1 млн, чтобы они пришли в более понятный вид)\n",
    "</div>"
   ]
  },
  {
   "cell_type": "markdown",
   "metadata": {},
   "source": [
    "<div class=\"alert alert-info\">\n",
    "<b>Комментарий студента:</b>\n",
    "<br>Привел все значения в более понятный вид, раздел все значения в столбце last_price на 1 млн. Задал наиболее наглядный диапазон ( last_price <= 20 млн руб.). Вывод исправил.\n",
    "</div>"
   ]
  },
  {
   "cell_type": "markdown",
   "metadata": {},
   "source": [
    "На основании построенной гистограммы и описании данных можем сделать выбор о том, что большая часть квартир находится в диапазоне (1,5 - 15 мл.руб). Самыми популярными являются квартиры с ценой примерно 3.8, 4 и 4,2 млн.руб. Гистограмма, в целом, соответствует нормальному распределению, разброс данных (std= 3.22). "
   ]
  },
  {
   "cell_type": "markdown",
   "metadata": {},
   "source": [
    "**Количество комнат**"
   ]
  },
  {
   "cell_type": "code",
   "execution_count": 27,
   "metadata": {},
   "outputs": [
    {
     "name": "stdout",
     "output_type": "stream",
     "text": [
      "14498    19\n",
      "18848    16\n",
      "5358     15\n",
      "20829    14\n",
      "866      14\n",
      "19540    12\n",
      "9688     11\n",
      "648      11\n",
      "18119    10\n",
      "4149     10\n",
      "Name: rooms, dtype: int64\n"
     ]
    },
    {
     "data": {
      "text/plain": [
       "count    23699.000000\n",
       "mean         2.070636\n",
       "std          1.078405\n",
       "min          0.000000\n",
       "25%          1.000000\n",
       "50%          2.000000\n",
       "75%          3.000000\n",
       "max         19.000000\n",
       "Name: rooms, dtype: float64"
      ]
     },
     "execution_count": 27,
     "metadata": {},
     "output_type": "execute_result"
    }
   ],
   "source": [
    "#data.rooms.sort_values()\n",
    "print(data['rooms'].sort_values(ascending=False).head(10))\n",
    "data.rooms.describe()"
   ]
  },
  {
   "cell_type": "markdown",
   "metadata": {},
   "source": [
    "В данных видны явные аномалии - количество комнат 19. Такая цена теоретически может существовать, но это сложно представимо. Поэтому для более точного анализа показателей, избавимся от них и определим максимум значений в 8 комнат."
   ]
  },
  {
   "cell_type": "markdown",
   "metadata": {},
   "source": [
    "Построим гистограмму распределения квартир в зависимости от количества комнат."
   ]
  },
  {
   "cell_type": "code",
   "execution_count": 28,
   "metadata": {},
   "outputs": [
    {
     "data": {
      "image/png": "[encoded data removed]",
      "text/plain": [
       "<Figure size 576x360 with 1 Axes>"
      ]
     },
     "metadata": {
      "needs_background": "light"
     },
     "output_type": "display_data"
    }
   ],
   "source": [
    "new_rooms = data.loc[data['rooms'] <= 8, 'rooms']\n",
    "new_rooms.hist(bins = 8, figsize = (8, 5))\n",
    "plt.xlabel('Комнаты')\n",
    "plt.ylabel('Количество квартир')\n",
    "plt.title('Количество комнат')\n",
    "plt.show()"
   ]
  },
  {
   "cell_type": "code",
   "execution_count": 29,
   "metadata": {},
   "outputs": [
    {
     "name": "stdout",
     "output_type": "stream",
     "text": [
      "count    23680.00000\n",
      "mean         2.06326\n",
      "std          1.04373\n",
      "min          0.00000\n",
      "25%          1.00000\n",
      "50%          2.00000\n",
      "75%          3.00000\n",
      "max          8.00000\n",
      "Name: rooms, dtype: float64\n"
     ]
    },
    {
     "data": {
      "text/plain": [
       "0.9991982784083716"
      ]
     },
     "execution_count": 29,
     "metadata": {},
     "output_type": "execute_result"
    }
   ],
   "source": [
    "print(new_rooms.describe())\n",
    "new_rooms.shape[0] / data.shape[0]"
   ]
  },
  {
   "cell_type": "markdown",
   "metadata": {},
   "source": [
    "Определим количество данных которое мы отбросили в итоге. Оно составляет не более 10%, что является удовлетворительным."
   ]
  },
  {
   "cell_type": "markdown",
   "metadata": {},
   "source": [
    "На основании построенной гистограммы и описании данных можем сделать выбор о том, что большая часть квартир находится в диапазоне (1 - 6 комнат). Самыми популярными являются квартиры с 1, 2 комнатами. Гистограмма, в целом, соответствует распределению Пуассона, разброс данных не значителен (std= 1.04). "
   ]
  },
  {
   "cell_type": "markdown",
   "metadata": {},
   "source": [
    "<div class=\"alert alert-info\">\n",
    "<b>Комментарий студента:</b>\n",
    "<br>Привел все значения в более понятный вид, задал наиболее наглядный диапазон ( rooms <= 8 комнат). Вывод исправил.\n",
    "</div>"
   ]
  },
  {
   "cell_type": "markdown",
   "metadata": {},
   "source": [
    "**Высота потолков**"
   ]
  },
  {
   "cell_type": "code",
   "execution_count": 30,
   "metadata": {},
   "outputs": [
    {
     "name": "stdout",
     "output_type": "stream",
     "text": [
      "22869    100.0\n",
      "3148      32.0\n",
      "22336     32.0\n",
      "21377     27.5\n",
      "4876      27.0\n",
      "17857     27.0\n",
      "5246      27.0\n",
      "20478     27.0\n",
      "22938     27.0\n",
      "5807      27.0\n",
      "Name: ceiling_height, dtype: float64\n"
     ]
    },
    {
     "data": {
      "text/plain": [
       "count    23699.000000\n",
       "mean         2.724358\n",
       "std          0.988298\n",
       "min          1.000000\n",
       "25%          2.600000\n",
       "50%          2.650000\n",
       "75%          2.700000\n",
       "max        100.000000\n",
       "Name: ceiling_height, dtype: float64"
      ]
     },
     "execution_count": 30,
     "metadata": {},
     "output_type": "execute_result"
    }
   ],
   "source": [
    "#data.ceiling_height.sort_values()\n",
    "print(data['ceiling_height'].sort_values(ascending=False).head(10))\n",
    "data.ceiling_height.describe()"
   ]
  },
  {
   "cell_type": "code",
   "execution_count": 31,
   "metadata": {},
   "outputs": [
    {
     "data": {
      "text/plain": [
       "array([  2.7 ,   2.65,   3.03,   2.5 ,   2.67,   2.56,   3.05,   2.75,\n",
       "         2.6 ,   2.9 ,   2.8 ,   2.55,   3.  ,   3.2 ,   2.61,   3.25,\n",
       "         3.45,   2.77,   2.85,   2.64,   2.57,   4.15,   3.5 ,   3.3 ,\n",
       "         2.71,   4.  ,   2.47,   2.73,   2.84,   3.1 ,   2.34,   3.4 ,\n",
       "         3.06,   2.72,   2.54,   2.51,   2.78,   2.76,  25.  ,   2.58,\n",
       "         3.7 ,   2.52,   5.2 ,   2.87,   2.66,   2.59,   2.  ,   2.45,\n",
       "         3.6 ,   2.92,   3.11,   3.13,   3.8 ,   3.15,   3.55,   3.16,\n",
       "         3.62,   3.12,   2.53,   2.74,   2.96,   2.46,   5.3 ,   5.  ,\n",
       "         2.79,   2.95,   4.06,   2.94,   3.82,   3.54,   3.53,   2.83,\n",
       "         4.7 ,   2.4 ,   3.38,   3.01,   5.6 ,   3.65,   3.9 ,   3.18,\n",
       "         3.35,   2.3 ,   3.57,   2.48,   2.62,   2.82,   3.98,   2.63,\n",
       "         3.83,   3.52,   3.95,   3.75,   2.88,   3.67,   3.87,   3.66,\n",
       "         3.85,   3.86,   4.19,   3.24,   4.8 ,   4.5 ,   4.2 ,   3.36,\n",
       "        32.  ,   3.08,   3.68,   3.07,   3.37,   3.09,   8.  ,   3.26,\n",
       "         3.34,   2.81,   3.44,   2.97,   3.14,   4.37,   2.68,   3.22,\n",
       "         3.27,  27.  ,   4.1 ,   2.93,   3.46,  24.  ,   3.47,   3.33,\n",
       "         3.63,   3.32,  26.  ,   1.2 ,   8.3 ,   2.98,   2.86,   3.17,\n",
       "         4.4 ,   3.28,   3.04,   4.45,   5.5 ,   3.84,   3.23,   3.02,\n",
       "         3.21,   3.43,   3.78,   4.3 ,   3.39,   2.69,   3.31,   4.65,\n",
       "         3.56,   2.2 ,   3.51,   3.93,   3.42,   2.99,   3.49,  14.  ,\n",
       "         4.14,   2.91,   3.88,   1.75,   4.25,   3.29,  20.  ,   2.25,\n",
       "         3.76,   3.69,   6.  ,  22.6 ,   2.89,   3.58,   5.8 ,  27.5 ,\n",
       "         2.49,   4.9 ,   3.48,  10.3 ,   1.  , 100.  ,   3.59])"
      ]
     },
     "execution_count": 31,
     "metadata": {},
     "output_type": "execute_result"
    }
   ],
   "source": [
    "data.ceiling_height.unique()"
   ]
  },
  {
   "cell_type": "markdown",
   "metadata": {},
   "source": [
    "В значениях встречаются явные выбросы, которые логически можно объяснить тем, что на самом деле это вещественные значения.\n",
    "Приведем их к нормальному виду. Перед этим все пропуски были заменены на медианные значения."
   ]
  },
  {
   "cell_type": "code",
   "execution_count": 32,
   "metadata": {},
   "outputs": [
    {
     "data": {
      "text/plain": [
       "array([ 2.7 ,  2.65,  3.03,  2.5 ,  2.67,  2.56,  3.05,  2.75,  2.6 ,\n",
       "        2.9 ,  2.8 ,  2.55,  3.  ,  3.2 ,  2.61,  3.25,  3.45,  2.77,\n",
       "        2.85,  2.64,  2.57,  4.15,  3.5 ,  3.3 ,  2.71,  4.  ,  2.47,\n",
       "        2.73,  2.84,  3.1 ,  2.34,  3.4 ,  3.06,  2.72,  2.54,  2.51,\n",
       "        2.78,  2.76,  2.58,  3.7 ,  2.52,  5.2 ,  2.87,  2.66,  2.59,\n",
       "        2.  ,  2.45,  3.6 ,  2.92,  3.11,  3.13,  3.8 ,  3.15,  3.55,\n",
       "        3.16,  3.62,  3.12,  2.53,  2.74,  2.96,  2.46,  5.3 ,  5.  ,\n",
       "        2.79,  2.95,  4.06,  2.94,  3.82,  3.54,  3.53,  2.83,  4.7 ,\n",
       "        2.4 ,  3.38,  3.01,  5.6 ,  3.65,  3.9 ,  3.18,  3.35,  2.3 ,\n",
       "        3.57,  2.48,  2.62,  2.82,  3.98,  2.63,  3.83,  3.52,  3.95,\n",
       "        3.75,  2.88,  3.67,  3.87,  3.66,  3.85,  3.86,  4.19,  3.24,\n",
       "        4.8 ,  4.5 ,  4.2 ,  3.36,  3.08,  3.68,  3.07,  3.37,  3.09,\n",
       "        8.  ,  3.26,  3.34,  2.81,  3.44,  2.97,  3.14,  4.37,  2.68,\n",
       "        3.22,  3.27,  4.1 ,  2.93,  3.46,  3.47,  3.33,  3.63,  3.32,\n",
       "        1.2 ,  8.3 ,  2.98,  2.86,  3.17,  4.4 ,  3.28,  3.04,  4.45,\n",
       "        5.5 ,  3.84,  3.23,  3.02,  3.21,  3.43,  3.78,  4.3 ,  3.39,\n",
       "        2.69,  3.31,  4.65,  3.56,  2.2 ,  3.51,  3.93,  3.42,  2.99,\n",
       "        3.49,  1.4 ,  4.14,  2.91,  3.88,  1.75,  4.25,  3.29,  2.25,\n",
       "        3.76,  3.69,  6.  ,  2.26,  2.89,  3.58,  5.8 ,  2.49,  4.9 ,\n",
       "        3.48,  1.03,  1.  , 10.  ,  3.59])"
      ]
     },
     "execution_count": 32,
     "metadata": {},
     "output_type": "execute_result"
    }
   ],
   "source": [
    "# Функция приводит аномальные значения в нормальны вид.\n",
    "def categorize_ceiling(i):\n",
    "    if i['ceiling_height'] > 9:\n",
    "        return (i['ceiling_height'] / 10) \n",
    "    else:\n",
    "        return i['ceiling_height']\n",
    "data['ceiling_height'] = data.apply(categorize_ceiling, axis=1)\n",
    "data['ceiling_height'].unique()"
   ]
  },
  {
   "cell_type": "markdown",
   "metadata": {},
   "source": [
    "Построим гистограмму распределения квартир в зависимости от высоты потолков."
   ]
  },
  {
   "cell_type": "code",
   "execution_count": 33,
   "metadata": {},
   "outputs": [
    {
     "data": {
      "image/png": "[encoded data removed]",
      "text/plain": [
       "<Figure size 576x360 with 1 Axes>"
      ]
     },
     "metadata": {
      "needs_background": "light"
     },
     "output_type": "display_data"
    }
   ],
   "source": [
    "data.ceiling_height.hist(bins = 20, range = (1, 4), figsize = (8, 5))\n",
    "plt.xlabel('Метры')\n",
    "plt.ylabel('Количество квартир')\n",
    "plt.title('Высота потолков')\n",
    "plt.show()"
   ]
  },
  {
   "cell_type": "markdown",
   "metadata": {},
   "source": [
    "На основании построенной гистограммы и описании данных можем сделать выбор о том, что большая часть квартир находится в диапазоне (2.5 - 3.5 комнат). Самыми популярными являются квартиры с потолками примерно 2.7м. Гистограмма, в целом, соответствует распределению Пуассона, разброс данных не значителен (std= 0.98). В данных имеются аномалии, которые логически можно объяснить тем, что на самом деле это вещественные значения. Перед построением гистограммы были внесены изменения. Все пропуски были заменены на медианные значения."
   ]
  },
  {
   "cell_type": "markdown",
   "metadata": {},
   "source": [
    "**Этаж квартиры**"
   ]
  },
  {
   "cell_type": "code",
   "execution_count": 34,
   "metadata": {},
   "outputs": [
    {
     "data": {
      "text/plain": [
       "count    23699.000000\n",
       "mean         5.892358\n",
       "std          4.885249\n",
       "min          1.000000\n",
       "25%          2.000000\n",
       "50%          4.000000\n",
       "75%          8.000000\n",
       "max         33.000000\n",
       "Name: floor, dtype: float64"
      ]
     },
     "execution_count": 34,
     "metadata": {},
     "output_type": "execute_result"
    }
   ],
   "source": [
    "#data.floor.sort_values()\n",
    "#data['floor'].sort_values(ascending=False).head(50)\n",
    "data.floor.describe()"
   ]
  },
  {
   "cell_type": "markdown",
   "metadata": {},
   "source": [
    "Поскольку ранее мы категоризировали данные о этажах в отдельный столбец, то можем посмотреть распределение и по типу этажа и по количеству. Построим соответствующие гистограммы."
   ]
  },
  {
   "cell_type": "code",
   "execution_count": 35,
   "metadata": {},
   "outputs": [
    {
     "data": {
      "image/png": "[encoded data removed]",
      "text/plain": [
       "<Figure size 576x360 with 1 Axes>"
      ]
     },
     "metadata": {
      "needs_background": "light"
     },
     "output_type": "display_data"
    }
   ],
   "source": [
    "data.type_of_floor.hist(figsize = (8, 5))\n",
    "plt.xlabel('Этаж')\n",
    "plt.ylabel('Количество квартир')\n",
    "plt.title('Тип этажа квартиры')\n",
    "plt.show()"
   ]
  },
  {
   "cell_type": "markdown",
   "metadata": {},
   "source": [
    "На основании построенных гистограмм и описании данных можем сделать выбор о том, что первый и последний этажи являются мнее популярными вариантами в сравнении с остальными этажами. "
   ]
  },
  {
   "cell_type": "markdown",
   "metadata": {},
   "source": [
    "**Общее количество этажей в доме**"
   ]
  },
  {
   "cell_type": "code",
   "execution_count": 36,
   "metadata": {},
   "outputs": [
    {
     "name": "stdout",
     "output_type": "stream",
     "text": [
      "2253     60.0\n",
      "16731    52.0\n",
      "16934    37.0\n",
      "397      36.0\n",
      "5807     36.0\n",
      "11079    36.0\n",
      "4855     35.0\n",
      "18617    35.0\n",
      "5808     35.0\n",
      "13975    35.0\n",
      "Name: floors_total, dtype: float64\n"
     ]
    },
    {
     "data": {
      "text/plain": [
       "count    23613.000000\n",
       "mean        10.673824\n",
       "std          6.597173\n",
       "min          1.000000\n",
       "25%          5.000000\n",
       "50%          9.000000\n",
       "75%         16.000000\n",
       "max         60.000000\n",
       "Name: floors_total, dtype: float64"
      ]
     },
     "execution_count": 36,
     "metadata": {},
     "output_type": "execute_result"
    }
   ],
   "source": [
    "#data.floors_total.sort_values()\n",
    "print(data['floors_total'].sort_values(ascending=False).head(10))\n",
    "data.floors_total.describe()"
   ]
  },
  {
   "cell_type": "markdown",
   "metadata": {},
   "source": [
    "Построим гистограмму распределения квартир в зависимости от общего количества этажей в доме."
   ]
  },
  {
   "cell_type": "code",
   "execution_count": 37,
   "metadata": {},
   "outputs": [
    {
     "data": {
      "image/png": "[encoded data removed]",
      "text/plain": [
       "<Figure size 576x360 with 1 Axes>"
      ]
     },
     "metadata": {
      "needs_background": "light"
     },
     "output_type": "display_data"
    }
   ],
   "source": [
    "new_floors_total = data.loc[data['floors_total'] <= 45, 'floors_total']\n",
    "new_floors_total.hist(bins = 20, figsize = (8, 5))\n",
    "plt.xlabel('Количество этажей.')\n",
    "plt.ylabel('Количество квартир')\n",
    "plt.title('Общее количество этажей в доме')\n",
    "plt.show()"
   ]
  },
  {
   "cell_type": "code",
   "execution_count": 38,
   "metadata": {},
   "outputs": [
    {
     "name": "stdout",
     "output_type": "stream",
     "text": [
      "count    23611.000000\n",
      "mean        10.669984\n",
      "std          6.584146\n",
      "min          1.000000\n",
      "25%          5.000000\n",
      "50%          9.000000\n",
      "75%         16.000000\n",
      "max         37.000000\n",
      "Name: floors_total, dtype: float64\n"
     ]
    },
    {
     "data": {
      "text/plain": [
       "0.9962867631545634"
      ]
     },
     "execution_count": 38,
     "metadata": {},
     "output_type": "execute_result"
    }
   ],
   "source": [
    "print(new_floors_total.describe())\n",
    "new_floors_total.shape[0] / data.shape[0]"
   ]
  },
  {
   "cell_type": "markdown",
   "metadata": {},
   "source": [
    "Определим количество данных которое мы отбросили в итоге. Оно составляет не более 10%, что является удовлетворительным."
   ]
  },
  {
   "cell_type": "markdown",
   "metadata": {},
   "source": [
    "На основании построенных гистограмм и описании данных можем сделать выбор о том, что большая часть квартир находится в 5 и 9 этажных домах, это самые популярные варианты. Гистограмма, в целом, соответствует распределению Пуассона."
   ]
  },
  {
   "cell_type": "markdown",
   "metadata": {},
   "source": [
    "<div class=\"alert alert-info\">\n",
    "<b>Комментарий студента:</b>\n",
    "<br>Привел все значения в более понятный вид, задал наиболее наглядный диапазон (floors_total <= 45 этажей). Вывод исправил.\n",
    "</div>"
   ]
  },
  {
   "cell_type": "markdown",
   "metadata": {},
   "source": [
    "**Расстояние до центра города в метрах**"
   ]
  },
  {
   "cell_type": "code",
   "execution_count": 39,
   "metadata": {},
   "outputs": [
    {
     "data": {
      "text/plain": [
       "count    18180.000000\n",
       "mean     14191.277833\n",
       "std       8608.386210\n",
       "min        181.000000\n",
       "25%       9238.000000\n",
       "50%      13098.500000\n",
       "75%      16293.000000\n",
       "max      65968.000000\n",
       "Name: city_centers_nearest, dtype: float64"
      ]
     },
     "execution_count": 39,
     "metadata": {},
     "output_type": "execute_result"
    }
   ],
   "source": [
    "#data.city_centers_nearest.sort_values()\n",
    "#data['city_centers_nearest'].sort_values(ascending=False).head(50)\n",
    "data.city_centers_nearest.describe()"
   ]
  },
  {
   "cell_type": "markdown",
   "metadata": {},
   "source": [
    "Построим гистограмму распределения квартир в зависимости от расстояния до центра города (м)."
   ]
  },
  {
   "cell_type": "code",
   "execution_count": 40,
   "metadata": {},
   "outputs": [
    {
     "data": {
      "image/png": "[encoded data removed]",
      "text/plain": [
       "<Figure size 576x360 with 1 Axes>"
      ]
     },
     "metadata": {
      "needs_background": "light"
     },
     "output_type": "display_data"
    }
   ],
   "source": [
    "data.city_centers_nearest.hist(bins = 70, range = (100, 20000), figsize = (8, 5))\n",
    "plt.xlabel('Метры')\n",
    "plt.ylabel('Количество квартир')\n",
    "plt.title('Расстояние до центра города в метрах')\n",
    "plt.show()"
   ]
  },
  {
   "cell_type": "markdown",
   "metadata": {},
   "source": [
    "На основании построенной гистограммы и описании данных можем сделать выбор о том, что большая часть квартир находится в диапазоне (1000-20000 м.). Самыми популярными являются квартиры с расстояние до центра примерно 15, 12 и 5 км. В данных имеются аномалии, но их природа не однозначна и восстановить корректные значения не получится. Поэтому оставляем диапазон основных значений, исключив аномальные при построении гистограммы. "
   ]
  },
  {
   "cell_type": "markdown",
   "metadata": {},
   "source": [
    "**Расстояние до ближайшего парка**"
   ]
  },
  {
   "cell_type": "code",
   "execution_count": 41,
   "metadata": {},
   "outputs": [
    {
     "data": {
      "text/plain": [
       "count    8079.000000\n",
       "mean      490.804555\n",
       "std       342.317995\n",
       "min         1.000000\n",
       "25%       288.000000\n",
       "50%       455.000000\n",
       "75%       612.000000\n",
       "max      3190.000000\n",
       "Name: parks_nearest, dtype: float64"
      ]
     },
     "execution_count": 41,
     "metadata": {},
     "output_type": "execute_result"
    }
   ],
   "source": [
    "#data.parks_nearest.sort_values()\n",
    "#data['parks_nearest'].sort_values(ascending=False).head(50)\n",
    "data.parks_nearest.describe()"
   ]
  },
  {
   "cell_type": "code",
   "execution_count": 42,
   "metadata": {},
   "outputs": [
    {
     "data": {
      "image/png": "[encoded data removed]",
      "text/plain": [
       "<Figure size 576x360 with 1 Axes>"
      ]
     },
     "metadata": {
      "needs_background": "light"
     },
     "output_type": "display_data"
    }
   ],
   "source": [
    "data.parks_nearest.hist(bins = 70, range = (100, 1000), figsize = (8, 5))\n",
    "plt.xlabel('Метры')\n",
    "plt.ylabel('Количество квартир')\n",
    "plt.title('Расстояние до ближайшего парка')\n",
    "plt.show()"
   ]
  },
  {
   "cell_type": "markdown",
   "metadata": {},
   "source": [
    "На основании построенной гистограммы и описании данных можем сделать выбор о том, что большая часть квартир находится в диапазоне (100 - 1000 м.). Самыми популярными являются квартиры с расстоянием до ближайшего парка примерно 450 и 500 м. Гистограмма, в целом, соответствует нормальному распределению, разброс данных значителен (std= 342.3). В данных имеются аномалии, но их природа не однозначна и восстановить корректные значения не получится. Поэтому оставляем диапазон основных значений, исключив аномальные при построении гистограммы. "
   ]
  },
  {
   "cell_type": "markdown",
   "metadata": {},
   "source": [
    "<div class=\"alert alert-success\">\n",
    "<b>✔️ Комментарий ревьюера v1:</b> \n",
    "<br>Ты корректно подбираешь основные диапазоны, а также верно читаешь графики! \n",
    "</div>"
   ]
  },
  {
   "cell_type": "markdown",
   "metadata": {},
   "source": [
    "<div class=\"alert alert-danger\">\n",
    "<b>❌ Комментарий ревьюера v1:</b> \n",
    "<br>Давай детальнее изучим аномалии в некоторых столбцах. Аномальное значение не значит, что оно нереальное или не может существовать. Это значит, что такое значение выделяется на общем фоне и встретить его большая редкость. Посмотри какие значения есть в столбцах со стоимостью квартиры, количеством комнат и общей площадью. Кажется, в них есть значения, которые сильно выделяются на общем фоне (слишком высокие). Не забудь проверить какое количество данных мы в итоге отбрасываем. Это количество не должно превышать 10% от изначального объёма данных. C этим может помочь следующий код\n",
    "\n",
    "\tnew_data.shape[0] / old_data.shape[0]\n",
    "</div>"
   ]
  },
  {
   "cell_type": "markdown",
   "metadata": {},
   "source": [
    "<div class=\"alert alert-info\">\n",
    "<b>Комментарий студента:</b>\n",
    "<br> Обработал аномалии в столбцах, где это было необходимо, задал наиболее наглядные диапазоны значений. Выводы исправил.\n",
    "</div>"
   ]
  },
  {
   "cell_type": "markdown",
   "metadata": {},
   "source": [
    "<div class=\"alert alert-warning\">\n",
    "<b>⚠️ Комментарий ревьюера v2:</b> \n",
    "<br>В данном задании важно не просто определить границы для аномалий, а ещё удалить их в том датасете, с которым ты работаешь дальше. Не нужно делать отдельные переменные для каждого среза, все изменения нужно сохранять в одном датасете, с которым ты будешь работать дальше"
   ]
  },
  {
   "cell_type": "markdown",
   "metadata": {},
   "source": [
    "**Изученте темпа продажи квартир.(days_exposition)**"
   ]
  },
  {
   "cell_type": "code",
   "execution_count": 43,
   "metadata": {},
   "outputs": [
    {
     "data": {
      "text/plain": [
       "count    20518.000000\n",
       "mean       180.888634\n",
       "std        219.727988\n",
       "min          1.000000\n",
       "25%         45.000000\n",
       "50%         95.000000\n",
       "75%        232.000000\n",
       "max       1580.000000\n",
       "Name: days_exposition, dtype: float64"
      ]
     },
     "execution_count": 43,
     "metadata": {},
     "output_type": "execute_result"
    }
   ],
   "source": [
    "data.days_exposition.sort_values()\n",
    "data['days_exposition'].sort_values(ascending=False).head(50)\n",
    "data.days_exposition.describe()"
   ]
  },
  {
   "cell_type": "markdown",
   "metadata": {},
   "source": [
    "Построим гистограмму темпа продажи квартир в рамках одного года."
   ]
  },
  {
   "cell_type": "code",
   "execution_count": 44,
   "metadata": {},
   "outputs": [
    {
     "data": {
      "image/png": "[encoded data removed]",
      "text/plain": [
       "<Figure size 576x360 with 1 Axes>"
      ]
     },
     "metadata": {
      "needs_background": "light"
     },
     "output_type": "display_data"
    }
   ],
   "source": [
    "data.days_exposition.hist(bins = 70, range = (1, 365), figsize = (8, 5))\n",
    "plt.xlabel('Сколько дней было размещено каждое объявление')\n",
    "plt.ylabel('Количество квартир')\n",
    "plt.title('Темп продажи квартир')\n",
    "plt.show()"
   ]
  },
  {
   "cell_type": "markdown",
   "metadata": {},
   "source": [
    "На основании построенной гистограммы и описании данных можем сделать выбор о том, что темп продажи большинства квартир находится примерно в диапазоне от 2.5 до 3 месяцев (45-60 дней). Среднее значение темпа продажи квартиры составляет 180 дней, медиана составляет 95 дней, что подтверждает сделанные выводы. На мой взгляд, быстрыми продажами можно считать те, что уложились в первые 45 дней продаж (Q1), за норму будем считать время от 95-230 (Q2-Q3), медленным же будем считать те, что вышли за рамки 230 дней продаж (Q3). "
   ]
  },
  {
   "cell_type": "markdown",
   "metadata": {},
   "source": [
    "<div class=\"alert alert-success\">\n",
    "<b>✔️ Комментарий ревьюера v1:</b> \n",
    "<br>А как бы ты объяснил эти пики в районе 45 и 60 дней?\n",
    "</div>"
   ]
  },
  {
   "cell_type": "markdown",
   "metadata": {},
   "source": [
    "<div class=\"alert alert-info\">\n",
    "<b>Комментарий студента:</b>\n",
    "<br>На мой взгляд, это может быть связано с тем, что через 45 - 60 дней безуспешных продаж собственник, как правило, снижает цену и с большей вероятностью находит клиента в коротчайшие сроки.\n",
    "</div>"
   ]
  },
  {
   "cell_type": "markdown",
   "metadata": {},
   "source": [
    "<div class=\"alert alert-success\">\n",
    "<b>✔️ Комментарий ревьюера v2:</b> \n",
    "<br>Это особенность функционирования системы размещения объявлений) Убедиться в этом можно по ссылке ниже\n",
    "\n",
    "\thttps://yandex.ru/support/realty/owner/home/add-ads-housing.html\n",
    "</div>"
   ]
  },
  {
   "cell_type": "markdown",
   "metadata": {},
   "source": [
    "**Определим факторы, которые больше всего влияют на общую стоимость объекта.**"
   ]
  },
  {
   "cell_type": "markdown",
   "metadata": {},
   "source": [
    "Рассмотрим следующие факторы и определим зависимость межу общей площадью и полной стоимостью квартир в основном диапазоне значений. Определим коэффициент корреляции и построим график зависимости для данных величин."
   ]
  },
  {
   "cell_type": "code",
   "execution_count": 45,
   "metadata": {},
   "outputs": [
    {
     "data": {
      "image/png": "[encoded data removed]",
      "text/plain": [
       "<Figure size 576x360 with 1 Axes>"
      ]
     },
     "metadata": {
      "needs_background": "light"
     },
     "output_type": "display_data"
    },
    {
     "name": "stdout",
     "output_type": "stream",
     "text": [
      "Коэффициент корреляции данных величин равен: 0.65\n"
     ]
    }
   ],
   "source": [
    "data.pivot_table(index='total_area', values='last_price').plot(style='-', grid=True, figsize = (8, 5))\n",
    "plt.xlim(20, 210)\n",
    "plt.xlabel('Общая площадь')\n",
    "plt.ylabel('Цена квартир')\n",
    "plt.title('Распределение цены в зависимости от общей площади')\n",
    "plt.show()\n",
    "print('Коэффициент корреляции данных величин равен:', data['total_area'].corr(data['last_price']).round(2))"
   ]
  },
  {
   "cell_type": "markdown",
   "metadata": {},
   "source": [
    "На основании построенного графика можем сделать выбор о том, существует зависимость между общей площадью и полной стоимостью квартир. Коэффициент корреляции = 0.65 подтверждает наличие зависимости. Увеличение разброса цен наблюдается постепенно. Сначала у квартир с общей площадью свыше 120 кв.м, затем у квартир с общей площадью свыше 180 кв.м."
   ]
  },
  {
   "cell_type": "markdown",
   "metadata": {},
   "source": [
    "Рассмотрим следующие факторы и определим зависимость межу жилой площадью и полной стоимостью квартир в основном диапазоне значений. Определим коэффициент корреляции и построим график зависимости для данных величин."
   ]
  },
  {
   "cell_type": "code",
   "execution_count": 46,
   "metadata": {},
   "outputs": [
    {
     "data": {
      "image/png": "[encoded data removed]",
      "text/plain": [
       "<Figure size 576x360 with 1 Axes>"
      ]
     },
     "metadata": {
      "needs_background": "light"
     },
     "output_type": "display_data"
    },
    {
     "name": "stdout",
     "output_type": "stream",
     "text": [
      "Коэффициент корреляции данных величин равен: 0.57\n"
     ]
    }
   ],
   "source": [
    "data.pivot_table(index='living_area', values='last_price').plot(style='-', grid=True, figsize = (8, 5))\n",
    "plt.xlim(10, 180)\n",
    "plt.xlabel('Жилая площадь')\n",
    "plt.ylabel('Цена квартир')\n",
    "plt.title('Распределение цены в зависимости от жилой площади')\n",
    "plt.show()\n",
    "print('Коэффициент корреляции данных величин равен:', data['living_area'].corr(data['last_price']).round(2))"
   ]
  },
  {
   "cell_type": "markdown",
   "metadata": {},
   "source": [
    "На основании построенного графика можем сделать выбор о том, существует умеренная зависимость между жилой площадью и полной стоимостью квартир. Коэффициент корреляции = 0.57 подтверждает это. Увеличение разброса цен наблюдается у квартир с общей площадью свыше 120 кв.м. Значения могут увеличиваться, но не обязательно в точной пропорции."
   ]
  },
  {
   "cell_type": "markdown",
   "metadata": {},
   "source": [
    "Рассмотрим следующие факторы и определим зависимость межу площадью кухни и полной стоимостью квартир в основном диапазоне значений. Определим коэффициент корреляции и построим график зависимости для данных величин."
   ]
  },
  {
   "cell_type": "code",
   "execution_count": 47,
   "metadata": {},
   "outputs": [
    {
     "data": {
      "image/png": "[encoded data removed]",
      "text/plain": [
       "<Figure size 576x360 with 1 Axes>"
      ]
     },
     "metadata": {
      "needs_background": "light"
     },
     "output_type": "display_data"
    },
    {
     "name": "stdout",
     "output_type": "stream",
     "text": [
      "Коэффициент корреляции данных величин равен: 0.52\n"
     ]
    }
   ],
   "source": [
    "data.pivot_table(index='kitchen_area', values='last_price').plot(style='-', grid=True, figsize = (8, 5))\n",
    "plt.xlim(5, 50)\n",
    "plt.xlabel('Площадь кухни')\n",
    "plt.ylabel('Цена квартир')\n",
    "plt.title('Распределение цены в зависимости от площади кухни')\n",
    "plt.show()\n",
    "print('Коэффициент корреляции данных величин равен:', data['kitchen_area'].corr(data['last_price']).round(2))"
   ]
  },
  {
   "cell_type": "markdown",
   "metadata": {},
   "source": [
    "На основании построенного графика можем сделать выбор о том, существует умеренная зависимость между площадью кухни и полной стоимостью квартир. Коэффициент корреляции = 0.52 подтверждает это. Значения могут увеличиваться, но не обязательно в точной пропорции."
   ]
  },
  {
   "cell_type": "markdown",
   "metadata": {},
   "source": [
    "Рассмотрим следующие факторы и определим зависимость межу количеством комнат и полной стоимостью квартир в основном диапазоне значений. Определим коэффициент корреляции и построим график зависимости для данных величин."
   ]
  },
  {
   "cell_type": "code",
   "execution_count": 48,
   "metadata": {},
   "outputs": [
    {
     "data": {
      "image/png": "[encoded data removed]",
      "text/plain": [
       "<Figure size 576x360 with 1 Axes>"
      ]
     },
     "metadata": {
      "needs_background": "light"
     },
     "output_type": "display_data"
    },
    {
     "name": "stdout",
     "output_type": "stream",
     "text": [
      "Коэффициент корреляции данных величин равен: 0.36\n"
     ]
    }
   ],
   "source": [
    "data.pivot_table(index='rooms', values='last_price').plot(style='o-', grid=True, figsize = (8, 5))\n",
    "plt.xlim(1, 10)\n",
    "plt.xlabel('Количество комнат')\n",
    "plt.ylabel('Цена квартир')\n",
    "plt.title('Распределение цены в зависимости от количества комнат')\n",
    "plt.show()\n",
    "print('Коэффициент корреляции данных величин равен:', data['rooms'].corr(data['last_price']).round(2))"
   ]
  },
  {
   "cell_type": "markdown",
   "metadata": {},
   "source": [
    "На основании построенного графика можем сделать выбор о том, существует зависимость между количествов комнат и полной стоимостью квартир. Коэффициент корреляции = 0.36 подтверждает это. Значения могут увеличиваться, но не обязательно в точной пропорции."
   ]
  },
  {
   "cell_type": "markdown",
   "metadata": {},
   "source": [
    "Рассмотрим следующие факторы и определим зависимость межу этажем и полной стоимостью квартир.Определим коэффициент корреляции и построим график зависимости для данных величин."
   ]
  },
  {
   "cell_type": "code",
   "execution_count": 49,
   "metadata": {},
   "outputs": [
    {
     "data": {
      "image/png": "[encoded data removed]",
      "text/plain": [
       "<Figure size 576x360 with 1 Axes>"
      ]
     },
     "metadata": {
      "needs_background": "light"
     },
     "output_type": "display_data"
    },
    {
     "name": "stdout",
     "output_type": "stream",
     "text": [
      "Коэффициент корреляции данных величин равен: 0.03\n"
     ]
    }
   ],
   "source": [
    "data.pivot_table(index='floor', values='last_price').plot(style='o-', grid=True, figsize = (8, 5))\n",
    "#plt.xlim(1, 32)\n",
    "plt.xlabel('Этаж')\n",
    "plt.ylabel('Цена квартир')\n",
    "plt.title('Распределение цены в зависимости от этажа')\n",
    "plt.show()\n",
    "print('Коэффициент корреляции данных величин равен:', data['floor'].corr(data['last_price']).round(2))"
   ]
  },
  {
   "cell_type": "markdown",
   "metadata": {},
   "source": [
    "На основании построенного графика можем сделать выбор о том, зависимость между жилой площадью и полной стоимостью квартир практически отсутствует (крайне слабо выражена). Коэффициент корреляции = 0.03 подтверждает это. Значения могут увеличиваться, но не обязательно в точной пропорции."
   ]
  },
  {
   "cell_type": "markdown",
   "metadata": {},
   "source": [
    "Рассмотрим следующие факторы и определим зависимость межу типом этажем и полной стоимостью квартир. Построим гистограмму для данных величин."
   ]
  },
  {
   "cell_type": "code",
   "execution_count": 50,
   "metadata": {},
   "outputs": [
    {
     "data": {
      "image/png": "[encoded data removed]",
      "text/plain": [
       "<Figure size 576x360 with 1 Axes>"
      ]
     },
     "metadata": {
      "needs_background": "light"
     },
     "output_type": "display_data"
    }
   ],
   "source": [
    "# Строим гистограмму, так как она, в данном случае, нагляднее.\n",
    "data['type_of_floor'].value_counts().plot(kind='bar', grid=True, figsize = (8, 5))\n",
    "plt.xlabel('Тип этажа')\n",
    "plt.ylabel('Количество')\n",
    "plt.title('Распределение цены в зависимости типа этажа')\n",
    "plt.show()"
   ]
  },
  {
   "cell_type": "markdown",
   "metadata": {},
   "source": [
    "На основании построенной диаграммы можем сделать выбор о том, что квартиры на первом и последнем этажах значительно дешевле. Наименьшую цену имеют квартиры на первом этаже, с необольшой разницей в цене продаются квартиры на последнем этаже. Линейной зависимости не наблюдается."
   ]
  },
  {
   "cell_type": "markdown",
   "metadata": {},
   "source": [
    "Рассмотрим следующие факторы и определим зависимость межу днем недели размещения и полной стоимостью квартир. Определим коэффициент корреляции и построим график зависимости для данных величин."
   ]
  },
  {
   "cell_type": "code",
   "execution_count": 51,
   "metadata": {},
   "outputs": [
    {
     "data": {
      "image/png": "[encoded data removed]",
      "text/plain": [
       "<Figure size 576x360 with 1 Axes>"
      ]
     },
     "metadata": {
      "needs_background": "light"
     },
     "output_type": "display_data"
    }
   ],
   "source": [
    "data.pivot_table(index='publication_weekday', values='last_price').plot(style='o-', grid=True, figsize = (8, 5))\n",
    "plt.xlabel('День недели')\n",
    "plt.ylabel('Цена квартир')\n",
    "plt.title('Распределение цены в зависимости от дня недели размещения')\n",
    "plt.show()"
   ]
  },
  {
   "cell_type": "markdown",
   "metadata": {},
   "source": [
    "На основании построенного графика можем сделать выбор о том, что зависимость межу днем недели размещения и полной стоимостью квартиры отсутствует."
   ]
  },
  {
   "cell_type": "markdown",
   "metadata": {},
   "source": [
    "Рассмотрим следующие факторы и определим зависимость межу месяцем размещения и полной стоимостью квартир. Определим коэффициент корреляции и построим график зависимости для данных величин."
   ]
  },
  {
   "cell_type": "code",
   "execution_count": 52,
   "metadata": {},
   "outputs": [
    {
     "data": {
      "image/png": "[encoded data removed]",
      "text/plain": [
       "<Figure size 576x360 with 1 Axes>"
      ]
     },
     "metadata": {
      "needs_background": "light"
     },
     "output_type": "display_data"
    }
   ],
   "source": [
    "data.pivot_table(index='publication_month', values='last_price').plot(style='o-', grid=True, figsize = (8, 5))\n",
    "plt.xlabel('Месяц')\n",
    "plt.ylabel('Цена квартир')\n",
    "plt.title('Распределение цены в зависимости от месяца размещения')\n",
    "plt.show()"
   ]
  },
  {
   "cell_type": "markdown",
   "metadata": {},
   "source": [
    "На основании построенного графика можем сделать выбор о том, что зависимость межу месяцем размещения и полной стоимостью квартиры отсутствует. Можно сказать лишь о том, что повышение цен наблюдается в апреле, сентябре и ноябре. "
   ]
  },
  {
   "cell_type": "markdown",
   "metadata": {},
   "source": [
    "Рассмотрим следующие факторы и определим зависимость межу годом размещения и полной стоимостью квартир. Определим коэффициент корреляции и построим график зависимости для данных величин."
   ]
  },
  {
   "cell_type": "code",
   "execution_count": 53,
   "metadata": {},
   "outputs": [
    {
     "data": {
      "image/png": "[encoded data removed]",
      "text/plain": [
       "<Figure size 576x360 with 1 Axes>"
      ]
     },
     "metadata": {
      "needs_background": "light"
     },
     "output_type": "display_data"
    }
   ],
   "source": [
    "data.pivot_table(index='publication_year', values='last_price').plot(style='o-', grid=True, figsize = (8, 5))\n",
    "plt.xlabel('Год')\n",
    "plt.ylabel('Цена квартир')\n",
    "plt.title('Распределение цены в зависимости от года размещения')\n",
    "plt.show()"
   ]
  },
  {
   "cell_type": "markdown",
   "metadata": {},
   "source": [
    "На основании построенного графика можем сделать выбор о том, что зависимость межу годом размещения и полной стоимостью практически отсутствует. Можно сказать лишь о том, что с 2018 года наблюдается постепенный рост цен."
   ]
  },
  {
   "cell_type": "markdown",
   "metadata": {},
   "source": [
    "<div class=\"alert alert-danger\">\n",
    "<b>❌ Комментарий ревьюера v1:</b> \n",
    "<br>Рассчитывать корреляцию Пирсона для дня недели, месяца и года продажи не эффективно, так как цена в данном случае зависит от них не линейно, ведь это категориальные переменные. Чтобы изучить зависимость для этих параметров лучше построить bar plot или гистограмму рассчитав среднее значение или медиану. Графики у тебя уже есть, поэтому остаётся только удалить расчет корреляции)\n",
    "</div>"
   ]
  },
  {
   "cell_type": "markdown",
   "metadata": {},
   "source": [
    "<div class=\"alert alert-info\">\n",
    "<b>Комментарий студента:</b>\n",
    "<br> Удалил расчет корреляции для дня недели, месяца и года. Выводы исправил.\n",
    "</div>"
   ]
  },
  {
   "cell_type": "markdown",
   "metadata": {},
   "source": [
    "<div class=\"alert alert-success\">\n",
    "<b>✔️ Комментарий ревьюера v2:</b>\n",
    "<br>Правка выполнена 👍\n",
    "</div>"
   ]
  },
  {
   "cell_type": "markdown",
   "metadata": {},
   "source": [
    "**Определим среднюю цену одного квадратного метра в десяти населенных пунктах с наибольшим числом объявлений.**"
   ]
  },
  {
   "cell_type": "markdown",
   "metadata": {},
   "source": [
    "Построим сводные таблицы с количеством объявлений и средней ценой квадратного метра для этих населенных пунктов, отсортируем по убыванию. Затем, объеденим полученные таблицы в одну методом merge() и выведем 10 наиболее популярных пунктов."
   ]
  },
  {
   "cell_type": "code",
   "execution_count": 54,
   "metadata": {},
   "outputs": [
    {
     "data": {
      "text/html": [
       "<div>\n",
       "<style scoped>\n",
       "    .dataframe tbody tr th:only-of-type {\n",
       "        vertical-align: middle;\n",
       "    }\n",
       "\n",
       "    .dataframe tbody tr th {\n",
       "        vertical-align: top;\n",
       "    }\n",
       "\n",
       "    .dataframe thead th {\n",
       "        text-align: right;\n",
       "    }\n",
       "</style>\n",
       "<table border=\"1\" class=\"dataframe\">\n",
       "  <thead>\n",
       "    <tr style=\"text-align: right;\">\n",
       "      <th></th>\n",
       "      <th>Количество квартир</th>\n",
       "      <th>Цена за кв. метр</th>\n",
       "    </tr>\n",
       "    <tr>\n",
       "      <th>locality_name</th>\n",
       "      <th></th>\n",
       "      <th></th>\n",
       "    </tr>\n",
       "  </thead>\n",
       "  <tbody>\n",
       "    <tr>\n",
       "      <th>Санкт-Петербург</th>\n",
       "      <td>15721</td>\n",
       "      <td>114849.01</td>\n",
       "    </tr>\n",
       "    <tr>\n",
       "      <th>Мурино</th>\n",
       "      <td>590</td>\n",
       "      <td>86087.51</td>\n",
       "    </tr>\n",
       "    <tr>\n",
       "      <th>Кудрово</th>\n",
       "      <td>472</td>\n",
       "      <td>95324.93</td>\n",
       "    </tr>\n",
       "    <tr>\n",
       "      <th>Шушары</th>\n",
       "      <td>440</td>\n",
       "      <td>78677.36</td>\n",
       "    </tr>\n",
       "    <tr>\n",
       "      <th>Всеволожск</th>\n",
       "      <td>398</td>\n",
       "      <td>68654.47</td>\n",
       "    </tr>\n",
       "    <tr>\n",
       "      <th>Пушкин</th>\n",
       "      <td>369</td>\n",
       "      <td>103125.82</td>\n",
       "    </tr>\n",
       "    <tr>\n",
       "      <th>Колпино</th>\n",
       "      <td>338</td>\n",
       "      <td>75424.58</td>\n",
       "    </tr>\n",
       "    <tr>\n",
       "      <th>Парголово</th>\n",
       "      <td>327</td>\n",
       "      <td>90175.91</td>\n",
       "    </tr>\n",
       "    <tr>\n",
       "      <th>Гатчина</th>\n",
       "      <td>307</td>\n",
       "      <td>68746.15</td>\n",
       "    </tr>\n",
       "    <tr>\n",
       "      <th>Выборг</th>\n",
       "      <td>237</td>\n",
       "      <td>58141.91</td>\n",
       "    </tr>\n",
       "  </tbody>\n",
       "</table>\n",
       "</div>"
      ],
      "text/plain": [
       "                 Количество квартир  Цена за кв. метр\n",
       "locality_name                                        \n",
       "Санкт-Петербург               15721         114849.01\n",
       "Мурино                          590          86087.51\n",
       "Кудрово                         472          95324.93\n",
       "Шушары                          440          78677.36\n",
       "Всеволожск                      398          68654.47\n",
       "Пушкин                          369         103125.82\n",
       "Колпино                         338          75424.58\n",
       "Парголово                       327          90175.91\n",
       "Гатчина                         307          68746.15\n",
       "Выборг                          237          58141.91"
      ]
     },
     "execution_count": 54,
     "metadata": {},
     "output_type": "execute_result"
    }
   ],
   "source": [
    "count_price = data.pivot_table(index='locality_name', values='last_price', aggfunc='count').sort_values(by='last_price', ascending=False)\n",
    "square_price = data.pivot_table(index='locality_name', values='square_meter_price', aggfunc='mean').sort_values(by='square_meter_price', ascending=False) \n",
    "result_table = count_price.merge(square_price, on='locality_name', how='inner').round(2).head(10) \n",
    "result_table.columns = ['Количество квартир','Цена за кв. метр']\n",
    "result_table.head(10)"
   ]
  },
  {
   "cell_type": "code",
   "execution_count": 55,
   "metadata": {},
   "outputs": [
    {
     "data": {
      "image/png": "[encoded data removed]",
      "text/plain": [
       "<Figure size 864x432 with 1 Axes>"
      ]
     },
     "metadata": {
      "needs_background": "light"
     },
     "output_type": "display_data"
    }
   ],
   "source": [
    "plt.figure (figsize = (12, 6))\n",
    "sns.barplot(x='Цена за кв. метр', y=result_table.index, data=result_table, palette='viridis')\n",
    "plt.title('Топ-10 населенных пунктов по средней цене')\n",
    "plt.xlabel('Средняя цена за квадратный метр')\n",
    "plt.ylabel('Название населенного пункта')\n",
    "plt.show()"
   ]
  },
  {
   "cell_type": "markdown",
   "metadata": {},
   "source": [
    "На основании построенной таблицы можем сделать выбор о том, что среди представленных населенных пунктах наибольшая средняя стоимость за квадратный метр наблюдается в Санкт-Петербурге (114849), минимальная стоимость за квадратный метр наблюдается в Выборге(58141). "
   ]
  },
  {
   "cell_type": "markdown",
   "metadata": {},
   "source": [
    "<div class=\"alert alert-success\">\n",
    "<b>✔️ Комментарий ревьюера v1:</b> \n",
    "<br>Всё верно! Как вариант, тут можно построить барплот для топ10 по средней цене, так будет более наглядно)\n",
    "</div>"
   ]
  },
  {
   "cell_type": "markdown",
   "metadata": {},
   "source": [
    "<div class=\"alert alert-info\">\n",
    "<b>Комментарий студента:</b>\n",
    "<br> Добавил barplot для топ10 по средней цене, как ты советовал.\n",
    "</div>"
   ]
  },
  {
   "cell_type": "markdown",
   "metadata": {},
   "source": [
    "<div class=\"alert alert-success\">\n",
    "<b>✔️ Комментарий ревьюера v2:</b>\n",
    "<br>Отлично! Не забывай про сортировку)\n",
    "</div>"
   ]
  },
  {
   "cell_type": "markdown",
   "metadata": {},
   "source": [
    "**Определим зависимость средней стоимости квадратного метра от удаленности квартиры от центра Санкт-Петербурга.**"
   ]
  },
  {
   "cell_type": "markdown",
   "metadata": {},
   "source": [
    "Сделаем срез по Санкт-Петербургу, и построим график зависимости средней цены для каждого километра от центра Петербурга."
   ]
  },
  {
   "cell_type": "code",
   "execution_count": 56,
   "metadata": {},
   "outputs": [
    {
     "data": {
      "image/png": "[encoded data removed]",
      "text/plain": [
       "<Figure size 576x360 with 1 Axes>"
      ]
     },
     "metadata": {
      "needs_background": "light"
     },
     "output_type": "display_data"
    },
    {
     "name": "stdout",
     "output_type": "stream",
     "text": [
      "Коэффициент корреляции данных величин равен: -0.32\n"
     ]
    }
   ],
   "source": [
    "data.query('locality_name == \"Санкт-Петербург\"').pivot_table(index='center_distance', values=['square_meter_price'], aggfunc=['mean']).plot(style='o-', grid=True, figsize = (8, 5))\n",
    "#plt.xlim(0, 15)\n",
    "plt.xlabel('Расстояние до центра грода')\n",
    "plt.ylabel('Цена квартир')\n",
    "plt.title('Зависимость ср. стоимости квадратного метра от удаленности от цента Санкт-Петербурга.')\n",
    "#Уменьшаем размер, чтобы видеть каждый км.\n",
    "plt.xticks(np.arange(0, 31, 1), fontsize=7)\n",
    "plt.show()\n",
    "print('Коэффициент корреляции данных величин равен:', data['center_distance'].corr(data['square_meter_price']).round(2))"
   ]
  },
  {
   "cell_type": "markdown",
   "metadata": {},
   "source": [
    "Также, для наглядности выведем таблицу с ценой на каждый километр."
   ]
  },
  {
   "cell_type": "code",
   "execution_count": 57,
   "metadata": {},
   "outputs": [
    {
     "data": {
      "text/html": [
       "<div>\n",
       "<style scoped>\n",
       "    .dataframe tbody tr th:only-of-type {\n",
       "        vertical-align: middle;\n",
       "    }\n",
       "\n",
       "    .dataframe tbody tr th {\n",
       "        vertical-align: top;\n",
       "    }\n",
       "\n",
       "    .dataframe thead th {\n",
       "        text-align: right;\n",
       "    }\n",
       "</style>\n",
       "<table border=\"1\" class=\"dataframe\">\n",
       "  <thead>\n",
       "    <tr style=\"text-align: right;\">\n",
       "      <th></th>\n",
       "      <th>last_price</th>\n",
       "    </tr>\n",
       "    <tr>\n",
       "      <th>center_distance</th>\n",
       "      <th></th>\n",
       "    </tr>\n",
       "  </thead>\n",
       "  <tbody>\n",
       "    <tr>\n",
       "      <th>0.0</th>\n",
       "      <td>3.144912e+07</td>\n",
       "    </tr>\n",
       "    <tr>\n",
       "      <th>1.0</th>\n",
       "      <td>2.120672e+07</td>\n",
       "    </tr>\n",
       "    <tr>\n",
       "      <th>2.0</th>\n",
       "      <td>1.778832e+07</td>\n",
       "    </tr>\n",
       "    <tr>\n",
       "      <th>3.0</th>\n",
       "      <td>1.112658e+07</td>\n",
       "    </tr>\n",
       "    <tr>\n",
       "      <th>4.0</th>\n",
       "      <td>1.330428e+07</td>\n",
       "    </tr>\n",
       "    <tr>\n",
       "      <th>5.0</th>\n",
       "      <td>1.449912e+07</td>\n",
       "    </tr>\n",
       "    <tr>\n",
       "      <th>6.0</th>\n",
       "      <td>1.533842e+07</td>\n",
       "    </tr>\n",
       "    <tr>\n",
       "      <th>7.0</th>\n",
       "      <td>1.477515e+07</td>\n",
       "    </tr>\n",
       "    <tr>\n",
       "      <th>8.0</th>\n",
       "      <td>9.957717e+06</td>\n",
       "    </tr>\n",
       "    <tr>\n",
       "      <th>9.0</th>\n",
       "      <td>6.950659e+06</td>\n",
       "    </tr>\n",
       "    <tr>\n",
       "      <th>10.0</th>\n",
       "      <td>6.504119e+06</td>\n",
       "    </tr>\n",
       "    <tr>\n",
       "      <th>11.0</th>\n",
       "      <td>6.250815e+06</td>\n",
       "    </tr>\n",
       "    <tr>\n",
       "      <th>12.0</th>\n",
       "      <td>5.828545e+06</td>\n",
       "    </tr>\n",
       "    <tr>\n",
       "      <th>13.0</th>\n",
       "      <td>6.083141e+06</td>\n",
       "    </tr>\n",
       "    <tr>\n",
       "      <th>14.0</th>\n",
       "      <td>5.629101e+06</td>\n",
       "    </tr>\n",
       "    <tr>\n",
       "      <th>15.0</th>\n",
       "      <td>5.884751e+06</td>\n",
       "    </tr>\n",
       "    <tr>\n",
       "      <th>16.0</th>\n",
       "      <td>5.373131e+06</td>\n",
       "    </tr>\n",
       "    <tr>\n",
       "      <th>17.0</th>\n",
       "      <td>5.292395e+06</td>\n",
       "    </tr>\n",
       "    <tr>\n",
       "      <th>18.0</th>\n",
       "      <td>5.091331e+06</td>\n",
       "    </tr>\n",
       "    <tr>\n",
       "      <th>19.0</th>\n",
       "      <td>5.037675e+06</td>\n",
       "    </tr>\n",
       "    <tr>\n",
       "      <th>20.0</th>\n",
       "      <td>5.951465e+06</td>\n",
       "    </tr>\n",
       "    <tr>\n",
       "      <th>21.0</th>\n",
       "      <td>5.493469e+06</td>\n",
       "    </tr>\n",
       "    <tr>\n",
       "      <th>22.0</th>\n",
       "      <td>5.415524e+06</td>\n",
       "    </tr>\n",
       "    <tr>\n",
       "      <th>23.0</th>\n",
       "      <td>4.985376e+06</td>\n",
       "    </tr>\n",
       "    <tr>\n",
       "      <th>24.0</th>\n",
       "      <td>3.854430e+06</td>\n",
       "    </tr>\n",
       "    <tr>\n",
       "      <th>25.0</th>\n",
       "      <td>4.052840e+06</td>\n",
       "    </tr>\n",
       "    <tr>\n",
       "      <th>26.0</th>\n",
       "      <td>3.973013e+06</td>\n",
       "    </tr>\n",
       "    <tr>\n",
       "      <th>27.0</th>\n",
       "      <td>8.300000e+06</td>\n",
       "    </tr>\n",
       "    <tr>\n",
       "      <th>28.0</th>\n",
       "      <td>5.026429e+06</td>\n",
       "    </tr>\n",
       "    <tr>\n",
       "      <th>29.0</th>\n",
       "      <td>4.236667e+06</td>\n",
       "    </tr>\n",
       "  </tbody>\n",
       "</table>\n",
       "</div>"
      ],
      "text/plain": [
       "                   last_price\n",
       "center_distance              \n",
       "0.0              3.144912e+07\n",
       "1.0              2.120672e+07\n",
       "2.0              1.778832e+07\n",
       "3.0              1.112658e+07\n",
       "4.0              1.330428e+07\n",
       "5.0              1.449912e+07\n",
       "6.0              1.533842e+07\n",
       "7.0              1.477515e+07\n",
       "8.0              9.957717e+06\n",
       "9.0              6.950659e+06\n",
       "10.0             6.504119e+06\n",
       "11.0             6.250815e+06\n",
       "12.0             5.828545e+06\n",
       "13.0             6.083141e+06\n",
       "14.0             5.629101e+06\n",
       "15.0             5.884751e+06\n",
       "16.0             5.373131e+06\n",
       "17.0             5.292395e+06\n",
       "18.0             5.091331e+06\n",
       "19.0             5.037675e+06\n",
       "20.0             5.951465e+06\n",
       "21.0             5.493469e+06\n",
       "22.0             5.415524e+06\n",
       "23.0             4.985376e+06\n",
       "24.0             3.854430e+06\n",
       "25.0             4.052840e+06\n",
       "26.0             3.973013e+06\n",
       "27.0             8.300000e+06\n",
       "28.0             5.026429e+06\n",
       "29.0             4.236667e+06"
      ]
     },
     "execution_count": 57,
     "metadata": {},
     "output_type": "execute_result"
    }
   ],
   "source": [
    "data.query('locality_name == \"Санкт-Петербург\"').pivot_table(values='last_price', index='center_distance')"
   ]
  },
  {
   "cell_type": "markdown",
   "metadata": {},
   "source": [
    "На основании построенного графика и наличия отрицательной корреляции (std=-0.32) между рассматриваемыми величинами, можем сделать выбор о том, существует зависимость между ср. стоимостью квадратного метра и расстоянием до цента Санкт-Петербурга. Так, при увеличении значений одной величины, значения другой переменной склонны уменьшаться, и наоборот. Можно отметить общую тенденцию на снижение стоимости недвижимости при удалении от центра города. В самом центре (примерно 0-3 км) располагается самая дорогая недвижимость. При этом, вне условного центра города существуют пики стоимости при расстоянии  примерно 6 и 27 км. "
   ]
  },
  {
   "cell_type": "markdown",
   "metadata": {},
   "source": [
    "<div class=\"alert alert-success\">\n",
    "<b>✔️ Комментарий ревьюера v1:</b>\n",
    "<br>Отличный анализ 👍\n",
    "</div>"
   ]
  },
  {
   "cell_type": "markdown",
   "metadata": {
    "id": "h7VpzkIDAwb-"
   },
   "source": [
    "**В рамках проведения предобработки данных о надёжности заемщиков, полученные данные прошли следующие этапы:**\n",
    "\n",
    "- Удалены пропуски (замена медианными значениями),\n",
    "- Обработаны аномальные значения,\n",
    "- Исправлены типы данных,\n",
    "- Обработаны неявные дубликаты,\n",
    "- Добавлены новые столбцы\n",
    "- Проведена категоризация данных по различным параметрам,\n",
    "- Исследовательский анализ данных, определение зависимостей в данных.\n",
    "\n",
    "В рамках проведенного исследования найдены определенные особенности и зависимости, существующие на рынке недвижимости.\n",
    "Был проанализирован широкий список параметров, описанных в общей части работы. Столбцы, в которых это было необходимо были очищенны от аномалий. По каждому из них был сформирован промежуточный вывод относительно влияния на продажи квартир.\n",
    "\n",
    "Также, в рамках проведения более подробного анализа показателей были выполнены следующие этапы:\n",
    "\n",
    "**Изучены темпы продажи квартиры:**\n",
    "Темп продажи большинства квартир находится примерно в диапазоне от 2.5 до 3 месяцев (45-60 дней). Среднее значение темпа продажи квартиры составляет 180 дней, медиана составляет 95 дней, что подтверждает сделанные выводы. На мой взгляд, быстрыми продажами можно считать те, что уложились в первые 45 дней продаж (Q1), за норму будем считать время от 95-230 (Q2-Q3), медленным же будем считать те, что вышли за рамки 230 дней продаж (Q3).\n",
    "\n",
    "**Определены факторы, оказывающие наибольшее влияние на общую (полную) стоимость объекта:**\n",
    "На стоимость больше влияет площадь квартиры, как общая (коэффициент корреляции = 0.65), так и жилая (коэффициент корреляции = 0.57), нежели число комнат (коэффициент корреляции = 0.36). Также, можно сделать вывод о том, что квартиры на первом и последнем этажах значительно дешевле. Наименьшую цену имеют квартиры на первом этаже, с небольшой разницей в цене продаются квартиры на последнем этаже.\n",
    "\n",
    "**Определены населённые пункты с самой высокой и низкой стоимостью квадратного метра:**\n",
    "Среди представленных населенных пунктах наибольшая средняя стоимость за квадратный метр наблюдается в Санкт-Петербурге (114849), минимальная стоимость за квадратный метр наблюдается в Выборге (58141).\n",
    "\n",
    "**Определена зависимость средней стоимости квадратного метра от удаленности квартиры от центра Санкт-Петербурга:**\n",
    "На основании проведенного анализа была выявлена отрицательная корреляции (std=-0.32) между рассматриваемыми величинами, следовательно, можно отметить общую тенденцию на снижение стоимости недвижимости при удалении от центра города. В самом центре (примерно 0-3 км) располагается самая дорогая недвижимость. При этом, вне условного центра города существуют пики стоимости при расстоянии примерно 6 и 27 км."
   ]
  },
  {
   "cell_type": "markdown",
   "metadata": {
    "id": "3H4lnp_KAwb-"
   },
   "source": [
    "<div class=\"alert alert-danger\">\n",
    "<b>❌ Итоговый комментарий ревьюера v1:</b> \n",
    "<br>Необходимо поправить:\n",
    "<br>- написать короткий вывод после первичного просмотра данных\n",
    "<br>- отбросить аномальные значения \n",
    "<br>- удалить расчет корреляции для времени продажи\n",
    "\n",
    "<br>После всех внесённых правок не забудь поправить выводы там, где это необходимо\n",
    "</div>"
   ]
  },
  {
   "cell_type": "markdown",
   "metadata": {},
   "source": [
    "<div class=\"alert alert-info\">\n",
    "<b>Комментарий студента:</b>\n",
    "<br> Вроде бы все правки внес.\n",
    "</div>"
   ]
  },
  {
   "cell_type": "markdown",
   "metadata": {},
   "source": [
    "<div class=\"alert alert-success\">\n",
    "<b>✔️ Итоговый комментарий ревьюера v2:</b>\n",
    "<br>Все правки выполнены. Молодец!\n",
    "<br>Я рад был поработать над проверкой твоей работы) В качестве дополнительного материала для изучения могу порекомендовать следующий ресурс:\n",
    "\n",
    "\thttps://www.python-graph-gallery.com/\n",
    "<br>В нем содержится большая библиотека графиков с готовым кодом, который можно использовать при работе.\n",
    "<br>Поздравляю со сдачей проекта и желаю удачи в дальнейшем обучении! 😉    \n",
    "</div>"
   ]
  },
  {
   "cell_type": "markdown",
   "metadata": {
    "id": "A90mc0BgAwb-"
   },
   "source": [
    "**Чек-лист готовности проекта**\n",
    "\n",
    "Поставьте 'x' в выполненных пунктах. Далее нажмите Shift+Enter."
   ]
  },
  {
   "cell_type": "markdown",
   "metadata": {
    "id": "ME3sTWm6Awb-"
   },
   "source": [
    "- [x]  Файл с данными открыт.\n",
    "- [x]  Файл с данными изучен: выведены первые строки, использован метод `info()`, построены гистограммы.\n",
    "- [x]  Найдены пропущенные значения.\n",
    "- [x]  Пропущенные значения заполнены там, где это возможно.\n",
    "- [x]  Объяснено, какие пропущенные значения обнаружены.\n",
    "- [x]  В каждом столбце установлен корректный тип данных.\n",
    "- [x]  Объяснено, в каких столбцах изменён тип данных и почему.\n",
    "- [x]  Устранены неявные дубликаты в названиях населённых пунктов.\n",
    "- [x]  Обработаны редкие и выбивающиеся значения (аномалии).\n",
    "- [x]  В таблицу добавлены новые параметры:\n",
    "       – цена одного квадратного метра;\n",
    "       – день публикации объявления (0 - понедельник, 1 - вторник и т. д.);\n",
    "       – месяц публикации объявления;\n",
    "       – год публикации объявления;\n",
    "       – тип этажа квартиры (значения — «первый», «последний», «другой»);\n",
    "       – расстояние до центра города в километрах.\n",
    "- [x]  Изучены и описаны параметры:\n",
    "        - общая площадь;\n",
    "        - жилая площадь;\n",
    "        - площадь кухни;\n",
    "        - цена объекта;\n",
    "        - количество комнат;\n",
    "        - высота потолков;\n",
    "        - тип этажа квартиры («первый», «последний», «другой»);\n",
    "        - общее количество этажей в доме;\n",
    "        - расстояние до центра города в метрах;\n",
    "        - расстояние до ближайшего парка.\n",
    "- [x]  Выполнено задание «Изучите, как быстро продавались квартиры (столбец `days_exposition`)»:\n",
    "    - построена гистограмма;\n",
    "    - рассчитаны среднее и медиана;\n",
    "    - описано, сколько обычно занимает продажа и указано, какие продажи можно считать быстрыми, а какие — необычно долгими.\n",
    "- [x]  Выполнено задание «Определите факторы, которые больше всего влияют на общую (полную) стоимость объекта». Построены графики, которые показывают зависимость цены от параметров:\n",
    "        - общая площадь;\n",
    "        - жилая площадь;\n",
    "        - площадь кухни;\n",
    "        - количество комнат;\n",
    "        - тип этажа, на котором расположена квартира (первый, последний, другой);\n",
    "        - дата размещения (день недели, месяц, год).\n",
    "- [x]  Выполнено задание «Посчитайте среднюю цену одного квадратного метра в 10 населённых пунктах с наибольшим числом объявлений»:\n",
    "    - выделены населённые пункты с самой высокой и низкой стоимостью квадратного метра.\n",
    "- [x]  Выполнено задание «Выделите квартиры в Санкт-Петербурге с помощью столбца `locality_name` и вычислите их среднюю стоимость на разном удалении от центра»:\n",
    "    -  учтён каждый километр расстояния, известны средние цены квартир в одном километре от центра, в двух и так далее;\n",
    "    -  описано, как стоимость объекта зависит от расстояния до центра города;\n",
    "    -  построен график изменения средней цены для каждого километра от центра Петербурга.\n",
    "- [x]  На каждом этапе сделаны промежуточные выводы.\n",
    "- [x]  В конце проекта сделан общий вывод."
   ]
  }
 ],
 "metadata": {
  "ExecuteTimeLog": [
   {
    "duration": 40,
    "start_time": "2024-05-11T21:57:46.417Z"
   },
   {
    "duration": 37,
    "start_time": "2024-05-11T21:58:17.445Z"
   },
   {
    "duration": 37,
    "start_time": "2024-05-11T21:58:22.912Z"
   },
   {
    "duration": 1485,
    "start_time": "2024-05-11T21:59:18.181Z"
   },
   {
    "duration": 1160,
    "start_time": "2024-05-11T21:59:29.712Z"
   },
   {
    "duration": 12,
    "start_time": "2024-05-11T21:59:30.874Z"
   },
   {
    "duration": 1645,
    "start_time": "2024-05-11T21:59:30.887Z"
   },
   {
    "duration": 19,
    "start_time": "2024-05-11T21:59:32.534Z"
   },
   {
    "duration": 12,
    "start_time": "2024-05-11T21:59:32.555Z"
   },
   {
    "duration": 23,
    "start_time": "2024-05-11T21:59:32.568Z"
   },
   {
    "duration": 24,
    "start_time": "2024-05-11T21:59:32.592Z"
   },
   {
    "duration": 7,
    "start_time": "2024-05-11T21:59:32.618Z"
   },
   {
    "duration": 94,
    "start_time": "2024-05-11T21:59:32.626Z"
   },
   {
    "duration": 6,
    "start_time": "2024-05-11T21:59:32.722Z"
   },
   {
    "duration": 306,
    "start_time": "2024-05-11T21:59:32.729Z"
   },
   {
    "duration": 5,
    "start_time": "2024-05-11T21:59:33.036Z"
   },
   {
    "duration": 14,
    "start_time": "2024-05-11T21:59:33.042Z"
   },
   {
    "duration": 359,
    "start_time": "2024-05-11T21:59:33.057Z"
   },
   {
    "duration": 18,
    "start_time": "2024-05-11T21:59:33.418Z"
   },
   {
    "duration": 206,
    "start_time": "2024-05-11T21:59:33.438Z"
   },
   {
    "duration": 10,
    "start_time": "2024-05-11T21:59:33.645Z"
   },
   {
    "duration": 193,
    "start_time": "2024-05-11T21:59:33.656Z"
   },
   {
    "duration": 8,
    "start_time": "2024-05-11T21:59:33.850Z"
   },
   {
    "duration": 174,
    "start_time": "2024-05-11T21:59:33.859Z"
   },
   {
    "duration": 7,
    "start_time": "2024-05-11T21:59:34.034Z"
   },
   {
    "duration": 176,
    "start_time": "2024-05-11T21:59:34.042Z"
   },
   {
    "duration": 7,
    "start_time": "2024-05-11T21:59:34.219Z"
   },
   {
    "duration": 193,
    "start_time": "2024-05-11T21:59:34.228Z"
   },
   {
    "duration": 9,
    "start_time": "2024-05-11T21:59:34.423Z"
   },
   {
    "duration": 6,
    "start_time": "2024-05-11T21:59:34.433Z"
   },
   {
    "duration": 297,
    "start_time": "2024-05-11T21:59:34.440Z"
   },
   {
    "duration": 132,
    "start_time": "2024-05-11T21:59:34.744Z"
   },
   {
    "duration": 8,
    "start_time": "2024-05-11T21:59:34.877Z"
   },
   {
    "duration": 135,
    "start_time": "2024-05-11T21:59:34.886Z"
   },
   {
    "duration": 7,
    "start_time": "2024-05-11T21:59:35.022Z"
   },
   {
    "duration": 133,
    "start_time": "2024-05-11T21:59:35.030Z"
   },
   {
    "duration": 8,
    "start_time": "2024-05-11T21:59:35.164Z"
   },
   {
    "duration": 197,
    "start_time": "2024-05-11T21:59:35.173Z"
   },
   {
    "duration": 10,
    "start_time": "2024-05-11T21:59:35.371Z"
   },
   {
    "duration": 227,
    "start_time": "2024-05-11T21:59:35.382Z"
   },
   {
    "duration": 14,
    "start_time": "2024-05-11T21:59:35.611Z"
   },
   {
    "duration": 226,
    "start_time": "2024-05-11T21:59:35.626Z"
   },
   {
    "duration": 134,
    "start_time": "2024-05-11T21:59:35.853Z"
   },
   {
    "duration": 146,
    "start_time": "2024-05-11T21:59:35.989Z"
   },
   {
    "duration": 141,
    "start_time": "2024-05-11T21:59:36.137Z"
   },
   {
    "duration": 168,
    "start_time": "2024-05-11T21:59:36.279Z"
   },
   {
    "duration": 136,
    "start_time": "2024-05-11T21:59:36.449Z"
   },
   {
    "duration": 131,
    "start_time": "2024-05-11T21:59:36.586Z"
   },
   {
    "duration": 144,
    "start_time": "2024-05-11T21:59:36.719Z"
   },
   {
    "duration": 136,
    "start_time": "2024-05-11T21:59:36.864Z"
   },
   {
    "duration": 141,
    "start_time": "2024-05-11T21:59:37.002Z"
   },
   {
    "duration": 23,
    "start_time": "2024-05-11T21:59:37.145Z"
   },
   {
    "duration": 53,
    "start_time": "2024-05-11T21:59:37.170Z"
   },
   {
    "duration": 0,
    "start_time": "2024-05-11T21:59:37.225Z"
   },
   {
    "duration": 0,
    "start_time": "2024-05-11T21:59:37.226Z"
   },
   {
    "duration": 103,
    "start_time": "2024-05-11T22:09:40.894Z"
   },
   {
    "duration": 14,
    "start_time": "2024-05-11T22:10:46.962Z"
   },
   {
    "duration": 1641,
    "start_time": "2024-05-11T22:10:59.220Z"
   },
   {
    "duration": 19,
    "start_time": "2024-05-11T22:11:22.122Z"
   },
   {
    "duration": 8,
    "start_time": "2024-05-11T22:11:38.771Z"
   },
   {
    "duration": 33,
    "start_time": "2024-05-11T22:12:14.578Z"
   },
   {
    "duration": 12,
    "start_time": "2024-05-11T22:12:20.419Z"
   },
   {
    "duration": 18,
    "start_time": "2024-05-11T22:12:29.248Z"
   },
   {
    "duration": 11,
    "start_time": "2024-05-11T22:12:33.712Z"
   },
   {
    "duration": 22,
    "start_time": "2024-05-11T22:13:03.218Z"
   },
   {
    "duration": 6,
    "start_time": "2024-05-11T22:13:23.950Z"
   },
   {
    "duration": 334,
    "start_time": "2024-05-11T22:13:40.623Z"
   },
   {
    "duration": 6,
    "start_time": "2024-05-11T22:13:55.378Z"
   },
   {
    "duration": 391,
    "start_time": "2024-05-11T22:18:45.310Z"
   },
   {
    "duration": 9,
    "start_time": "2024-05-11T22:21:28.681Z"
   },
   {
    "duration": 7,
    "start_time": "2024-05-11T22:21:28.832Z"
   },
   {
    "duration": 200,
    "start_time": "2024-05-11T22:21:33.913Z"
   },
   {
    "duration": 219,
    "start_time": "2024-05-11T22:22:57.065Z"
   },
   {
    "duration": 236,
    "start_time": "2024-05-11T22:23:08.512Z"
   },
   {
    "duration": 234,
    "start_time": "2024-05-11T22:23:14.698Z"
   },
   {
    "duration": 240,
    "start_time": "2024-05-11T22:23:17.896Z"
   },
   {
    "duration": 266,
    "start_time": "2024-05-11T22:24:31.528Z"
   },
   {
    "duration": 226,
    "start_time": "2024-05-11T22:28:38.694Z"
   },
   {
    "duration": 7,
    "start_time": "2024-05-11T22:29:15.416Z"
   },
   {
    "duration": 194,
    "start_time": "2024-05-11T22:29:26.357Z"
   },
   {
    "duration": 16,
    "start_time": "2024-05-11T22:29:55.902Z"
   },
   {
    "duration": 173,
    "start_time": "2024-05-11T22:30:21.596Z"
   },
   {
    "duration": 7,
    "start_time": "2024-05-11T22:30:54.732Z"
   },
   {
    "duration": 252,
    "start_time": "2024-05-11T22:31:09.923Z"
   },
   {
    "duration": 9,
    "start_time": "2024-05-11T22:31:30.346Z"
   },
   {
    "duration": 133,
    "start_time": "2024-05-11T22:31:42.256Z"
   },
   {
    "duration": 7,
    "start_time": "2024-05-11T22:31:59.485Z"
   },
   {
    "duration": 5,
    "start_time": "2024-05-11T22:32:02.667Z"
   },
   {
    "duration": 264,
    "start_time": "2024-05-11T22:32:41.383Z"
   },
   {
    "duration": 148,
    "start_time": "2024-05-11T22:33:02.860Z"
   },
   {
    "duration": 7,
    "start_time": "2024-05-11T22:33:25.955Z"
   },
   {
    "duration": 117,
    "start_time": "2024-05-11T22:33:36.179Z"
   },
   {
    "duration": 9,
    "start_time": "2024-05-11T22:36:12.865Z"
   },
   {
    "duration": 167,
    "start_time": "2024-05-11T22:36:21.098Z"
   },
   {
    "duration": 8,
    "start_time": "2024-05-11T22:36:49.881Z"
   },
   {
    "duration": 214,
    "start_time": "2024-05-11T22:37:00.918Z"
   },
   {
    "duration": 16,
    "start_time": "2024-05-11T22:37:22.498Z"
   },
   {
    "duration": 261,
    "start_time": "2024-05-11T22:37:26.512Z"
   },
   {
    "duration": 21,
    "start_time": "2024-05-11T22:37:46.497Z"
   },
   {
    "duration": 184,
    "start_time": "2024-05-11T22:37:58.808Z"
   },
   {
    "duration": 155,
    "start_time": "2024-05-11T22:38:23.915Z"
   },
   {
    "duration": 156,
    "start_time": "2024-05-11T22:39:08.465Z"
   },
   {
    "duration": 190,
    "start_time": "2024-05-11T22:39:30.650Z"
   },
   {
    "duration": 146,
    "start_time": "2024-05-11T22:39:52.657Z"
   },
   {
    "duration": 134,
    "start_time": "2024-05-11T22:40:10.648Z"
   },
   {
    "duration": 113,
    "start_time": "2024-05-11T22:40:26.569Z"
   },
   {
    "duration": 141,
    "start_time": "2024-05-11T22:40:48.840Z"
   },
   {
    "duration": 162,
    "start_time": "2024-05-11T22:41:06.817Z"
   },
   {
    "duration": 206,
    "start_time": "2024-05-11T22:41:35.664Z"
   },
   {
    "duration": 38,
    "start_time": "2024-05-11T22:42:40.075Z"
   },
   {
    "duration": 260,
    "start_time": "2024-05-11T22:43:11.585Z"
   },
   {
    "duration": 45,
    "start_time": "2024-05-11T22:43:24.585Z"
   },
   {
    "duration": 19,
    "start_time": "2024-05-11T22:45:01.350Z"
   },
   {
    "duration": 24,
    "start_time": "2024-05-12T00:45:54.934Z"
   },
   {
    "duration": 94,
    "start_time": "2024-05-12T01:04:38.888Z"
   },
   {
    "duration": 1094,
    "start_time": "2024-05-12T01:06:12.072Z"
   },
   {
    "duration": 12,
    "start_time": "2024-05-12T01:06:13.168Z"
   },
   {
    "duration": 1547,
    "start_time": "2024-05-12T01:06:13.183Z"
   },
   {
    "duration": 18,
    "start_time": "2024-05-12T01:06:14.732Z"
   },
   {
    "duration": 9,
    "start_time": "2024-05-12T01:06:14.752Z"
   },
   {
    "duration": 57,
    "start_time": "2024-05-12T01:06:14.762Z"
   },
   {
    "duration": 84,
    "start_time": "2024-05-12T01:06:14.820Z"
   },
   {
    "duration": 25,
    "start_time": "2024-05-12T01:06:14.905Z"
   },
   {
    "duration": 18,
    "start_time": "2024-05-12T01:06:14.931Z"
   },
   {
    "duration": 325,
    "start_time": "2024-05-12T01:06:14.950Z"
   },
   {
    "duration": 6,
    "start_time": "2024-05-12T01:06:15.277Z"
   },
   {
    "duration": 349,
    "start_time": "2024-05-12T01:06:15.285Z"
   },
   {
    "duration": 7,
    "start_time": "2024-05-12T01:06:15.637Z"
   },
   {
    "duration": 220,
    "start_time": "2024-05-12T01:06:15.645Z"
   },
   {
    "duration": 8,
    "start_time": "2024-05-12T01:06:15.866Z"
   },
   {
    "duration": 191,
    "start_time": "2024-05-12T01:06:15.875Z"
   },
   {
    "duration": 7,
    "start_time": "2024-05-12T01:06:16.068Z"
   },
   {
    "duration": 181,
    "start_time": "2024-05-12T01:06:16.076Z"
   },
   {
    "duration": 7,
    "start_time": "2024-05-12T01:06:16.259Z"
   },
   {
    "duration": 177,
    "start_time": "2024-05-12T01:06:16.267Z"
   },
   {
    "duration": 7,
    "start_time": "2024-05-12T01:06:16.446Z"
   },
   {
    "duration": 185,
    "start_time": "2024-05-12T01:06:16.454Z"
   },
   {
    "duration": 7,
    "start_time": "2024-05-12T01:06:16.640Z"
   },
   {
    "duration": 40,
    "start_time": "2024-05-12T01:06:16.648Z"
   },
   {
    "duration": 271,
    "start_time": "2024-05-12T01:06:16.689Z"
   },
   {
    "duration": 163,
    "start_time": "2024-05-12T01:06:16.962Z"
   },
   {
    "duration": 7,
    "start_time": "2024-05-12T01:06:17.126Z"
   },
   {
    "duration": 140,
    "start_time": "2024-05-12T01:06:17.134Z"
   },
   {
    "duration": 9,
    "start_time": "2024-05-12T01:06:17.275Z"
   },
   {
    "duration": 167,
    "start_time": "2024-05-12T01:06:17.286Z"
   },
   {
    "duration": 8,
    "start_time": "2024-05-12T01:06:17.454Z"
   },
   {
    "duration": 187,
    "start_time": "2024-05-12T01:06:17.463Z"
   },
   {
    "duration": 7,
    "start_time": "2024-05-12T01:06:17.651Z"
   },
   {
    "duration": 206,
    "start_time": "2024-05-12T01:06:17.659Z"
   },
   {
    "duration": 14,
    "start_time": "2024-05-12T01:06:17.867Z"
   },
   {
    "duration": 262,
    "start_time": "2024-05-12T01:06:17.882Z"
   },
   {
    "duration": 147,
    "start_time": "2024-05-12T01:06:18.146Z"
   },
   {
    "duration": 144,
    "start_time": "2024-05-12T01:06:18.295Z"
   },
   {
    "duration": 155,
    "start_time": "2024-05-12T01:06:18.440Z"
   },
   {
    "duration": 138,
    "start_time": "2024-05-12T01:06:18.598Z"
   },
   {
    "duration": 132,
    "start_time": "2024-05-12T01:06:18.737Z"
   },
   {
    "duration": 122,
    "start_time": "2024-05-12T01:06:18.871Z"
   },
   {
    "duration": 146,
    "start_time": "2024-05-12T01:06:18.995Z"
   },
   {
    "duration": 160,
    "start_time": "2024-05-12T01:06:19.142Z"
   },
   {
    "duration": 151,
    "start_time": "2024-05-12T01:06:19.303Z"
   },
   {
    "duration": 23,
    "start_time": "2024-05-12T01:06:19.455Z"
   },
   {
    "duration": 338,
    "start_time": "2024-05-12T01:06:19.479Z"
   },
   {
    "duration": 18,
    "start_time": "2024-05-12T01:06:19.818Z"
   },
   {
    "duration": 1178,
    "start_time": "2024-05-12T04:28:36.122Z"
   },
   {
    "duration": 18,
    "start_time": "2024-05-12T04:28:37.301Z"
   },
   {
    "duration": 1715,
    "start_time": "2024-05-12T04:28:37.321Z"
   },
   {
    "duration": 19,
    "start_time": "2024-05-12T04:28:39.037Z"
   },
   {
    "duration": 11,
    "start_time": "2024-05-12T04:28:39.057Z"
   },
   {
    "duration": 38,
    "start_time": "2024-05-12T04:28:39.069Z"
   },
   {
    "duration": 80,
    "start_time": "2024-05-12T04:28:39.109Z"
   },
   {
    "duration": 32,
    "start_time": "2024-05-12T04:28:39.190Z"
   },
   {
    "duration": 9,
    "start_time": "2024-05-12T04:28:39.223Z"
   },
   {
    "duration": 326,
    "start_time": "2024-05-12T04:28:39.233Z"
   },
   {
    "duration": 6,
    "start_time": "2024-05-12T04:28:39.561Z"
   },
   {
    "duration": 348,
    "start_time": "2024-05-12T04:28:39.568Z"
   },
   {
    "duration": 8,
    "start_time": "2024-05-12T04:28:39.917Z"
   },
   {
    "duration": 241,
    "start_time": "2024-05-12T04:28:39.927Z"
   },
   {
    "duration": 8,
    "start_time": "2024-05-12T04:28:40.169Z"
   },
   {
    "duration": 228,
    "start_time": "2024-05-12T04:28:40.179Z"
   },
   {
    "duration": 13,
    "start_time": "2024-05-12T04:28:40.409Z"
   },
   {
    "duration": 192,
    "start_time": "2024-05-12T04:28:40.424Z"
   },
   {
    "duration": 9,
    "start_time": "2024-05-12T04:28:40.618Z"
   },
   {
    "duration": 199,
    "start_time": "2024-05-12T04:28:40.628Z"
   },
   {
    "duration": 7,
    "start_time": "2024-05-12T04:28:40.829Z"
   },
   {
    "duration": 198,
    "start_time": "2024-05-12T04:28:40.837Z"
   },
   {
    "duration": 7,
    "start_time": "2024-05-12T04:28:41.036Z"
   },
   {
    "duration": 4,
    "start_time": "2024-05-12T04:28:41.044Z"
   },
   {
    "duration": 325,
    "start_time": "2024-05-12T04:28:41.049Z"
   },
   {
    "duration": 142,
    "start_time": "2024-05-12T04:28:41.375Z"
   },
   {
    "duration": 7,
    "start_time": "2024-05-12T04:28:41.519Z"
   },
   {
    "duration": 134,
    "start_time": "2024-05-12T04:28:41.528Z"
   },
   {
    "duration": 6,
    "start_time": "2024-05-12T04:28:41.663Z"
   },
   {
    "duration": 150,
    "start_time": "2024-05-12T04:28:41.671Z"
   },
   {
    "duration": 7,
    "start_time": "2024-05-12T04:28:41.823Z"
   },
   {
    "duration": 201,
    "start_time": "2024-05-12T04:28:41.831Z"
   },
   {
    "duration": 7,
    "start_time": "2024-05-12T04:28:42.033Z"
   },
   {
    "duration": 223,
    "start_time": "2024-05-12T04:28:42.042Z"
   },
   {
    "duration": 12,
    "start_time": "2024-05-12T04:28:42.266Z"
   },
   {
    "duration": 270,
    "start_time": "2024-05-12T04:28:42.280Z"
   },
   {
    "duration": 176,
    "start_time": "2024-05-12T04:28:42.551Z"
   },
   {
    "duration": 151,
    "start_time": "2024-05-12T04:28:42.728Z"
   },
   {
    "duration": 149,
    "start_time": "2024-05-12T04:28:42.880Z"
   },
   {
    "duration": 159,
    "start_time": "2024-05-12T04:28:43.031Z"
   },
   {
    "duration": 147,
    "start_time": "2024-05-12T04:28:43.193Z"
   },
   {
    "duration": 120,
    "start_time": "2024-05-12T04:28:43.342Z"
   },
   {
    "duration": 158,
    "start_time": "2024-05-12T04:28:43.464Z"
   },
   {
    "duration": 172,
    "start_time": "2024-05-12T04:28:43.624Z"
   },
   {
    "duration": 170,
    "start_time": "2024-05-12T04:28:43.798Z"
   },
   {
    "duration": 40,
    "start_time": "2024-05-12T04:28:43.970Z"
   },
   {
    "duration": 331,
    "start_time": "2024-05-12T04:28:44.012Z"
   },
   {
    "duration": 19,
    "start_time": "2024-05-12T04:28:44.344Z"
   },
   {
    "duration": 9,
    "start_time": "2024-05-12T04:32:22.548Z"
   },
   {
    "duration": 84,
    "start_time": "2024-05-12T04:33:16.572Z"
   },
   {
    "duration": 45,
    "start_time": "2024-05-12T16:41:04.461Z"
   },
   {
    "duration": 1157,
    "start_time": "2024-05-12T16:41:23.513Z"
   },
   {
    "duration": 235,
    "start_time": "2024-05-12T16:41:25.282Z"
   },
   {
    "duration": 97,
    "start_time": "2024-05-12T16:48:46.760Z"
   },
   {
    "duration": 1516,
    "start_time": "2024-05-12T16:48:49.449Z"
   },
   {
    "duration": 1523,
    "start_time": "2024-05-12T16:48:51.922Z"
   },
   {
    "duration": 19,
    "start_time": "2024-05-12T16:48:55.515Z"
   },
   {
    "duration": 18,
    "start_time": "2024-05-12T16:49:10.577Z"
   },
   {
    "duration": 21,
    "start_time": "2024-05-12T16:52:10.618Z"
   },
   {
    "duration": 20,
    "start_time": "2024-05-12T16:53:28.214Z"
   },
   {
    "duration": 78,
    "start_time": "2024-05-12T16:53:31.797Z"
   },
   {
    "duration": 55,
    "start_time": "2024-05-12T16:55:26.971Z"
   },
   {
    "duration": 163,
    "start_time": "2024-05-12T16:55:57.359Z"
   },
   {
    "duration": 184,
    "start_time": "2024-05-12T16:56:08.257Z"
   },
   {
    "duration": 45,
    "start_time": "2024-05-12T16:57:27.235Z"
   },
   {
    "duration": 166,
    "start_time": "2024-05-12T16:57:36.585Z"
   },
   {
    "duration": 165,
    "start_time": "2024-05-12T16:57:54.088Z"
   },
   {
    "duration": 170,
    "start_time": "2024-05-12T16:57:57.808Z"
   },
   {
    "duration": 165,
    "start_time": "2024-05-12T16:58:06.434Z"
   },
   {
    "duration": 34,
    "start_time": "2024-05-12T16:59:08.824Z"
   },
   {
    "duration": 7,
    "start_time": "2024-05-12T17:11:33.710Z"
   },
   {
    "duration": 8,
    "start_time": "2024-05-12T17:11:45.367Z"
   },
   {
    "duration": 7,
    "start_time": "2024-05-12T17:12:09.333Z"
   },
   {
    "duration": 8,
    "start_time": "2024-05-12T17:12:20.526Z"
   },
   {
    "duration": 34,
    "start_time": "2024-05-12T17:13:48.622Z"
   },
   {
    "duration": 2743,
    "start_time": "2024-05-12T17:13:57.260Z"
   },
   {
    "duration": 2757,
    "start_time": "2024-05-12T17:14:08.045Z"
   },
   {
    "duration": 173,
    "start_time": "2024-05-12T17:15:04.885Z"
   },
   {
    "duration": 15,
    "start_time": "2024-05-12T17:16:55.564Z"
   },
   {
    "duration": 83,
    "start_time": "2024-05-12T17:20:26.986Z"
   },
   {
    "duration": 2876,
    "start_time": "2024-05-12T17:20:51.466Z"
   },
   {
    "duration": 3017,
    "start_time": "2024-05-12T17:21:14.784Z"
   },
   {
    "duration": 17,
    "start_time": "2024-05-12T17:21:57.663Z"
   },
   {
    "duration": 2772,
    "start_time": "2024-05-12T17:22:35.273Z"
   },
   {
    "duration": 206,
    "start_time": "2024-05-12T17:22:43.159Z"
   },
   {
    "duration": 2799,
    "start_time": "2024-05-12T17:22:50.686Z"
   },
   {
    "duration": 2989,
    "start_time": "2024-05-12T17:23:41.126Z"
   },
   {
    "duration": 169,
    "start_time": "2024-05-12T17:23:58.829Z"
   },
   {
    "duration": 2455,
    "start_time": "2024-05-12T17:24:18.639Z"
   },
   {
    "duration": 44,
    "start_time": "2024-05-12T17:24:49.094Z"
   },
   {
    "duration": 36,
    "start_time": "2024-05-12T17:24:55.802Z"
   },
   {
    "duration": 2422,
    "start_time": "2024-05-12T17:25:16.614Z"
   },
   {
    "duration": 3027,
    "start_time": "2024-05-12T17:26:29.565Z"
   },
   {
    "duration": 2330,
    "start_time": "2024-05-12T17:27:55.437Z"
   },
   {
    "duration": 186,
    "start_time": "2024-05-12T17:28:17.269Z"
   },
   {
    "duration": 7,
    "start_time": "2024-05-12T17:29:55.748Z"
   },
   {
    "duration": 7,
    "start_time": "2024-05-12T17:29:58.255Z"
   },
   {
    "duration": 10,
    "start_time": "2024-05-12T17:30:05.124Z"
   },
   {
    "duration": 198,
    "start_time": "2024-05-12T17:30:11.445Z"
   },
   {
    "duration": 923,
    "start_time": "2024-05-12T17:30:25.532Z"
   },
   {
    "duration": 101,
    "start_time": "2024-05-12T17:30:26.457Z"
   },
   {
    "duration": 13,
    "start_time": "2024-05-12T17:30:26.559Z"
   },
   {
    "duration": 1503,
    "start_time": "2024-05-12T17:30:26.573Z"
   },
   {
    "duration": 19,
    "start_time": "2024-05-12T17:30:28.077Z"
   },
   {
    "duration": 16,
    "start_time": "2024-05-12T17:30:28.097Z"
   },
   {
    "duration": 21,
    "start_time": "2024-05-12T17:30:28.114Z"
   },
   {
    "duration": 11,
    "start_time": "2024-05-12T17:30:28.136Z"
   },
   {
    "duration": 85,
    "start_time": "2024-05-12T17:30:28.148Z"
   },
   {
    "duration": 16,
    "start_time": "2024-05-12T17:30:28.235Z"
   },
   {
    "duration": 271,
    "start_time": "2024-05-12T17:30:28.252Z"
   },
   {
    "duration": 5,
    "start_time": "2024-05-12T17:30:28.524Z"
   },
   {
    "duration": 316,
    "start_time": "2024-05-12T17:30:28.530Z"
   },
   {
    "duration": 6,
    "start_time": "2024-05-12T17:30:28.847Z"
   },
   {
    "duration": 212,
    "start_time": "2024-05-12T17:30:28.854Z"
   },
   {
    "duration": 94,
    "start_time": "2024-05-12T17:30:29.067Z"
   },
   {
    "duration": 0,
    "start_time": "2024-05-12T17:30:29.163Z"
   },
   {
    "duration": 0,
    "start_time": "2024-05-12T17:30:29.164Z"
   },
   {
    "duration": 0,
    "start_time": "2024-05-12T17:30:29.165Z"
   },
   {
    "duration": 0,
    "start_time": "2024-05-12T17:30:29.166Z"
   },
   {
    "duration": 0,
    "start_time": "2024-05-12T17:30:29.167Z"
   },
   {
    "duration": 0,
    "start_time": "2024-05-12T17:30:29.168Z"
   },
   {
    "duration": 0,
    "start_time": "2024-05-12T17:30:29.168Z"
   },
   {
    "duration": 0,
    "start_time": "2024-05-12T17:30:29.169Z"
   },
   {
    "duration": 0,
    "start_time": "2024-05-12T17:30:29.170Z"
   },
   {
    "duration": 0,
    "start_time": "2024-05-12T17:30:29.171Z"
   },
   {
    "duration": 0,
    "start_time": "2024-05-12T17:30:29.172Z"
   },
   {
    "duration": 0,
    "start_time": "2024-05-12T17:30:29.173Z"
   },
   {
    "duration": 0,
    "start_time": "2024-05-12T17:30:29.174Z"
   },
   {
    "duration": 0,
    "start_time": "2024-05-12T17:30:29.174Z"
   },
   {
    "duration": 0,
    "start_time": "2024-05-12T17:30:29.175Z"
   },
   {
    "duration": 0,
    "start_time": "2024-05-12T17:30:29.202Z"
   },
   {
    "duration": 0,
    "start_time": "2024-05-12T17:30:29.203Z"
   },
   {
    "duration": 0,
    "start_time": "2024-05-12T17:30:29.204Z"
   },
   {
    "duration": 0,
    "start_time": "2024-05-12T17:30:29.205Z"
   },
   {
    "duration": 0,
    "start_time": "2024-05-12T17:30:29.206Z"
   },
   {
    "duration": 0,
    "start_time": "2024-05-12T17:30:29.207Z"
   },
   {
    "duration": 0,
    "start_time": "2024-05-12T17:30:29.208Z"
   },
   {
    "duration": 0,
    "start_time": "2024-05-12T17:30:29.209Z"
   },
   {
    "duration": 0,
    "start_time": "2024-05-12T17:30:29.209Z"
   },
   {
    "duration": 0,
    "start_time": "2024-05-12T17:30:29.211Z"
   },
   {
    "duration": 0,
    "start_time": "2024-05-12T17:30:29.211Z"
   },
   {
    "duration": 0,
    "start_time": "2024-05-12T17:30:29.212Z"
   },
   {
    "duration": 0,
    "start_time": "2024-05-12T17:30:29.213Z"
   },
   {
    "duration": 0,
    "start_time": "2024-05-12T17:30:29.214Z"
   },
   {
    "duration": 0,
    "start_time": "2024-05-12T17:30:29.215Z"
   },
   {
    "duration": 0,
    "start_time": "2024-05-12T17:30:29.216Z"
   },
   {
    "duration": 0,
    "start_time": "2024-05-12T17:30:29.217Z"
   },
   {
    "duration": 0,
    "start_time": "2024-05-12T17:30:29.217Z"
   },
   {
    "duration": 0,
    "start_time": "2024-05-12T17:30:29.218Z"
   },
   {
    "duration": 192,
    "start_time": "2024-05-12T17:30:49.020Z"
   },
   {
    "duration": 190,
    "start_time": "2024-05-12T17:31:49.909Z"
   },
   {
    "duration": 179,
    "start_time": "2024-05-12T17:32:03.631Z"
   },
   {
    "duration": 248,
    "start_time": "2024-05-12T17:32:12.523Z"
   },
   {
    "duration": 191,
    "start_time": "2024-05-12T17:32:28.460Z"
   },
   {
    "duration": 969,
    "start_time": "2024-05-12T17:33:53.735Z"
   },
   {
    "duration": 102,
    "start_time": "2024-05-12T17:33:54.706Z"
   },
   {
    "duration": 12,
    "start_time": "2024-05-12T17:33:54.809Z"
   },
   {
    "duration": 1521,
    "start_time": "2024-05-12T17:33:54.823Z"
   },
   {
    "duration": 19,
    "start_time": "2024-05-12T17:33:56.345Z"
   },
   {
    "duration": 32,
    "start_time": "2024-05-12T17:33:56.365Z"
   },
   {
    "duration": 42,
    "start_time": "2024-05-12T17:33:56.398Z"
   },
   {
    "duration": 10,
    "start_time": "2024-05-12T17:33:56.441Z"
   },
   {
    "duration": 81,
    "start_time": "2024-05-12T17:33:56.453Z"
   },
   {
    "duration": 5,
    "start_time": "2024-05-12T17:33:56.536Z"
   },
   {
    "duration": 304,
    "start_time": "2024-05-12T17:33:56.542Z"
   },
   {
    "duration": 6,
    "start_time": "2024-05-12T17:33:56.847Z"
   },
   {
    "duration": 330,
    "start_time": "2024-05-12T17:33:56.854Z"
   },
   {
    "duration": 16,
    "start_time": "2024-05-12T17:33:57.186Z"
   },
   {
    "duration": 224,
    "start_time": "2024-05-12T17:33:57.203Z"
   },
   {
    "duration": 185,
    "start_time": "2024-05-12T17:33:57.428Z"
   },
   {
    "duration": 8,
    "start_time": "2024-05-12T17:33:57.615Z"
   },
   {
    "duration": 183,
    "start_time": "2024-05-12T17:33:57.624Z"
   },
   {
    "duration": 9,
    "start_time": "2024-05-12T17:33:57.809Z"
   },
   {
    "duration": 177,
    "start_time": "2024-05-12T17:33:57.819Z"
   },
   {
    "duration": 9,
    "start_time": "2024-05-12T17:33:57.997Z"
   },
   {
    "duration": 227,
    "start_time": "2024-05-12T17:33:58.007Z"
   },
   {
    "duration": 7,
    "start_time": "2024-05-12T17:33:58.235Z"
   },
   {
    "duration": 133,
    "start_time": "2024-05-12T17:33:58.243Z"
   },
   {
    "duration": 7,
    "start_time": "2024-05-12T17:33:58.377Z"
   },
   {
    "duration": 5,
    "start_time": "2024-05-12T17:33:58.385Z"
   },
   {
    "duration": 258,
    "start_time": "2024-05-12T17:33:58.401Z"
   },
   {
    "duration": 136,
    "start_time": "2024-05-12T17:33:58.662Z"
   },
   {
    "duration": 7,
    "start_time": "2024-05-12T17:33:58.801Z"
   },
   {
    "duration": 154,
    "start_time": "2024-05-12T17:33:58.809Z"
   },
   {
    "duration": 9,
    "start_time": "2024-05-12T17:33:58.964Z"
   },
   {
    "duration": 133,
    "start_time": "2024-05-12T17:33:58.974Z"
   },
   {
    "duration": 7,
    "start_time": "2024-05-12T17:33:59.108Z"
   },
   {
    "duration": 208,
    "start_time": "2024-05-12T17:33:59.116Z"
   },
   {
    "duration": 8,
    "start_time": "2024-05-12T17:33:59.326Z"
   },
   {
    "duration": 273,
    "start_time": "2024-05-12T17:33:59.335Z"
   },
   {
    "duration": 12,
    "start_time": "2024-05-12T17:33:59.609Z"
   },
   {
    "duration": 187,
    "start_time": "2024-05-12T17:33:59.622Z"
   },
   {
    "duration": 138,
    "start_time": "2024-05-12T17:33:59.811Z"
   },
   {
    "duration": 145,
    "start_time": "2024-05-12T17:33:59.950Z"
   },
   {
    "duration": 149,
    "start_time": "2024-05-12T17:34:00.101Z"
   },
   {
    "duration": 171,
    "start_time": "2024-05-12T17:34:00.251Z"
   },
   {
    "duration": 133,
    "start_time": "2024-05-12T17:34:00.423Z"
   },
   {
    "duration": 122,
    "start_time": "2024-05-12T17:34:00.557Z"
   },
   {
    "duration": 163,
    "start_time": "2024-05-12T17:34:00.681Z"
   },
   {
    "duration": 215,
    "start_time": "2024-05-12T17:34:00.845Z"
   },
   {
    "duration": 142,
    "start_time": "2024-05-12T17:34:01.061Z"
   },
   {
    "duration": 25,
    "start_time": "2024-05-12T17:34:01.204Z"
   },
   {
    "duration": 276,
    "start_time": "2024-05-12T17:34:01.230Z"
   },
   {
    "duration": 18,
    "start_time": "2024-05-12T17:34:01.507Z"
   },
   {
    "duration": 257,
    "start_time": "2024-05-12T17:38:10.577Z"
   },
   {
    "duration": 183,
    "start_time": "2024-05-12T17:38:29.769Z"
   },
   {
    "duration": 200,
    "start_time": "2024-05-12T17:38:51.289Z"
   },
   {
    "duration": 201,
    "start_time": "2024-05-12T17:40:36.113Z"
   },
   {
    "duration": 261,
    "start_time": "2024-05-12T17:40:44.161Z"
   },
   {
    "duration": 192,
    "start_time": "2024-05-12T17:41:01.144Z"
   },
   {
    "duration": 184,
    "start_time": "2024-05-12T17:41:10.120Z"
   },
   {
    "duration": 7,
    "start_time": "2024-05-12T17:42:47.153Z"
   },
   {
    "duration": 226,
    "start_time": "2024-05-12T17:44:46.307Z"
   },
   {
    "duration": 256,
    "start_time": "2024-05-12T17:44:56.289Z"
   },
   {
    "duration": 169,
    "start_time": "2024-05-12T17:45:03.622Z"
   },
   {
    "duration": 170,
    "start_time": "2024-05-12T17:45:18.312Z"
   },
   {
    "duration": 170,
    "start_time": "2024-05-12T17:45:46.903Z"
   },
   {
    "duration": 3,
    "start_time": "2024-05-12T17:47:06.122Z"
   },
   {
    "duration": 190,
    "start_time": "2024-05-12T17:47:16.431Z"
   },
   {
    "duration": 155,
    "start_time": "2024-05-12T17:47:19.735Z"
   },
   {
    "duration": 4,
    "start_time": "2024-05-12T17:47:24.086Z"
   },
   {
    "duration": 215,
    "start_time": "2024-05-12T17:47:42.391Z"
   },
   {
    "duration": 4,
    "start_time": "2024-05-12T17:47:51.840Z"
   },
   {
    "duration": 4,
    "start_time": "2024-05-12T17:49:02.968Z"
   },
   {
    "duration": 4,
    "start_time": "2024-05-12T17:49:31.014Z"
   },
   {
    "duration": 7,
    "start_time": "2024-05-12T17:50:34.699Z"
   },
   {
    "duration": 47,
    "start_time": "2024-05-12T17:51:12.686Z"
   },
   {
    "duration": 9,
    "start_time": "2024-05-12T17:51:19.421Z"
   },
   {
    "duration": 184,
    "start_time": "2024-05-12T17:52:40.277Z"
   },
   {
    "duration": 167,
    "start_time": "2024-05-12T17:52:55.452Z"
   },
   {
    "duration": 7,
    "start_time": "2024-05-12T17:52:58.855Z"
   },
   {
    "duration": 159,
    "start_time": "2024-05-12T17:55:37.677Z"
   },
   {
    "duration": 35,
    "start_time": "2024-05-12T17:56:24.830Z"
   },
   {
    "duration": 7,
    "start_time": "2024-05-12T17:56:32.998Z"
   },
   {
    "duration": 154,
    "start_time": "2024-05-12T17:56:59.373Z"
   },
   {
    "duration": 7,
    "start_time": "2024-05-12T17:57:04.389Z"
   },
   {
    "duration": 7,
    "start_time": "2024-05-12T17:57:06.797Z"
   },
   {
    "duration": 215,
    "start_time": "2024-05-12T17:57:14.077Z"
   },
   {
    "duration": 9,
    "start_time": "2024-05-12T17:57:17.766Z"
   },
   {
    "duration": 41,
    "start_time": "2024-05-12T17:58:33.837Z"
   },
   {
    "duration": 164,
    "start_time": "2024-05-12T18:04:23.085Z"
   },
   {
    "duration": 6,
    "start_time": "2024-05-12T18:04:41.723Z"
   },
   {
    "duration": 7,
    "start_time": "2024-05-12T18:04:53.283Z"
   },
   {
    "duration": 167,
    "start_time": "2024-05-12T18:05:06.799Z"
   },
   {
    "duration": 8,
    "start_time": "2024-05-12T18:05:14.177Z"
   },
   {
    "duration": 9,
    "start_time": "2024-05-12T18:06:18.827Z"
   },
   {
    "duration": 1073,
    "start_time": "2024-05-12T18:06:30.072Z"
   },
   {
    "duration": 118,
    "start_time": "2024-05-12T18:06:31.147Z"
   },
   {
    "duration": 75,
    "start_time": "2024-05-12T18:06:31.267Z"
   },
   {
    "duration": 1712,
    "start_time": "2024-05-12T18:06:31.344Z"
   },
   {
    "duration": 19,
    "start_time": "2024-05-12T18:06:33.058Z"
   },
   {
    "duration": 22,
    "start_time": "2024-05-12T18:06:33.079Z"
   },
   {
    "duration": 35,
    "start_time": "2024-05-12T18:06:33.102Z"
   },
   {
    "duration": 11,
    "start_time": "2024-05-12T18:06:33.138Z"
   },
   {
    "duration": 101,
    "start_time": "2024-05-12T18:06:33.150Z"
   },
   {
    "duration": 6,
    "start_time": "2024-05-12T18:06:33.253Z"
   },
   {
    "duration": 293,
    "start_time": "2024-05-12T18:06:33.261Z"
   },
   {
    "duration": 6,
    "start_time": "2024-05-12T18:06:33.555Z"
   },
   {
    "duration": 358,
    "start_time": "2024-05-12T18:06:33.562Z"
   },
   {
    "duration": 6,
    "start_time": "2024-05-12T18:06:33.922Z"
   },
   {
    "duration": 11,
    "start_time": "2024-05-12T18:06:33.929Z"
   },
   {
    "duration": 168,
    "start_time": "2024-05-12T18:06:33.942Z"
   },
   {
    "duration": 7,
    "start_time": "2024-05-12T18:06:34.111Z"
   },
   {
    "duration": 14,
    "start_time": "2024-05-12T18:06:34.120Z"
   },
   {
    "duration": 93,
    "start_time": "2024-05-12T18:06:34.135Z"
   },
   {
    "duration": 0,
    "start_time": "2024-05-12T18:06:34.230Z"
   },
   {
    "duration": 0,
    "start_time": "2024-05-12T18:06:34.231Z"
   },
   {
    "duration": 0,
    "start_time": "2024-05-12T18:06:34.232Z"
   },
   {
    "duration": 0,
    "start_time": "2024-05-12T18:06:34.233Z"
   },
   {
    "duration": 0,
    "start_time": "2024-05-12T18:06:34.234Z"
   },
   {
    "duration": 0,
    "start_time": "2024-05-12T18:06:34.235Z"
   },
   {
    "duration": 0,
    "start_time": "2024-05-12T18:06:34.235Z"
   },
   {
    "duration": 0,
    "start_time": "2024-05-12T18:06:34.236Z"
   },
   {
    "duration": 0,
    "start_time": "2024-05-12T18:06:34.237Z"
   },
   {
    "duration": 0,
    "start_time": "2024-05-12T18:06:34.237Z"
   },
   {
    "duration": 0,
    "start_time": "2024-05-12T18:06:34.238Z"
   },
   {
    "duration": 0,
    "start_time": "2024-05-12T18:06:34.239Z"
   },
   {
    "duration": 0,
    "start_time": "2024-05-12T18:06:34.240Z"
   },
   {
    "duration": 0,
    "start_time": "2024-05-12T18:06:34.240Z"
   },
   {
    "duration": 0,
    "start_time": "2024-05-12T18:06:34.241Z"
   },
   {
    "duration": 0,
    "start_time": "2024-05-12T18:06:34.242Z"
   },
   {
    "duration": 0,
    "start_time": "2024-05-12T18:06:34.242Z"
   },
   {
    "duration": 0,
    "start_time": "2024-05-12T18:06:34.243Z"
   },
   {
    "duration": 0,
    "start_time": "2024-05-12T18:06:34.244Z"
   },
   {
    "duration": 0,
    "start_time": "2024-05-12T18:06:34.245Z"
   },
   {
    "duration": 0,
    "start_time": "2024-05-12T18:06:34.246Z"
   },
   {
    "duration": 0,
    "start_time": "2024-05-12T18:06:34.246Z"
   },
   {
    "duration": 0,
    "start_time": "2024-05-12T18:06:34.247Z"
   },
   {
    "duration": 0,
    "start_time": "2024-05-12T18:06:34.247Z"
   },
   {
    "duration": 0,
    "start_time": "2024-05-12T18:06:34.248Z"
   },
   {
    "duration": 0,
    "start_time": "2024-05-12T18:06:34.249Z"
   },
   {
    "duration": 0,
    "start_time": "2024-05-12T18:06:34.250Z"
   },
   {
    "duration": 0,
    "start_time": "2024-05-12T18:06:34.251Z"
   },
   {
    "duration": 0,
    "start_time": "2024-05-12T18:06:34.251Z"
   },
   {
    "duration": 0,
    "start_time": "2024-05-12T18:06:34.252Z"
   },
   {
    "duration": 0,
    "start_time": "2024-05-12T18:06:34.253Z"
   },
   {
    "duration": 0,
    "start_time": "2024-05-12T18:06:34.254Z"
   },
   {
    "duration": 161,
    "start_time": "2024-05-12T18:06:45.219Z"
   },
   {
    "duration": 174,
    "start_time": "2024-05-12T18:07:15.807Z"
   },
   {
    "duration": 7,
    "start_time": "2024-05-12T18:07:48.091Z"
   },
   {
    "duration": 7,
    "start_time": "2024-05-12T18:10:15.012Z"
   },
   {
    "duration": 9,
    "start_time": "2024-05-12T18:10:21.186Z"
   },
   {
    "duration": 162,
    "start_time": "2024-05-12T18:10:36.009Z"
   },
   {
    "duration": 7,
    "start_time": "2024-05-12T18:10:40.073Z"
   },
   {
    "duration": 8,
    "start_time": "2024-05-12T18:10:41.994Z"
   },
   {
    "duration": 7,
    "start_time": "2024-05-12T18:10:46.897Z"
   },
   {
    "duration": 221,
    "start_time": "2024-05-12T18:10:49.682Z"
   },
   {
    "duration": 7,
    "start_time": "2024-05-12T18:10:51.978Z"
   },
   {
    "duration": 2,
    "start_time": "2024-05-12T18:11:33.553Z"
   },
   {
    "duration": 98,
    "start_time": "2024-05-12T18:11:33.557Z"
   },
   {
    "duration": 12,
    "start_time": "2024-05-12T18:11:33.656Z"
   },
   {
    "duration": 1441,
    "start_time": "2024-05-12T18:11:33.669Z"
   },
   {
    "duration": 18,
    "start_time": "2024-05-12T18:11:35.111Z"
   },
   {
    "duration": 16,
    "start_time": "2024-05-12T18:11:35.130Z"
   },
   {
    "duration": 21,
    "start_time": "2024-05-12T18:11:35.147Z"
   },
   {
    "duration": 10,
    "start_time": "2024-05-12T18:11:35.170Z"
   },
   {
    "duration": 33,
    "start_time": "2024-05-12T18:11:35.181Z"
   },
   {
    "duration": 7,
    "start_time": "2024-05-12T18:11:35.215Z"
   },
   {
    "duration": 286,
    "start_time": "2024-05-12T18:11:35.223Z"
   },
   {
    "duration": 6,
    "start_time": "2024-05-12T18:11:35.511Z"
   },
   {
    "duration": 381,
    "start_time": "2024-05-12T18:11:35.519Z"
   },
   {
    "duration": 6,
    "start_time": "2024-05-12T18:11:35.902Z"
   },
   {
    "duration": 17,
    "start_time": "2024-05-12T18:11:35.909Z"
   },
   {
    "duration": 193,
    "start_time": "2024-05-12T18:11:35.928Z"
   },
   {
    "duration": 6,
    "start_time": "2024-05-12T18:11:36.123Z"
   },
   {
    "duration": 6,
    "start_time": "2024-05-12T18:11:36.131Z"
   },
   {
    "duration": 171,
    "start_time": "2024-05-12T18:11:36.138Z"
   },
   {
    "duration": 7,
    "start_time": "2024-05-12T18:11:36.310Z"
   },
   {
    "duration": 7,
    "start_time": "2024-05-12T18:11:36.318Z"
   },
   {
    "duration": 177,
    "start_time": "2024-05-12T18:11:36.326Z"
   },
   {
    "duration": 6,
    "start_time": "2024-05-12T18:11:36.505Z"
   },
   {
    "duration": 168,
    "start_time": "2024-05-12T18:11:36.512Z"
   },
   {
    "duration": 6,
    "start_time": "2024-05-12T18:11:36.681Z"
   },
   {
    "duration": 128,
    "start_time": "2024-05-12T18:11:36.701Z"
   },
   {
    "duration": 6,
    "start_time": "2024-05-12T18:11:36.830Z"
   },
   {
    "duration": 4,
    "start_time": "2024-05-12T18:11:36.837Z"
   },
   {
    "duration": 312,
    "start_time": "2024-05-12T18:11:36.842Z"
   },
   {
    "duration": 142,
    "start_time": "2024-05-12T18:11:37.160Z"
   },
   {
    "duration": 6,
    "start_time": "2024-05-12T18:11:37.304Z"
   },
   {
    "duration": 128,
    "start_time": "2024-05-12T18:11:37.311Z"
   },
   {
    "duration": 8,
    "start_time": "2024-05-12T18:11:37.440Z"
   },
   {
    "duration": 135,
    "start_time": "2024-05-12T18:11:37.449Z"
   },
   {
    "duration": 15,
    "start_time": "2024-05-12T18:11:37.586Z"
   },
   {
    "duration": 172,
    "start_time": "2024-05-12T18:11:37.602Z"
   },
   {
    "duration": 7,
    "start_time": "2024-05-12T18:11:37.775Z"
   },
   {
    "duration": 208,
    "start_time": "2024-05-12T18:11:37.783Z"
   },
   {
    "duration": 13,
    "start_time": "2024-05-12T18:11:37.992Z"
   },
   {
    "duration": 237,
    "start_time": "2024-05-12T18:11:38.006Z"
   },
   {
    "duration": 139,
    "start_time": "2024-05-12T18:11:38.245Z"
   },
   {
    "duration": 146,
    "start_time": "2024-05-12T18:11:38.385Z"
   },
   {
    "duration": 144,
    "start_time": "2024-05-12T18:11:38.532Z"
   },
   {
    "duration": 136,
    "start_time": "2024-05-12T18:11:38.677Z"
   },
   {
    "duration": 136,
    "start_time": "2024-05-12T18:11:38.814Z"
   },
   {
    "duration": 117,
    "start_time": "2024-05-12T18:11:38.951Z"
   },
   {
    "duration": 151,
    "start_time": "2024-05-12T18:11:39.069Z"
   },
   {
    "duration": 139,
    "start_time": "2024-05-12T18:11:39.221Z"
   },
   {
    "duration": 133,
    "start_time": "2024-05-12T18:11:39.361Z"
   },
   {
    "duration": 24,
    "start_time": "2024-05-12T18:11:39.495Z"
   },
   {
    "duration": 236,
    "start_time": "2024-05-12T18:11:39.520Z"
   },
   {
    "duration": 17,
    "start_time": "2024-05-12T18:11:39.757Z"
   },
   {
    "duration": 8,
    "start_time": "2024-05-12T18:13:30.906Z"
   },
   {
    "duration": 245,
    "start_time": "2024-05-12T18:17:30.745Z"
   },
   {
    "duration": 7,
    "start_time": "2024-05-12T18:17:34.794Z"
   },
   {
    "duration": 182,
    "start_time": "2024-05-12T18:18:40.293Z"
   },
   {
    "duration": 7,
    "start_time": "2024-05-12T18:18:43.136Z"
   },
   {
    "duration": 36,
    "start_time": "2024-05-12T18:19:14.700Z"
   },
   {
    "duration": 191,
    "start_time": "2024-05-12T18:19:21.200Z"
   },
   {
    "duration": 7,
    "start_time": "2024-05-12T18:19:24.357Z"
   },
   {
    "duration": 171,
    "start_time": "2024-05-12T18:21:09.944Z"
   },
   {
    "duration": 154,
    "start_time": "2024-05-12T18:21:39.954Z"
   },
   {
    "duration": 218,
    "start_time": "2024-05-12T18:21:48.522Z"
   },
   {
    "duration": 169,
    "start_time": "2024-05-12T18:21:56.208Z"
   },
   {
    "duration": 9,
    "start_time": "2024-05-12T18:21:58.004Z"
   },
   {
    "duration": 155,
    "start_time": "2024-05-12T18:23:16.291Z"
   },
   {
    "duration": 7,
    "start_time": "2024-05-12T18:23:28.976Z"
   },
   {
    "duration": 58,
    "start_time": "2024-05-12T18:24:09.992Z"
   },
   {
    "duration": 9,
    "start_time": "2024-05-12T18:24:54.016Z"
   },
   {
    "duration": 162,
    "start_time": "2024-05-12T18:31:12.896Z"
   },
   {
    "duration": 32,
    "start_time": "2024-05-12T18:31:29.703Z"
   },
   {
    "duration": 36,
    "start_time": "2024-05-12T18:31:39.943Z"
   },
   {
    "duration": 545,
    "start_time": "2024-05-12T18:31:53.160Z"
   },
   {
    "duration": 182,
    "start_time": "2024-05-12T18:32:54.824Z"
   },
   {
    "duration": 178,
    "start_time": "2024-05-12T18:33:14.271Z"
   },
   {
    "duration": 259,
    "start_time": "2024-05-12T18:33:29.938Z"
   },
   {
    "duration": 182,
    "start_time": "2024-05-12T18:33:51.232Z"
   },
   {
    "duration": 7,
    "start_time": "2024-05-12T18:34:37.095Z"
   },
   {
    "duration": 8,
    "start_time": "2024-05-12T18:36:06.630Z"
   },
   {
    "duration": 183,
    "start_time": "2024-05-12T18:38:33.146Z"
   },
   {
    "duration": 7,
    "start_time": "2024-05-12T18:38:35.031Z"
   },
   {
    "duration": 199,
    "start_time": "2024-05-12T18:39:06.854Z"
   },
   {
    "duration": 9,
    "start_time": "2024-05-12T18:39:08.990Z"
   },
   {
    "duration": 8,
    "start_time": "2024-05-12T18:39:35.262Z"
   },
   {
    "duration": 188,
    "start_time": "2024-05-12T18:40:14.062Z"
   },
   {
    "duration": 240,
    "start_time": "2024-05-12T18:42:18.438Z"
   },
   {
    "duration": 8,
    "start_time": "2024-05-12T18:45:06.269Z"
   },
   {
    "duration": 9,
    "start_time": "2024-05-12T18:45:10.396Z"
   },
   {
    "duration": 38,
    "start_time": "2024-05-12T18:47:34.549Z"
   },
   {
    "duration": 183,
    "start_time": "2024-05-12T18:47:40.433Z"
   },
   {
    "duration": 130,
    "start_time": "2024-05-12T18:47:47.301Z"
   },
   {
    "duration": 114,
    "start_time": "2024-05-12T18:47:52.464Z"
   },
   {
    "duration": 123,
    "start_time": "2024-05-12T18:48:04.604Z"
   },
   {
    "duration": 122,
    "start_time": "2024-05-12T18:48:51.604Z"
   },
   {
    "duration": 54,
    "start_time": "2024-05-12T18:49:29.356Z"
   },
   {
    "duration": 6,
    "start_time": "2024-05-12T18:49:42.997Z"
   },
   {
    "duration": 119,
    "start_time": "2024-05-12T18:50:02.828Z"
   },
   {
    "duration": 9,
    "start_time": "2024-05-12T18:50:05.008Z"
   },
   {
    "duration": 124,
    "start_time": "2024-05-12T18:50:37.404Z"
   },
   {
    "duration": 128,
    "start_time": "2024-05-12T18:50:39.095Z"
   },
   {
    "duration": 123,
    "start_time": "2024-05-12T18:50:43.764Z"
   },
   {
    "duration": 7,
    "start_time": "2024-05-12T18:50:46.268Z"
   },
   {
    "duration": 197,
    "start_time": "2024-05-12T18:51:47.099Z"
   },
   {
    "duration": 10,
    "start_time": "2024-05-12T18:53:43.692Z"
   },
   {
    "duration": 4,
    "start_time": "2024-05-12T18:54:01.755Z"
   },
   {
    "duration": 4,
    "start_time": "2024-05-12T18:54:09.003Z"
   },
   {
    "duration": 269,
    "start_time": "2024-05-12T18:54:11.020Z"
   },
   {
    "duration": 127,
    "start_time": "2024-05-12T18:54:15.315Z"
   },
   {
    "duration": 11,
    "start_time": "2024-05-12T18:55:57.387Z"
   },
   {
    "duration": 10,
    "start_time": "2024-05-12T18:56:24.874Z"
   },
   {
    "duration": 171,
    "start_time": "2024-05-12T19:00:51.849Z"
   },
   {
    "duration": 133,
    "start_time": "2024-05-12T19:00:57.281Z"
   },
   {
    "duration": 142,
    "start_time": "2024-05-12T19:08:48.227Z"
   },
   {
    "duration": 6,
    "start_time": "2024-05-12T19:09:23.890Z"
   },
   {
    "duration": 7,
    "start_time": "2024-05-12T19:10:09.543Z"
   },
   {
    "duration": 131,
    "start_time": "2024-05-12T19:11:06.767Z"
   },
   {
    "duration": 7,
    "start_time": "2024-05-12T19:11:46.087Z"
   },
   {
    "duration": 7,
    "start_time": "2024-05-12T19:12:12.991Z"
   },
   {
    "duration": 137,
    "start_time": "2024-05-12T19:12:14.604Z"
   },
   {
    "duration": 224,
    "start_time": "2024-05-12T20:03:16.415Z"
   },
   {
    "duration": 1040,
    "start_time": "2024-05-12T20:03:25.531Z"
   },
   {
    "duration": 113,
    "start_time": "2024-05-12T20:03:26.573Z"
   },
   {
    "duration": 12,
    "start_time": "2024-05-12T20:03:26.687Z"
   },
   {
    "duration": 1643,
    "start_time": "2024-05-12T20:03:26.701Z"
   },
   {
    "duration": 19,
    "start_time": "2024-05-12T20:03:28.345Z"
   },
   {
    "duration": 26,
    "start_time": "2024-05-12T20:03:28.365Z"
   },
   {
    "duration": 36,
    "start_time": "2024-05-12T20:03:28.393Z"
   },
   {
    "duration": 11,
    "start_time": "2024-05-12T20:03:28.430Z"
   },
   {
    "duration": 89,
    "start_time": "2024-05-12T20:03:28.442Z"
   },
   {
    "duration": 6,
    "start_time": "2024-05-12T20:03:28.533Z"
   },
   {
    "duration": 320,
    "start_time": "2024-05-12T20:03:28.540Z"
   },
   {
    "duration": 6,
    "start_time": "2024-05-12T20:03:28.861Z"
   },
   {
    "duration": 387,
    "start_time": "2024-05-12T20:03:28.868Z"
   },
   {
    "duration": 7,
    "start_time": "2024-05-12T20:03:29.257Z"
   },
   {
    "duration": 27,
    "start_time": "2024-05-12T20:03:29.265Z"
   },
   {
    "duration": 187,
    "start_time": "2024-05-12T20:03:29.294Z"
   },
   {
    "duration": 7,
    "start_time": "2024-05-12T20:03:29.482Z"
   },
   {
    "duration": 19,
    "start_time": "2024-05-12T20:03:29.490Z"
   },
   {
    "duration": 164,
    "start_time": "2024-05-12T20:03:29.510Z"
   },
   {
    "duration": 8,
    "start_time": "2024-05-12T20:03:29.675Z"
   },
   {
    "duration": 25,
    "start_time": "2024-05-12T20:03:29.684Z"
   },
   {
    "duration": 157,
    "start_time": "2024-05-12T20:03:29.710Z"
   },
   {
    "duration": 7,
    "start_time": "2024-05-12T20:03:29.869Z"
   },
   {
    "duration": 9,
    "start_time": "2024-05-12T20:03:29.877Z"
   },
   {
    "duration": 232,
    "start_time": "2024-05-12T20:03:29.903Z"
   },
   {
    "duration": 7,
    "start_time": "2024-05-12T20:03:30.136Z"
   },
   {
    "duration": 199,
    "start_time": "2024-05-12T20:03:30.145Z"
   },
   {
    "duration": 290,
    "start_time": "2024-05-12T20:03:30.347Z"
   },
   {
    "duration": 6,
    "start_time": "2024-05-12T20:03:30.639Z"
   },
   {
    "duration": 110,
    "start_time": "2024-05-12T20:03:30.647Z"
   },
   {
    "duration": 87,
    "start_time": "2024-05-12T20:03:30.758Z"
   },
   {
    "duration": 321,
    "start_time": "2024-05-12T20:03:30.847Z"
   },
   {
    "duration": 147,
    "start_time": "2024-05-12T20:03:31.169Z"
   },
   {
    "duration": 9,
    "start_time": "2024-05-12T20:03:31.317Z"
   },
   {
    "duration": 144,
    "start_time": "2024-05-12T20:03:31.327Z"
   },
   {
    "duration": 9,
    "start_time": "2024-05-12T20:03:31.473Z"
   },
   {
    "duration": 166,
    "start_time": "2024-05-12T20:03:31.483Z"
   },
   {
    "duration": 7,
    "start_time": "2024-05-12T20:03:31.650Z"
   },
   {
    "duration": 98,
    "start_time": "2024-05-12T20:03:31.658Z"
   },
   {
    "duration": 408,
    "start_time": "2024-05-12T20:03:31.757Z"
   },
   {
    "duration": 8,
    "start_time": "2024-05-12T20:03:32.167Z"
   },
   {
    "duration": 241,
    "start_time": "2024-05-12T20:03:32.176Z"
   },
   {
    "duration": 15,
    "start_time": "2024-05-12T20:03:32.419Z"
   },
   {
    "duration": 264,
    "start_time": "2024-05-12T20:03:32.435Z"
   },
   {
    "duration": 156,
    "start_time": "2024-05-12T20:03:32.702Z"
   },
   {
    "duration": 157,
    "start_time": "2024-05-12T20:03:32.859Z"
   },
   {
    "duration": 148,
    "start_time": "2024-05-12T20:03:33.017Z"
   },
   {
    "duration": 165,
    "start_time": "2024-05-12T20:03:33.167Z"
   },
   {
    "duration": 148,
    "start_time": "2024-05-12T20:03:33.333Z"
   },
   {
    "duration": 124,
    "start_time": "2024-05-12T20:03:33.483Z"
   },
   {
    "duration": 145,
    "start_time": "2024-05-12T20:03:33.608Z"
   },
   {
    "duration": 148,
    "start_time": "2024-05-12T20:03:33.755Z"
   },
   {
    "duration": 145,
    "start_time": "2024-05-12T20:03:33.905Z"
   },
   {
    "duration": 93,
    "start_time": "2024-05-12T20:03:34.052Z"
   },
   {
    "duration": 242,
    "start_time": "2024-05-12T20:03:34.146Z"
   },
   {
    "duration": 25,
    "start_time": "2024-05-12T20:03:34.389Z"
   },
   {
    "duration": 180,
    "start_time": "2024-05-12T20:04:07.078Z"
   },
   {
    "duration": 234,
    "start_time": "2024-05-12T20:04:12.703Z"
   },
   {
    "duration": 162,
    "start_time": "2024-05-12T20:04:20.414Z"
   },
   {
    "duration": 739,
    "start_time": "2024-05-12T20:05:51.231Z"
   },
   {
    "duration": 40,
    "start_time": "2024-05-12T20:06:10.048Z"
   },
   {
    "duration": 159,
    "start_time": "2024-05-12T20:06:56.898Z"
   },
   {
    "duration": 181,
    "start_time": "2024-05-12T20:07:00.049Z"
   },
   {
    "duration": 142,
    "start_time": "2024-05-12T20:07:03.928Z"
   },
   {
    "duration": 114,
    "start_time": "2024-05-12T20:08:43.057Z"
   },
   {
    "duration": 9,
    "start_time": "2024-05-12T20:09:03.768Z"
   },
   {
    "duration": 241,
    "start_time": "2024-05-12T20:09:12.482Z"
   },
   {
    "duration": 171,
    "start_time": "2024-05-12T20:10:28.922Z"
   },
   {
    "duration": 163,
    "start_time": "2024-05-12T20:12:31.625Z"
   },
   {
    "duration": 36,
    "start_time": "2024-05-12T20:13:37.115Z"
   },
   {
    "duration": 187,
    "start_time": "2024-05-12T20:13:57.978Z"
   },
   {
    "duration": 10,
    "start_time": "2024-05-12T20:14:58.162Z"
   },
   {
    "duration": 688,
    "start_time": "2024-05-12T20:15:57.082Z"
   },
   {
    "duration": 1120,
    "start_time": "2024-05-12T20:16:11.730Z"
   },
   {
    "duration": 659,
    "start_time": "2024-05-12T20:16:46.923Z"
   },
   {
    "duration": 1068,
    "start_time": "2024-05-12T20:16:59.064Z"
   },
   {
    "duration": 117,
    "start_time": "2024-05-12T20:17:00.134Z"
   },
   {
    "duration": 13,
    "start_time": "2024-05-12T20:17:00.252Z"
   },
   {
    "duration": 1665,
    "start_time": "2024-05-12T20:17:00.267Z"
   },
   {
    "duration": 18,
    "start_time": "2024-05-12T20:17:01.933Z"
   },
   {
    "duration": 47,
    "start_time": "2024-05-12T20:17:01.953Z"
   },
   {
    "duration": 54,
    "start_time": "2024-05-12T20:17:02.001Z"
   },
   {
    "duration": 10,
    "start_time": "2024-05-12T20:17:02.057Z"
   },
   {
    "duration": 96,
    "start_time": "2024-05-12T20:17:02.068Z"
   },
   {
    "duration": 32,
    "start_time": "2024-05-12T20:17:02.168Z"
   },
   {
    "duration": 327,
    "start_time": "2024-05-12T20:17:02.205Z"
   },
   {
    "duration": 5,
    "start_time": "2024-05-12T20:17:02.533Z"
   },
   {
    "duration": 359,
    "start_time": "2024-05-12T20:17:02.539Z"
   },
   {
    "duration": 9,
    "start_time": "2024-05-12T20:17:02.900Z"
   },
   {
    "duration": 7,
    "start_time": "2024-05-12T20:17:02.910Z"
   },
   {
    "duration": 177,
    "start_time": "2024-05-12T20:17:02.918Z"
   },
   {
    "duration": 8,
    "start_time": "2024-05-12T20:17:03.101Z"
   },
   {
    "duration": 9,
    "start_time": "2024-05-12T20:17:03.110Z"
   },
   {
    "duration": 197,
    "start_time": "2024-05-12T20:17:03.122Z"
   },
   {
    "duration": 9,
    "start_time": "2024-05-12T20:17:03.321Z"
   },
   {
    "duration": 82,
    "start_time": "2024-05-12T20:17:03.331Z"
   },
   {
    "duration": 174,
    "start_time": "2024-05-12T20:17:03.415Z"
   },
   {
    "duration": 14,
    "start_time": "2024-05-12T20:17:03.590Z"
   },
   {
    "duration": 16,
    "start_time": "2024-05-12T20:17:03.606Z"
   },
   {
    "duration": 226,
    "start_time": "2024-05-12T20:17:03.624Z"
   },
   {
    "duration": 7,
    "start_time": "2024-05-12T20:17:03.851Z"
   },
   {
    "duration": 10,
    "start_time": "2024-05-12T20:17:03.859Z"
   },
   {
    "duration": 216,
    "start_time": "2024-05-12T20:17:03.872Z"
   },
   {
    "duration": 13,
    "start_time": "2024-05-12T20:17:04.089Z"
   },
   {
    "duration": 15,
    "start_time": "2024-05-12T20:17:04.104Z"
   },
   {
    "duration": 6,
    "start_time": "2024-05-12T20:17:04.122Z"
   },
   {
    "duration": 308,
    "start_time": "2024-05-12T20:17:04.130Z"
   },
   {
    "duration": 139,
    "start_time": "2024-05-12T20:17:04.439Z"
   },
   {
    "duration": 6,
    "start_time": "2024-05-12T20:17:04.579Z"
   },
   {
    "duration": 140,
    "start_time": "2024-05-12T20:17:04.586Z"
   },
   {
    "duration": 10,
    "start_time": "2024-05-12T20:17:04.727Z"
   },
   {
    "duration": 151,
    "start_time": "2024-05-12T20:17:04.738Z"
   },
   {
    "duration": 11,
    "start_time": "2024-05-12T20:17:04.891Z"
   },
   {
    "duration": 10,
    "start_time": "2024-05-12T20:17:04.904Z"
   },
   {
    "duration": 197,
    "start_time": "2024-05-12T20:17:04.916Z"
   },
   {
    "duration": 12,
    "start_time": "2024-05-12T20:17:05.115Z"
   },
   {
    "duration": 222,
    "start_time": "2024-05-12T20:17:05.129Z"
   },
   {
    "duration": 12,
    "start_time": "2024-05-12T20:17:05.352Z"
   },
   {
    "duration": 277,
    "start_time": "2024-05-12T20:17:05.365Z"
   },
   {
    "duration": 139,
    "start_time": "2024-05-12T20:17:05.643Z"
   },
   {
    "duration": 149,
    "start_time": "2024-05-12T20:17:05.783Z"
   },
   {
    "duration": 149,
    "start_time": "2024-05-12T20:17:05.933Z"
   },
   {
    "duration": 142,
    "start_time": "2024-05-12T20:17:06.083Z"
   },
   {
    "duration": 151,
    "start_time": "2024-05-12T20:17:06.226Z"
   },
   {
    "duration": 123,
    "start_time": "2024-05-12T20:17:06.378Z"
   },
   {
    "duration": 157,
    "start_time": "2024-05-12T20:17:06.503Z"
   },
   {
    "duration": 164,
    "start_time": "2024-05-12T20:17:06.662Z"
   },
   {
    "duration": 164,
    "start_time": "2024-05-12T20:17:06.828Z"
   },
   {
    "duration": 84,
    "start_time": "2024-05-12T20:17:06.993Z"
   },
   {
    "duration": 193,
    "start_time": "2024-05-12T20:17:07.078Z"
   },
   {
    "duration": 905,
    "start_time": "2024-05-12T20:17:07.272Z"
   },
   {
    "duration": 0,
    "start_time": "2024-05-12T20:17:08.179Z"
   },
   {
    "duration": 0,
    "start_time": "2024-05-12T20:17:08.179Z"
   },
   {
    "duration": 739,
    "start_time": "2024-05-12T20:20:30.346Z"
   },
   {
    "duration": 2,
    "start_time": "2024-05-12T20:21:08.224Z"
   },
   {
    "duration": 2,
    "start_time": "2024-05-12T20:21:14.130Z"
   },
   {
    "duration": 748,
    "start_time": "2024-05-12T20:21:16.018Z"
   },
   {
    "duration": 754,
    "start_time": "2024-05-12T20:21:37.371Z"
   },
   {
    "duration": 629,
    "start_time": "2024-05-12T20:21:58.963Z"
   },
   {
    "duration": 666,
    "start_time": "2024-05-12T20:22:45.442Z"
   },
   {
    "duration": 638,
    "start_time": "2024-05-12T20:23:12.403Z"
   },
   {
    "duration": 272,
    "start_time": "2024-05-12T20:23:36.570Z"
   },
   {
    "duration": 213,
    "start_time": "2024-05-12T20:24:18.923Z"
   },
   {
    "duration": 325,
    "start_time": "2024-05-12T20:24:51.117Z"
   },
   {
    "duration": 24,
    "start_time": "2024-05-12T20:25:06.796Z"
   },
   {
    "duration": 160,
    "start_time": "2024-05-12T20:25:08.322Z"
   },
   {
    "duration": 448,
    "start_time": "2024-05-12T20:25:18.879Z"
   },
   {
    "duration": 474,
    "start_time": "2024-05-12T20:25:23.476Z"
   },
   {
    "duration": 337,
    "start_time": "2024-05-12T20:25:35.210Z"
   },
   {
    "duration": 294,
    "start_time": "2024-05-12T20:25:39.865Z"
   },
   {
    "duration": 35,
    "start_time": "2024-05-12T20:27:07.354Z"
   },
   {
    "duration": 325,
    "start_time": "2024-05-12T20:28:04.377Z"
   },
   {
    "duration": 19,
    "start_time": "2024-05-12T20:28:06.986Z"
   },
   {
    "duration": 48,
    "start_time": "2024-05-12T20:35:28.305Z"
   },
   {
    "duration": 34,
    "start_time": "2024-05-12T20:39:34.662Z"
   },
   {
    "duration": 41,
    "start_time": "2024-05-12T20:40:46.251Z"
   },
   {
    "duration": 36,
    "start_time": "2024-05-12T20:43:04.201Z"
   },
   {
    "duration": 991,
    "start_time": "2024-05-12T20:45:06.348Z"
   },
   {
    "duration": 105,
    "start_time": "2024-05-12T20:45:07.340Z"
   },
   {
    "duration": 12,
    "start_time": "2024-05-12T20:45:07.446Z"
   },
   {
    "duration": 1496,
    "start_time": "2024-05-12T20:45:07.460Z"
   },
   {
    "duration": 19,
    "start_time": "2024-05-12T20:45:08.957Z"
   },
   {
    "duration": 15,
    "start_time": "2024-05-12T20:45:08.977Z"
   },
   {
    "duration": 22,
    "start_time": "2024-05-12T20:45:08.993Z"
   },
   {
    "duration": 11,
    "start_time": "2024-05-12T20:45:09.016Z"
   },
   {
    "duration": 86,
    "start_time": "2024-05-12T20:45:09.028Z"
   },
   {
    "duration": 6,
    "start_time": "2024-05-12T20:45:09.116Z"
   },
   {
    "duration": 336,
    "start_time": "2024-05-12T20:45:09.123Z"
   },
   {
    "duration": 5,
    "start_time": "2024-05-12T20:45:09.461Z"
   },
   {
    "duration": 318,
    "start_time": "2024-05-12T20:45:09.467Z"
   },
   {
    "duration": 7,
    "start_time": "2024-05-12T20:45:09.786Z"
   },
   {
    "duration": 12,
    "start_time": "2024-05-12T20:45:09.794Z"
   },
   {
    "duration": 167,
    "start_time": "2024-05-12T20:45:09.807Z"
   },
   {
    "duration": 8,
    "start_time": "2024-05-12T20:45:09.975Z"
   },
   {
    "duration": 39,
    "start_time": "2024-05-12T20:45:09.984Z"
   },
   {
    "duration": 167,
    "start_time": "2024-05-12T20:45:10.024Z"
   },
   {
    "duration": 9,
    "start_time": "2024-05-12T20:45:10.192Z"
   },
   {
    "duration": 6,
    "start_time": "2024-05-12T20:45:10.203Z"
   },
   {
    "duration": 174,
    "start_time": "2024-05-12T20:45:10.210Z"
   },
   {
    "duration": 16,
    "start_time": "2024-05-12T20:45:10.386Z"
   },
   {
    "duration": 10,
    "start_time": "2024-05-12T20:45:10.403Z"
   },
   {
    "duration": 189,
    "start_time": "2024-05-12T20:45:10.414Z"
   },
   {
    "duration": 8,
    "start_time": "2024-05-12T20:45:10.604Z"
   },
   {
    "duration": 9,
    "start_time": "2024-05-12T20:45:10.613Z"
   },
   {
    "duration": 203,
    "start_time": "2024-05-12T20:45:10.626Z"
   },
   {
    "duration": 7,
    "start_time": "2024-05-12T20:45:10.831Z"
   },
   {
    "duration": 10,
    "start_time": "2024-05-12T20:45:10.840Z"
   },
   {
    "duration": 5,
    "start_time": "2024-05-12T20:45:10.852Z"
   },
   {
    "duration": 267,
    "start_time": "2024-05-12T20:45:10.858Z"
   },
   {
    "duration": 147,
    "start_time": "2024-05-12T20:45:11.127Z"
   },
   {
    "duration": 7,
    "start_time": "2024-05-12T20:45:11.275Z"
   },
   {
    "duration": 126,
    "start_time": "2024-05-12T20:45:11.283Z"
   },
   {
    "duration": 10,
    "start_time": "2024-05-12T20:45:11.410Z"
   },
   {
    "duration": 139,
    "start_time": "2024-05-12T20:45:11.422Z"
   },
   {
    "duration": 7,
    "start_time": "2024-05-12T20:45:11.562Z"
   },
   {
    "duration": 14,
    "start_time": "2024-05-12T20:45:11.570Z"
   },
   {
    "duration": 181,
    "start_time": "2024-05-12T20:45:11.585Z"
   },
   {
    "duration": 7,
    "start_time": "2024-05-12T20:45:11.767Z"
   },
   {
    "duration": 175,
    "start_time": "2024-05-12T20:45:11.776Z"
   },
   {
    "duration": 12,
    "start_time": "2024-05-12T20:45:11.953Z"
   },
   {
    "duration": 267,
    "start_time": "2024-05-12T20:45:11.967Z"
   },
   {
    "duration": 140,
    "start_time": "2024-05-12T20:45:12.235Z"
   },
   {
    "duration": 144,
    "start_time": "2024-05-12T20:45:12.376Z"
   },
   {
    "duration": 138,
    "start_time": "2024-05-12T20:45:12.521Z"
   },
   {
    "duration": 140,
    "start_time": "2024-05-12T20:45:12.661Z"
   },
   {
    "duration": 126,
    "start_time": "2024-05-12T20:45:12.802Z"
   },
   {
    "duration": 116,
    "start_time": "2024-05-12T20:45:12.929Z"
   },
   {
    "duration": 155,
    "start_time": "2024-05-12T20:45:13.046Z"
   },
   {
    "duration": 149,
    "start_time": "2024-05-12T20:45:13.203Z"
   },
   {
    "duration": 149,
    "start_time": "2024-05-12T20:45:13.354Z"
   },
   {
    "duration": 87,
    "start_time": "2024-05-12T20:45:13.505Z"
   },
   {
    "duration": 161,
    "start_time": "2024-05-12T20:45:13.602Z"
   },
   {
    "duration": 229,
    "start_time": "2024-05-12T20:45:13.764Z"
   },
   {
    "duration": 17,
    "start_time": "2024-05-12T20:45:14.001Z"
   },
   {
    "duration": 1359,
    "start_time": "2024-05-13T19:26:42.956Z"
   },
   {
    "duration": 324,
    "start_time": "2024-05-13T19:26:44.318Z"
   },
   {
    "duration": 17,
    "start_time": "2024-05-13T19:26:44.644Z"
   },
   {
    "duration": 2005,
    "start_time": "2024-05-13T19:26:44.663Z"
   },
   {
    "duration": 30,
    "start_time": "2024-05-13T19:26:46.670Z"
   },
   {
    "duration": 12,
    "start_time": "2024-05-13T19:26:46.702Z"
   },
   {
    "duration": 41,
    "start_time": "2024-05-13T19:26:46.716Z"
   },
   {
    "duration": 15,
    "start_time": "2024-05-13T19:26:46.759Z"
   },
   {
    "duration": 123,
    "start_time": "2024-05-13T19:26:46.776Z"
   },
   {
    "duration": 12,
    "start_time": "2024-05-13T19:26:46.903Z"
   },
   {
    "duration": 397,
    "start_time": "2024-05-13T19:26:46.916Z"
   },
   {
    "duration": 8,
    "start_time": "2024-05-13T19:26:47.315Z"
   },
   {
    "duration": 417,
    "start_time": "2024-05-13T19:26:47.324Z"
   },
   {
    "duration": 15,
    "start_time": "2024-05-13T19:26:47.742Z"
   },
   {
    "duration": 10,
    "start_time": "2024-05-13T19:26:47.759Z"
   },
   {
    "duration": 239,
    "start_time": "2024-05-13T19:26:47.771Z"
   },
   {
    "duration": 9,
    "start_time": "2024-05-13T19:26:48.011Z"
   },
   {
    "duration": 14,
    "start_time": "2024-05-13T19:26:48.021Z"
   },
   {
    "duration": 277,
    "start_time": "2024-05-13T19:26:48.036Z"
   },
   {
    "duration": 9,
    "start_time": "2024-05-13T19:26:48.314Z"
   },
   {
    "duration": 8,
    "start_time": "2024-05-13T19:26:48.324Z"
   },
   {
    "duration": 269,
    "start_time": "2024-05-13T19:26:48.334Z"
   },
   {
    "duration": 9,
    "start_time": "2024-05-13T19:26:48.605Z"
   },
   {
    "duration": 12,
    "start_time": "2024-05-13T19:26:48.616Z"
   },
   {
    "duration": 280,
    "start_time": "2024-05-13T19:26:48.629Z"
   },
   {
    "duration": 8,
    "start_time": "2024-05-13T19:26:48.911Z"
   },
   {
    "duration": 10,
    "start_time": "2024-05-13T19:26:48.921Z"
   },
   {
    "duration": 250,
    "start_time": "2024-05-13T19:26:48.956Z"
   },
   {
    "duration": 8,
    "start_time": "2024-05-13T19:26:49.208Z"
   },
   {
    "duration": 12,
    "start_time": "2024-05-13T19:26:49.217Z"
   },
   {
    "duration": 27,
    "start_time": "2024-05-13T19:26:49.230Z"
   },
   {
    "duration": 331,
    "start_time": "2024-05-13T19:26:49.259Z"
   },
   {
    "duration": 187,
    "start_time": "2024-05-13T19:26:49.592Z"
   },
   {
    "duration": 10,
    "start_time": "2024-05-13T19:26:49.781Z"
   },
   {
    "duration": 160,
    "start_time": "2024-05-13T19:26:49.793Z"
   },
   {
    "duration": 17,
    "start_time": "2024-05-13T19:26:49.955Z"
   },
   {
    "duration": 208,
    "start_time": "2024-05-13T19:26:49.973Z"
   },
   {
    "duration": 9,
    "start_time": "2024-05-13T19:26:50.183Z"
   },
   {
    "duration": 23,
    "start_time": "2024-05-13T19:26:50.193Z"
   },
   {
    "duration": 263,
    "start_time": "2024-05-13T19:26:50.218Z"
   },
   {
    "duration": 10,
    "start_time": "2024-05-13T19:26:50.482Z"
   },
   {
    "duration": 240,
    "start_time": "2024-05-13T19:26:50.493Z"
   },
   {
    "duration": 13,
    "start_time": "2024-05-13T19:26:50.735Z"
   },
   {
    "duration": 393,
    "start_time": "2024-05-13T19:26:50.756Z"
   },
   {
    "duration": 192,
    "start_time": "2024-05-13T19:26:51.151Z"
   },
   {
    "duration": 199,
    "start_time": "2024-05-13T19:26:51.345Z"
   },
   {
    "duration": 200,
    "start_time": "2024-05-13T19:26:51.546Z"
   },
   {
    "duration": 184,
    "start_time": "2024-05-13T19:26:51.756Z"
   },
   {
    "duration": 181,
    "start_time": "2024-05-13T19:26:51.941Z"
   },
   {
    "duration": 177,
    "start_time": "2024-05-13T19:26:52.124Z"
   },
   {
    "duration": 211,
    "start_time": "2024-05-13T19:26:52.303Z"
   },
   {
    "duration": 184,
    "start_time": "2024-05-13T19:26:52.516Z"
   },
   {
    "duration": 187,
    "start_time": "2024-05-13T19:26:52.702Z"
   },
   {
    "duration": 112,
    "start_time": "2024-05-13T19:26:52.891Z"
   },
   {
    "duration": 225,
    "start_time": "2024-05-13T19:26:53.005Z"
   },
   {
    "duration": 339,
    "start_time": "2024-05-13T19:26:53.232Z"
   },
   {
    "duration": 21,
    "start_time": "2024-05-13T19:26:53.573Z"
   },
   {
    "duration": 90,
    "start_time": "2024-05-13T19:36:09.020Z"
   }
  ],
  "colab": {
   "provenance": []
  },
  "kernelspec": {
   "display_name": "Python 3 (ipykernel)",
   "language": "python",
   "name": "python3"
  },
  "language_info": {
   "codemirror_mode": {
    "name": "ipython",
    "version": 3
   },
   "file_extension": ".py",
   "mimetype": "text/x-python",
   "name": "python",
   "nbconvert_exporter": "python",
   "pygments_lexer": "ipython3",
   "version": "3.9.5"
  },
  "toc": {
   "base_numbering": 1,
   "nav_menu": {},
   "number_sections": true,
   "sideBar": true,
   "skip_h1_title": true,
   "title_cell": "Table of Contents",
   "title_sidebar": "Contents",
   "toc_cell": false,
   "toc_position": {},
   "toc_section_display": true,
   "toc_window_display": false
  }
 },
 "nbformat": 4,
 "nbformat_minor": 1
}
