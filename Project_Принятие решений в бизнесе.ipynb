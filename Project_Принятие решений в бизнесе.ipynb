{
 "cells": [
  {
   "cell_type": "markdown",
   "id": "e88f902c",
   "metadata": {},
   "source": [
    "<div class=\"alert alert-success\">\n",
    "<b> Комментарий от ревьюера 2</b>\n",
    "\n",
    "Привет еще раз. Спасибо, что доделал работу. Оформление комментариев по работе сохраняется. Только обозначим, что это вторая итерация. \n",
    "\n",
    "</div>"
   ]
  },
  {
   "cell_type": "markdown",
   "id": "daab2c11",
   "metadata": {},
   "source": [
    "<div style=\"border: 2px solid black; padding: 20px; border-radius: 10px; margin-bottom: 20px; font-family: Arial, sans-serif;\">\n",
    "<p>Привет, Матвей.</p>\n",
    "<p>Меня зовут Людмила, и я буду проводить ревью твоего проекта.</p>\n",
    "<p>Предлагаю перейти на «ты», если не против)</p>\n",
    "<p>Но если это неудобно — дай знать, и мы перейдем на «вы». Моя главная задача — не находить сделанные тобой ошибки, а передать свой опыт и помочь тебе стать аналитиком данных.</p>\n",
    "<p>Мои комментарии будут в ячейках «Комментарий от ревьюера».</p>\n",
    "\n",
    "<hr style=\"margin: 20px 0; border-bottom: 1px solid #ccc;\">\n",
    "\n",
    "<div style=\"border: 1px solid #f5c6cb; background-color: #f8d7da; color: #721c24; padding: 10px; border-radius: 5px;\">\n",
    "        Критическое замечание, которое следует исправить.\n",
    "</div>\n",
    "\n",
    "<div style=\"border: 1px solid #ffeeba; background-color: #fff3cd; color: #856404; padding: 10px; border-radius: 5px; margin-top: 10px;\">\n",
    "        Замечание/совет на будущее.\n",
    "</div>\n",
    "\n",
    "<div style=\"border: 1px solid #c3e6cb; background-color: #d4edda; color: #155724; padding: 10px; border-radius: 5px; margin-top: 10px;\">\n",
    "        Когда всё сделано правильно.\n",
    "</div>\n",
    "\n",
    "<hr style=\"margin: 20px 0; border-bottom: 1px solid #ccc;\">\n",
    "\n",
    "<p>Если ты вносишь изменения в проект по моим рекомендациям, указывай, пожалуйста, это в своих комментариях. Будет удобно, если обозначишь свои комментарии заметным цветом или поместишь их</p>\n",
    "\n",
    "<div style=\"border: 1px solid #bee5eb; background-color: #d1ecf1; color: #0c5460; padding: 10px; border-radius: 5px; margin-top: 10px;\">\n",
    "        в такую ячейку.\n",
    "</div>\n",
    "\n",
    "<p>Давай при работе с проектом будем общаться с тобой в диалоге, поэтому не удаляй и не перемещай мои комментарии, это поможет мне сделать повторную проверку проекта быстрее.</p>\n",
    "</div>"
   ]
  },
  {
   "cell_type": "markdown",
   "id": "17f5d688",
   "metadata": {},
   "source": [
    "# Принятие решений в бизнесе.\n",
    "\n",
    "### Цель проекта.\n",
    "В рамках данного проекта неодходимо приоритизировать гипотезы для увеличения выручки и проанализировать результаты A/B-теста и, как итог, сформулировать рекомендации. \n",
    "\n",
    "### Описание данных:\n",
    "\n",
    "В вашем распоряжении три датасета с данными о пользователях, привлечённых с 1 мая по 27 октября 2019 года, выгрузка их покупок за этот период и данные о рекламных расходах.\n",
    "\n",
    " - Набор гипотез `/datasets/hypothesis.csv`. [Скачать датасет](https://code.s3.yandex.net/datasets/hypothesis.csv);\n",
    " \n",
    "    - Hypothesis — краткое описание гипотезы;   \n",
    "    - Reach — охват пользователей по 10-балльной шкале;   \n",
    "    - Impact — влияние на пользователей по 10-балльной шкале;   \n",
    "    - Confidence — уверенность в гипотезе по 10-балльной шкале;    \n",
    "    - Efforts — затраты ресурсов на проверку гипотезы по 10-балльной шкале.  \n",
    "\n",
    "\n",
    " - Информация о заказах пользователей в интернет-магазине `/datasets/orders.csv`. [Скачать датасет](https://code.s3.yandex.net/datasets/orders.csv)\n",
    " \n",
    "     - transactionId — идентификатор заказа;    \n",
    "     - visitorId — идентификатор пользователя, совершившего заказ;    \n",
    "     - date — дата, когда был совершён заказ;    \n",
    "     - revenue — выручка заказа;    \n",
    "     - group — группа A/B-теста, в которую попал заказ. \n",
    "\n",
    "\n",
    " - Информация о посещениях пользователями интернет-магазина `/datasets/visitors.csv`. [Скачать датасет](https://code.s3.yandex.net/datasets/visitors.csv)\n",
    "\n",
    "     - date — дата;   \n",
    "     - group — группа A/B-теста;    \n",
    "     - visitors — количество пользователей в указанную дату в указанной группе A/B-теста. \n",
    "\n",
    "     "
   ]
  },
  {
   "cell_type": "markdown",
   "id": "70c39dcd",
   "metadata": {},
   "source": [
    "<div class=\"alert alert-block alert-success\">\n",
    "    \n",
    "<b>Комментарий от ревьюера</b> \n",
    "    \n",
    "Хорошо, что во вступительной части ты указываешь всю важную информацию о проекте.\n",
    "</div>"
   ]
  },
  {
   "cell_type": "markdown",
   "id": "afd5fc3e",
   "metadata": {},
   "source": [
    "## Часть 1. Предобработка данных"
   ]
  },
  {
   "cell_type": "code",
   "execution_count": 1,
   "id": "f50ccd08",
   "metadata": {},
   "outputs": [],
   "source": [
    "# импорт библиотек\n",
    "import pandas as pd\n",
    "import seaborn as sns\n",
    "import numpy as np\n",
    "import matplotlib.pyplot as plt\n",
    "from math import sqrt\n",
    "from datetime import datetime, timedelta\n",
    "import scipy.stats as stats"
   ]
  },
  {
   "cell_type": "markdown",
   "id": "0cfe9458",
   "metadata": {},
   "source": [
    "<div class=\"alert alert-warning\">\n",
    "<b>Комментарий от ревьюера:</b> Ты загружаешь scipy.stats 2 раза под разными названиями. Одного будет достаточно.\n",
    "\n",
    "</div>"
   ]
  },
  {
   "cell_type": "markdown",
   "id": "fdf5e15c",
   "metadata": {},
   "source": [
    "<div class=\"alert alert-info\">\n",
    "<b>Комментарий студента:</b>\n",
    "<br> Исправил.\n",
    "</div>"
   ]
  },
  {
   "cell_type": "markdown",
   "id": "4899e169",
   "metadata": {},
   "source": [
    "<div class=\"alert alert-success\">\n",
    "<b> Комментарий от ревьюера 2</b>\n",
    "\n",
    "Отлично, теперь здесь у нас нет ничего лишнего. \n",
    "\n",
    "</div>"
   ]
  },
  {
   "cell_type": "code",
   "execution_count": 2,
   "id": "a1c3d19e",
   "metadata": {},
   "outputs": [],
   "source": [
    "hypothesis = pd.read_csv('/datasets/hypothesis.csv')\n",
    "orders = pd.read_csv('/datasets/orders.csv')\n",
    "visitors = pd.read_csv('/datasets/visitors.csv')\n",
    "\n",
    "#hypothesis = pd.read_csv(r'C:\\Users\\Matvey\\Desktop\\Курс\\Проект_7_Принятие решений в бизнесе\\hypothesis.csv')\n",
    "#orders = pd.read_csv(r'C:\\Users\\Matvey\\Desktop\\Курс\\Проект_7_Принятие решений в бизнесе\\orders.csv')\n",
    "#visitors = pd.read_csv(r'C:\\Users\\Matvey\\Desktop\\Курс\\Проект_7_Принятие решений в бизнесе\\visitors.csv')"
   ]
  },
  {
   "cell_type": "code",
   "execution_count": 3,
   "id": "3f80d507",
   "metadata": {},
   "outputs": [],
   "source": [
    "# Увеличим максимальное количество и ширину отображающихся столбцов.\n",
    "pd.set_option('display.max_columns', None)\n",
    "pd.options.display.max_colwidth = 1\n",
    "\n",
    "# Заранее приведем названия столбцов к ниженму регистру.\n",
    "hypothesis.columns = [col.lower().replace(' ','_') for col in hypothesis.columns]\n",
    "orders.columns = [col.lower().replace(' ','_') for col in orders.columns]\n",
    "visitors.columns = [col.lower().replace(' ','_') for col in visitors.columns]"
   ]
  },
  {
   "cell_type": "markdown",
   "id": "cd10eb20",
   "metadata": {},
   "source": [
    "Рассмотрим информацию об имеющихся датафреймах."
   ]
  },
  {
   "cell_type": "code",
   "execution_count": 4,
   "id": "1da49798",
   "metadata": {},
   "outputs": [
    {
     "name": "stdout",
     "output_type": "stream",
     "text": [
      "<class 'pandas.core.frame.DataFrame'>\n",
      "RangeIndex: 9 entries, 0 to 8\n",
      "Data columns (total 5 columns):\n",
      " #   Column      Non-Null Count  Dtype \n",
      "---  ------      --------------  ----- \n",
      " 0   hypothesis  9 non-null      object\n",
      " 1   reach       9 non-null      int64 \n",
      " 2   impact      9 non-null      int64 \n",
      " 3   confidence  9 non-null      int64 \n",
      " 4   efforts     9 non-null      int64 \n",
      "dtypes: int64(4), object(1)\n",
      "memory usage: 488.0+ bytes\n"
     ]
    },
    {
     "data": {
      "text/html": [
       "<div>\n",
       "<style scoped>\n",
       "    .dataframe tbody tr th:only-of-type {\n",
       "        vertical-align: middle;\n",
       "    }\n",
       "\n",
       "    .dataframe tbody tr th {\n",
       "        vertical-align: top;\n",
       "    }\n",
       "\n",
       "    .dataframe thead th {\n",
       "        text-align: right;\n",
       "    }\n",
       "</style>\n",
       "<table border=\"1\" class=\"dataframe\">\n",
       "  <thead>\n",
       "    <tr style=\"text-align: right;\">\n",
       "      <th></th>\n",
       "      <th>hypothesis</th>\n",
       "      <th>reach</th>\n",
       "      <th>impact</th>\n",
       "      <th>confidence</th>\n",
       "      <th>efforts</th>\n",
       "    </tr>\n",
       "  </thead>\n",
       "  <tbody>\n",
       "    <tr>\n",
       "      <th>0</th>\n",
       "      <td>Добавить два новых канала привлечения трафика, что позволит привлекать на 30% больше пользователей</td>\n",
       "      <td>3</td>\n",
       "      <td>10</td>\n",
       "      <td>8</td>\n",
       "      <td>6</td>\n",
       "    </tr>\n",
       "    <tr>\n",
       "      <th>1</th>\n",
       "      <td>Запустить собственную службу доставки, что сократит срок доставки заказов</td>\n",
       "      <td>2</td>\n",
       "      <td>5</td>\n",
       "      <td>4</td>\n",
       "      <td>10</td>\n",
       "    </tr>\n",
       "    <tr>\n",
       "      <th>2</th>\n",
       "      <td>Добавить блоки рекомендаций товаров на сайт интернет магазина, чтобы повысить конверсию и средний чек заказа</td>\n",
       "      <td>8</td>\n",
       "      <td>3</td>\n",
       "      <td>7</td>\n",
       "      <td>3</td>\n",
       "    </tr>\n",
       "    <tr>\n",
       "      <th>3</th>\n",
       "      <td>Изменить структура категорий, что увеличит конверсию, т.к. пользователи быстрее найдут нужный товар</td>\n",
       "      <td>8</td>\n",
       "      <td>3</td>\n",
       "      <td>3</td>\n",
       "      <td>8</td>\n",
       "    </tr>\n",
       "    <tr>\n",
       "      <th>4</th>\n",
       "      <td>Изменить цвет фона главной страницы, чтобы увеличить вовлеченность пользователей</td>\n",
       "      <td>3</td>\n",
       "      <td>1</td>\n",
       "      <td>1</td>\n",
       "      <td>1</td>\n",
       "    </tr>\n",
       "    <tr>\n",
       "      <th>5</th>\n",
       "      <td>Добавить страницу отзывов клиентов о магазине, что позволит увеличить количество заказов</td>\n",
       "      <td>3</td>\n",
       "      <td>2</td>\n",
       "      <td>2</td>\n",
       "      <td>3</td>\n",
       "    </tr>\n",
       "    <tr>\n",
       "      <th>6</th>\n",
       "      <td>Показать на главной странице баннеры с актуальными акциями и распродажами, чтобы увеличить конверсию</td>\n",
       "      <td>5</td>\n",
       "      <td>3</td>\n",
       "      <td>8</td>\n",
       "      <td>3</td>\n",
       "    </tr>\n",
       "    <tr>\n",
       "      <th>7</th>\n",
       "      <td>Добавить форму подписки на все основные страницы, чтобы собрать базу клиентов для email-рассылок</td>\n",
       "      <td>10</td>\n",
       "      <td>7</td>\n",
       "      <td>8</td>\n",
       "      <td>5</td>\n",
       "    </tr>\n",
       "    <tr>\n",
       "      <th>8</th>\n",
       "      <td>Запустить акцию, дающую скидку на товар в день рождения</td>\n",
       "      <td>1</td>\n",
       "      <td>9</td>\n",
       "      <td>9</td>\n",
       "      <td>5</td>\n",
       "    </tr>\n",
       "  </tbody>\n",
       "</table>\n",
       "</div>"
      ],
      "text/plain": [
       "                                                                                                     hypothesis  \\\n",
       "0  Добавить два новых канала привлечения трафика, что позволит привлекать на 30% больше пользователей             \n",
       "1  Запустить собственную службу доставки, что сократит срок доставки заказов                                      \n",
       "2  Добавить блоки рекомендаций товаров на сайт интернет магазина, чтобы повысить конверсию и средний чек заказа   \n",
       "3  Изменить структура категорий, что увеличит конверсию, т.к. пользователи быстрее найдут нужный товар            \n",
       "4  Изменить цвет фона главной страницы, чтобы увеличить вовлеченность пользователей                               \n",
       "5  Добавить страницу отзывов клиентов о магазине, что позволит увеличить количество заказов                       \n",
       "6  Показать на главной странице баннеры с актуальными акциями и распродажами, чтобы увеличить конверсию           \n",
       "7  Добавить форму подписки на все основные страницы, чтобы собрать базу клиентов для email-рассылок               \n",
       "8  Запустить акцию, дающую скидку на товар в день рождения                                                        \n",
       "\n",
       "   reach  impact  confidence  efforts  \n",
       "0  3      10      8           6        \n",
       "1  2      5       4           10       \n",
       "2  8      3       7           3        \n",
       "3  8      3       3           8        \n",
       "4  3      1       1           1        \n",
       "5  3      2       2           3        \n",
       "6  5      3       8           3        \n",
       "7  10     7       8           5        \n",
       "8  1      9       9           5        "
      ]
     },
     "metadata": {},
     "output_type": "display_data"
    },
    {
     "data": {
      "text/plain": [
       "None"
      ]
     },
     "metadata": {},
     "output_type": "display_data"
    },
    {
     "name": "stdout",
     "output_type": "stream",
     "text": [
      "<class 'pandas.core.frame.DataFrame'>\n",
      "RangeIndex: 1197 entries, 0 to 1196\n",
      "Data columns (total 5 columns):\n",
      " #   Column         Non-Null Count  Dtype \n",
      "---  ------         --------------  ----- \n",
      " 0   transactionid  1197 non-null   int64 \n",
      " 1   visitorid      1197 non-null   int64 \n",
      " 2   date           1197 non-null   object\n",
      " 3   revenue        1197 non-null   int64 \n",
      " 4   group          1197 non-null   object\n",
      "dtypes: int64(3), object(2)\n",
      "memory usage: 46.9+ KB\n"
     ]
    },
    {
     "data": {
      "text/html": [
       "<div>\n",
       "<style scoped>\n",
       "    .dataframe tbody tr th:only-of-type {\n",
       "        vertical-align: middle;\n",
       "    }\n",
       "\n",
       "    .dataframe tbody tr th {\n",
       "        vertical-align: top;\n",
       "    }\n",
       "\n",
       "    .dataframe thead th {\n",
       "        text-align: right;\n",
       "    }\n",
       "</style>\n",
       "<table border=\"1\" class=\"dataframe\">\n",
       "  <thead>\n",
       "    <tr style=\"text-align: right;\">\n",
       "      <th></th>\n",
       "      <th>transactionid</th>\n",
       "      <th>visitorid</th>\n",
       "      <th>date</th>\n",
       "      <th>revenue</th>\n",
       "      <th>group</th>\n",
       "    </tr>\n",
       "  </thead>\n",
       "  <tbody>\n",
       "    <tr>\n",
       "      <th>0</th>\n",
       "      <td>3667963787</td>\n",
       "      <td>3312258926</td>\n",
       "      <td>2019-08-15</td>\n",
       "      <td>1650</td>\n",
       "      <td>B</td>\n",
       "    </tr>\n",
       "    <tr>\n",
       "      <th>1</th>\n",
       "      <td>2804400009</td>\n",
       "      <td>3642806036</td>\n",
       "      <td>2019-08-15</td>\n",
       "      <td>730</td>\n",
       "      <td>B</td>\n",
       "    </tr>\n",
       "    <tr>\n",
       "      <th>2</th>\n",
       "      <td>2961555356</td>\n",
       "      <td>4069496402</td>\n",
       "      <td>2019-08-15</td>\n",
       "      <td>400</td>\n",
       "      <td>A</td>\n",
       "    </tr>\n",
       "    <tr>\n",
       "      <th>3</th>\n",
       "      <td>3797467345</td>\n",
       "      <td>1196621759</td>\n",
       "      <td>2019-08-15</td>\n",
       "      <td>9759</td>\n",
       "      <td>B</td>\n",
       "    </tr>\n",
       "    <tr>\n",
       "      <th>4</th>\n",
       "      <td>2282983706</td>\n",
       "      <td>2322279887</td>\n",
       "      <td>2019-08-15</td>\n",
       "      <td>2308</td>\n",
       "      <td>B</td>\n",
       "    </tr>\n",
       "    <tr>\n",
       "      <th>5</th>\n",
       "      <td>182168103</td>\n",
       "      <td>935554773</td>\n",
       "      <td>2019-08-15</td>\n",
       "      <td>2210</td>\n",
       "      <td>B</td>\n",
       "    </tr>\n",
       "    <tr>\n",
       "      <th>6</th>\n",
       "      <td>398296753</td>\n",
       "      <td>2900797465</td>\n",
       "      <td>2019-08-15</td>\n",
       "      <td>1860</td>\n",
       "      <td>B</td>\n",
       "    </tr>\n",
       "    <tr>\n",
       "      <th>7</th>\n",
       "      <td>2626614568</td>\n",
       "      <td>78758296</td>\n",
       "      <td>2019-08-15</td>\n",
       "      <td>1044</td>\n",
       "      <td>A</td>\n",
       "    </tr>\n",
       "    <tr>\n",
       "      <th>8</th>\n",
       "      <td>1576988021</td>\n",
       "      <td>295230930</td>\n",
       "      <td>2019-08-15</td>\n",
       "      <td>13710</td>\n",
       "      <td>A</td>\n",
       "    </tr>\n",
       "    <tr>\n",
       "      <th>9</th>\n",
       "      <td>1506739906</td>\n",
       "      <td>1882260405</td>\n",
       "      <td>2019-08-15</td>\n",
       "      <td>1855</td>\n",
       "      <td>B</td>\n",
       "    </tr>\n",
       "  </tbody>\n",
       "</table>\n",
       "</div>"
      ],
      "text/plain": [
       "   transactionid   visitorid        date  revenue group\n",
       "0  3667963787     3312258926  2019-08-15  1650     B   \n",
       "1  2804400009     3642806036  2019-08-15  730      B   \n",
       "2  2961555356     4069496402  2019-08-15  400      A   \n",
       "3  3797467345     1196621759  2019-08-15  9759     B   \n",
       "4  2282983706     2322279887  2019-08-15  2308     B   \n",
       "5  182168103      935554773   2019-08-15  2210     B   \n",
       "6  398296753      2900797465  2019-08-15  1860     B   \n",
       "7  2626614568     78758296    2019-08-15  1044     A   \n",
       "8  1576988021     295230930   2019-08-15  13710    A   \n",
       "9  1506739906     1882260405  2019-08-15  1855     B   "
      ]
     },
     "metadata": {},
     "output_type": "display_data"
    },
    {
     "data": {
      "text/plain": [
       "None"
      ]
     },
     "metadata": {},
     "output_type": "display_data"
    },
    {
     "name": "stdout",
     "output_type": "stream",
     "text": [
      "<class 'pandas.core.frame.DataFrame'>\n",
      "RangeIndex: 62 entries, 0 to 61\n",
      "Data columns (total 3 columns):\n",
      " #   Column    Non-Null Count  Dtype \n",
      "---  ------    --------------  ----- \n",
      " 0   date      62 non-null     object\n",
      " 1   group     62 non-null     object\n",
      " 2   visitors  62 non-null     int64 \n",
      "dtypes: int64(1), object(2)\n",
      "memory usage: 1.6+ KB\n"
     ]
    },
    {
     "data": {
      "text/html": [
       "<div>\n",
       "<style scoped>\n",
       "    .dataframe tbody tr th:only-of-type {\n",
       "        vertical-align: middle;\n",
       "    }\n",
       "\n",
       "    .dataframe tbody tr th {\n",
       "        vertical-align: top;\n",
       "    }\n",
       "\n",
       "    .dataframe thead th {\n",
       "        text-align: right;\n",
       "    }\n",
       "</style>\n",
       "<table border=\"1\" class=\"dataframe\">\n",
       "  <thead>\n",
       "    <tr style=\"text-align: right;\">\n",
       "      <th></th>\n",
       "      <th>date</th>\n",
       "      <th>group</th>\n",
       "      <th>visitors</th>\n",
       "    </tr>\n",
       "  </thead>\n",
       "  <tbody>\n",
       "    <tr>\n",
       "      <th>0</th>\n",
       "      <td>2019-08-01</td>\n",
       "      <td>A</td>\n",
       "      <td>719</td>\n",
       "    </tr>\n",
       "    <tr>\n",
       "      <th>1</th>\n",
       "      <td>2019-08-02</td>\n",
       "      <td>A</td>\n",
       "      <td>619</td>\n",
       "    </tr>\n",
       "    <tr>\n",
       "      <th>2</th>\n",
       "      <td>2019-08-03</td>\n",
       "      <td>A</td>\n",
       "      <td>507</td>\n",
       "    </tr>\n",
       "    <tr>\n",
       "      <th>3</th>\n",
       "      <td>2019-08-04</td>\n",
       "      <td>A</td>\n",
       "      <td>717</td>\n",
       "    </tr>\n",
       "    <tr>\n",
       "      <th>4</th>\n",
       "      <td>2019-08-05</td>\n",
       "      <td>A</td>\n",
       "      <td>756</td>\n",
       "    </tr>\n",
       "    <tr>\n",
       "      <th>5</th>\n",
       "      <td>2019-08-06</td>\n",
       "      <td>A</td>\n",
       "      <td>667</td>\n",
       "    </tr>\n",
       "    <tr>\n",
       "      <th>6</th>\n",
       "      <td>2019-08-07</td>\n",
       "      <td>A</td>\n",
       "      <td>644</td>\n",
       "    </tr>\n",
       "    <tr>\n",
       "      <th>7</th>\n",
       "      <td>2019-08-08</td>\n",
       "      <td>A</td>\n",
       "      <td>610</td>\n",
       "    </tr>\n",
       "    <tr>\n",
       "      <th>8</th>\n",
       "      <td>2019-08-09</td>\n",
       "      <td>A</td>\n",
       "      <td>617</td>\n",
       "    </tr>\n",
       "    <tr>\n",
       "      <th>9</th>\n",
       "      <td>2019-08-10</td>\n",
       "      <td>A</td>\n",
       "      <td>406</td>\n",
       "    </tr>\n",
       "  </tbody>\n",
       "</table>\n",
       "</div>"
      ],
      "text/plain": [
       "         date group  visitors\n",
       "0  2019-08-01  A     719     \n",
       "1  2019-08-02  A     619     \n",
       "2  2019-08-03  A     507     \n",
       "3  2019-08-04  A     717     \n",
       "4  2019-08-05  A     756     \n",
       "5  2019-08-06  A     667     \n",
       "6  2019-08-07  A     644     \n",
       "7  2019-08-08  A     610     \n",
       "8  2019-08-09  A     617     \n",
       "9  2019-08-10  A     406     "
      ]
     },
     "metadata": {},
     "output_type": "display_data"
    },
    {
     "data": {
      "text/plain": [
       "None"
      ]
     },
     "metadata": {},
     "output_type": "display_data"
    }
   ],
   "source": [
    "display(hypothesis.head(10), hypothesis.info())\n",
    "display(orders.head(10), orders.info())\n",
    "display(visitors.head(10), visitors.info())"
   ]
  },
  {
   "cell_type": "markdown",
   "id": "4bd31be7",
   "metadata": {},
   "source": [
    "<div class=\"alert alert-success\">\n",
    "<b> Комментарий от ревьюера</b>\n",
    "\n",
    "Молодец, что скорректировал ширину столбцов, так намного удобнее сравнивать гипотезы. \n",
    "\n",
    "</div>"
   ]
  },
  {
   "cell_type": "markdown",
   "id": "15299f65",
   "metadata": {},
   "source": [
    "В данных датасетах остутствуют пропуски, однако для следующих столбцов, есть некорректные типы данных, которые нужно будет исправить. Приведём столбцы orders.date, visitors.date,  к корректному типу данных datetime. Также, необходимо будет проверить данные на наличие явных дубликатов."
   ]
  },
  {
   "cell_type": "code",
   "execution_count": 5,
   "id": "e06b7344",
   "metadata": {},
   "outputs": [
    {
     "name": "stdout",
     "output_type": "stream",
     "text": [
      "<class 'pandas.core.frame.DataFrame'>\n",
      "RangeIndex: 1197 entries, 0 to 1196\n",
      "Data columns (total 5 columns):\n",
      " #   Column         Non-Null Count  Dtype         \n",
      "---  ------         --------------  -----         \n",
      " 0   transactionid  1197 non-null   int64         \n",
      " 1   visitorid      1197 non-null   int64         \n",
      " 2   date           1197 non-null   datetime64[ns]\n",
      " 3   revenue        1197 non-null   int64         \n",
      " 4   group          1197 non-null   object        \n",
      "dtypes: datetime64[ns](1), int64(3), object(1)\n",
      "memory usage: 46.9+ KB\n",
      "<class 'pandas.core.frame.DataFrame'>\n",
      "RangeIndex: 62 entries, 0 to 61\n",
      "Data columns (total 3 columns):\n",
      " #   Column    Non-Null Count  Dtype         \n",
      "---  ------    --------------  -----         \n",
      " 0   date      62 non-null     datetime64[ns]\n",
      " 1   group     62 non-null     object        \n",
      " 2   visitors  62 non-null     int64         \n",
      "dtypes: datetime64[ns](1), int64(1), object(1)\n",
      "memory usage: 1.6+ KB\n"
     ]
    }
   ],
   "source": [
    "orders['date'] = pd.to_datetime(orders['date'], format='%Y-%m-%d')\n",
    "visitors['date'] = pd.to_datetime(visitors['date'], format='%Y-%m-%d')\n",
    "orders.info()\n",
    "visitors.info()"
   ]
  },
  {
   "cell_type": "markdown",
   "id": "7e323ba2",
   "metadata": {},
   "source": [
    "<div class=\"alert alert-block alert-success\">\n",
    "    \n",
    "**Комментарий от ревьюера**\n",
    "\n",
    "Да, здесь нужно поменять формат даты.\n",
    "</div>"
   ]
  },
  {
   "cell_type": "markdown",
   "id": "29b1685d",
   "metadata": {},
   "source": [
    "Проверим датафреймы на наличие явных дубликатов."
   ]
  },
  {
   "cell_type": "code",
   "execution_count": 6,
   "id": "1826f40b",
   "metadata": {},
   "outputs": [
    {
     "data": {
      "text/plain": [
       "0"
      ]
     },
     "metadata": {},
     "output_type": "display_data"
    },
    {
     "data": {
      "text/plain": [
       "0"
      ]
     },
     "metadata": {},
     "output_type": "display_data"
    },
    {
     "data": {
      "text/plain": [
       "0"
      ]
     },
     "metadata": {},
     "output_type": "display_data"
    }
   ],
   "source": [
    "display(hypothesis.duplicated().sum())\n",
    "display(orders.duplicated().sum())\n",
    "display(visitors.duplicated().sum())"
   ]
  },
  {
   "cell_type": "markdown",
   "id": "e36a04e8",
   "metadata": {},
   "source": [
    "<div class=\"alert alert-block alert-warning\">\n",
    "    \n",
    "**Комментарий от ревьюера**\n",
    "\n",
    "Полезно выполнить проверку, не попадают ли какие-то пользователи в обе группы - по таблице с заказами.\n",
    "\n",
    "</div>"
   ]
  },
  {
   "cell_type": "markdown",
   "id": "bfcd76b1",
   "metadata": {},
   "source": [
    "<div class=\"alert alert-info\">\n",
    "<b>Комментарий студента:</b>\n",
    "<br> Спасибо за совет, учту в будущем.\n",
    "</div>"
   ]
  },
  {
   "cell_type": "markdown",
   "id": "af150759",
   "metadata": {},
   "source": [
    "После проведения предобработки, количество строк в датафреймах не изменилось. В названиях столбцов названия столбцов к ниженму регистру, заглавные буквы заменены на строчные. Пропуски и дубликаты в датафремах отсутствуют, данные в столбцах с датами были преобразованы в формат datetime. Теперь можно приступать к приоритизации шипотез и анализу A/B теста."
   ]
  },
  {
   "cell_type": "markdown",
   "id": "11c33478",
   "metadata": {},
   "source": [
    "## Часть 2. Приоритизация гипотез."
   ]
  },
  {
   "cell_type": "markdown",
   "id": "79bc8ab1",
   "metadata": {},
   "source": [
    "В файле `/datasets/hypothesis.csv` 9 гипотез по увеличению выручки интернет-магазина с указанными параметрами Reach, Impact, Confidence, Effort.\n",
    "\n",
    "**Задача**\n",
    "\n",
    "-  Применить фреймворк ICE для приоритизации гипотез. Отсортировать их по убыванию приоритета.\n",
    "-  Применить фреймворк RICE для приоритизации гипотез. Отсортировать их по убыванию приоритета.\n",
    "-  Указать, как изменилась приоритизация гипотез при применении RICE вместо ICE. Объяснить, почему так произошло."
   ]
  },
  {
   "cell_type": "markdown",
   "id": "4e9fad89",
   "metadata": {},
   "source": [
    "**Используюем следующую формулу для расчета ICE и отсортируем гипотезы по убыванию приоритета**"
   ]
  },
  {
   "attachments": {
    "image.png": {
     "image/png": "[encoded data removed]"
    }
   },
   "cell_type": "markdown",
   "id": "c9b3a3f8",
   "metadata": {},
   "source": [
    "![image.png](attachment:image.png)"
   ]
  },
  {
   "cell_type": "code",
   "execution_count": 7,
   "id": "f1511704",
   "metadata": {},
   "outputs": [
    {
     "data": {
      "text/html": [
       "<div>\n",
       "<style scoped>\n",
       "    .dataframe tbody tr th:only-of-type {\n",
       "        vertical-align: middle;\n",
       "    }\n",
       "\n",
       "    .dataframe tbody tr th {\n",
       "        vertical-align: top;\n",
       "    }\n",
       "\n",
       "    .dataframe thead th {\n",
       "        text-align: right;\n",
       "    }\n",
       "</style>\n",
       "<table border=\"1\" class=\"dataframe\">\n",
       "  <thead>\n",
       "    <tr style=\"text-align: right;\">\n",
       "      <th></th>\n",
       "      <th>hypothesis</th>\n",
       "      <th>reach</th>\n",
       "      <th>impact</th>\n",
       "      <th>confidence</th>\n",
       "      <th>efforts</th>\n",
       "      <th>ICE</th>\n",
       "    </tr>\n",
       "  </thead>\n",
       "  <tbody>\n",
       "    <tr>\n",
       "      <th>8</th>\n",
       "      <td>Запустить акцию, дающую скидку на товар в день рождения</td>\n",
       "      <td>1</td>\n",
       "      <td>9</td>\n",
       "      <td>9</td>\n",
       "      <td>5</td>\n",
       "      <td>16.20</td>\n",
       "    </tr>\n",
       "    <tr>\n",
       "      <th>0</th>\n",
       "      <td>Добавить два новых канала привлечения трафика, что позволит привлекать на 30% больше пользователей</td>\n",
       "      <td>3</td>\n",
       "      <td>10</td>\n",
       "      <td>8</td>\n",
       "      <td>6</td>\n",
       "      <td>13.33</td>\n",
       "    </tr>\n",
       "    <tr>\n",
       "      <th>7</th>\n",
       "      <td>Добавить форму подписки на все основные страницы, чтобы собрать базу клиентов для email-рассылок</td>\n",
       "      <td>10</td>\n",
       "      <td>7</td>\n",
       "      <td>8</td>\n",
       "      <td>5</td>\n",
       "      <td>11.20</td>\n",
       "    </tr>\n",
       "    <tr>\n",
       "      <th>6</th>\n",
       "      <td>Показать на главной странице баннеры с актуальными акциями и распродажами, чтобы увеличить конверсию</td>\n",
       "      <td>5</td>\n",
       "      <td>3</td>\n",
       "      <td>8</td>\n",
       "      <td>3</td>\n",
       "      <td>8.00</td>\n",
       "    </tr>\n",
       "    <tr>\n",
       "      <th>2</th>\n",
       "      <td>Добавить блоки рекомендаций товаров на сайт интернет магазина, чтобы повысить конверсию и средний чек заказа</td>\n",
       "      <td>8</td>\n",
       "      <td>3</td>\n",
       "      <td>7</td>\n",
       "      <td>3</td>\n",
       "      <td>7.00</td>\n",
       "    </tr>\n",
       "    <tr>\n",
       "      <th>1</th>\n",
       "      <td>Запустить собственную службу доставки, что сократит срок доставки заказов</td>\n",
       "      <td>2</td>\n",
       "      <td>5</td>\n",
       "      <td>4</td>\n",
       "      <td>10</td>\n",
       "      <td>2.00</td>\n",
       "    </tr>\n",
       "    <tr>\n",
       "      <th>5</th>\n",
       "      <td>Добавить страницу отзывов клиентов о магазине, что позволит увеличить количество заказов</td>\n",
       "      <td>3</td>\n",
       "      <td>2</td>\n",
       "      <td>2</td>\n",
       "      <td>3</td>\n",
       "      <td>1.33</td>\n",
       "    </tr>\n",
       "    <tr>\n",
       "      <th>3</th>\n",
       "      <td>Изменить структура категорий, что увеличит конверсию, т.к. пользователи быстрее найдут нужный товар</td>\n",
       "      <td>8</td>\n",
       "      <td>3</td>\n",
       "      <td>3</td>\n",
       "      <td>8</td>\n",
       "      <td>1.12</td>\n",
       "    </tr>\n",
       "    <tr>\n",
       "      <th>4</th>\n",
       "      <td>Изменить цвет фона главной страницы, чтобы увеличить вовлеченность пользователей</td>\n",
       "      <td>3</td>\n",
       "      <td>1</td>\n",
       "      <td>1</td>\n",
       "      <td>1</td>\n",
       "      <td>1.00</td>\n",
       "    </tr>\n",
       "  </tbody>\n",
       "</table>\n",
       "</div>"
      ],
      "text/plain": [
       "                                                                                                     hypothesis  \\\n",
       "8  Запустить акцию, дающую скидку на товар в день рождения                                                        \n",
       "0  Добавить два новых канала привлечения трафика, что позволит привлекать на 30% больше пользователей             \n",
       "7  Добавить форму подписки на все основные страницы, чтобы собрать базу клиентов для email-рассылок               \n",
       "6  Показать на главной странице баннеры с актуальными акциями и распродажами, чтобы увеличить конверсию           \n",
       "2  Добавить блоки рекомендаций товаров на сайт интернет магазина, чтобы повысить конверсию и средний чек заказа   \n",
       "1  Запустить собственную службу доставки, что сократит срок доставки заказов                                      \n",
       "5  Добавить страницу отзывов клиентов о магазине, что позволит увеличить количество заказов                       \n",
       "3  Изменить структура категорий, что увеличит конверсию, т.к. пользователи быстрее найдут нужный товар            \n",
       "4  Изменить цвет фона главной страницы, чтобы увеличить вовлеченность пользователей                               \n",
       "\n",
       "   reach  impact  confidence  efforts    ICE  \n",
       "8  1      9       9           5        16.20  \n",
       "0  3      10      8           6        13.33  \n",
       "7  10     7       8           5        11.20  \n",
       "6  5      3       8           3        8.00   \n",
       "2  8      3       7           3        7.00   \n",
       "1  2      5       4           10       2.00   \n",
       "5  3      2       2           3        1.33   \n",
       "3  8      3       3           8        1.12   \n",
       "4  3      1       1           1        1.00   "
      ]
     },
     "execution_count": 7,
     "metadata": {},
     "output_type": "execute_result"
    }
   ],
   "source": [
    "hypothesis['ICE'] = hypothesis.impact * hypothesis.confidence / hypothesis.efforts\n",
    "sorted_data = hypothesis.sort_values(by='ICE', ascending=False, inplace=True)\n",
    "hypothesis['ICE'] = round(hypothesis['ICE'], 2)\n",
    "hypothesis"
   ]
  },
  {
   "cell_type": "markdown",
   "id": "6af282b0",
   "metadata": {},
   "source": [
    "<div class=\"alert alert-block alert-success\">\n",
    "    \n",
    "**Комментарий от ревьюера**\n",
    "\n",
    "Молодец, что округляешь значения в колонке ICE.\n",
    "</div>"
   ]
  },
  {
   "cell_type": "markdown",
   "id": "a4902a1d",
   "metadata": {},
   "source": [
    "По полученным занчениям фрейворка ICE, наиболее перспективные гипотезы: 8, 0, 7."
   ]
  },
  {
   "cell_type": "markdown",
   "id": "86c09f2f",
   "metadata": {},
   "source": [
    "**Используюем следующую формулу для расчета RICE и отсортируем гипотезы по убыванию приоритета**"
   ]
  },
  {
   "attachments": {
    "image.png": {
     "image/png": "[encoded data removed]"
    }
   },
   "cell_type": "markdown",
   "id": "6b3881c2",
   "metadata": {},
   "source": [
    "![image.png](attachment:image.png)"
   ]
  },
  {
   "cell_type": "code",
   "execution_count": 8,
   "id": "d7bb46d4",
   "metadata": {},
   "outputs": [
    {
     "data": {
      "text/html": [
       "<div>\n",
       "<style scoped>\n",
       "    .dataframe tbody tr th:only-of-type {\n",
       "        vertical-align: middle;\n",
       "    }\n",
       "\n",
       "    .dataframe tbody tr th {\n",
       "        vertical-align: top;\n",
       "    }\n",
       "\n",
       "    .dataframe thead th {\n",
       "        text-align: right;\n",
       "    }\n",
       "</style>\n",
       "<table border=\"1\" class=\"dataframe\">\n",
       "  <thead>\n",
       "    <tr style=\"text-align: right;\">\n",
       "      <th></th>\n",
       "      <th>hypothesis</th>\n",
       "      <th>reach</th>\n",
       "      <th>impact</th>\n",
       "      <th>confidence</th>\n",
       "      <th>efforts</th>\n",
       "      <th>ICE</th>\n",
       "      <th>RICE</th>\n",
       "    </tr>\n",
       "  </thead>\n",
       "  <tbody>\n",
       "    <tr>\n",
       "      <th>7</th>\n",
       "      <td>Добавить форму подписки на все основные страницы, чтобы собрать базу клиентов для email-рассылок</td>\n",
       "      <td>10</td>\n",
       "      <td>7</td>\n",
       "      <td>8</td>\n",
       "      <td>5</td>\n",
       "      <td>112.0</td>\n",
       "      <td>112.0</td>\n",
       "    </tr>\n",
       "    <tr>\n",
       "      <th>2</th>\n",
       "      <td>Добавить блоки рекомендаций товаров на сайт интернет магазина, чтобы повысить конверсию и средний чек заказа</td>\n",
       "      <td>8</td>\n",
       "      <td>3</td>\n",
       "      <td>7</td>\n",
       "      <td>3</td>\n",
       "      <td>56.0</td>\n",
       "      <td>56.0</td>\n",
       "    </tr>\n",
       "    <tr>\n",
       "      <th>0</th>\n",
       "      <td>Добавить два новых канала привлечения трафика, что позволит привлекать на 30% больше пользователей</td>\n",
       "      <td>3</td>\n",
       "      <td>10</td>\n",
       "      <td>8</td>\n",
       "      <td>6</td>\n",
       "      <td>40.0</td>\n",
       "      <td>40.0</td>\n",
       "    </tr>\n",
       "    <tr>\n",
       "      <th>6</th>\n",
       "      <td>Показать на главной странице баннеры с актуальными акциями и распродажами, чтобы увеличить конверсию</td>\n",
       "      <td>5</td>\n",
       "      <td>3</td>\n",
       "      <td>8</td>\n",
       "      <td>3</td>\n",
       "      <td>40.0</td>\n",
       "      <td>40.0</td>\n",
       "    </tr>\n",
       "    <tr>\n",
       "      <th>8</th>\n",
       "      <td>Запустить акцию, дающую скидку на товар в день рождения</td>\n",
       "      <td>1</td>\n",
       "      <td>9</td>\n",
       "      <td>9</td>\n",
       "      <td>5</td>\n",
       "      <td>16.2</td>\n",
       "      <td>16.2</td>\n",
       "    </tr>\n",
       "    <tr>\n",
       "      <th>3</th>\n",
       "      <td>Изменить структура категорий, что увеличит конверсию, т.к. пользователи быстрее найдут нужный товар</td>\n",
       "      <td>8</td>\n",
       "      <td>3</td>\n",
       "      <td>3</td>\n",
       "      <td>8</td>\n",
       "      <td>9.0</td>\n",
       "      <td>9.0</td>\n",
       "    </tr>\n",
       "    <tr>\n",
       "      <th>1</th>\n",
       "      <td>Запустить собственную службу доставки, что сократит срок доставки заказов</td>\n",
       "      <td>2</td>\n",
       "      <td>5</td>\n",
       "      <td>4</td>\n",
       "      <td>10</td>\n",
       "      <td>4.0</td>\n",
       "      <td>4.0</td>\n",
       "    </tr>\n",
       "    <tr>\n",
       "      <th>5</th>\n",
       "      <td>Добавить страницу отзывов клиентов о магазине, что позволит увеличить количество заказов</td>\n",
       "      <td>3</td>\n",
       "      <td>2</td>\n",
       "      <td>2</td>\n",
       "      <td>3</td>\n",
       "      <td>4.0</td>\n",
       "      <td>4.0</td>\n",
       "    </tr>\n",
       "    <tr>\n",
       "      <th>4</th>\n",
       "      <td>Изменить цвет фона главной страницы, чтобы увеличить вовлеченность пользователей</td>\n",
       "      <td>3</td>\n",
       "      <td>1</td>\n",
       "      <td>1</td>\n",
       "      <td>1</td>\n",
       "      <td>3.0</td>\n",
       "      <td>3.0</td>\n",
       "    </tr>\n",
       "  </tbody>\n",
       "</table>\n",
       "</div>"
      ],
      "text/plain": [
       "                                                                                                     hypothesis  \\\n",
       "7  Добавить форму подписки на все основные страницы, чтобы собрать базу клиентов для email-рассылок               \n",
       "2  Добавить блоки рекомендаций товаров на сайт интернет магазина, чтобы повысить конверсию и средний чек заказа   \n",
       "0  Добавить два новых канала привлечения трафика, что позволит привлекать на 30% больше пользователей             \n",
       "6  Показать на главной странице баннеры с актуальными акциями и распродажами, чтобы увеличить конверсию           \n",
       "8  Запустить акцию, дающую скидку на товар в день рождения                                                        \n",
       "3  Изменить структура категорий, что увеличит конверсию, т.к. пользователи быстрее найдут нужный товар            \n",
       "1  Запустить собственную службу доставки, что сократит срок доставки заказов                                      \n",
       "5  Добавить страницу отзывов клиентов о магазине, что позволит увеличить количество заказов                       \n",
       "4  Изменить цвет фона главной страницы, чтобы увеличить вовлеченность пользователей                               \n",
       "\n",
       "   reach  impact  confidence  efforts    ICE   RICE  \n",
       "7  10     7       8           5        112.0  112.0  \n",
       "2  8      3       7           3        56.0   56.0   \n",
       "0  3      10      8           6        40.0   40.0   \n",
       "6  5      3       8           3        40.0   40.0   \n",
       "8  1      9       9           5        16.2   16.2   \n",
       "3  8      3       3           8        9.0    9.0    \n",
       "1  2      5       4           10       4.0    4.0    \n",
       "5  3      2       2           3        4.0    4.0    \n",
       "4  3      1       1           1        3.0    3.0    "
      ]
     },
     "execution_count": 8,
     "metadata": {},
     "output_type": "execute_result"
    }
   ],
   "source": [
    "hypothesis['RICE'] = hypothesis.reach *hypothesis.impact * hypothesis.confidence / hypothesis.efforts\n",
    "sorted_data = hypothesis.sort_values(by='RICE', ascending=False, inplace=True)\n",
    "hypothesis['ICE'] = round(hypothesis['RICE'], 2)\n",
    "hypothesis"
   ]
  },
  {
   "cell_type": "markdown",
   "id": "b74536f4",
   "metadata": {},
   "source": [
    "По полученным занчениям фрейворка RICE, наиболее перспективные гипотезы: 7, 2, 0."
   ]
  },
  {
   "cell_type": "markdown",
   "id": "e2cc5e76",
   "metadata": {},
   "source": [
    "На основании полученных результатов, можем сделать вывод о том, что наиболее перспективными гипотезами являются 7, 2, 0. В данной ситуации, наиболее подходящим фреймворк для приоритизации гипотез является фреймворк RICE, так как он учитывает параметр reach (охват гипотезы) и дает более точные результаты. \n",
    "\n",
    "Например, лидирующая гипотеза 8 по ICE сместилась на пятое место по RICE, так как ее значение параметра reach (охват гипотезы) значительно меньше, в сравнении с гипотезами 7, 2, 0."
   ]
  },
  {
   "cell_type": "markdown",
   "id": "0fd45b52",
   "metadata": {},
   "source": [
    "<div class=\"alert alert-block alert-warning\">\n",
    "    \n",
    "\n",
    "**Комментарий от ревьюера**\n",
    "\n",
    "Здесь можно выбрать гипотезу, которую мы будем тестировать первой, чтобы между частями проекта была логическая связь.\n",
    "\n",
    "</div>"
   ]
  },
  {
   "cell_type": "markdown",
   "id": "e6838cfe",
   "metadata": {},
   "source": [
    "<div class=\"alert alert-info\">\n",
    "<b>Комментарий студента:</b>\n",
    "<br> Спасибо за совет, учту в будущем.\n",
    "</div>"
   ]
  },
  {
   "cell_type": "markdown",
   "id": "245b2682",
   "metadata": {},
   "source": [
    "## Часть 3. Анализ A/B-теста"
   ]
  },
  {
   "cell_type": "markdown",
   "id": "3163d45a",
   "metadata": {},
   "source": [
    "**1) Постройте график кумулятивной выручки по группам. Сделайте выводы и предположения.**"
   ]
  },
  {
   "cell_type": "markdown",
   "id": "cb668a27",
   "metadata": {},
   "source": [
    "Чтобы построить график, нужно собрать кумулятивные данные. Объявим датафрейм cumulativeData со столбцами: "
   ]
  },
  {
   "cell_type": "code",
   "execution_count": 9,
   "id": "dffae903",
   "metadata": {},
   "outputs": [
    {
     "data": {
      "text/html": [
       "<div>\n",
       "<style scoped>\n",
       "    .dataframe tbody tr th:only-of-type {\n",
       "        vertical-align: middle;\n",
       "    }\n",
       "\n",
       "    .dataframe tbody tr th {\n",
       "        vertical-align: top;\n",
       "    }\n",
       "\n",
       "    .dataframe thead th {\n",
       "        text-align: right;\n",
       "    }\n",
       "</style>\n",
       "<table border=\"1\" class=\"dataframe\">\n",
       "  <thead>\n",
       "    <tr style=\"text-align: right;\">\n",
       "      <th></th>\n",
       "      <th>transactionid</th>\n",
       "      <th>visitorid</th>\n",
       "      <th>date</th>\n",
       "      <th>revenue</th>\n",
       "      <th>group</th>\n",
       "    </tr>\n",
       "  </thead>\n",
       "  <tbody>\n",
       "    <tr>\n",
       "      <th>0</th>\n",
       "      <td>3667963787</td>\n",
       "      <td>3312258926</td>\n",
       "      <td>2019-08-15</td>\n",
       "      <td>1650</td>\n",
       "      <td>B</td>\n",
       "    </tr>\n",
       "    <tr>\n",
       "      <th>1</th>\n",
       "      <td>2804400009</td>\n",
       "      <td>3642806036</td>\n",
       "      <td>2019-08-15</td>\n",
       "      <td>730</td>\n",
       "      <td>B</td>\n",
       "    </tr>\n",
       "    <tr>\n",
       "      <th>2</th>\n",
       "      <td>2961555356</td>\n",
       "      <td>4069496402</td>\n",
       "      <td>2019-08-15</td>\n",
       "      <td>400</td>\n",
       "      <td>A</td>\n",
       "    </tr>\n",
       "    <tr>\n",
       "      <th>3</th>\n",
       "      <td>3797467345</td>\n",
       "      <td>1196621759</td>\n",
       "      <td>2019-08-15</td>\n",
       "      <td>9759</td>\n",
       "      <td>B</td>\n",
       "    </tr>\n",
       "    <tr>\n",
       "      <th>4</th>\n",
       "      <td>2282983706</td>\n",
       "      <td>2322279887</td>\n",
       "      <td>2019-08-15</td>\n",
       "      <td>2308</td>\n",
       "      <td>B</td>\n",
       "    </tr>\n",
       "  </tbody>\n",
       "</table>\n",
       "</div>"
      ],
      "text/plain": [
       "   transactionid   visitorid       date  revenue group\n",
       "0  3667963787     3312258926 2019-08-15  1650     B   \n",
       "1  2804400009     3642806036 2019-08-15  730      B   \n",
       "2  2961555356     4069496402 2019-08-15  400      A   \n",
       "3  3797467345     1196621759 2019-08-15  9759     B   \n",
       "4  2282983706     2322279887 2019-08-15  2308     B   "
      ]
     },
     "execution_count": 9,
     "metadata": {},
     "output_type": "execute_result"
    }
   ],
   "source": [
    "orders.head()"
   ]
  },
  {
   "cell_type": "code",
   "execution_count": 10,
   "id": "efcdb259",
   "metadata": {},
   "outputs": [
    {
     "data": {
      "text/html": [
       "<div>\n",
       "<style scoped>\n",
       "    .dataframe tbody tr th:only-of-type {\n",
       "        vertical-align: middle;\n",
       "    }\n",
       "\n",
       "    .dataframe tbody tr th {\n",
       "        vertical-align: top;\n",
       "    }\n",
       "\n",
       "    .dataframe thead th {\n",
       "        text-align: right;\n",
       "    }\n",
       "</style>\n",
       "<table border=\"1\" class=\"dataframe\">\n",
       "  <thead>\n",
       "    <tr style=\"text-align: right;\">\n",
       "      <th></th>\n",
       "      <th>date</th>\n",
       "      <th>group</th>\n",
       "    </tr>\n",
       "  </thead>\n",
       "  <tbody>\n",
       "    <tr>\n",
       "      <th>0</th>\n",
       "      <td>2019-08-15</td>\n",
       "      <td>B</td>\n",
       "    </tr>\n",
       "    <tr>\n",
       "      <th>2</th>\n",
       "      <td>2019-08-15</td>\n",
       "      <td>A</td>\n",
       "    </tr>\n",
       "    <tr>\n",
       "      <th>45</th>\n",
       "      <td>2019-08-16</td>\n",
       "      <td>A</td>\n",
       "    </tr>\n",
       "    <tr>\n",
       "      <th>47</th>\n",
       "      <td>2019-08-16</td>\n",
       "      <td>B</td>\n",
       "    </tr>\n",
       "    <tr>\n",
       "      <th>55</th>\n",
       "      <td>2019-08-01</td>\n",
       "      <td>A</td>\n",
       "    </tr>\n",
       "    <tr>\n",
       "      <th>...</th>\n",
       "      <td>...</td>\n",
       "      <td>...</td>\n",
       "    </tr>\n",
       "    <tr>\n",
       "      <th>1068</th>\n",
       "      <td>2019-08-12</td>\n",
       "      <td>A</td>\n",
       "    </tr>\n",
       "    <tr>\n",
       "      <th>1114</th>\n",
       "      <td>2019-08-13</td>\n",
       "      <td>B</td>\n",
       "    </tr>\n",
       "    <tr>\n",
       "      <th>1116</th>\n",
       "      <td>2019-08-13</td>\n",
       "      <td>A</td>\n",
       "    </tr>\n",
       "    <tr>\n",
       "      <th>1149</th>\n",
       "      <td>2019-08-14</td>\n",
       "      <td>B</td>\n",
       "    </tr>\n",
       "    <tr>\n",
       "      <th>1150</th>\n",
       "      <td>2019-08-14</td>\n",
       "      <td>A</td>\n",
       "    </tr>\n",
       "  </tbody>\n",
       "</table>\n",
       "<p>62 rows × 2 columns</p>\n",
       "</div>"
      ],
      "text/plain": [
       "           date group\n",
       "0    2019-08-15  B   \n",
       "2    2019-08-15  A   \n",
       "45   2019-08-16  A   \n",
       "47   2019-08-16  B   \n",
       "55   2019-08-01  A   \n",
       "...         ... ..   \n",
       "1068 2019-08-12  A   \n",
       "1114 2019-08-13  B   \n",
       "1116 2019-08-13  A   \n",
       "1149 2019-08-14  B   \n",
       "1150 2019-08-14  A   \n",
       "\n",
       "[62 rows x 2 columns]"
      ]
     },
     "execution_count": 10,
     "metadata": {},
     "output_type": "execute_result"
    }
   ],
   "source": [
    "dates_groups = orders[['date', 'group']].drop_duplicates()\n",
    "dates_groups"
   ]
  },
  {
   "cell_type": "markdown",
   "id": "c50e9db6",
   "metadata": {},
   "source": [
    "Получим агрегированные кумулятивные по дням данные о заказах и посетителях интернет-магазина"
   ]
  },
  {
   "cell_type": "code",
   "execution_count": 11,
   "id": "eac6e77c",
   "metadata": {
    "scrolled": false
   },
   "outputs": [
    {
     "data": {
      "text/html": [
       "<div>\n",
       "<style scoped>\n",
       "    .dataframe tbody tr th:only-of-type {\n",
       "        vertical-align: middle;\n",
       "    }\n",
       "\n",
       "    .dataframe tbody tr th {\n",
       "        vertical-align: top;\n",
       "    }\n",
       "\n",
       "    .dataframe thead th {\n",
       "        text-align: right;\n",
       "    }\n",
       "</style>\n",
       "<table border=\"1\" class=\"dataframe\">\n",
       "  <thead>\n",
       "    <tr style=\"text-align: right;\">\n",
       "      <th></th>\n",
       "      <th>date</th>\n",
       "      <th>group</th>\n",
       "      <th>transaction_id</th>\n",
       "      <th>visitor_id</th>\n",
       "      <th>revenue</th>\n",
       "    </tr>\n",
       "  </thead>\n",
       "  <tbody>\n",
       "    <tr>\n",
       "      <th>55</th>\n",
       "      <td>2019-08-01</td>\n",
       "      <td>A</td>\n",
       "      <td>24</td>\n",
       "      <td>20</td>\n",
       "      <td>148579</td>\n",
       "    </tr>\n",
       "    <tr>\n",
       "      <th>66</th>\n",
       "      <td>2019-08-01</td>\n",
       "      <td>B</td>\n",
       "      <td>21</td>\n",
       "      <td>20</td>\n",
       "      <td>101217</td>\n",
       "    </tr>\n",
       "    <tr>\n",
       "      <th>175</th>\n",
       "      <td>2019-08-02</td>\n",
       "      <td>A</td>\n",
       "      <td>44</td>\n",
       "      <td>38</td>\n",
       "      <td>242401</td>\n",
       "    </tr>\n",
       "    <tr>\n",
       "      <th>173</th>\n",
       "      <td>2019-08-02</td>\n",
       "      <td>B</td>\n",
       "      <td>45</td>\n",
       "      <td>43</td>\n",
       "      <td>266748</td>\n",
       "    </tr>\n",
       "    <tr>\n",
       "      <th>291</th>\n",
       "      <td>2019-08-03</td>\n",
       "      <td>A</td>\n",
       "      <td>68</td>\n",
       "      <td>62</td>\n",
       "      <td>354874</td>\n",
       "    </tr>\n",
       "  </tbody>\n",
       "</table>\n",
       "</div>"
      ],
      "text/plain": [
       "          date group  transaction_id  visitor_id  revenue\n",
       "55  2019-08-01  A     24              20          148579 \n",
       "66  2019-08-01  B     21              20          101217 \n",
       "175 2019-08-02  A     44              38          242401 \n",
       "173 2019-08-02  B     45              43          266748 \n",
       "291 2019-08-03  A     68              62          354874 "
      ]
     },
     "execution_count": 11,
     "metadata": {},
     "output_type": "execute_result"
    }
   ],
   "source": [
    "orders_aggregated = dates_groups.apply(\n",
    "    lambda x: orders[\n",
    "        np.logical_and(\n",
    "            orders['date'] <= x['date'], orders['group'] == x['group']\n",
    "        )\n",
    "    ].agg(\n",
    "        {\n",
    "            'date': 'max',               \n",
    "            'group': 'max',              \n",
    "            'transactionid': 'nunique',  # число уникальных ID заказов\n",
    "            'visitorid': 'nunique',      # число уникальных ID пользователей\n",
    "            'revenue': 'sum',            \n",
    "        }\n",
    "    ),\n",
    "    axis=1,\n",
    ").sort_values(by=['date', 'group'])  # cортировка по дате и группе\n",
    "\n",
    "# Переименуем столбцы\n",
    "orders_aggregated.rename(columns={\n",
    "    'transactionid': 'transaction_id',\n",
    "    'visitorid': 'visitor_id'\n",
    "}, inplace=True)\n",
    "\n",
    "orders_aggregated.head()"
   ]
  },
  {
   "cell_type": "code",
   "execution_count": 12,
   "id": "0e7bf4e1",
   "metadata": {},
   "outputs": [
    {
     "data": {
      "text/html": [
       "<div>\n",
       "<style scoped>\n",
       "    .dataframe tbody tr th:only-of-type {\n",
       "        vertical-align: middle;\n",
       "    }\n",
       "\n",
       "    .dataframe tbody tr th {\n",
       "        vertical-align: top;\n",
       "    }\n",
       "\n",
       "    .dataframe thead th {\n",
       "        text-align: right;\n",
       "    }\n",
       "</style>\n",
       "<table border=\"1\" class=\"dataframe\">\n",
       "  <thead>\n",
       "    <tr style=\"text-align: right;\">\n",
       "      <th></th>\n",
       "      <th>date</th>\n",
       "      <th>group</th>\n",
       "      <th>visitors</th>\n",
       "    </tr>\n",
       "  </thead>\n",
       "  <tbody>\n",
       "    <tr>\n",
       "      <th>55</th>\n",
       "      <td>2019-08-01</td>\n",
       "      <td>A</td>\n",
       "      <td>719</td>\n",
       "    </tr>\n",
       "    <tr>\n",
       "      <th>66</th>\n",
       "      <td>2019-08-01</td>\n",
       "      <td>B</td>\n",
       "      <td>713</td>\n",
       "    </tr>\n",
       "    <tr>\n",
       "      <th>175</th>\n",
       "      <td>2019-08-02</td>\n",
       "      <td>A</td>\n",
       "      <td>1338</td>\n",
       "    </tr>\n",
       "    <tr>\n",
       "      <th>173</th>\n",
       "      <td>2019-08-02</td>\n",
       "      <td>B</td>\n",
       "      <td>1294</td>\n",
       "    </tr>\n",
       "    <tr>\n",
       "      <th>291</th>\n",
       "      <td>2019-08-03</td>\n",
       "      <td>A</td>\n",
       "      <td>1845</td>\n",
       "    </tr>\n",
       "  </tbody>\n",
       "</table>\n",
       "</div>"
      ],
      "text/plain": [
       "          date group  visitors\n",
       "55  2019-08-01  A     719     \n",
       "66  2019-08-01  B     713     \n",
       "175 2019-08-02  A     1338    \n",
       "173 2019-08-02  B     1294    \n",
       "291 2019-08-03  A     1845    "
      ]
     },
     "execution_count": 12,
     "metadata": {},
     "output_type": "execute_result"
    }
   ],
   "source": [
    "visitors_aggregated = dates_groups.apply(\n",
    "    lambda x: visitors[\n",
    "        np.logical_and(\n",
    "            visitors['date'] <= x['date'], visitors['group'] == x['group']\n",
    "        )\n",
    "    ].agg(\n",
    "        {\n",
    "            'date': 'max', \n",
    "            'group': 'max', \n",
    "            'visitors': 'sum'\n",
    "        }\n",
    "    ),\n",
    "    axis=1,\n",
    ").sort_values(by=['date', 'group'])\n",
    "visitors_aggregated.head()"
   ]
  },
  {
   "cell_type": "markdown",
   "id": "187dfc12",
   "metadata": {},
   "source": [
    "Объединяем кумулятивные данные в одной таблице и присваиваем ее столбцам понятные названия для упрощения дальнейших вычислений"
   ]
  },
  {
   "cell_type": "code",
   "execution_count": 13,
   "id": "8ebdd00e",
   "metadata": {},
   "outputs": [
    {
     "data": {
      "text/html": [
       "<div>\n",
       "<style scoped>\n",
       "    .dataframe tbody tr th:only-of-type {\n",
       "        vertical-align: middle;\n",
       "    }\n",
       "\n",
       "    .dataframe tbody tr th {\n",
       "        vertical-align: top;\n",
       "    }\n",
       "\n",
       "    .dataframe thead th {\n",
       "        text-align: right;\n",
       "    }\n",
       "</style>\n",
       "<table border=\"1\" class=\"dataframe\">\n",
       "  <thead>\n",
       "    <tr style=\"text-align: right;\">\n",
       "      <th></th>\n",
       "      <th>date</th>\n",
       "      <th>group</th>\n",
       "      <th>orders</th>\n",
       "      <th>buyers</th>\n",
       "      <th>revenue</th>\n",
       "      <th>visitors</th>\n",
       "    </tr>\n",
       "  </thead>\n",
       "  <tbody>\n",
       "    <tr>\n",
       "      <th>0</th>\n",
       "      <td>2019-08-01</td>\n",
       "      <td>A</td>\n",
       "      <td>24</td>\n",
       "      <td>20</td>\n",
       "      <td>148579</td>\n",
       "      <td>719</td>\n",
       "    </tr>\n",
       "    <tr>\n",
       "      <th>1</th>\n",
       "      <td>2019-08-01</td>\n",
       "      <td>B</td>\n",
       "      <td>21</td>\n",
       "      <td>20</td>\n",
       "      <td>101217</td>\n",
       "      <td>713</td>\n",
       "    </tr>\n",
       "    <tr>\n",
       "      <th>2</th>\n",
       "      <td>2019-08-02</td>\n",
       "      <td>A</td>\n",
       "      <td>44</td>\n",
       "      <td>38</td>\n",
       "      <td>242401</td>\n",
       "      <td>1338</td>\n",
       "    </tr>\n",
       "    <tr>\n",
       "      <th>3</th>\n",
       "      <td>2019-08-02</td>\n",
       "      <td>B</td>\n",
       "      <td>45</td>\n",
       "      <td>43</td>\n",
       "      <td>266748</td>\n",
       "      <td>1294</td>\n",
       "    </tr>\n",
       "    <tr>\n",
       "      <th>4</th>\n",
       "      <td>2019-08-03</td>\n",
       "      <td>A</td>\n",
       "      <td>68</td>\n",
       "      <td>62</td>\n",
       "      <td>354874</td>\n",
       "      <td>1845</td>\n",
       "    </tr>\n",
       "  </tbody>\n",
       "</table>\n",
       "</div>"
      ],
      "text/plain": [
       "        date group  orders  buyers  revenue  visitors\n",
       "0 2019-08-01  A     24      20      148579   719     \n",
       "1 2019-08-01  B     21      20      101217   713     \n",
       "2 2019-08-02  A     44      38      242401   1338    \n",
       "3 2019-08-02  B     45      43      266748   1294    \n",
       "4 2019-08-03  A     68      62      354874   1845    "
      ]
     },
     "execution_count": 13,
     "metadata": {},
     "output_type": "execute_result"
    }
   ],
   "source": [
    "cumulative_data = orders_aggregated.merge(visitors_aggregated, left_on=['date', 'group'], right_on=['date', 'group'])\n",
    "cumulative_data.columns = ['date', 'group', 'orders', 'buyers', 'revenue', 'visitors']\n",
    "cumulative_data.head(5)"
   ]
  },
  {
   "cell_type": "markdown",
   "id": "2b13c60e",
   "metadata": {},
   "source": [
    "Проверим, совпадают ли минимальная и максимальная даты в этом датафрейме с минимальной и максимальной датой в исходных данных."
   ]
  },
  {
   "cell_type": "code",
   "execution_count": 14,
   "id": "3b3c76d9",
   "metadata": {},
   "outputs": [
    {
     "name": "stdout",
     "output_type": "stream",
     "text": [
      "Минимальная дата в cumulative_data: 2019-08-01 00:00:00, Максимальная дата: 2019-08-31 00:00:00\n",
      "Минимальная дата в orders: 2019-08-01 00:00:00, Максимальная дата: 2019-08-31 00:00:00\n",
      "Минимальная дата в visitors: 2019-08-01 00:00:00, Максимальная дата: 2019-08-31 00:00:00\n"
     ]
    }
   ],
   "source": [
    "min_date_cumulative = cumulative_data['date'].min()\n",
    "max_date_cumulative = cumulative_data['date'].max()\n",
    "\n",
    "min_date_orders = orders['date'].min()\n",
    "max_date_orders = orders['date'].max()\n",
    "\n",
    "min_date_visitors = visitors['date'].min()\n",
    "max_date_visitors = visitors['date'].max()\n",
    "\n",
    "print(f\"Минимальная дата в cumulative_data: {min_date_cumulative}, Максимальная дата: {max_date_cumulative}\")\n",
    "print(f\"Минимальная дата в orders: {min_date_orders}, Максимальная дата: {max_date_orders}\")\n",
    "print(f\"Минимальная дата в visitors: {min_date_visitors}, Максимальная дата: {max_date_visitors}\")\n"
   ]
  },
  {
   "cell_type": "markdown",
   "id": "425624f2",
   "metadata": {},
   "source": [
    "Минимальные и максимальные даты в датафрейме cumulative_data, а также в исходных данных orders и visitors совпадают, данные в cumulative_data корректно отражают диапазон дат из исходных данных."
   ]
  },
  {
   "cell_type": "markdown",
   "id": "17bb8503",
   "metadata": {},
   "source": [
    "<div class=\"alert alert-info\">\n",
    "<b>Комментарий студента:</b>\n",
    "<br> Добавил проверку корректности создания датафрейма cumulativeData.\n",
    "</div>"
   ]
  },
  {
   "cell_type": "markdown",
   "id": "10f1df4e",
   "metadata": {},
   "source": [
    "<div class=\"alert alert-success\">\n",
    "<b> Комментарий от ревьюера 2</b>\n",
    "\n",
    "Всё верно, можно переходить к графикам.\n",
    "\n",
    "</div>"
   ]
  },
  {
   "cell_type": "markdown",
   "id": "cd5a0d8d",
   "metadata": {},
   "source": [
    "<div class=\"alert alert-block alert-warning\">\n",
    "\n",
    "**Комментарий от ревьюера**\n",
    "\n",
    "Здесь можно проверить, корректно ли был создан датафрейм cumulativeData. Например, совпадают ли минимальная и максимальная даты в этом датафрейме с минимальной и максимальной датой в исходных данных.\n",
    "\n",
    "</div>"
   ]
  },
  {
   "cell_type": "markdown",
   "id": "d87c093f",
   "metadata": {},
   "source": [
    "Построим график кумулятивной выручки по дням и группам A/B-тестирования: "
   ]
  },
  {
   "cell_type": "code",
   "execution_count": 15,
   "id": "a9612cab",
   "metadata": {},
   "outputs": [
    {
     "data": {
      "image/png": "[encoded data removed]",
      "text/plain": [
       "<Figure size 864x432 with 1 Axes>"
      ]
     },
     "metadata": {
      "needs_background": "light"
     },
     "output_type": "display_data"
    }
   ],
   "source": [
    "# Датафреймы с кумулятивной выручкой по дням для групп A и B\n",
    "cumulative_revenue_A = cumulative_data[cumulative_data['group'] == 'A'][['date', 'revenue', 'orders']]\n",
    "cumulative_revenue_B = cumulative_data[cumulative_data['group'] == 'B'][['date', 'revenue', 'orders']]\n",
    "\n",
    "plt.figure(figsize=(12, 6))\n",
    "plt.plot(cumulative_revenue_A['date'], cumulative_revenue_A['revenue'], \n",
    "         label='Группа A', color='red', linestyle='-', marker='o', markersize=5)\n",
    "plt.plot(cumulative_revenue_B['date'], cumulative_revenue_B['revenue'], \n",
    "         label='Группа B', color='blue', linestyle='--', marker='s', markersize=5)\n",
    "\n",
    "plt.title('Динамика кумулятивной выручки по группам A и B', fontsize=16)\n",
    "plt.xlabel('Дата', fontsize=14)\n",
    "plt.ylabel('Выручка, млн.', fontsize=14)\n",
    "plt.xticks(rotation=30)  # повернем метки по оси X для удобства чтения\n",
    "plt.legend(title='Группы', fontsize=12)  \n",
    "plt.grid(True, linestyle='--', alpha=0.5)  \n",
    "plt.show()\n"
   ]
  },
  {
   "cell_type": "markdown",
   "id": "b717dfc7",
   "metadata": {},
   "source": [
    "Из полученного графика видно, что кумулятивная выручка равномерно возростает в течение всего теста. Стоит отметить, что кумулятивная выручка группы А растет практически линейно, в то время как у\n",
    "групы В есть резкий скачок выручки, ориентировочно 18.08.19. Такого рода выбросы, как правило, сигнализируют о всплесках числа заказов, либо о появлении очень дорогих заказов в выборке."
   ]
  },
  {
   "cell_type": "markdown",
   "id": "179e4e41",
   "metadata": {},
   "source": [
    "<div class=\"alert alert-block alert-success\">\n",
    "    \n",
    "**Комментарий от ревьюера**\n",
    "\n",
    "Верно, пока мы не знаем, с чем связан скачок в группе B: с резким увеличением количества заказов или с ростом стоимости.\n",
    "</div>"
   ]
  },
  {
   "cell_type": "markdown",
   "id": "af878188",
   "metadata": {},
   "source": [
    "**2) Постройте график кумулятивного среднего чека по группам. Сделайте выводы и предположения.** "
   ]
  },
  {
   "cell_type": "code",
   "execution_count": 16,
   "id": "f45c449f",
   "metadata": {
    "scrolled": false
   },
   "outputs": [
    {
     "data": {
      "image/png": "[encoded data removed]",
      "text/plain": [
       "<Figure size 864x432 with 1 Axes>"
      ]
     },
     "metadata": {
      "needs_background": "light"
     },
     "output_type": "display_data"
    }
   ],
   "source": [
    "# Разделим кумулятивную выручку на кумулятивное число заказов:\n",
    "plt.figure(figsize=(12, 6))\n",
    "plt.plot(cumulative_revenue_A['date'], cumulative_revenue_A['revenue'] /\n",
    "         cumulative_revenue_A['orders'], \n",
    "         label='Группа A', color='red', linewidth=2, marker='o', markersize=5)\n",
    "plt.plot(cumulative_revenue_B['date'], cumulative_revenue_B['revenue'] /\n",
    "         cumulative_revenue_B['orders'], \n",
    "         label='Группа B', color='blue', linewidth=2, marker='s', markersize=5)\n",
    "\n",
    "plt.title('Кумулятивный средний чек по группам', fontsize=16)\n",
    "plt.xlabel('Дата', fontsize=14)\n",
    "plt.ylabel('Средний чек, млн.', fontsize=14)\n",
    "plt.xticks(rotation=30)  # повернем метки по оси X для удобства чтения\n",
    "plt.legend(title='Группы', fontsize=12)\n",
    "plt.grid(True, linestyle='--', alpha=0.5)  \n",
    "plt.tight_layout()\n",
    "plt.show()"
   ]
  },
  {
   "cell_type": "markdown",
   "id": "ff0e9acf",
   "metadata": {},
   "source": [
    "Из полученного графика видно, что кумулятивный средний чек у группы А установился после 13.08.19. У груупы B 18.09.19 мы видим резкий скачек значений среднего чека, что может говорить о том, что в тест попало некоторое количество аномально дорогих заказов."
   ]
  },
  {
   "cell_type": "markdown",
   "id": "e0c723b7",
   "metadata": {},
   "source": [
    "<div class=\"alert alert-block alert-success\">\n",
    "    \n",
    "**Комментарий от ревьюера**\n",
    "    \n",
    "Да, крупные заказы могли стать причиной резкого роста.\n",
    "</div>"
   ]
  },
  {
   "cell_type": "markdown",
   "id": "669f0406",
   "metadata": {},
   "source": [
    "**3) Постройте график относительного изменения кумулятивного среднего чека группы B к группе A. Сделайте выводы и предположения.**"
   ]
  },
  {
   "cell_type": "code",
   "execution_count": 17,
   "id": "8a7ce8cf",
   "metadata": {},
   "outputs": [
    {
     "data": {
      "image/png": "[encoded data removed]",
      "text/plain": [
       "<Figure size 864x432 with 1 Axes>"
      ]
     },
     "metadata": {
      "needs_background": "light"
     },
     "output_type": "display_data"
    }
   ],
   "source": [
    "# собираем данные в одном датафрейме\n",
    "merged_cumulative_revenue = cumulative_revenue_A.merge(cumulative_revenue_B, left_on='date',\n",
    "                                                       right_on='date', how='left', suffixes=['A', 'B'])\n",
    "\n",
    "# cтроим отношение средних чеков\n",
    "plt.figure(figsize=(12, 6))  # Увеличиваем размер графика\n",
    "plt.plot(merged_cumulative_revenue['date'], \n",
    "         (merged_cumulative_revenue['revenueB']/merged_cumulative_revenue['ordersB'])/\n",
    "         (merged_cumulative_revenue['revenueA']/merged_cumulative_revenue['ordersA'])-1, \n",
    "         color='blue', linewidth=2, marker='o', label='Отношение средних чеков')  \n",
    "\n",
    "# добавим горизонтальную ось методом axhline()\n",
    "plt.axhline(y=0, color='red', linestyle='--', linewidth=1)\n",
    "plt.title('Сравнение средних чеков между A и B', fontsize=16)\n",
    "plt.xlabel('Дата', fontsize=14)\n",
    "plt.ylabel('Отношение средних чеков', fontsize=14)\n",
    "plt.legend()\n",
    "plt.grid(True, linestyle='--', alpha=0.5) \n",
    "plt.xticks(rotation=30)\n",
    "plt.show()\n"
   ]
  },
  {
   "cell_type": "markdown",
   "id": "76ab0a44",
   "metadata": {},
   "source": [
    "Из полученного графика видно, что график различия между сегментами резко «скачет». Это однозначно говорит о том, что наличии выбросов в значениях. Их необходимо будет определить в дальнейшем."
   ]
  },
  {
   "cell_type": "markdown",
   "id": "2896b995",
   "metadata": {},
   "source": [
    "<div class=\"alert alert-block alert-success\">\n",
    "    \n",
    "**Комментарий от ревьюера**\n",
    "    \n",
    "Действительно, этот график не стабилизировался.\n",
    "</div>"
   ]
  },
  {
   "cell_type": "markdown",
   "id": "ed0d0b0e",
   "metadata": {},
   "source": [
    "**4) Постройте график кумулятивного среднего количества заказов на посетителя по группам. Сделайте выводы и предположения.**"
   ]
  },
  {
   "cell_type": "markdown",
   "id": "b62e8dd5",
   "metadata": {},
   "source": [
    "<div class=\"alert alert-block alert-warning\">\n",
    "    \n",
    "**Комментарий от ревьюера**\n",
    "    \n",
    "Импорт из ячейки ниже уже есть в начале проекта.\n",
    "    \n",
    "</div>"
   ]
  },
  {
   "cell_type": "markdown",
   "id": "985777ac",
   "metadata": {},
   "source": [
    "<div class=\"alert alert-info\">\n",
    "<b>Комментарий студента:</b>\n",
    "<br> Удалил из ячейки ниже ненужный импорт.\n",
    "</div>"
   ]
  },
  {
   "cell_type": "code",
   "execution_count": 18,
   "id": "891fccd8",
   "metadata": {
    "scrolled": false
   },
   "outputs": [
    {
     "data": {
      "image/png": "[encoded data removed]",
      "text/plain": [
       "<Figure size 864x432 with 1 Axes>"
      ]
     },
     "metadata": {
      "needs_background": "light"
     },
     "output_type": "display_data"
    }
   ],
   "source": [
    "# считаем среднее количество заказов на посетителя\n",
    "cumulative_data['conversion'] = cumulative_data['orders'] / cumulative_data['visitors']\n",
    "\n",
    "# отделим данные, в зависимости от группы по группе \n",
    "cumulativeDataA = cumulative_data[cumulative_data['group'] == 'A']\n",
    "cumulativeDataB = cumulative_data[cumulative_data['group'] == 'B']\n",
    "\n",
    "plt.figure(figsize=(12, 6))  \n",
    "plt.plot(cumulativeDataA['date'], cumulativeDataA['conversion'], label='Группа A',\n",
    "         color='red', linewidth=2, marker='o')\n",
    "plt.plot(cumulativeDataB['date'], cumulativeDataB['conversion'], label='Группа B',\n",
    "         color='blue', linewidth=2, marker='s')\n",
    "plt.xticks(rotation=30)\n",
    "plt.title('Кумулятивное среднее количество заказов на посетителя', fontsize=16)\n",
    "plt.xlabel('Дата', fontsize=14)\n",
    "plt.ylabel('Среднее количество заказов на посетителя', fontsize=14)\n",
    "\n",
    "# зададим масштаб осей методом plt.axis(), использую min и max значения.\n",
    "# для автоматического определения диапазона дат, который будет отображаться на графике.\n",
    "plt.axis(xmin=cumulativeDataA['date'].min(), xmax=cumulativeDataA['date'].max(), ymin=0.020, ymax=0.04)\n",
    "plt.grid(True, linestyle='--', alpha=0.5)\n",
    "plt.legend()\n",
    "plt.show()\n"
   ]
  },
  {
   "cell_type": "markdown",
   "id": "7bdfffb8",
   "metadata": {},
   "source": [
    "Из полученного графика видно, что с начала месяца значения обеих групп значительно колебались. Так, до 06.08.19 среднее количество заказов на посетителя группы А выше чем группы В. После этой даты, наблюдается резкий рост среднего количество заказов на посетителя группы B, т.е, как мы уже видели по другим графикам, значение среднего чека значительно возростает. \n",
    "\n",
    "Также, стоит отметить, что среднее количество заказов на посетителя обеих групп начало стабилизироваться к 18.08.19."
   ]
  },
  {
   "cell_type": "markdown",
   "id": "f2a7df31",
   "metadata": {},
   "source": [
    "<div class=\"alert alert-info\">\n",
    "<b>Комментарий студента:</b>\n",
    "<br> Заменил формулировки на правильные, в пкнктах 4, 5, 10, 12. Надеюсь теперь все в порядке.\n",
    "</div>"
   ]
  },
  {
   "cell_type": "markdown",
   "id": "d38eeb02",
   "metadata": {},
   "source": [
    "<div class=\"alert alert-success\">\n",
    "<b> Комментарий от ревьюера 2</b>\n",
    "\n",
    "Да, теперь формулировки совпадают.\n",
    "\n",
    "</div>"
   ]
  },
  {
   "attachments": {
    "2023-11-28%2018%2056%2000.png": {
     "image/png": "[encoded data removed]"
    }
   },
   "cell_type": "markdown",
   "id": "7055a1e9",
   "metadata": {},
   "source": [
    "<div class=\"alert alert-block alert-danger\">\n",
    "    \n",
    "**Комментарий от ревьюера**\n",
    "    \n",
    "Здесь и дальше (в следующем пункте, а также в пунктах 10 и 12) ты называешь один и тот же показатель иногда \"конверсией\", а иногда \"средним количеством заказов на посетителя\". Вторая формулировка более корректная, так как для расчета конверсии в чистом виде, нам нужны id посетителей. Поправь, пожалуйста, формулировки, это можно сделать с помощью автозамены: в меню Edit ➡ Find and Replace. \n",
    "    \n",
    "Кнопка со скриншота ниже позволяет сделать замены сразу во всех ячейках:\n",
    "    \n",
    "![2023-11-28%2018%2056%2000.png](attachment:2023-11-28%2018%2056%2000.png)\n",
    "</div>"
   ]
  },
  {
   "cell_type": "markdown",
   "id": "3bcc35d0",
   "metadata": {},
   "source": [
    "**5) Постройте график относительного изменения кумулятивного среднего количества заказов на посетителя группы B к группе A. Сделайте выводы и предположения.**"
   ]
  },
  {
   "cell_type": "code",
   "execution_count": 19,
   "id": "e4237f92",
   "metadata": {},
   "outputs": [
    {
     "data": {
      "image/png": "[encoded data removed]",
      "text/plain": [
       "<Figure size 864x432 with 1 Axes>"
      ]
     },
     "metadata": {
      "needs_background": "light"
     },
     "output_type": "display_data"
    }
   ],
   "source": [
    "# объединяем данные \n",
    "mergedCumulativeConversions = cumulativeDataA[['date', 'conversion']].merge(\n",
    "    cumulativeDataB[['date', 'conversion']], \n",
    "    left_on='date', \n",
    "    right_on='date', \n",
    "    how='left', \n",
    "    suffixes=['A', 'B'])\n",
    "\n",
    "# строим график относительного прироста\n",
    "plt.figure(figsize=(12, 6))  \n",
    "plt.plot(\n",
    "    mergedCumulativeConversions['date'], \n",
    "    mergedCumulativeConversions['conversionB'] / mergedCumulativeConversions['conversionA'] - 1, \n",
    "    label=\"Относительный прирост кумулятивного среднего количества заказов на посетителя группы B относительно группы A\", \n",
    "    color='blue', \n",
    "    linewidth=2)\n",
    "\n",
    "# добавим горизонтальные оси методом axhline()\n",
    "plt.axhline(y=0, color='black', linestyle='--', linewidth=2)\n",
    "plt.axhline(y=-0.085, color='gray', linestyle='--', linewidth=1.5)\n",
    "plt.axhline(y=0.15, color='gray', linestyle='--', linewidth=1.5)\n",
    "\n",
    "plt.axis(\n",
    "    xmin=mergedCumulativeConversions['date'].min(), \n",
    "    xmax=mergedCumulativeConversions['date'].max(), ymin=-0.30, ymax=0.3)\n",
    "\n",
    "plt.title('Относительный прирост кумулятивного среднего количества заказов на посетителя группы B относительно группы A', fontsize=16)\n",
    "plt.xlabel('Дата', fontsize=14)\n",
    "plt.ylabel('Относительный прирост', fontsize=14)\n",
    "plt.grid(True, linestyle='--', alpha=0.5)\n",
    "plt.show()\n"
   ]
  },
  {
   "cell_type": "markdown",
   "id": "ba32f759",
   "metadata": {},
   "source": [
    "<div class=\"alert alert-block alert-success\">\n",
    "    \n",
    "**Комментарий от ревьюера**\n",
    "    \n",
    "Хорошо, что ты добавляешь дополнительную линию там, где происходит стабилизация графика.\n",
    "</div>"
   ]
  },
  {
   "cell_type": "markdown",
   "id": "1ec95df9",
   "metadata": {},
   "source": [
    "Из полученного графика видно, что в начале теста группа B проигрывала группе A, наблюдался резкий скачек 02.08.19 и сразу же резкий спад. Однако, после 03.08.19, наблюдается стабильный рост, с небольшими колебаниями значений  среднего количества заказов. Определенно, такие результаты подтверждают предыдущие выводы о наличии аномально крупных заказов. Необходимо проанализировать аномалии для более четких выводов."
   ]
  },
  {
   "cell_type": "markdown",
   "id": "eff6e104",
   "metadata": {},
   "source": [
    "**6) Постройте точечный график количества заказов по пользователям. Сделайте выводы и предположения.**"
   ]
  },
  {
   "cell_type": "code",
   "execution_count": 20,
   "id": "24c18804",
   "metadata": {},
   "outputs": [
    {
     "data": {
      "text/html": [
       "<div>\n",
       "<style scoped>\n",
       "    .dataframe tbody tr th:only-of-type {\n",
       "        vertical-align: middle;\n",
       "    }\n",
       "\n",
       "    .dataframe tbody tr th {\n",
       "        vertical-align: top;\n",
       "    }\n",
       "\n",
       "    .dataframe thead th {\n",
       "        text-align: right;\n",
       "    }\n",
       "</style>\n",
       "<table border=\"1\" class=\"dataframe\">\n",
       "  <thead>\n",
       "    <tr style=\"text-align: right;\">\n",
       "      <th></th>\n",
       "      <th>visitorid</th>\n",
       "      <th>orders</th>\n",
       "    </tr>\n",
       "  </thead>\n",
       "  <tbody>\n",
       "    <tr>\n",
       "      <th>1023</th>\n",
       "      <td>4256040402</td>\n",
       "      <td>11</td>\n",
       "    </tr>\n",
       "    <tr>\n",
       "      <th>591</th>\n",
       "      <td>2458001652</td>\n",
       "      <td>11</td>\n",
       "    </tr>\n",
       "    <tr>\n",
       "      <th>569</th>\n",
       "      <td>2378935119</td>\n",
       "      <td>9</td>\n",
       "    </tr>\n",
       "    <tr>\n",
       "      <th>487</th>\n",
       "      <td>2038680547</td>\n",
       "      <td>8</td>\n",
       "    </tr>\n",
       "    <tr>\n",
       "      <th>44</th>\n",
       "      <td>199603092</td>\n",
       "      <td>5</td>\n",
       "    </tr>\n",
       "    <tr>\n",
       "      <th>744</th>\n",
       "      <td>3062433592</td>\n",
       "      <td>5</td>\n",
       "    </tr>\n",
       "    <tr>\n",
       "      <th>55</th>\n",
       "      <td>237748145</td>\n",
       "      <td>5</td>\n",
       "    </tr>\n",
       "    <tr>\n",
       "      <th>917</th>\n",
       "      <td>3803269165</td>\n",
       "      <td>5</td>\n",
       "    </tr>\n",
       "    <tr>\n",
       "      <th>299</th>\n",
       "      <td>1230306981</td>\n",
       "      <td>5</td>\n",
       "    </tr>\n",
       "    <tr>\n",
       "      <th>897</th>\n",
       "      <td>3717692402</td>\n",
       "      <td>5</td>\n",
       "    </tr>\n",
       "  </tbody>\n",
       "</table>\n",
       "</div>"
      ],
      "text/plain": [
       "       visitorid  orders\n",
       "1023  4256040402  11    \n",
       "591   2458001652  11    \n",
       "569   2378935119  9     \n",
       "487   2038680547  8     \n",
       "44    199603092   5     \n",
       "744   3062433592  5     \n",
       "55    237748145   5     \n",
       "917   3803269165  5     \n",
       "299   1230306981  5     \n",
       "897   3717692402  5     "
      ]
     },
     "metadata": {},
     "output_type": "display_data"
    },
    {
     "data": {
      "image/png": "[encoded data removed]",
      "text/plain": [
       "<Figure size 864x432 with 1 Axes>"
      ]
     },
     "metadata": {
      "needs_background": "light"
     },
     "output_type": "display_data"
    }
   ],
   "source": [
    "# выделим число заказов по пользователям\n",
    "orders_by_users = (\n",
    "    orders.groupby('visitorid', as_index=False)\n",
    "    .agg({'transactionid': 'nunique'})\n",
    ")\n",
    "orders_by_users.columns =  ['visitorid', 'orders']\n",
    "\n",
    "display(orders_by_users.sort_values(by='orders', ascending=False).head(10))\n",
    "#display(orders_by_users.describe())\n",
    "\n",
    "# зададим значения по горизонтальной оси\n",
    "x_values = pd.Series(range(0,len(orders_by_users))) # серия из чисел от 0 до количества наблюдений \n",
    "\n",
    "# построим диаграмму методом scatter(). \n",
    "plt.figure(figsize=(12,6))\n",
    "plt.scatter(x_values, orders_by_users['orders'], color='blue', edgecolors='black', s=100, alpha=0.5)\n",
    "plt.title('Распределение количества заказов по пользователям')\n",
    "plt.xlabel('Пользователи')\n",
    "plt.ylabel('Количество заказов')\n",
    "plt.grid(True, linestyle='--', alpha=0.5)  \n",
    "plt.show()"
   ]
  },
  {
   "cell_type": "markdown",
   "id": "c3743c05",
   "metadata": {},
   "source": [
    "Из полученного графика видно, что большинство пользователей совершают заказ только один раз, присутствуют так же пользователи, совершающие от 2 до 11 заказов. Определим границу для определения аномальных пользователей ниже.\n"
   ]
  },
  {
   "cell_type": "markdown",
   "id": "088f924a",
   "metadata": {},
   "source": [
    "**7) Посчитайте 95-й и 99-й перцентили количества заказов на пользователя. Выберите границу для определения аномальных пользователей.**"
   ]
  },
  {
   "cell_type": "code",
   "execution_count": 21,
   "id": "a1977808",
   "metadata": {},
   "outputs": [
    {
     "name": "stdout",
     "output_type": "stream",
     "text": [
      "[2. 4.]\n"
     ]
    }
   ],
   "source": [
    "print(np.percentile(orders_by_users['orders'], [95, 99]))"
   ]
  },
  {
   "cell_type": "markdown",
   "id": "1c4d8fac",
   "metadata": {},
   "source": [
    "Исходя из полученных рузльтатов, можем сделать вывод о том, что доля пользователей совершивших более 2  заказов составляет 5%, и 1% у пользьзователей, совершивших более 4 заказов. Таким образом, аномальными пользователей в данном случае будет те пользователи, которые совершили более 4 заказов."
   ]
  },
  {
   "cell_type": "markdown",
   "id": "08019baa",
   "metadata": {},
   "source": [
    "<div class=\"alert alert-block alert-success\">\n",
    "    \n",
    "**Комментарий от ревьюера**\n",
    "    \n",
    "Такое определение выбросов для количества заказов корректно.\n",
    "</div>"
   ]
  },
  {
   "cell_type": "markdown",
   "id": "d1d74b12",
   "metadata": {},
   "source": [
    "**8) Постройте точечный график стоимостей заказов. Сделайте выводы и предположения.**"
   ]
  },
  {
   "cell_type": "code",
   "execution_count": 22,
   "id": "93d35922",
   "metadata": {},
   "outputs": [
    {
     "data": {
      "image/png": "[encoded data removed]",
      "text/plain": [
       "<Figure size 864x432 with 1 Axes>"
      ]
     },
     "metadata": {
      "needs_background": "light"
     },
     "output_type": "display_data"
    }
   ],
   "source": [
    "plt.figure(figsize=(12, 6))\n",
    "\n",
    "plt.scatter(pd.Series(range(0, len(orders['revenue']))), orders['revenue'], \n",
    "            color='blue', alpha=0.6, edgecolors='black', s=100)\n",
    "\n",
    "plt.title('Распределение стоимости заказов', fontsize=16)\n",
    "plt.ylabel('Выручка заказа', fontsize=14, labelpad=15)\n",
    "plt.xlabel('Порядковый номер заказа в таблице', fontsize=14, labelpad=15)\n",
    "plt.grid(True, linestyle='--', alpha=0.5)\n",
    "plt.show()\n"
   ]
  },
  {
   "cell_type": "markdown",
   "id": "6073ced7",
   "metadata": {},
   "source": [
    "Из полученного графика видно, основная масса значений выручки располагаются на уровне до 25000 Также, в данных присутствуют выбросы, например заказ на 1.2 млн. Однако в таком виде довольно проблематично отследить их все,  поэтому построим аналологичный график, ограничив выручку с заказа не выше 100000."
   ]
  },
  {
   "cell_type": "code",
   "execution_count": 23,
   "id": "0e49d34d",
   "metadata": {},
   "outputs": [
    {
     "data": {
      "image/png": "[encoded data removed]",
      "text/plain": [
       "<Figure size 864x432 with 1 Axes>"
      ]
     },
     "metadata": {
      "needs_background": "light"
     },
     "output_type": "display_data"
    }
   ],
   "source": [
    "plt.figure(figsize=(12, 6))\n",
    "\n",
    "plt.scatter(pd.Series(range(0, len(orders['revenue']))), orders['revenue'], \n",
    "            color='blue', alpha=0.6, edgecolors='black', s=100)\n",
    "\n",
    "plt.title('Распределение стоимости заказов', fontsize=16)\n",
    "# Ограничение выручки для заказов\n",
    "plt.ylim(0,100000)\n",
    "plt.ylabel('Выручка заказа', fontsize=14, labelpad=15)\n",
    "plt.xlabel('Порядковый номер заказа в таблице', fontsize=14, labelpad=15)\n",
    "plt.grid(True, linestyle='--', alpha=0.5)\n",
    "plt.show()\n"
   ]
  },
  {
   "cell_type": "markdown",
   "id": "0adb79c4",
   "metadata": {},
   "source": [
    "<div class=\"alert alert-block alert-success\">\n",
    "    \n",
    "**Комментарий от ревьюера**\n",
    "\n",
    "Хорошо, что ты добавляешь еще один график, чтобы мы могли рассмотреть основную часть заказов.\n",
    "\n",
    "</div>"
   ]
  },
  {
   "cell_type": "markdown",
   "id": "e05115a5",
   "metadata": {},
   "source": [
    "Из полученного графика видно, что основная масса заказов располагаются на уровне 20000 присутствуют так же пользователи, совершающие заказы от 20000 и выше, но их количество незначительно. Определим границу для определения аномальной стоимости заказов ниже."
   ]
  },
  {
   "cell_type": "markdown",
   "id": "2638f9fe",
   "metadata": {},
   "source": [
    "**9) Посчитайте 95-й и 99-й перцентили стоимости заказов. Выберите границу для определения аномальных заказов.**"
   ]
  },
  {
   "cell_type": "code",
   "execution_count": 24,
   "id": "04744bfd",
   "metadata": {},
   "outputs": [
    {
     "name": "stdout",
     "output_type": "stream",
     "text": [
      "[28000.  58233.2]\n"
     ]
    }
   ],
   "source": [
    "print(np.percentile(orders['revenue'], [95, 99])) "
   ]
  },
  {
   "cell_type": "markdown",
   "id": "1996b95e",
   "metadata": {},
   "source": [
    "Исходя из полученных результатов, мы видим, что основная масса заказов находится на уровне до 18000 Заказы со стоимостью 28000 составляют 5%, а заказы выше 58233 составляют 1%. Таким образом, аномальными суммами заказов, в данном случае, будет суммы выше 58233."
   ]
  },
  {
   "cell_type": "markdown",
   "id": "d98f84ba",
   "metadata": {},
   "source": [
    "<div class=\"alert alert-block alert-success\"> <b>Комментарий от ревьюера</b> \n",
    "    \n",
    "Молодец, что разобрался с аномалиями в данных и корректно освоил расчет кумулятивных метрик.\n",
    "</div>"
   ]
  },
  {
   "cell_type": "markdown",
   "id": "a27ba5b8",
   "metadata": {},
   "source": [
    "**10) Посчитайте статистическую значимость различий в среднем количестве заказов на посетителя между группами по «сырым» данным. Сделайте выводы и предположения.**"
   ]
  },
  {
   "cell_type": "markdown",
   "id": "0461448a",
   "metadata": {},
   "source": [
    "В данном случае для того, что бы проверить есть ли статическая значимость  различий в среднем количестве заказов на посетителя между группами по «сырым» данным, применим тест Манна-Уитни. \n",
    "\n",
    "Сформулируем, и выдвинем следующие гипотезы:\n",
    "- **H0:** Статистически значимых различий в среднем количестве заказов между группами нет. \n",
    "- **H1:** Статистически значимые различия в среднем количестве заказов между группами есть.\n",
    "\n",
    "Уровень статистической значимости alpha = 0.05."
   ]
  },
  {
   "cell_type": "markdown",
   "id": "7bfe0552",
   "metadata": {},
   "source": [
    "Перед тем как считать статистическую значимость различия в среднем количестве заказов между группами, необходимо подготовить данные."
   ]
  },
  {
   "cell_type": "code",
   "execution_count": 25,
   "id": "fa1d8034",
   "metadata": {},
   "outputs": [
    {
     "data": {
      "text/html": [
       "<div>\n",
       "<style scoped>\n",
       "    .dataframe tbody tr th:only-of-type {\n",
       "        vertical-align: middle;\n",
       "    }\n",
       "\n",
       "    .dataframe tbody tr th {\n",
       "        vertical-align: top;\n",
       "    }\n",
       "\n",
       "    .dataframe thead th {\n",
       "        text-align: right;\n",
       "    }\n",
       "</style>\n",
       "<table border=\"1\" class=\"dataframe\">\n",
       "  <thead>\n",
       "    <tr style=\"text-align: right;\">\n",
       "      <th></th>\n",
       "      <th>date</th>\n",
       "      <th>ordersPerDateA</th>\n",
       "      <th>revenuePerDateA</th>\n",
       "      <th>ordersPerDateB</th>\n",
       "      <th>revenuePerDateB</th>\n",
       "      <th>ordersCummulativeA</th>\n",
       "      <th>revenueCummulativeA</th>\n",
       "      <th>ordersCummulativeB</th>\n",
       "      <th>revenueCummulativeB</th>\n",
       "      <th>visitorsPerDateA</th>\n",
       "      <th>visitorsPerDateB</th>\n",
       "      <th>visitorsCummulativeA</th>\n",
       "      <th>visitorsCummulativeB</th>\n",
       "    </tr>\n",
       "  </thead>\n",
       "  <tbody>\n",
       "    <tr>\n",
       "      <th>0</th>\n",
       "      <td>2019-08-01</td>\n",
       "      <td>24</td>\n",
       "      <td>148579</td>\n",
       "      <td>21</td>\n",
       "      <td>101217</td>\n",
       "      <td>24</td>\n",
       "      <td>148579</td>\n",
       "      <td>21</td>\n",
       "      <td>101217</td>\n",
       "      <td>719</td>\n",
       "      <td>713</td>\n",
       "      <td>719</td>\n",
       "      <td>713</td>\n",
       "    </tr>\n",
       "    <tr>\n",
       "      <th>1</th>\n",
       "      <td>2019-08-02</td>\n",
       "      <td>20</td>\n",
       "      <td>93822</td>\n",
       "      <td>24</td>\n",
       "      <td>165531</td>\n",
       "      <td>44</td>\n",
       "      <td>242401</td>\n",
       "      <td>45</td>\n",
       "      <td>266748</td>\n",
       "      <td>619</td>\n",
       "      <td>581</td>\n",
       "      <td>1338</td>\n",
       "      <td>1294</td>\n",
       "    </tr>\n",
       "    <tr>\n",
       "      <th>2</th>\n",
       "      <td>2019-08-03</td>\n",
       "      <td>24</td>\n",
       "      <td>112473</td>\n",
       "      <td>16</td>\n",
       "      <td>114248</td>\n",
       "      <td>68</td>\n",
       "      <td>354874</td>\n",
       "      <td>61</td>\n",
       "      <td>380996</td>\n",
       "      <td>507</td>\n",
       "      <td>509</td>\n",
       "      <td>1845</td>\n",
       "      <td>1803</td>\n",
       "    </tr>\n",
       "    <tr>\n",
       "      <th>3</th>\n",
       "      <td>2019-08-04</td>\n",
       "      <td>16</td>\n",
       "      <td>70825</td>\n",
       "      <td>17</td>\n",
       "      <td>108571</td>\n",
       "      <td>84</td>\n",
       "      <td>425699</td>\n",
       "      <td>78</td>\n",
       "      <td>489567</td>\n",
       "      <td>717</td>\n",
       "      <td>770</td>\n",
       "      <td>2562</td>\n",
       "      <td>2573</td>\n",
       "    </tr>\n",
       "    <tr>\n",
       "      <th>4</th>\n",
       "      <td>2019-08-05</td>\n",
       "      <td>25</td>\n",
       "      <td>124218</td>\n",
       "      <td>23</td>\n",
       "      <td>92428</td>\n",
       "      <td>109</td>\n",
       "      <td>549917</td>\n",
       "      <td>101</td>\n",
       "      <td>581995</td>\n",
       "      <td>756</td>\n",
       "      <td>707</td>\n",
       "      <td>3318</td>\n",
       "      <td>3280</td>\n",
       "    </tr>\n",
       "    <tr>\n",
       "      <th>5</th>\n",
       "      <td>2019-08-06</td>\n",
       "      <td>18</td>\n",
       "      <td>48484</td>\n",
       "      <td>28</td>\n",
       "      <td>242342</td>\n",
       "      <td>127</td>\n",
       "      <td>598401</td>\n",
       "      <td>129</td>\n",
       "      <td>824337</td>\n",
       "      <td>667</td>\n",
       "      <td>655</td>\n",
       "      <td>3985</td>\n",
       "      <td>3935</td>\n",
       "    </tr>\n",
       "    <tr>\n",
       "      <th>6</th>\n",
       "      <td>2019-08-07</td>\n",
       "      <td>18</td>\n",
       "      <td>142417</td>\n",
       "      <td>24</td>\n",
       "      <td>225334</td>\n",
       "      <td>145</td>\n",
       "      <td>740818</td>\n",
       "      <td>153</td>\n",
       "      <td>1049671</td>\n",
       "      <td>644</td>\n",
       "      <td>709</td>\n",
       "      <td>4629</td>\n",
       "      <td>4644</td>\n",
       "    </tr>\n",
       "    <tr>\n",
       "      <th>7</th>\n",
       "      <td>2019-08-08</td>\n",
       "      <td>16</td>\n",
       "      <td>96279</td>\n",
       "      <td>27</td>\n",
       "      <td>220918</td>\n",
       "      <td>161</td>\n",
       "      <td>837097</td>\n",
       "      <td>180</td>\n",
       "      <td>1270589</td>\n",
       "      <td>610</td>\n",
       "      <td>654</td>\n",
       "      <td>5239</td>\n",
       "      <td>5298</td>\n",
       "    </tr>\n",
       "    <tr>\n",
       "      <th>8</th>\n",
       "      <td>2019-08-09</td>\n",
       "      <td>16</td>\n",
       "      <td>188506</td>\n",
       "      <td>25</td>\n",
       "      <td>160812</td>\n",
       "      <td>177</td>\n",
       "      <td>1025603</td>\n",
       "      <td>205</td>\n",
       "      <td>1431401</td>\n",
       "      <td>617</td>\n",
       "      <td>610</td>\n",
       "      <td>5856</td>\n",
       "      <td>5908</td>\n",
       "    </tr>\n",
       "    <tr>\n",
       "      <th>9</th>\n",
       "      <td>2019-08-10</td>\n",
       "      <td>16</td>\n",
       "      <td>210495</td>\n",
       "      <td>23</td>\n",
       "      <td>107802</td>\n",
       "      <td>193</td>\n",
       "      <td>1236098</td>\n",
       "      <td>228</td>\n",
       "      <td>1539203</td>\n",
       "      <td>406</td>\n",
       "      <td>369</td>\n",
       "      <td>6262</td>\n",
       "      <td>6277</td>\n",
       "    </tr>\n",
       "  </tbody>\n",
       "</table>\n",
       "</div>"
      ],
      "text/plain": [
       "        date  ordersPerDateA  revenuePerDateA  ordersPerDateB  \\\n",
       "0 2019-08-01  24              148579           21               \n",
       "1 2019-08-02  20              93822            24               \n",
       "2 2019-08-03  24              112473           16               \n",
       "3 2019-08-04  16              70825            17               \n",
       "4 2019-08-05  25              124218           23               \n",
       "5 2019-08-06  18              48484            28               \n",
       "6 2019-08-07  18              142417           24               \n",
       "7 2019-08-08  16              96279            27               \n",
       "8 2019-08-09  16              188506           25               \n",
       "9 2019-08-10  16              210495           23               \n",
       "\n",
       "   revenuePerDateB  ordersCummulativeA  revenueCummulativeA  \\\n",
       "0  101217           24                  148579                \n",
       "1  165531           44                  242401                \n",
       "2  114248           68                  354874                \n",
       "3  108571           84                  425699                \n",
       "4  92428            109                 549917                \n",
       "5  242342           127                 598401                \n",
       "6  225334           145                 740818                \n",
       "7  220918           161                 837097                \n",
       "8  160812           177                 1025603               \n",
       "9  107802           193                 1236098               \n",
       "\n",
       "   ordersCummulativeB  revenueCummulativeB  visitorsPerDateA  \\\n",
       "0  21                  101217               719                \n",
       "1  45                  266748               619                \n",
       "2  61                  380996               507                \n",
       "3  78                  489567               717                \n",
       "4  101                 581995               756                \n",
       "5  129                 824337               667                \n",
       "6  153                 1049671              644                \n",
       "7  180                 1270589              610                \n",
       "8  205                 1431401              617                \n",
       "9  228                 1539203              406                \n",
       "\n",
       "   visitorsPerDateB  visitorsCummulativeA  visitorsCummulativeB  \n",
       "0  713               719                   713                   \n",
       "1  581               1338                  1294                  \n",
       "2  509               1845                  1803                  \n",
       "3  770               2562                  2573                  \n",
       "4  707               3318                  3280                  \n",
       "5  655               3985                  3935                  \n",
       "6  709               4629                  4644                  \n",
       "7  654               5239                  5298                  \n",
       "8  610               5856                  5908                  \n",
       "9  369               6262                  6277                  "
      ]
     },
     "execution_count": 25,
     "metadata": {},
     "output_type": "execute_result"
    }
   ],
   "source": [
    "# Формируем ежедневные данные для группы A\n",
    "visitorsADaily = visitors[visitors['group'] == 'A'][['date', 'visitors']]\n",
    "visitorsADaily.columns = ['date', 'visitorsPerDateA']\n",
    "\n",
    "ordersADaily = (orders[orders['group'] == 'A'][['date', 'transactionid', 'revenue']]\n",
    "                .groupby('date', as_index=False)\n",
    "                .agg({'transactionid': pd.Series.nunique, 'revenue': 'sum'}))\n",
    "ordersADaily.columns = ['date', 'ordersPerDateA', 'revenuePerDateA']\n",
    "\n",
    "# Кумулятивные данные для группы A\n",
    "visitorsACummulative = visitorsADaily.groupby('date').sum().cumsum().reset_index()\n",
    "visitorsACummulative.columns = ['date', 'visitorsCummulativeA']\n",
    "\n",
    "ordersACummulative = ordersADaily.groupby('date').sum().cumsum().reset_index()\n",
    "ordersACummulative.columns = ['date', 'ordersCummulativeA', 'revenueCummulativeA']\n",
    "\n",
    "# Формируем ежедневные данные для группы B\n",
    "visitorsBDaily = visitors[visitors['group'] == 'B'][['date', 'visitors']]\n",
    "visitorsBDaily.columns = ['date', 'visitorsPerDateB']\n",
    "\n",
    "ordersBDaily = (orders[orders['group'] == 'B'][['date', 'transactionid', 'revenue']]\n",
    "                .groupby('date', as_index=False)\n",
    "                .agg({'transactionid': pd.Series.nunique, 'revenue': 'sum'}))\n",
    "ordersBDaily.columns = ['date', 'ordersPerDateB', 'revenuePerDateB']\n",
    "\n",
    "# Кумулятивные данные для группы B\n",
    "visitorsBCummulative = visitorsBDaily.groupby('date').sum().cumsum().reset_index()\n",
    "visitorsBCummulative.columns = ['date', 'visitorsCummulativeB']\n",
    "\n",
    "ordersBCummulative = ordersBDaily.groupby('date').sum().cumsum().reset_index()\n",
    "ordersBCummulative.columns = ['date', 'ordersCummulativeB', 'revenueCummulativeB']\n",
    "\n",
    "# Объединяем полученные таблицы в одну по дате\n",
    "data = (ordersADaily\n",
    "        .merge(ordersBDaily, on='date', how='left')\n",
    "        .merge(ordersACummulative, on='date', how='left')\n",
    "        .merge(ordersBCummulative, on='date', how='left')\n",
    "        .merge(visitorsADaily, on='date', how='left')\n",
    "        .merge(visitorsBDaily, on='date', how='left')\n",
    "        .merge(visitorsACummulative, on='date', how='left')\n",
    "        .merge(visitorsBCummulative, on='date', how='left'))\n",
    "\n",
    "# Вывод первых 10 строк\n",
    "data.head(10)\n"
   ]
  },
  {
   "cell_type": "markdown",
   "id": "0b7bf487",
   "metadata": {},
   "source": [
    "<div class=\"alert alert-block alert-warning\">\n",
    "    \n",
    "**Комментарий от ревьюера**\n",
    "\n",
    "Этот код можно сократить: нам не нужно собирать кумулятивные данные для проверки гипотез, потому что это уже сделано выше.\n",
    "\n",
    "</div>"
   ]
  },
  {
   "cell_type": "markdown",
   "id": "9dca1392",
   "metadata": {},
   "source": [
    "<div class=\"alert alert-info\">\n",
    "<b>Комментарий студента:</b>\n",
    "<br> Ок, учту на будующее. Просто тут было удобно взять за основу шаблон из тренажера. Чтобы работаль с удобными переменными.\n",
    "</div>"
   ]
  },
  {
   "cell_type": "markdown",
   "id": "d31aaf8d",
   "metadata": {},
   "source": [
    "Теперь все готово для расчета статистической значимости различия в среднем количестве заказов между группами. "
   ]
  },
  {
   "cell_type": "code",
   "execution_count": 26,
   "id": "23d1b5d4",
   "metadata": {},
   "outputs": [],
   "source": [
    "# Создадим переменные orders_by_users_a и orders_by_users_b .\n",
    "# В них для пользователей, которые заказывали хотя бы 1 раз, укажем число совершённых заказов. \n",
    "\n",
    "orders_by_users_a = (orders[orders['group'] == 'A'].groupby('visitorid', as_index=False)\n",
    "                     .agg({'transactionid': pd.Series.nunique}))\n",
    "orders_by_users_a.columns = ['visitorid', 'orders']\n",
    "\n",
    "orders_by_users_b = (orders[orders['group'] == 'B'].groupby('visitorid', as_index=False)\n",
    "                     .agg({'transactionid': pd.Series.nunique}))\n",
    "orders_by_users_b.columns = ['visitorid', 'orders']\n",
    "\n",
    "# Создадим по выборке для А и В,\n",
    "# где каждый элемент — число заказов определённого пользователя, в том числе ноль.\n",
    "\n",
    "sample_a = pd.concat([orders_by_users_a['orders'],\n",
    "                      pd.Series(0, index=np.arange(data['visitorsPerDateA'].sum() - \n",
    "                                          len(orders_by_users_a['orders'])),name='orders')],axis=0)\n",
    "\n",
    "sample_b = pd.concat([orders_by_users_b['orders'],\n",
    "                      pd.Series(0, index=np.arange(data['visitorsPerDateB'].sum() - \n",
    "                                          len(orders_by_users_b['orders'])), name='orders')],axis=0)\n"
   ]
  },
  {
   "cell_type": "markdown",
   "id": "006c55cb",
   "metadata": {},
   "source": [
    "Посчитаем критерий Манна-Уитни и относительный прирост среднего количества заказов на посетителя. Выведыем p-value для сравнения среднего между группами. "
   ]
  },
  {
   "cell_type": "code",
   "execution_count": 27,
   "id": "aceb3494",
   "metadata": {},
   "outputs": [
    {
     "name": "stdout",
     "output_type": "stream",
     "text": [
      "Значение p-value для конверсий: 0.017\n",
      "Отвергаем нулевую гипотезу\n",
      "Относительный прирост группы B: 13.81%\n"
     ]
    }
   ],
   "source": [
    "# Расчитаем критерий Манна-Уитни и относительный прирост среднего количества заказов на посетителя.\n",
    "\n",
    "alpha = 0.05\n",
    "print('Значение p-value для конверсий: {:.3f}'.format(stats.mannwhitneyu(sample_a, sample_b)[1]))\n",
    "\n",
    "if stats.mannwhitneyu(sample_a, sample_b)[1] < alpha:\n",
    "    print(\"Отвергаем нулевую гипотезу\")\n",
    "else:\n",
    "    print(\"Не удалось отвергнуть нулевую гипотезу\")\n",
    "    \n",
    "print('Относительный прирост группы B: {:.2%}'.format((sample_b.mean()/sample_a.mean()) - 1))"
   ]
  },
  {
   "cell_type": "markdown",
   "id": "eb20b5e5",
   "metadata": {},
   "source": [
    "<div class=\"alert alert-block alert-success\">\n",
    "    \n",
    "**Комментарий от ревьюера**\n",
    "\n",
    "Хорошо, что ты подписываешь выводимые числа. Так их нельзя перепутать.\n",
    "</div>"
   ]
  },
  {
   "cell_type": "markdown",
   "id": "87f381cb",
   "metadata": {},
   "source": [
    "Исходя из полученных результатов, можем отвергунть гипотезу H0 (\"Статистически значимых различий в конверсии между группами нет.\"), так так p-value = 0.017 << 0.05. Следовательно, можно утверждать, что  что в среднем количестве заказов между группами есть статистически значимые различия. Относительный прирост среднего группы B к конверсии группы A равен 13.81%."
   ]
  },
  {
   "cell_type": "markdown",
   "id": "e5d8de53",
   "metadata": {},
   "source": [
    "**11) Посчитайте статистическую значимость различий в среднем чеке заказа между группами по «сырым» данным. Сделайте выводы и предположения.**"
   ]
  },
  {
   "cell_type": "markdown",
   "id": "947eaeea",
   "metadata": {},
   "source": [
    "В данном случае для того, что бы проверить есть ли статистическая значимость различий в среднем чеке заказа между группами по «сырым» данным, применим тест Манна-Уитни.\n",
    "\n",
    "Сформулируем, и выдвинем следующие гипотезы:\n",
    "- **H0:** Статистически значимых различий в среднем чеке между группами нет. \n",
    "- **H1:** Статистически значимые различия в среднем чеке между группами есть.\n",
    "\n",
    "Уровень статистической значимости alpha = 0.05."
   ]
  },
  {
   "cell_type": "code",
   "execution_count": 28,
   "id": "9b2359d0",
   "metadata": {},
   "outputs": [
    {
     "name": "stdout",
     "output_type": "stream",
     "text": [
      "Значение p-value для среднего чека: 0.729\n",
      "Не удалось отвергнуть нулевую гипотезу\n",
      "Относительный прирост среднего чека группы B: 25.87%\n"
     ]
    }
   ],
   "source": [
    "print('Значение p-value для среднего чека: {:.3f}'.format(stats.mannwhitneyu(\n",
    "    orders.query('group == \"A\"')['revenue'], orders.query('group == \"B\"')['revenue'])[1]))\n",
    "\n",
    "if stats.mannwhitneyu(orders.query('group == \"A\"')['revenue'],\n",
    "                   orders.query('group == \"B\"')['revenue'])[1] < alpha:\n",
    "    print(\"Отвергаем нулевую гипотезу\")\n",
    "else:\n",
    "    print(\"Не удалось отвергнуть нулевую гипотезу\")\n",
    "print('Относительный прирост среднего чека группы B: {:.2%}'.format(\n",
    "    (orders.query('group == \"B\"')['revenue'].mean() / \n",
    "     orders.query('group == \"A\"')['revenue'].mean()) - 1))"
   ]
  },
  {
   "cell_type": "markdown",
   "id": "ba83f093",
   "metadata": {},
   "source": [
    "Исходя из полученных результатов, не удалось отвергнуть нулевую гипотезу H0 (\"Статистически значимых различий в среднем чеке между группами нет.\"), так так p-value = 0.729 > 0.05. Относительный прирост среднего чека группы B к среднему чеку группы A равен 25.87%, что значительно и в очередной раз указывает на наличие аномальных заказов."
   ]
  },
  {
   "cell_type": "markdown",
   "id": "06aa1920",
   "metadata": {},
   "source": [
    "<div class=\"alert alert-block alert-danger\">\n",
    "    \n",
    "**Комментарий от ревьюера**\n",
    "    \n",
    "Здесь надо поправить гипотезу в выводе, так как речь идет о среднем чеке.\n",
    "  \n",
    "</div>"
   ]
  },
  {
   "cell_type": "markdown",
   "id": "43043831",
   "metadata": {},
   "source": [
    "<div class=\"alert alert-block alert-info\">\n",
    "    \n",
    "**Комментарий от ревьюера**\n",
    "    \n",
    "Поправил гипотезу в выводе.\n",
    "  \n",
    "</div>"
   ]
  },
  {
   "cell_type": "markdown",
   "id": "6de4e48b",
   "metadata": {},
   "source": [
    "**12) Посчитайте статистическую значимость различий в среднем количестве заказов на посетителя между группами по «очищенным» данным. Сделайте выводы и предположения.**"
   ]
  },
  {
   "cell_type": "markdown",
   "id": "0d047b79",
   "metadata": {},
   "source": [
    "Напомним, что принимаем за аномальных пользователей тех, кто оформил больше 4 заказов (99-й перцентиль) или оформил заказ дороже 58233 (99-й перцентиль). Таким образом, мы избавимся от 1% пользователей с аномально высоким числом заказов и от 1% пользователей с аномально дорогими заказами.\n",
    "\n",
    "Сформулируем, и выдвинем следующие гипотезы:\n",
    "- **H0:** Статистически значимых различий в среднем количестве заказов между группами нет. \n",
    "- **H1:** Статистически значимые различия в среднем количестве заказов между группами есть.\n",
    "\n",
    "Уровень статистической значимости alpha = 0.05.\n",
    "\n",
    "Перед расчетом статистическую значимость различий в среднем количестве заказов на посетителя между группами, подготовим «очищенные» данные."
   ]
  },
  {
   "cell_type": "code",
   "execution_count": 29,
   "id": "2a2c08f7",
   "metadata": {},
   "outputs": [
    {
     "name": "stdout",
     "output_type": "stream",
     "text": [
      "99-й перцентиль для количества заказов: 4.0\n",
      "99-й перцентиль для дохода: 58233.19999999999\n",
      "\n",
      "Аномальные пользователи:\n",
      " 1099    148427295 \n",
      "949     887908475 \n",
      "744     888512513 \n",
      "1103    1164614297\n",
      "1136    1307669133\n",
      "858     1316129916\n",
      "425     1920142716\n",
      "227     2038680547\n",
      "1196    2108080724\n",
      "326     2378935119\n",
      "278     2458001652\n",
      "940     4003628586\n",
      "743     4133034833\n",
      "499     4256040402\n",
      "662     4266935830\n",
      "Name: visitorid, dtype: int64\n"
     ]
    }
   ],
   "source": [
    "# Вычисляем 99-й перцентиль для количества заказов и дохода\n",
    "percentile_99_orders = np.percentile(orders_by_users['orders'], 99)\n",
    "percentile_99_revenue = np.percentile(orders['revenue'], 99)\n",
    "\n",
    "print(\"99-й перцентиль для количества заказов:\", percentile_99_orders)\n",
    "print(\"99-й перцентиль для дохода:\", percentile_99_revenue)\n",
    "print()\n",
    "\n",
    "# Подсчет количества заказов для пользователей в группе A\n",
    "ordersByUsersA = (\n",
    "    orders[orders['group'] == 'A']\n",
    "    .groupby('visitorid', as_index=False)\n",
    "    .agg({'transactionid': pd.Series.nunique})\n",
    ")\n",
    "ordersByUsersA.columns = ['visitorid', 'orders']\n",
    "\n",
    "# Подсчет количества заказов для пользователей в группе B\n",
    "ordersByUsersB = (\n",
    "    orders[orders['group'] == 'B']\n",
    "    .groupby('visitorid', as_index=False)\n",
    "    .agg({'transactionid': pd.Series.nunique})\n",
    ")\n",
    "ordersByUsersB.columns = ['visitorid', 'orders']\n",
    "\n",
    "# Делаем срез пользователей с условием число заказов > 99-й перцентиль\n",
    "usersWithManyOrders = pd.concat(\n",
    "    [\n",
    "        ordersByUsersA[ordersByUsersA['orders'] > percentile_99_orders]['visitorid'],\n",
    "        ordersByUsersB[ordersByUsersB['orders'] > percentile_99_orders]['visitorid'],\n",
    "    ],\n",
    "    axis=0,\n",
    ")\n",
    "\n",
    "# Делаем срез пользователей с условием заказы дороже 99-го перцентиля\n",
    "usersWithExpensiveOrders = orders[orders['revenue'] > percentile_99_revenue]['visitorid']\n",
    "\n",
    "# Объединяем аномальных пользователей\n",
    "abnormal_users = (\n",
    "    pd.concat([usersWithManyOrders, usersWithExpensiveOrders], axis=0)\n",
    "    .drop_duplicates()\n",
    "    .sort_values()\n",
    ")\n",
    "\n",
    "# Выводим множество аномальных пользователей. \n",
    "print(\"Аномальные пользователи:\\n\", abnormal_users)\n"
   ]
  },
  {
   "cell_type": "markdown",
   "id": "e6fdef70",
   "metadata": {},
   "source": [
    "<div class=\"alert alert-block alert-info\">\n",
    "    \n",
    "**Комментарий от ревьюера**\n",
    "    \n",
    "Заменил ручной ввод на результат расчета выбранного перцентиля. Также теперь вместо 0.05 использую переменную alpha.\n",
    "  \n",
    "</div>"
   ]
  },
  {
   "cell_type": "markdown",
   "id": "e5656c06",
   "metadata": {},
   "source": [
    "<div class=\"alert alert-block alert-danger\">\n",
    "    \n",
    "**Комментарий от ревьюера**\n",
    "\n",
    "Лучше избегать ручного ввода значений при фильтрации: можно использовать непосредственно результат расчета выбранного перцентиля. \n",
    "    \n",
    "Для этого вписанные вручную числа надо заменить на такие же расчеты, как ты использовал для границы определения аномальных заказов, только там ты указываешь список перцентилей, а здесь нам нужен один.\n",
    "\n",
    "</div>"
   ]
  },
  {
   "cell_type": "markdown",
   "id": "a8efe1c4",
   "metadata": {},
   "source": [
    "<div class=\"alert alert-block alert-success\">\n",
    "    \n",
    "**Комментарий от ревьюера 2**\n",
    "\n",
    "Так не придется менять вписанные вручную числа, если поменяются данные.\n",
    "</div>"
   ]
  },
  {
   "cell_type": "markdown",
   "id": "ce38711e",
   "metadata": {},
   "source": [
    "Теперь все готово для расчета статистической значимости различий в конверсии между группами теста по очищенным данным. "
   ]
  },
  {
   "cell_type": "code",
   "execution_count": 30,
   "id": "aa4ac57c",
   "metadata": {},
   "outputs": [],
   "source": [
    "# создадим таблицы с количеством заказов по пользователям для каждой группы без аномальных значений.\n",
    "sample_a_filtered = pd.concat(\n",
    "    [\n",
    "        orders_by_users_a[\n",
    "            np.logical_not(orders_by_users_a['visitorid'].isin(abnormal_users))\n",
    "        ]['orders'],\n",
    "        pd.Series(\n",
    "            0,\n",
    "            index=np.arange(\n",
    "                data['visitorsPerDateA'].sum() - len(orders_by_users_a['orders'])\n",
    "            ),\n",
    "            name='orders',\n",
    "        ),\n",
    "    ],\n",
    "    axis=0,\n",
    ")\n",
    "\n",
    "sample_b_filtered = pd.concat(\n",
    "    [\n",
    "        orders_by_users_b[\n",
    "            np.logical_not(orders_by_users_b['visitorid'].isin(abnormal_users))\n",
    "        ]['orders'],\n",
    "        pd.Series(\n",
    "            0,\n",
    "            index=np.arange(\n",
    "                data['visitorsPerDateB'].sum() - len(orders_by_users_b['orders'])\n",
    "            ),\n",
    "            name='orders',\n",
    "        ),\n",
    "    ],\n",
    "    axis=0,\n",
    ")"
   ]
  },
  {
   "cell_type": "code",
   "execution_count": 31,
   "id": "66755cd9",
   "metadata": {},
   "outputs": [
    {
     "name": "stdout",
     "output_type": "stream",
     "text": [
      "P-value: 0.014\n",
      "Отвергаем нулевую гипотезу\n",
      "Относительный прирост конверсии группы B: 15.33%\n"
     ]
    }
   ],
   "source": [
    "p_value = stats.mannwhitneyu(sample_a_filtered, sample_b_filtered)[1]\n",
    "print(\"P-value: {0:.3f}\".format(p_value))\n",
    "\n",
    "if (p_value < alpha):\n",
    "    print(\"Отвергаем нулевую гипотезу\")\n",
    "else:\n",
    "    print(\"Не удалось отвергнуть нулевую гипотезу\")\n",
    "    \n",
    "print(\"Относительный прирост конверсии группы B: {0:.2%}\".format(sample_b_filtered.mean() / sample_a_filtered.mean()-1))"
   ]
  },
  {
   "cell_type": "markdown",
   "id": "e2d4cc9a",
   "metadata": {},
   "source": [
    "Исходя из полученных результатов, можем отвергунть гипотезу H0 (\"Статистически значимых различий в конверсии между группами нет.\"). P-value: 0.014 < 0.05. На очищенных данных разница в среднем количестве заказов на посетителя между группами присутствует, а относительный прирост среднего количества заказов на посетителя группы В отнистельно группы А составляет 15.33%, что значительно."
   ]
  },
  {
   "cell_type": "markdown",
   "id": "fa7a09ab",
   "metadata": {},
   "source": [
    "<div class=\"alert alert-block alert-success\">\n",
    "    \n",
    "**Комментарий от ревьюера**\n",
    "\n",
    "Верно, при анализе \"очищенных данных\" p-value стало еще меньше и все так же меньше 0.05, следовательно, между группами есть статистически значимые различия.\n",
    "</div>"
   ]
  },
  {
   "cell_type": "markdown",
   "id": "443de95a",
   "metadata": {},
   "source": [
    "**13) Посчитайте статистическую значимость различий в среднем чеке заказа между группами по «очищенным» данным. Сделайте выводы и предположения.**"
   ]
  },
  {
   "cell_type": "markdown",
   "id": "adf04753",
   "metadata": {},
   "source": [
    "Сформулируем, и выдвинем следующие гипотезы:\n",
    "- **H0:** Статистически значимых различий в среднем чеке между группами нет. \n",
    "- **H1:** Статистически значимые различия в среднем чеке между группами есть.\n",
    "\n",
    "Уровень статистической значимости alpha = 0.05."
   ]
  },
  {
   "cell_type": "code",
   "execution_count": 32,
   "id": "dcd610af",
   "metadata": {},
   "outputs": [
    {
     "name": "stdout",
     "output_type": "stream",
     "text": [
      "Значение p-value для среднего чека: 0.851\n",
      "Не удалось отвергнуть нулевую гипотезу\n",
      "Относительный прирост среднего чека группы B: -0.575%\n"
     ]
    }
   ],
   "source": [
    "# посчитаем критерий Манна-Уитни к среднему чеку для очищенных данных \n",
    "# и относительный прирост среднего чека группы В\n",
    "\n",
    "filtered_pvalue_mean_check = stats.mannwhitneyu(\n",
    "    orders[np.logical_and(orders['group'] == \"A\", np.logical_not(orders['visitorid'].isin(abnormal_users)))]['revenue'],\n",
    "    orders[np.logical_and(orders['group'] == \"B\", np.logical_not(orders['visitorid'].isin(abnormal_users)))]['revenue'])[1]\n",
    "\n",
    "print('Значение p-value для среднего чека: {:.3f}'.format(filtered_pvalue_mean_check))\n",
    "\n",
    "if filtered_pvalue_mean_check < alpha:\n",
    "    print(\"Отвергаем нулевую гипотезу\")\n",
    "else:\n",
    "    print(\"Не удалось отвергнуть нулевую гипотезу\")\n",
    "    \n",
    "print('Относительный прирост среднего чека группы B: {:.3%}'.format(\n",
    "    (orders[np.logical_and(orders['group']=='B', \n",
    "            np.logical_not(orders['visitorid'].isin(abnormal_users)))]['revenue'].mean()/\n",
    "     orders[np.logical_and(orders['group']=='A', \n",
    "            np.logical_not(orders['visitorid'].isin(abnormal_users)))]['revenue'].mean()) - 1))"
   ]
  },
  {
   "cell_type": "markdown",
   "id": "337193e9",
   "metadata": {},
   "source": [
    "Исходя из полученных результатов, не удалось отвергнуть нулевую гипотезу H0 (\"Статистически значимых различий в среднем чеке между группами нет.\"), так так p-value = 0.851> 0.05. Относительный прирост среднего чека группы B к среднему чеку группы A изменился, и стал равен -0.575%, теперь различия между средними чеками практически отсутствуют."
   ]
  },
  {
   "cell_type": "markdown",
   "id": "0e69d47b",
   "metadata": {},
   "source": [
    "<div class=\"alert alert-block alert-danger\">\n",
    "    \n",
    "**Комментарий от ревьюера**\n",
    "    \n",
    "Здесь также надо поправить вывод.\n",
    "  \n",
    "</div>"
   ]
  },
  {
   "cell_type": "markdown",
   "id": "9fec6857",
   "metadata": {},
   "source": [
    "<div class=\"alert alert-block alert-info\">\n",
    "    \n",
    "**Комментарий от ревьюера**\n",
    "    \n",
    "Поправил гипотезу в выводе.\n",
    "  \n",
    "</div>"
   ]
  },
  {
   "cell_type": "markdown",
   "id": "fafd6b26",
   "metadata": {},
   "source": [
    "# 14) Выводы\n",
    "**На основании проведенного анализа были выявлены следующие закономерности и сформулированы рекомендации, позволяющие спланировать успешные рекламные кампании по увеличению выручки.**\n",
    "\n",
    "**1) Приоритизация гипотез.**\n",
    "\n",
    "В данной ситуации, наиболее подходящим фреймворк для приоритизации гипотез является фреймворк RICE, так как он учитывает параметр reach (охват гипотезы) и дает более точные результаты.\n",
    "\n",
    "По результатам, наиболее перспективными гипотезами являются:\n",
    "\n",
    "- 7. Добавить форму подписки на все основные страницы, чтобы собрать базу клиентов для email-рассылок\n",
    "\n",
    "- 2. Добавить блоки рекомендаций товаров на сайт интернет магазина, чтобы повысить конверсию и средний чек заказа\n",
    "\n",
    "- 0. Добавить два новых канала привлечения трафика, что позволит привлекать на 30% больше пользователей\n",
    "\n",
    "**2) Анализ A/B-теста.**\n",
    "\n",
    "- График различия конверсии между группами сообщает, что результаты группы B лучше группы A: имеют тенденцию к росту, либо зафиксировались около среднего значения.\n",
    "\n",
    "\n",
    "- График различия среднего чека колеблется, по нему в первый раз были найдены аномалии.\n",
    "\n",
    "\n",
    "- Есть статистически значимое различие по конверсии между группами как по «сырым», так и по данным после фильтрации аномалий. Относительный прирост конверсии группы В относительно группы А составляет 15.33%, что значительно выше.\n",
    "\n",
    "\n",
    "- Нет статистически значимого различия по среднему чеку между группами ни по «сырым», ни по данным после фильтрации аномалий. Относительный прирост среднего чека группы B к среднему чеку группы A изменился, и стал равен -0.575%\n",
    "\n",
    "**Исходя из фактов выше, принимаем решение остановить тест, зафиксировав победу группы В.**"
   ]
  },
  {
   "cell_type": "markdown",
   "id": "55893951",
   "metadata": {},
   "source": [
    "<div class=\"alert alert-block alert-info\">\n",
    "\n",
    "<b>Итоговый комментарий от ревьюера</b>\n",
    "\n",
    "Благодарю тебя за выполнение проекта. Вижу ты постарался, когда работал над ним. Однако, в проекте есть несколько замечаний, которые надо исправить:\n",
    "\n",
    "* скорректировать формулировки;\n",
    "* дополнить описание статистических расчетов;\n",
    "* не использовать ручной ввод при фильтрации.\n",
    "       \n",
    "Жду проект после доработки. Уверена, ты справишься. 💪\n",
    "</div>"
   ]
  },
  {
   "cell_type": "markdown",
   "id": "f1a4b6d5",
   "metadata": {},
   "source": [
    "<div class=\"alert alert-success\">\n",
    "<b> Комментарий от ревьюера 2</b>\n",
    "\n",
    "Спасибо, что учел мои комментарии. Ты приложил много усилий, чтобы довести проект до конца, надеюсь, что эта работа помогла тебе лучше понять теорию. Я принимаю проект и желаю удачи в прохождении курса!\n",
    "\n",
    "</div>"
   ]
  },
  {
   "cell_type": "code",
   "execution_count": null,
   "id": "3353f7f4",
   "metadata": {},
   "outputs": [],
   "source": []
  }
 ],
 "metadata": {
  "ExecuteTimeLog": [
   {
    "duration": 1411,
    "start_time": "2024-09-27T22:36:09.948Z"
   },
   {
    "duration": 240,
    "start_time": "2024-09-27T22:36:11.361Z"
   },
   {
    "duration": 4,
    "start_time": "2024-09-27T22:36:11.603Z"
   },
   {
    "duration": 71,
    "start_time": "2024-09-27T22:36:11.609Z"
   },
   {
    "duration": 20,
    "start_time": "2024-09-27T22:36:11.682Z"
   },
   {
    "duration": 46,
    "start_time": "2024-09-27T22:36:11.704Z"
   },
   {
    "duration": 15,
    "start_time": "2024-09-27T22:36:11.752Z"
   },
   {
    "duration": 26,
    "start_time": "2024-09-27T22:36:11.769Z"
   },
   {
    "duration": 14,
    "start_time": "2024-09-27T22:36:11.797Z"
   },
   {
    "duration": 23,
    "start_time": "2024-09-27T22:36:11.812Z"
   },
   {
    "duration": 182,
    "start_time": "2024-09-27T22:36:11.837Z"
   },
   {
    "duration": 138,
    "start_time": "2024-09-27T22:36:12.021Z"
   },
   {
    "duration": 13,
    "start_time": "2024-09-27T22:36:12.161Z"
   },
   {
    "duration": 366,
    "start_time": "2024-09-27T22:36:12.177Z"
   },
   {
    "duration": 450,
    "start_time": "2024-09-27T22:36:12.545Z"
   },
   {
    "duration": 341,
    "start_time": "2024-09-27T22:36:12.996Z"
   },
   {
    "duration": 265,
    "start_time": "2024-09-27T22:36:13.339Z"
   },
   {
    "duration": 359,
    "start_time": "2024-09-27T22:36:13.606Z"
   },
   {
    "duration": 181,
    "start_time": "2024-09-27T22:36:13.967Z"
   },
   {
    "duration": 4,
    "start_time": "2024-09-27T22:36:14.150Z"
   },
   {
    "duration": 199,
    "start_time": "2024-09-27T22:36:14.155Z"
   },
   {
    "duration": 222,
    "start_time": "2024-09-27T22:36:14.355Z"
   },
   {
    "duration": 4,
    "start_time": "2024-09-27T22:36:14.579Z"
   },
   {
    "duration": 168,
    "start_time": "2024-09-27T22:36:14.585Z"
   },
   {
    "duration": 149,
    "start_time": "2024-09-27T22:36:14.755Z"
   },
   {
    "duration": 181,
    "start_time": "2024-09-27T22:36:14.906Z"
   },
   {
    "duration": 63,
    "start_time": "2024-09-27T22:36:15.089Z"
   },
   {
    "duration": 27,
    "start_time": "2024-09-27T22:36:15.154Z"
   },
   {
    "duration": 184,
    "start_time": "2024-09-27T22:36:15.183Z"
   },
   {
    "duration": 8,
    "start_time": "2024-09-27T22:36:15.369Z"
   },
   {
    "duration": 42,
    "start_time": "2024-09-27T22:36:15.378Z"
   },
   {
    "duration": 14,
    "start_time": "2024-09-27T22:36:15.422Z"
   },
   {
    "duration": 1194,
    "start_time": "2024-09-27T22:36:25.336Z"
   },
   {
    "duration": 79,
    "start_time": "2024-09-27T22:36:26.532Z"
   },
   {
    "duration": 5,
    "start_time": "2024-09-27T22:36:26.613Z"
   },
   {
    "duration": 49,
    "start_time": "2024-09-27T22:36:26.620Z"
   },
   {
    "duration": 20,
    "start_time": "2024-09-27T22:36:26.670Z"
   },
   {
    "duration": 11,
    "start_time": "2024-09-27T22:36:26.692Z"
   },
   {
    "duration": 42,
    "start_time": "2024-09-27T22:36:26.704Z"
   },
   {
    "duration": 14,
    "start_time": "2024-09-27T22:36:26.747Z"
   },
   {
    "duration": 13,
    "start_time": "2024-09-27T22:36:26.762Z"
   },
   {
    "duration": 14,
    "start_time": "2024-09-27T22:36:26.777Z"
   },
   {
    "duration": 192,
    "start_time": "2024-09-27T22:36:26.793Z"
   },
   {
    "duration": 134,
    "start_time": "2024-09-27T22:36:26.987Z"
   },
   {
    "duration": 25,
    "start_time": "2024-09-27T22:36:27.122Z"
   },
   {
    "duration": 349,
    "start_time": "2024-09-27T22:36:27.148Z"
   },
   {
    "duration": 392,
    "start_time": "2024-09-27T22:36:27.498Z"
   },
   {
    "duration": 334,
    "start_time": "2024-09-27T22:36:27.892Z"
   },
   {
    "duration": 280,
    "start_time": "2024-09-27T22:36:28.228Z"
   },
   {
    "duration": 372,
    "start_time": "2024-09-27T22:36:28.511Z"
   },
   {
    "duration": 179,
    "start_time": "2024-09-27T22:36:28.885Z"
   },
   {
    "duration": 5,
    "start_time": "2024-09-27T22:36:29.066Z"
   },
   {
    "duration": 204,
    "start_time": "2024-09-27T22:36:29.073Z"
   },
   {
    "duration": 235,
    "start_time": "2024-09-27T22:36:29.278Z"
   },
   {
    "duration": 6,
    "start_time": "2024-09-27T22:36:29.519Z"
   },
   {
    "duration": 172,
    "start_time": "2024-09-27T22:36:29.527Z"
   },
   {
    "duration": 152,
    "start_time": "2024-09-27T22:36:29.701Z"
   },
   {
    "duration": 152,
    "start_time": "2024-09-27T22:36:29.855Z"
   },
   {
    "duration": 56,
    "start_time": "2024-09-27T22:36:30.008Z"
   },
   {
    "duration": 21,
    "start_time": "2024-09-27T22:36:30.068Z"
   },
   {
    "duration": 255,
    "start_time": "2024-09-27T22:36:30.091Z"
   },
   {
    "duration": 10,
    "start_time": "2024-09-27T22:36:30.347Z"
   },
   {
    "duration": 113,
    "start_time": "2024-09-27T22:36:30.358Z"
   },
   {
    "duration": 14,
    "start_time": "2024-09-27T22:36:30.472Z"
   },
   {
    "duration": 1525,
    "start_time": "2024-09-28T10:38:22.053Z"
   },
   {
    "duration": 109,
    "start_time": "2024-09-28T11:07:31.842Z"
   },
   {
    "duration": 113,
    "start_time": "2024-09-28T11:13:18.680Z"
   },
   {
    "duration": 1271,
    "start_time": "2024-09-28T11:13:31.676Z"
   },
   {
    "duration": 241,
    "start_time": "2024-09-28T11:13:32.949Z"
   },
   {
    "duration": 7,
    "start_time": "2024-09-28T11:13:33.193Z"
   },
   {
    "duration": 67,
    "start_time": "2024-09-28T11:13:33.203Z"
   },
   {
    "duration": 26,
    "start_time": "2024-09-28T11:13:33.272Z"
   },
   {
    "duration": 22,
    "start_time": "2024-09-28T11:13:33.300Z"
   },
   {
    "duration": 40,
    "start_time": "2024-09-28T11:13:33.324Z"
   },
   {
    "duration": 17,
    "start_time": "2024-09-28T11:13:33.366Z"
   },
   {
    "duration": 12,
    "start_time": "2024-09-28T11:13:33.386Z"
   },
   {
    "duration": 16,
    "start_time": "2024-09-28T11:13:33.402Z"
   },
   {
    "duration": 249,
    "start_time": "2024-09-28T11:13:33.420Z"
   },
   {
    "duration": 163,
    "start_time": "2024-09-28T11:13:33.671Z"
   },
   {
    "duration": 25,
    "start_time": "2024-09-28T11:13:33.836Z"
   },
   {
    "duration": 40,
    "start_time": "2024-09-28T11:13:33.863Z"
   },
   {
    "duration": 377,
    "start_time": "2024-09-28T11:13:33.905Z"
   },
   {
    "duration": 419,
    "start_time": "2024-09-28T11:13:34.284Z"
   },
   {
    "duration": 388,
    "start_time": "2024-09-28T11:13:34.706Z"
   },
   {
    "duration": 288,
    "start_time": "2024-09-28T11:13:35.096Z"
   },
   {
    "duration": 319,
    "start_time": "2024-09-28T11:13:35.387Z"
   },
   {
    "duration": 194,
    "start_time": "2024-09-28T11:13:35.708Z"
   },
   {
    "duration": 5,
    "start_time": "2024-09-28T11:13:35.903Z"
   },
   {
    "duration": 236,
    "start_time": "2024-09-28T11:13:35.909Z"
   },
   {
    "duration": 273,
    "start_time": "2024-09-28T11:13:36.147Z"
   },
   {
    "duration": 5,
    "start_time": "2024-09-28T11:13:36.423Z"
   },
   {
    "duration": 218,
    "start_time": "2024-09-28T11:13:36.430Z"
   },
   {
    "duration": 189,
    "start_time": "2024-09-28T11:13:36.649Z"
   },
   {
    "duration": 153,
    "start_time": "2024-09-28T11:13:36.839Z"
   },
   {
    "duration": 48,
    "start_time": "2024-09-28T11:13:36.995Z"
   },
   {
    "duration": 31,
    "start_time": "2024-09-28T11:13:37.045Z"
   },
   {
    "duration": 181,
    "start_time": "2024-09-28T11:13:37.078Z"
   },
   {
    "duration": 9,
    "start_time": "2024-09-28T11:13:37.261Z"
   },
   {
    "duration": 117,
    "start_time": "2024-09-28T11:13:37.271Z"
   },
   {
    "duration": 0,
    "start_time": "2024-09-28T11:13:37.390Z"
   },
   {
    "duration": 6,
    "start_time": "2024-09-28T11:14:37.944Z"
   },
   {
    "duration": 6,
    "start_time": "2024-09-28T11:17:53.674Z"
   },
   {
    "duration": 70,
    "start_time": "2024-09-28T11:19:22.878Z"
   },
   {
    "duration": 85,
    "start_time": "2024-09-28T11:21:17.667Z"
   },
   {
    "duration": 259,
    "start_time": "2024-09-28T11:21:29.389Z"
   },
   {
    "duration": 87,
    "start_time": "2024-09-28T11:21:43.849Z"
   },
   {
    "duration": 339,
    "start_time": "2024-09-28T11:26:09.345Z"
   },
   {
    "duration": 245,
    "start_time": "2024-09-28T11:26:21.203Z"
   },
   {
    "duration": 283,
    "start_time": "2024-09-28T11:26:37.631Z"
   },
   {
    "duration": 63,
    "start_time": "2024-09-28T11:27:12.583Z"
   },
   {
    "duration": 4,
    "start_time": "2024-09-28T11:29:03.233Z"
   },
   {
    "duration": 1297,
    "start_time": "2024-09-28T11:29:08.755Z"
   },
   {
    "duration": 80,
    "start_time": "2024-09-28T11:29:10.056Z"
   },
   {
    "duration": 5,
    "start_time": "2024-09-28T11:29:10.137Z"
   },
   {
    "duration": 53,
    "start_time": "2024-09-28T11:29:10.144Z"
   },
   {
    "duration": 23,
    "start_time": "2024-09-28T11:29:10.199Z"
   },
   {
    "duration": 39,
    "start_time": "2024-09-28T11:29:10.224Z"
   },
   {
    "duration": 16,
    "start_time": "2024-09-28T11:29:10.264Z"
   },
   {
    "duration": 15,
    "start_time": "2024-09-28T11:29:10.282Z"
   },
   {
    "duration": 14,
    "start_time": "2024-09-28T11:29:10.299Z"
   },
   {
    "duration": 46,
    "start_time": "2024-09-28T11:29:10.317Z"
   },
   {
    "duration": 199,
    "start_time": "2024-09-28T11:29:10.365Z"
   },
   {
    "duration": 148,
    "start_time": "2024-09-28T11:29:10.565Z"
   },
   {
    "duration": 14,
    "start_time": "2024-09-28T11:29:10.715Z"
   },
   {
    "duration": 6,
    "start_time": "2024-09-28T11:29:10.731Z"
   },
   {
    "duration": 351,
    "start_time": "2024-09-28T11:29:10.756Z"
   },
   {
    "duration": 398,
    "start_time": "2024-09-28T11:29:11.109Z"
   },
   {
    "duration": 365,
    "start_time": "2024-09-28T11:29:11.509Z"
   },
   {
    "duration": 268,
    "start_time": "2024-09-28T11:29:11.876Z"
   },
   {
    "duration": 348,
    "start_time": "2024-09-28T11:29:12.146Z"
   },
   {
    "duration": 192,
    "start_time": "2024-09-28T11:29:12.496Z"
   },
   {
    "duration": 5,
    "start_time": "2024-09-28T11:29:12.689Z"
   },
   {
    "duration": 217,
    "start_time": "2024-09-28T11:29:12.696Z"
   },
   {
    "duration": 244,
    "start_time": "2024-09-28T11:29:12.916Z"
   },
   {
    "duration": 5,
    "start_time": "2024-09-28T11:29:13.163Z"
   },
   {
    "duration": 190,
    "start_time": "2024-09-28T11:29:13.170Z"
   },
   {
    "duration": 214,
    "start_time": "2024-09-28T11:29:13.362Z"
   },
   {
    "duration": 159,
    "start_time": "2024-09-28T11:29:13.578Z"
   },
   {
    "duration": 107,
    "start_time": "2024-09-28T11:29:13.741Z"
   },
   {
    "duration": 0,
    "start_time": "2024-09-28T11:29:13.849Z"
   },
   {
    "duration": 0,
    "start_time": "2024-09-28T11:29:13.855Z"
   },
   {
    "duration": 0,
    "start_time": "2024-09-28T11:29:13.857Z"
   },
   {
    "duration": 0,
    "start_time": "2024-09-28T11:29:13.858Z"
   },
   {
    "duration": 0,
    "start_time": "2024-09-28T11:29:13.860Z"
   },
   {
    "duration": 4,
    "start_time": "2024-09-28T11:30:13.924Z"
   },
   {
    "duration": 1226,
    "start_time": "2024-09-28T11:30:19.371Z"
   },
   {
    "duration": 80,
    "start_time": "2024-09-28T11:30:20.599Z"
   },
   {
    "duration": 5,
    "start_time": "2024-09-28T11:30:20.681Z"
   },
   {
    "duration": 59,
    "start_time": "2024-09-28T11:30:20.688Z"
   },
   {
    "duration": 22,
    "start_time": "2024-09-28T11:30:20.749Z"
   },
   {
    "duration": 11,
    "start_time": "2024-09-28T11:30:20.773Z"
   },
   {
    "duration": 22,
    "start_time": "2024-09-28T11:30:20.786Z"
   },
   {
    "duration": 47,
    "start_time": "2024-09-28T11:30:20.810Z"
   },
   {
    "duration": 12,
    "start_time": "2024-09-28T11:30:20.859Z"
   },
   {
    "duration": 27,
    "start_time": "2024-09-28T11:30:20.874Z"
   },
   {
    "duration": 196,
    "start_time": "2024-09-28T11:30:20.902Z"
   },
   {
    "duration": 156,
    "start_time": "2024-09-28T11:30:21.100Z"
   },
   {
    "duration": 14,
    "start_time": "2024-09-28T11:30:21.259Z"
   },
   {
    "duration": 14,
    "start_time": "2024-09-28T11:30:21.275Z"
   },
   {
    "duration": 369,
    "start_time": "2024-09-28T11:30:21.291Z"
   },
   {
    "duration": 426,
    "start_time": "2024-09-28T11:30:21.662Z"
   },
   {
    "duration": 350,
    "start_time": "2024-09-28T11:30:22.090Z"
   },
   {
    "duration": 261,
    "start_time": "2024-09-28T11:30:22.442Z"
   },
   {
    "duration": 311,
    "start_time": "2024-09-28T11:30:22.705Z"
   },
   {
    "duration": 198,
    "start_time": "2024-09-28T11:30:23.018Z"
   },
   {
    "duration": 5,
    "start_time": "2024-09-28T11:30:23.217Z"
   },
   {
    "duration": 224,
    "start_time": "2024-09-28T11:30:23.223Z"
   },
   {
    "duration": 240,
    "start_time": "2024-09-28T11:30:23.449Z"
   },
   {
    "duration": 5,
    "start_time": "2024-09-28T11:30:23.690Z"
   },
   {
    "duration": 184,
    "start_time": "2024-09-28T11:30:23.696Z"
   },
   {
    "duration": 148,
    "start_time": "2024-09-28T11:30:23.882Z"
   },
   {
    "duration": 149,
    "start_time": "2024-09-28T11:30:24.032Z"
   },
   {
    "duration": 48,
    "start_time": "2024-09-28T11:30:24.185Z"
   },
   {
    "duration": 36,
    "start_time": "2024-09-28T11:30:24.235Z"
   },
   {
    "duration": 165,
    "start_time": "2024-09-28T11:30:24.273Z"
   },
   {
    "duration": 17,
    "start_time": "2024-09-28T11:30:24.441Z"
   },
   {
    "duration": 108,
    "start_time": "2024-09-28T11:30:24.460Z"
   },
   {
    "duration": 0,
    "start_time": "2024-09-28T11:30:24.570Z"
   },
   {
    "duration": 3,
    "start_time": "2024-09-28T11:31:00.676Z"
   },
   {
    "duration": 1239,
    "start_time": "2024-09-28T11:31:04.647Z"
   },
   {
    "duration": 79,
    "start_time": "2024-09-28T11:31:05.888Z"
   },
   {
    "duration": 5,
    "start_time": "2024-09-28T11:31:05.969Z"
   },
   {
    "duration": 100,
    "start_time": "2024-09-28T11:31:05.976Z"
   },
   {
    "duration": 44,
    "start_time": "2024-09-28T11:31:06.078Z"
   },
   {
    "duration": 28,
    "start_time": "2024-09-28T11:31:06.124Z"
   },
   {
    "duration": 36,
    "start_time": "2024-09-28T11:31:06.154Z"
   },
   {
    "duration": 19,
    "start_time": "2024-09-28T11:31:06.192Z"
   },
   {
    "duration": 25,
    "start_time": "2024-09-28T11:31:06.213Z"
   },
   {
    "duration": 31,
    "start_time": "2024-09-28T11:31:06.241Z"
   },
   {
    "duration": 218,
    "start_time": "2024-09-28T11:31:06.274Z"
   },
   {
    "duration": 138,
    "start_time": "2024-09-28T11:31:06.493Z"
   },
   {
    "duration": 23,
    "start_time": "2024-09-28T11:31:06.633Z"
   },
   {
    "duration": 76,
    "start_time": "2024-09-28T11:31:06.658Z"
   },
   {
    "duration": 381,
    "start_time": "2024-09-28T11:31:06.736Z"
   },
   {
    "duration": 403,
    "start_time": "2024-09-28T11:31:07.120Z"
   },
   {
    "duration": 396,
    "start_time": "2024-09-28T11:31:07.525Z"
   },
   {
    "duration": 255,
    "start_time": "2024-09-28T11:31:07.922Z"
   },
   {
    "duration": 317,
    "start_time": "2024-09-28T11:31:08.179Z"
   },
   {
    "duration": 191,
    "start_time": "2024-09-28T11:31:08.497Z"
   },
   {
    "duration": 5,
    "start_time": "2024-09-28T11:31:08.690Z"
   },
   {
    "duration": 221,
    "start_time": "2024-09-28T11:31:08.697Z"
   },
   {
    "duration": 237,
    "start_time": "2024-09-28T11:31:08.920Z"
   },
   {
    "duration": 5,
    "start_time": "2024-09-28T11:31:09.159Z"
   },
   {
    "duration": 204,
    "start_time": "2024-09-28T11:31:09.166Z"
   },
   {
    "duration": 204,
    "start_time": "2024-09-28T11:31:09.372Z"
   },
   {
    "duration": 149,
    "start_time": "2024-09-28T11:31:09.577Z"
   },
   {
    "duration": 130,
    "start_time": "2024-09-28T11:31:09.730Z"
   },
   {
    "duration": 0,
    "start_time": "2024-09-28T11:31:09.861Z"
   },
   {
    "duration": 0,
    "start_time": "2024-09-28T11:31:09.862Z"
   },
   {
    "duration": 0,
    "start_time": "2024-09-28T11:31:09.864Z"
   },
   {
    "duration": 0,
    "start_time": "2024-09-28T11:31:09.865Z"
   },
   {
    "duration": 0,
    "start_time": "2024-09-28T11:31:09.866Z"
   },
   {
    "duration": 11,
    "start_time": "2024-09-28T11:31:23.734Z"
   },
   {
    "duration": 3,
    "start_time": "2024-09-28T11:32:27.118Z"
   },
   {
    "duration": 1256,
    "start_time": "2024-09-28T11:32:51.278Z"
   },
   {
    "duration": 80,
    "start_time": "2024-09-28T11:32:52.536Z"
   },
   {
    "duration": 5,
    "start_time": "2024-09-28T11:32:52.617Z"
   },
   {
    "duration": 111,
    "start_time": "2024-09-28T11:32:52.624Z"
   },
   {
    "duration": 20,
    "start_time": "2024-09-28T11:32:52.737Z"
   },
   {
    "duration": 10,
    "start_time": "2024-09-28T11:32:52.759Z"
   },
   {
    "duration": 14,
    "start_time": "2024-09-28T11:32:52.771Z"
   },
   {
    "duration": 15,
    "start_time": "2024-09-28T11:32:52.786Z"
   },
   {
    "duration": 15,
    "start_time": "2024-09-28T11:32:52.802Z"
   },
   {
    "duration": 38,
    "start_time": "2024-09-28T11:32:52.820Z"
   },
   {
    "duration": 199,
    "start_time": "2024-09-28T11:32:52.860Z"
   },
   {
    "duration": 167,
    "start_time": "2024-09-28T11:32:53.061Z"
   },
   {
    "duration": 27,
    "start_time": "2024-09-28T11:32:53.230Z"
   },
   {
    "duration": 8,
    "start_time": "2024-09-28T11:32:53.260Z"
   },
   {
    "duration": 386,
    "start_time": "2024-09-28T11:32:53.270Z"
   },
   {
    "duration": 391,
    "start_time": "2024-09-28T11:32:53.658Z"
   },
   {
    "duration": 378,
    "start_time": "2024-09-28T11:32:54.051Z"
   },
   {
    "duration": 262,
    "start_time": "2024-09-28T11:32:54.431Z"
   },
   {
    "duration": 324,
    "start_time": "2024-09-28T11:32:54.695Z"
   },
   {
    "duration": 197,
    "start_time": "2024-09-28T11:32:55.021Z"
   },
   {
    "duration": 4,
    "start_time": "2024-09-28T11:32:55.220Z"
   },
   {
    "duration": 211,
    "start_time": "2024-09-28T11:32:55.225Z"
   },
   {
    "duration": 231,
    "start_time": "2024-09-28T11:32:55.437Z"
   },
   {
    "duration": 4,
    "start_time": "2024-09-28T11:32:55.670Z"
   },
   {
    "duration": 184,
    "start_time": "2024-09-28T11:32:55.676Z"
   },
   {
    "duration": 160,
    "start_time": "2024-09-28T11:32:55.861Z"
   },
   {
    "duration": 157,
    "start_time": "2024-09-28T11:32:56.022Z"
   },
   {
    "duration": 48,
    "start_time": "2024-09-28T11:32:56.183Z"
   },
   {
    "duration": 138,
    "start_time": "2024-09-28T11:32:56.233Z"
   },
   {
    "duration": 0,
    "start_time": "2024-09-28T11:32:56.373Z"
   },
   {
    "duration": 0,
    "start_time": "2024-09-28T11:32:56.374Z"
   },
   {
    "duration": 0,
    "start_time": "2024-09-28T11:32:56.375Z"
   },
   {
    "duration": 0,
    "start_time": "2024-09-28T11:32:56.377Z"
   },
   {
    "duration": 23,
    "start_time": "2024-09-28T11:33:11.732Z"
   },
   {
    "duration": 1302,
    "start_time": "2024-09-28T11:33:16.471Z"
   },
   {
    "duration": 79,
    "start_time": "2024-09-28T11:33:17.775Z"
   },
   {
    "duration": 5,
    "start_time": "2024-09-28T11:33:17.856Z"
   },
   {
    "duration": 56,
    "start_time": "2024-09-28T11:33:17.863Z"
   },
   {
    "duration": 46,
    "start_time": "2024-09-28T11:33:17.921Z"
   },
   {
    "duration": 18,
    "start_time": "2024-09-28T11:33:17.969Z"
   },
   {
    "duration": 15,
    "start_time": "2024-09-28T11:33:17.989Z"
   },
   {
    "duration": 50,
    "start_time": "2024-09-28T11:33:18.006Z"
   },
   {
    "duration": 35,
    "start_time": "2024-09-28T11:33:18.058Z"
   },
   {
    "duration": 38,
    "start_time": "2024-09-28T11:33:18.097Z"
   },
   {
    "duration": 196,
    "start_time": "2024-09-28T11:33:18.136Z"
   },
   {
    "duration": 172,
    "start_time": "2024-09-28T11:33:18.334Z"
   },
   {
    "duration": 14,
    "start_time": "2024-09-28T11:33:18.508Z"
   },
   {
    "duration": 8,
    "start_time": "2024-09-28T11:33:18.524Z"
   },
   {
    "duration": 385,
    "start_time": "2024-09-28T11:33:18.533Z"
   },
   {
    "duration": 391,
    "start_time": "2024-09-28T11:33:18.919Z"
   },
   {
    "duration": 416,
    "start_time": "2024-09-28T11:33:19.313Z"
   },
   {
    "duration": 276,
    "start_time": "2024-09-28T11:33:19.731Z"
   },
   {
    "duration": 340,
    "start_time": "2024-09-28T11:33:20.009Z"
   },
   {
    "duration": 210,
    "start_time": "2024-09-28T11:33:20.351Z"
   },
   {
    "duration": 5,
    "start_time": "2024-09-28T11:33:20.562Z"
   },
   {
    "duration": 219,
    "start_time": "2024-09-28T11:33:20.568Z"
   },
   {
    "duration": 244,
    "start_time": "2024-09-28T11:33:20.788Z"
   },
   {
    "duration": 4,
    "start_time": "2024-09-28T11:33:21.034Z"
   },
   {
    "duration": 215,
    "start_time": "2024-09-28T11:33:21.040Z"
   },
   {
    "duration": 166,
    "start_time": "2024-09-28T11:33:21.257Z"
   },
   {
    "duration": 185,
    "start_time": "2024-09-28T11:33:21.424Z"
   },
   {
    "duration": 56,
    "start_time": "2024-09-28T11:33:21.613Z"
   },
   {
    "duration": 35,
    "start_time": "2024-09-28T11:33:21.671Z"
   },
   {
    "duration": 193,
    "start_time": "2024-09-28T11:33:21.709Z"
   },
   {
    "duration": 12,
    "start_time": "2024-09-28T11:33:21.904Z"
   },
   {
    "duration": 46,
    "start_time": "2024-09-28T11:33:21.917Z"
   },
   {
    "duration": 118,
    "start_time": "2024-09-28T11:33:21.965Z"
   },
   {
    "duration": 13,
    "start_time": "2024-09-28T11:33:35.337Z"
   },
   {
    "duration": 15,
    "start_time": "2024-09-28T11:33:42.467Z"
   },
   {
    "duration": 1293,
    "start_time": "2024-09-28T11:33:50.225Z"
   },
   {
    "duration": 79,
    "start_time": "2024-09-28T11:33:51.521Z"
   },
   {
    "duration": 5,
    "start_time": "2024-09-28T11:33:51.602Z"
   },
   {
    "duration": 74,
    "start_time": "2024-09-28T11:33:51.609Z"
   },
   {
    "duration": 21,
    "start_time": "2024-09-28T11:33:51.685Z"
   },
   {
    "duration": 27,
    "start_time": "2024-09-28T11:33:51.708Z"
   },
   {
    "duration": 43,
    "start_time": "2024-09-28T11:33:51.736Z"
   },
   {
    "duration": 15,
    "start_time": "2024-09-28T11:33:51.781Z"
   },
   {
    "duration": 23,
    "start_time": "2024-09-28T11:33:51.798Z"
   },
   {
    "duration": 14,
    "start_time": "2024-09-28T11:33:51.824Z"
   },
   {
    "duration": 194,
    "start_time": "2024-09-28T11:33:51.840Z"
   },
   {
    "duration": 150,
    "start_time": "2024-09-28T11:33:52.035Z"
   },
   {
    "duration": 13,
    "start_time": "2024-09-28T11:33:52.187Z"
   },
   {
    "duration": 29,
    "start_time": "2024-09-28T11:33:52.202Z"
   },
   {
    "duration": 369,
    "start_time": "2024-09-28T11:33:52.232Z"
   },
   {
    "duration": 403,
    "start_time": "2024-09-28T11:33:52.603Z"
   },
   {
    "duration": 359,
    "start_time": "2024-09-28T11:33:53.008Z"
   },
   {
    "duration": 266,
    "start_time": "2024-09-28T11:33:53.369Z"
   },
   {
    "duration": 356,
    "start_time": "2024-09-28T11:33:53.636Z"
   },
   {
    "duration": 205,
    "start_time": "2024-09-28T11:33:53.994Z"
   },
   {
    "duration": 4,
    "start_time": "2024-09-28T11:33:54.201Z"
   },
   {
    "duration": 223,
    "start_time": "2024-09-28T11:33:54.207Z"
   },
   {
    "duration": 248,
    "start_time": "2024-09-28T11:33:54.432Z"
   },
   {
    "duration": 5,
    "start_time": "2024-09-28T11:33:54.682Z"
   },
   {
    "duration": 191,
    "start_time": "2024-09-28T11:33:54.688Z"
   },
   {
    "duration": 149,
    "start_time": "2024-09-28T11:33:54.881Z"
   },
   {
    "duration": 164,
    "start_time": "2024-09-28T11:33:55.032Z"
   },
   {
    "duration": 62,
    "start_time": "2024-09-28T11:33:55.199Z"
   },
   {
    "duration": 32,
    "start_time": "2024-09-28T11:33:55.263Z"
   },
   {
    "duration": 176,
    "start_time": "2024-09-28T11:33:55.297Z"
   },
   {
    "duration": 9,
    "start_time": "2024-09-28T11:33:55.476Z"
   },
   {
    "duration": 31,
    "start_time": "2024-09-28T11:33:55.487Z"
   },
   {
    "duration": 41,
    "start_time": "2024-09-28T11:33:55.520Z"
   },
   {
    "duration": 77,
    "start_time": "2024-09-28T12:40:04.242Z"
   },
   {
    "duration": 69,
    "start_time": "2024-09-28T12:40:34.945Z"
   },
   {
    "duration": 72,
    "start_time": "2024-09-28T12:42:59.263Z"
   },
   {
    "duration": 73,
    "start_time": "2024-09-28T12:46:50.050Z"
   },
   {
    "duration": 71,
    "start_time": "2024-09-28T12:47:57.976Z"
   },
   {
    "duration": 71,
    "start_time": "2024-09-28T12:49:20.174Z"
   },
   {
    "duration": 1284,
    "start_time": "2024-09-28T12:49:24.638Z"
   },
   {
    "duration": 79,
    "start_time": "2024-09-28T12:49:25.924Z"
   },
   {
    "duration": 5,
    "start_time": "2024-09-28T12:49:26.007Z"
   },
   {
    "duration": 54,
    "start_time": "2024-09-28T12:49:26.014Z"
   },
   {
    "duration": 22,
    "start_time": "2024-09-28T12:49:26.070Z"
   },
   {
    "duration": 13,
    "start_time": "2024-09-28T12:49:26.094Z"
   },
   {
    "duration": 48,
    "start_time": "2024-09-28T12:49:26.110Z"
   },
   {
    "duration": 22,
    "start_time": "2024-09-28T12:49:26.160Z"
   },
   {
    "duration": 10,
    "start_time": "2024-09-28T12:49:26.186Z"
   },
   {
    "duration": 18,
    "start_time": "2024-09-28T12:49:26.199Z"
   },
   {
    "duration": 231,
    "start_time": "2024-09-28T12:49:26.219Z"
   },
   {
    "duration": 151,
    "start_time": "2024-09-28T12:49:26.452Z"
   },
   {
    "duration": 14,
    "start_time": "2024-09-28T12:49:26.605Z"
   },
   {
    "duration": 7,
    "start_time": "2024-09-28T12:49:26.620Z"
   },
   {
    "duration": 388,
    "start_time": "2024-09-28T12:49:26.629Z"
   },
   {
    "duration": 409,
    "start_time": "2024-09-28T12:49:27.019Z"
   },
   {
    "duration": 417,
    "start_time": "2024-09-28T12:49:27.430Z"
   },
   {
    "duration": 283,
    "start_time": "2024-09-28T12:49:27.849Z"
   },
   {
    "duration": 354,
    "start_time": "2024-09-28T12:49:28.134Z"
   },
   {
    "duration": 197,
    "start_time": "2024-09-28T12:49:28.490Z"
   },
   {
    "duration": 4,
    "start_time": "2024-09-28T12:49:28.689Z"
   },
   {
    "duration": 233,
    "start_time": "2024-09-28T12:49:28.695Z"
   },
   {
    "duration": 251,
    "start_time": "2024-09-28T12:49:28.930Z"
   },
   {
    "duration": 4,
    "start_time": "2024-09-28T12:49:29.183Z"
   },
   {
    "duration": 176,
    "start_time": "2024-09-28T12:49:29.189Z"
   },
   {
    "duration": 192,
    "start_time": "2024-09-28T12:49:29.366Z"
   },
   {
    "duration": 49,
    "start_time": "2024-09-28T12:49:29.562Z"
   },
   {
    "duration": 23,
    "start_time": "2024-09-28T12:49:29.613Z"
   },
   {
    "duration": 173,
    "start_time": "2024-09-28T12:49:29.656Z"
   },
   {
    "duration": 9,
    "start_time": "2024-09-28T12:49:29.832Z"
   },
   {
    "duration": 28,
    "start_time": "2024-09-28T12:49:29.856Z"
   },
   {
    "duration": 16,
    "start_time": "2024-09-28T12:49:29.886Z"
   },
   {
    "duration": 88,
    "start_time": "2024-09-28T12:49:50.481Z"
   },
   {
    "duration": 67,
    "start_time": "2024-09-28T12:50:41.060Z"
   },
   {
    "duration": 101,
    "start_time": "2024-09-28T12:53:14.767Z"
   },
   {
    "duration": 70,
    "start_time": "2024-09-28T12:53:22.172Z"
   },
   {
    "duration": 84,
    "start_time": "2024-09-28T12:53:31.753Z"
   },
   {
    "duration": 92,
    "start_time": "2024-09-28T12:54:10.572Z"
   },
   {
    "duration": 43,
    "start_time": "2024-09-28T12:54:12.364Z"
   },
   {
    "duration": 75,
    "start_time": "2024-09-28T12:56:10.285Z"
   },
   {
    "duration": 70,
    "start_time": "2024-09-28T12:56:14.681Z"
   },
   {
    "duration": 75,
    "start_time": "2024-09-28T12:56:17.658Z"
   },
   {
    "duration": 1275,
    "start_time": "2024-09-28T12:56:41.993Z"
   },
   {
    "duration": 80,
    "start_time": "2024-09-28T12:56:43.270Z"
   },
   {
    "duration": 5,
    "start_time": "2024-09-28T12:56:43.353Z"
   },
   {
    "duration": 68,
    "start_time": "2024-09-28T12:56:43.362Z"
   },
   {
    "duration": 22,
    "start_time": "2024-09-28T12:56:43.456Z"
   },
   {
    "duration": 24,
    "start_time": "2024-09-28T12:56:43.480Z"
   },
   {
    "duration": 29,
    "start_time": "2024-09-28T12:56:43.506Z"
   },
   {
    "duration": 36,
    "start_time": "2024-09-28T12:56:43.537Z"
   },
   {
    "duration": 22,
    "start_time": "2024-09-28T12:56:43.575Z"
   },
   {
    "duration": 24,
    "start_time": "2024-09-28T12:56:43.601Z"
   },
   {
    "duration": 211,
    "start_time": "2024-09-28T12:56:43.627Z"
   },
   {
    "duration": 157,
    "start_time": "2024-09-28T12:56:43.840Z"
   },
   {
    "duration": 18,
    "start_time": "2024-09-28T12:56:43.999Z"
   },
   {
    "duration": 8,
    "start_time": "2024-09-28T12:56:44.020Z"
   },
   {
    "duration": 383,
    "start_time": "2024-09-28T12:56:44.031Z"
   },
   {
    "duration": 386,
    "start_time": "2024-09-28T12:56:44.416Z"
   },
   {
    "duration": 349,
    "start_time": "2024-09-28T12:56:44.804Z"
   },
   {
    "duration": 284,
    "start_time": "2024-09-28T12:56:45.156Z"
   },
   {
    "duration": 371,
    "start_time": "2024-09-28T12:56:45.442Z"
   },
   {
    "duration": 190,
    "start_time": "2024-09-28T12:56:45.814Z"
   },
   {
    "duration": 4,
    "start_time": "2024-09-28T12:56:46.006Z"
   },
   {
    "duration": 217,
    "start_time": "2024-09-28T12:56:46.012Z"
   },
   {
    "duration": 234,
    "start_time": "2024-09-28T12:56:46.231Z"
   },
   {
    "duration": 4,
    "start_time": "2024-09-28T12:56:46.466Z"
   },
   {
    "duration": 5,
    "start_time": "2024-09-28T12:56:46.472Z"
   },
   {
    "duration": 156,
    "start_time": "2024-09-28T12:56:46.478Z"
   },
   {
    "duration": 0,
    "start_time": "2024-09-28T12:56:46.636Z"
   },
   {
    "duration": 0,
    "start_time": "2024-09-28T12:56:46.637Z"
   },
   {
    "duration": 0,
    "start_time": "2024-09-28T12:56:46.638Z"
   },
   {
    "duration": 0,
    "start_time": "2024-09-28T12:56:46.639Z"
   },
   {
    "duration": 0,
    "start_time": "2024-09-28T12:56:46.640Z"
   },
   {
    "duration": 0,
    "start_time": "2024-09-28T12:56:46.641Z"
   },
   {
    "duration": 0,
    "start_time": "2024-09-28T12:56:46.642Z"
   },
   {
    "duration": 70,
    "start_time": "2024-09-28T12:57:35.423Z"
   },
   {
    "duration": 69,
    "start_time": "2024-09-28T12:58:09.403Z"
   },
   {
    "duration": 54,
    "start_time": "2024-09-28T12:58:30.342Z"
   },
   {
    "duration": 67,
    "start_time": "2024-09-28T12:59:21.971Z"
   },
   {
    "duration": 56,
    "start_time": "2024-09-28T13:00:38.149Z"
   },
   {
    "duration": 70,
    "start_time": "2024-09-28T13:06:20.644Z"
   },
   {
    "duration": 66,
    "start_time": "2024-09-28T13:06:38.895Z"
   },
   {
    "duration": 71,
    "start_time": "2024-09-28T13:08:30.016Z"
   },
   {
    "duration": 180,
    "start_time": "2024-09-28T13:08:51.228Z"
   },
   {
    "duration": 160,
    "start_time": "2024-09-28T13:08:51.600Z"
   },
   {
    "duration": 1257,
    "start_time": "2024-09-28T13:08:59.410Z"
   },
   {
    "duration": 79,
    "start_time": "2024-09-28T13:09:00.669Z"
   },
   {
    "duration": 5,
    "start_time": "2024-09-28T13:09:00.752Z"
   },
   {
    "duration": 77,
    "start_time": "2024-09-28T13:09:00.758Z"
   },
   {
    "duration": 24,
    "start_time": "2024-09-28T13:09:00.837Z"
   },
   {
    "duration": 14,
    "start_time": "2024-09-28T13:09:00.863Z"
   },
   {
    "duration": 15,
    "start_time": "2024-09-28T13:09:00.878Z"
   },
   {
    "duration": 28,
    "start_time": "2024-09-28T13:09:00.894Z"
   },
   {
    "duration": 89,
    "start_time": "2024-09-28T13:09:00.924Z"
   },
   {
    "duration": 58,
    "start_time": "2024-09-28T13:09:01.014Z"
   },
   {
    "duration": 233,
    "start_time": "2024-09-28T13:09:01.074Z"
   },
   {
    "duration": 139,
    "start_time": "2024-09-28T13:09:01.309Z"
   },
   {
    "duration": 18,
    "start_time": "2024-09-28T13:09:01.449Z"
   },
   {
    "duration": 7,
    "start_time": "2024-09-28T13:09:01.470Z"
   },
   {
    "duration": 379,
    "start_time": "2024-09-28T13:09:01.479Z"
   },
   {
    "duration": 383,
    "start_time": "2024-09-28T13:09:01.860Z"
   },
   {
    "duration": 389,
    "start_time": "2024-09-28T13:09:02.245Z"
   },
   {
    "duration": 274,
    "start_time": "2024-09-28T13:09:02.636Z"
   },
   {
    "duration": 378,
    "start_time": "2024-09-28T13:09:02.912Z"
   },
   {
    "duration": 197,
    "start_time": "2024-09-28T13:09:03.292Z"
   },
   {
    "duration": 5,
    "start_time": "2024-09-28T13:09:03.491Z"
   },
   {
    "duration": 241,
    "start_time": "2024-09-28T13:09:03.497Z"
   },
   {
    "duration": 249,
    "start_time": "2024-09-28T13:09:03.740Z"
   },
   {
    "duration": 5,
    "start_time": "2024-09-28T13:09:03.992Z"
   },
   {
    "duration": 162,
    "start_time": "2024-09-28T13:09:03.999Z"
   },
   {
    "duration": 200,
    "start_time": "2024-09-28T13:09:04.163Z"
   },
   {
    "duration": 66,
    "start_time": "2024-09-28T13:09:04.366Z"
   },
   {
    "duration": 71,
    "start_time": "2024-09-28T13:09:04.434Z"
   },
   {
    "duration": 186,
    "start_time": "2024-09-28T13:09:04.508Z"
   },
   {
    "duration": 9,
    "start_time": "2024-09-28T13:09:04.696Z"
   },
   {
    "duration": 64,
    "start_time": "2024-09-28T13:09:04.707Z"
   },
   {
    "duration": 17,
    "start_time": "2024-09-28T13:09:04.772Z"
   },
   {
    "duration": 171,
    "start_time": "2024-09-28T13:11:47.765Z"
   },
   {
    "duration": 158,
    "start_time": "2024-09-28T13:11:56.953Z"
   },
   {
    "duration": 167,
    "start_time": "2024-09-28T13:12:13.770Z"
   },
   {
    "duration": 143,
    "start_time": "2024-09-28T13:13:42.912Z"
   },
   {
    "duration": 187,
    "start_time": "2024-09-28T13:14:32.950Z"
   },
   {
    "duration": 142,
    "start_time": "2024-09-28T13:16:23.185Z"
   },
   {
    "duration": 61,
    "start_time": "2024-09-28T13:16:35.490Z"
   },
   {
    "duration": 149,
    "start_time": "2024-09-28T13:16:38.812Z"
   },
   {
    "duration": 152,
    "start_time": "2024-09-28T13:16:47.065Z"
   },
   {
    "duration": 78,
    "start_time": "2024-09-28T13:16:56.365Z"
   },
   {
    "duration": 154,
    "start_time": "2024-09-28T13:17:01.853Z"
   },
   {
    "duration": 146,
    "start_time": "2024-09-28T13:17:56.576Z"
   },
   {
    "duration": 175,
    "start_time": "2024-09-28T13:19:01.403Z"
   },
   {
    "duration": 148,
    "start_time": "2024-09-28T13:20:26.881Z"
   },
   {
    "duration": 154,
    "start_time": "2024-09-28T13:22:03.450Z"
   },
   {
    "duration": 169,
    "start_time": "2024-09-28T13:22:19.087Z"
   },
   {
    "duration": 63,
    "start_time": "2024-09-28T13:22:32.889Z"
   },
   {
    "duration": 147,
    "start_time": "2024-09-28T13:22:55.789Z"
   },
   {
    "duration": 147,
    "start_time": "2024-09-28T13:23:00.136Z"
   },
   {
    "duration": 167,
    "start_time": "2024-09-28T13:23:03.300Z"
   },
   {
    "duration": 48,
    "start_time": "2024-09-28T13:24:49.005Z"
   },
   {
    "duration": 46,
    "start_time": "2024-09-28T13:24:55.488Z"
   },
   {
    "duration": 165,
    "start_time": "2024-09-28T13:25:31.066Z"
   },
   {
    "duration": 27,
    "start_time": "2024-09-28T13:25:40.015Z"
   },
   {
    "duration": 15,
    "start_time": "2024-09-28T13:25:45.274Z"
   },
   {
    "duration": 56,
    "start_time": "2024-09-28T13:29:42.453Z"
   },
   {
    "duration": 260,
    "start_time": "2024-09-28T13:31:42.427Z"
   },
   {
    "duration": 339,
    "start_time": "2024-09-28T13:32:38.067Z"
   },
   {
    "duration": 323,
    "start_time": "2024-09-28T13:33:07.188Z"
   },
   {
    "duration": 1217,
    "start_time": "2024-09-28T13:34:55.834Z"
   },
   {
    "duration": 89,
    "start_time": "2024-09-28T13:34:57.054Z"
   },
   {
    "duration": 5,
    "start_time": "2024-09-28T13:34:57.145Z"
   },
   {
    "duration": 61,
    "start_time": "2024-09-28T13:34:57.152Z"
   },
   {
    "duration": 43,
    "start_time": "2024-09-28T13:34:57.215Z"
   },
   {
    "duration": 11,
    "start_time": "2024-09-28T13:34:57.261Z"
   },
   {
    "duration": 17,
    "start_time": "2024-09-28T13:34:57.274Z"
   },
   {
    "duration": 32,
    "start_time": "2024-09-28T13:34:57.294Z"
   },
   {
    "duration": 33,
    "start_time": "2024-09-28T13:34:57.327Z"
   },
   {
    "duration": 13,
    "start_time": "2024-09-28T13:34:57.363Z"
   },
   {
    "duration": 220,
    "start_time": "2024-09-28T13:34:57.378Z"
   },
   {
    "duration": 170,
    "start_time": "2024-09-28T13:34:57.600Z"
   },
   {
    "duration": 15,
    "start_time": "2024-09-28T13:34:57.772Z"
   },
   {
    "duration": 7,
    "start_time": "2024-09-28T13:34:57.789Z"
   },
   {
    "duration": 395,
    "start_time": "2024-09-28T13:34:57.798Z"
   },
   {
    "duration": 402,
    "start_time": "2024-09-28T13:34:58.195Z"
   },
   {
    "duration": 338,
    "start_time": "2024-09-28T13:34:58.599Z"
   },
   {
    "duration": 288,
    "start_time": "2024-09-28T13:34:58.938Z"
   },
   {
    "duration": 393,
    "start_time": "2024-09-28T13:34:59.229Z"
   },
   {
    "duration": 192,
    "start_time": "2024-09-28T13:34:59.623Z"
   },
   {
    "duration": 5,
    "start_time": "2024-09-28T13:34:59.816Z"
   },
   {
    "duration": 207,
    "start_time": "2024-09-28T13:34:59.823Z"
   },
   {
    "duration": 237,
    "start_time": "2024-09-28T13:35:00.032Z"
   },
   {
    "duration": 5,
    "start_time": "2024-09-28T13:35:00.270Z"
   },
   {
    "duration": 158,
    "start_time": "2024-09-28T13:35:00.277Z"
   },
   {
    "duration": 176,
    "start_time": "2024-09-28T13:35:00.436Z"
   },
   {
    "duration": 62,
    "start_time": "2024-09-28T13:35:00.617Z"
   },
   {
    "duration": 30,
    "start_time": "2024-09-28T13:35:00.682Z"
   },
   {
    "duration": 207,
    "start_time": "2024-09-28T13:35:00.714Z"
   },
   {
    "duration": 11,
    "start_time": "2024-09-28T13:35:00.923Z"
   },
   {
    "duration": 64,
    "start_time": "2024-09-28T13:35:00.936Z"
   },
   {
    "duration": 22,
    "start_time": "2024-09-28T13:35:01.002Z"
   },
   {
    "duration": 1365,
    "start_time": "2024-09-28T13:46:16.490Z"
   },
   {
    "duration": 250,
    "start_time": "2024-09-28T13:46:17.858Z"
   },
   {
    "duration": 5,
    "start_time": "2024-09-28T13:46:18.109Z"
   },
   {
    "duration": 47,
    "start_time": "2024-09-28T13:46:18.115Z"
   },
   {
    "duration": 20,
    "start_time": "2024-09-28T13:46:18.163Z"
   },
   {
    "duration": 15,
    "start_time": "2024-09-28T13:46:18.185Z"
   },
   {
    "duration": 13,
    "start_time": "2024-09-28T13:46:18.201Z"
   },
   {
    "duration": 14,
    "start_time": "2024-09-28T13:46:18.243Z"
   },
   {
    "duration": 62,
    "start_time": "2024-09-28T13:46:18.258Z"
   },
   {
    "duration": 12,
    "start_time": "2024-09-28T13:46:18.323Z"
   },
   {
    "duration": 160,
    "start_time": "2024-09-28T13:46:18.336Z"
   },
   {
    "duration": 124,
    "start_time": "2024-09-28T13:46:18.497Z"
   },
   {
    "duration": 105,
    "start_time": "2024-09-28T13:46:18.622Z"
   },
   {
    "duration": 28,
    "start_time": "2024-09-28T13:46:18.728Z"
   },
   {
    "duration": 340,
    "start_time": "2024-09-28T13:46:18.758Z"
   },
   {
    "duration": 427,
    "start_time": "2024-09-28T13:46:19.100Z"
   },
   {
    "duration": 353,
    "start_time": "2024-09-28T13:46:19.529Z"
   },
   {
    "duration": 267,
    "start_time": "2024-09-28T13:46:19.884Z"
   },
   {
    "duration": 324,
    "start_time": "2024-09-28T13:46:20.152Z"
   },
   {
    "duration": 169,
    "start_time": "2024-09-28T13:46:20.478Z"
   },
   {
    "duration": 4,
    "start_time": "2024-09-28T13:46:20.649Z"
   },
   {
    "duration": 247,
    "start_time": "2024-09-28T13:46:20.654Z"
   },
   {
    "duration": 204,
    "start_time": "2024-09-28T13:46:20.903Z"
   },
   {
    "duration": 5,
    "start_time": "2024-09-28T13:46:21.108Z"
   },
   {
    "duration": 138,
    "start_time": "2024-09-28T13:46:21.114Z"
   },
   {
    "duration": 134,
    "start_time": "2024-09-28T13:46:21.253Z"
   },
   {
    "duration": 53,
    "start_time": "2024-09-28T13:46:21.389Z"
   },
   {
    "duration": 21,
    "start_time": "2024-09-28T13:46:21.445Z"
   },
   {
    "duration": 154,
    "start_time": "2024-09-28T13:46:21.468Z"
   },
   {
    "duration": 19,
    "start_time": "2024-09-28T13:46:21.624Z"
   },
   {
    "duration": 24,
    "start_time": "2024-09-28T13:46:21.644Z"
   },
   {
    "duration": 12,
    "start_time": "2024-09-28T13:46:21.670Z"
   }
  ],
  "kernelspec": {
   "display_name": "Python 3 (ipykernel)",
   "language": "python",
   "name": "python3"
  },
  "language_info": {
   "codemirror_mode": {
    "name": "ipython",
    "version": 3
   },
   "file_extension": ".py",
   "mimetype": "text/x-python",
   "name": "python",
   "nbconvert_exporter": "python",
   "pygments_lexer": "ipython3",
   "version": "3.9.5"
  },
  "toc": {
   "base_numbering": 1,
   "nav_menu": {},
   "number_sections": true,
   "sideBar": true,
   "skip_h1_title": true,
   "title_cell": "Table of Contents",
   "title_sidebar": "Contents",
   "toc_cell": false,
   "toc_position": {},
   "toc_section_display": true,
   "toc_window_display": false
  }
 },
 "nbformat": 4,
 "nbformat_minor": 5
}
