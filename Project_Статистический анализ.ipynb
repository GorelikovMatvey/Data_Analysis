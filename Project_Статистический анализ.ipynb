{
 "cells": [
  {
   "cell_type": "markdown",
   "id": "e4b50173",
   "metadata": {},
   "source": [
    "<div style=\"border:solid green 3px; padding: 20px\">\n",
    "\t\t\t\t\t\t\t\t\t\t\t\t\t\t\t\t\t\t\t\t\t\n",
    "<b>Привет!</b>\n",
    "\t\t\t\t\t\t\t\t\t\t\t\t\t\t\t\t\t\t\t\t\t\n",
    "Меня зовут Сороколетов Илья и я буду проверять твой проект. \n",
    "\t\t\t\t\t\t\t\t\t\t\t\t\t\t\t\t\t\t\t\t\t\n",
    "Предлагаю общаться на «**ты**», но если тебе будет комфортнее общаться на «**вы**», то сообщи об этом в комментариях)\n",
    "\t\t\t\t\t\t\t\t\t\t\t\t\t\t\t\t\t\t\t\t\t\n",
    "\t\t\t\t\t\t\t\t\t\t\t\t\t\t\t\t\t\t\t\t\t\n",
    "Для твоего удобства, я буду выделять свои комментарии следующим образом:\n",
    "\t\t\t\t\t\t\t\t\t\t\t\t\t\t\t\t\t\t\t\t\t\n",
    "<div class=\"alert alert-danger\">\n",
    "<b>❌ Комментарий ревьюера v1:</b> Самые важные замечания. Они указывают на ключевые моменты, которые влияют на конечный результат проекта. </div>\n",
    "\t\t\t\t\t\t\t\t\t\t\t\t\t\t\t\t\t\t\t\t\t\n",
    "<div class=\"alert alert-warning\">\n",
    "<b>⚠️ Комментарий ревьюера v1:</b> Советы или замечания, которые помогут сделать твою работу лучше, но необязательны к выполнению.\n",
    "\t\t\t\t\t\t\t\t\t\t\t\t\t\t\t\t\t\t\t\t\t\n",
    "</div>\n",
    "\t\t\t\t\t\t\t\t\t\t\t\t\t\t\t\t\t\t\t\t\t\n",
    "<div class=\"alert alert-success\">\n",
    "<b>✔️ Комментарий ревьюера v1:</b> Так я выделяю все остальные комментарии.</div>\n",
    "\t\t\t\t\t\t\t\t\t\t\t\t\t\t\t\t\t\t\t\t\t\n",
    "\t\t\t\t\t\t\t\t\t\t\t\t\t\t\t\t\t\t\t\t\t\n",
    "Пометками <b>v1-v2-v3-...</b> я буду отмечать версию проверки. Так ты сможешь быстро найти мои новые комментарии.\n",
    "\t\t\t\t\t\t\t\t\t\t\t\t\t\t\t\t\t\t\t\t\t\n",
    "Давай работать над проектом в диалоге: если ты что-то меняешь в проекте по моим рекомендациям — пиши об этом. Выбери для своих комментариев какой-то заметный цвет, так мне будет легче отследить изменения, например вот так:\n",
    "\t\t\t\t\t\t\t\t\t\t\t\t\t\t\t\t\t\t\t\t\t    \n",
    "<div class=\"alert alert-info\">\n",
    "<b>Комментарий студента:</b>\n",
    "<br>\n",
    "</div>\n",
    "\t\t\t\t\t\t\t\t\t\t\t\t\t\t\t\t\t\t\t\t\t\n",
    "<b>Пожалуйста, не перемещай, не изменяй и не удаляй мои комментарии.</b> Если ты оставляешь свои комментарии, то делай это под моими, чтобы сообщения были расположены в хронологическом порядке. Всё это поможет выполнить повторную проверку твоего проекта быстрее. \n",
    "\t\t\t\t\t\t\t\t\t\t\t\t\t\t\t\t\t\t\t\t\t\n",
    "Перед отправкой работы я рекомендую нажимать Kernel -> Restart & Run All. Это перезапустит ядро и по очереди выполнит все ячейки. Так ты сможешь проверить, что всё работает корректно. Кнопка Kernel находится в панели сверху\n",
    "\t\t\t\t\t\t\t\t\t\t\t\t\t\t\t\t\t\t\t\t\t\n",
    "Обязательно задавай вопросы если они возникнут, а я перехожу к проверке)\n",
    "\t\t\t\t\t\t\t\t\t\t\t\t\t\t\t\t\t\t\t\t\t\n",
    "P.S. На всякий случай, я оставлю пустой шаблон для твоих комментариев ниже. Кликни два раза на мой комментарий, скопируй последние четыре строчки кода и вставляй их в пустую ячейку там, где ты хочешь оставить комментарий. Не забудь только перед этим сменить тип ячейки на Markdown. Быстро это можно сделать так: кликнуть на ячейку - нажать ESC - нажать M. \n",
    "\t\t\t\t\t\t\t\t\t\t\t\t\t\t\t\t\t\t\t\t\t    \n",
    "\t\t\t\t\t\t\t\t\t\t\t\t\t\t\t\t\t\t\t\t\t    \n",
    "<div class=\"alert alert-info\">\n",
    "<b>Комментарий студента:</b>\n",
    "<br>Удали этот текст и вместо него напиши свой комментарий 🙂\n",
    "</div>"
   ]
  },
  {
   "cell_type": "markdown",
   "id": "c50b8fb8",
   "metadata": {},
   "source": [
    "<div class=\"alert alert-danger\">\n",
    "<b>❌ Комментарий ревьюера:</b> \n",
    "<br>Перед отправкой проекта обязательно перезапускай ядро через Kernel -> Restart & Run All и проверяй, чтобы все ячейки отработали без ошибок. 5 ячейка сейчас падает с ошибкой. Поправь, пожалуйста, чтобы я смог проверить твой проект\n",
    "</div>\n"
   ]
  },
  {
   "cell_type": "markdown",
   "id": "d32a4ead",
   "metadata": {},
   "source": [
    "\n",
    "<div class=\"alert alert-success\">\n",
    "<b>✔️ Комментарий ревьюера v1:</b> \n",
    "<br>Теперь всё работает) Перехожу к проверке!\n",
    "</div>"
   ]
  },
  {
   "cell_type": "markdown",
   "id": "a1ee79cf",
   "metadata": {},
   "source": [
    "# Статистический анализ данных сервиса аренды самокатов GoFast.\n",
    "Вы аналитик популярного сервиса аренды самокатов GoFast. Вам передали данные о некоторых пользователях из нескольких городов, а также об их поездках. Необходимо проанализировать данные и проверсть некоторые гипотезы, которые могут помочь бизнесу вырасти.\n",
    "Чтобы совершать поездки по городу, пользователи сервиса GoFast пользуются мобильным приложением.\n",
    "\n",
    "**Сервисом можно пользоваться:**\n",
    " - Без подписки\n",
    "   - абонентская плата отсутствует;\n",
    "   - стоимость одной минуты поездки — 8 рублей;\n",
    "   - стоимость старта (начала поездки) — 50 рублей;\n",
    " - С подпиской Ultra\n",
    "   - абонентская плата — 199 рублей в месяц;\n",
    "   - стоимость одной минуты поездки — 6 рублей;\n",
    "   - стоимость старта — бесплатно.\n",
    "\n",
    "**Описание данных:**\n",
    "\n",
    "В основных данных есть информация о пользователях, их поездках и подписках.   \n",
    " - **Пользователи** \n",
    "   - user_id - уникальный идентификатор пользователя\n",
    "   - name - имя пользователя\n",
    "   - age - возраст\n",
    "   - city - город\n",
    "   - subscription_type - тип подписки (free, ultra)\n",
    "   \n",
    " - **Подписки** \n",
    "   - subscription_type - тип подписки\n",
    "   - minute_price - стоимость одной минуты поездки по данной подписке\n",
    "   - start_ride_price - стоимость начала поездки\n",
    "   - subscription_fee -\tстоимость ежемесячного платежа\n",
    "   \n",
    " - **Поездки** \n",
    "   - user_id - уникальный идентификатор пользователя\n",
    "   - distance - расстояние, которое пользователь проехал в текущей сессии (в метрах)\n",
    "   - duration - продолжительность сессии (в минутах) — время с того момента, как пользователь нажал кнопку «Начать поездку» до момента, как он нажал кнопку «Завершить поездку»\n",
    "   - date - дата совершения поездки"
   ]
  },
  {
   "cell_type": "markdown",
   "id": "3678aa3f",
   "metadata": {},
   "source": [
    "<div class=\"alert alert-success\">\n",
    "<b>✔️ Комментарий ревьюера v1:</b> \n",
    "<br>Здорово, что ты оставляешь описание задачи. Это поможет тебе быстро вспомнить о чем проект, если спустя время ты решишь к нему вернуться)\n",
    "</div>"
   ]
  },
  {
   "cell_type": "markdown",
   "id": "c42cbe00",
   "metadata": {},
   "source": [
    "#### Шаг 1. Загрузка данных"
   ]
  },
  {
   "cell_type": "markdown",
   "id": "2934aff8",
   "metadata": {},
   "source": [
    "Импортируем необходимые для работы библиотеки, cчитываем CSV-файлы и сохраняем их в датафреймы."
   ]
  },
  {
   "cell_type": "code",
   "execution_count": 1,
   "id": "2ee7a0f5",
   "metadata": {},
   "outputs": [],
   "source": [
    "import pandas as pd\n",
    "import seaborn as sns\n",
    "import numpy as np\n",
    "import matplotlib.pyplot as plt\n",
    "from scipy import stats as st\n",
    "from math import sqrt\n",
    "from scipy.stats import binom, norm"
   ]
  },
  {
   "cell_type": "markdown",
   "id": "9fc6b426",
   "metadata": {},
   "source": [
    "<div class=\"alert alert-success\">\n",
    "<b>✔️ Комментарий ревьюера v1:</b> \n",
    "<br>Молодец, что импортируешь все библиотеки отдельно в первой ячейке. Это правило хорошего тона, которое позволит твоим коллегам сразу увидеть все необходимые библиотеки для работы с твоим файлом.\n",
    "</div>"
   ]
  },
  {
   "cell_type": "code",
   "execution_count": 2,
   "id": "642479b1",
   "metadata": {},
   "outputs": [],
   "source": [
    "users  = pd.read_csv('/datasets/users_go.csv', sep=',')\n",
    "subscriptions  = pd.read_csv('/datasets/subscriptions_go.csv', sep=',')\n",
    "#rides  = pd.read_csv('/datasets/rides_go.csv', sep=',')\n",
    "rides  = pd.read_csv('/datasets/rides_go.csv', sep=',' , parse_dates=['date'], dayfirst=True)\n",
    "#Увеличим максимальное количество отображающихся столбцов.\n",
    "pd.set_option('display.max_columns', None)"
   ]
  },
  {
   "cell_type": "markdown",
   "id": "6c6e7909",
   "metadata": {},
   "source": [
    "<div class=\"alert alert-info\">\n",
    "<b>Комментарий студента:</b>\n",
    "<br>Привет, я проект делал локально и точно не знаю как нужно правильно импрортировать файл, чтобы его можно было без проблем считать. В этой версии указал путь так, как это востринимает среда в тренажере. \n",
    "</div>"
   ]
  },
  {
   "cell_type": "markdown",
   "id": "ae088bdd",
   "metadata": {},
   "source": [
    "<div class=\"alert alert-success\">\n",
    "<b>✔️ Комментарий ревьюера v1:</b> \n",
    "<br>В таких случаях нужно использовать конструкцию try.. except...\n",
    "</div>"
   ]
  },
  {
   "cell_type": "code",
   "execution_count": 3,
   "id": "8ccfffa6",
   "metadata": {},
   "outputs": [
    {
     "data": {
      "text/html": [
       "<div>\n",
       "<style scoped>\n",
       "    .dataframe tbody tr th:only-of-type {\n",
       "        vertical-align: middle;\n",
       "    }\n",
       "\n",
       "    .dataframe tbody tr th {\n",
       "        vertical-align: top;\n",
       "    }\n",
       "\n",
       "    .dataframe thead th {\n",
       "        text-align: right;\n",
       "    }\n",
       "</style>\n",
       "<table border=\"1\" class=\"dataframe\">\n",
       "  <thead>\n",
       "    <tr style=\"text-align: right;\">\n",
       "      <th></th>\n",
       "      <th>user_id</th>\n",
       "      <th>name</th>\n",
       "      <th>age</th>\n",
       "      <th>city</th>\n",
       "      <th>subscription_type</th>\n",
       "    </tr>\n",
       "  </thead>\n",
       "  <tbody>\n",
       "    <tr>\n",
       "      <th>0</th>\n",
       "      <td>1</td>\n",
       "      <td>Кира</td>\n",
       "      <td>22</td>\n",
       "      <td>Тюмень</td>\n",
       "      <td>ultra</td>\n",
       "    </tr>\n",
       "    <tr>\n",
       "      <th>1</th>\n",
       "      <td>2</td>\n",
       "      <td>Станислав</td>\n",
       "      <td>31</td>\n",
       "      <td>Омск</td>\n",
       "      <td>ultra</td>\n",
       "    </tr>\n",
       "    <tr>\n",
       "      <th>2</th>\n",
       "      <td>3</td>\n",
       "      <td>Алексей</td>\n",
       "      <td>20</td>\n",
       "      <td>Москва</td>\n",
       "      <td>ultra</td>\n",
       "    </tr>\n",
       "    <tr>\n",
       "      <th>3</th>\n",
       "      <td>4</td>\n",
       "      <td>Константин</td>\n",
       "      <td>26</td>\n",
       "      <td>Ростов-на-Дону</td>\n",
       "      <td>ultra</td>\n",
       "    </tr>\n",
       "    <tr>\n",
       "      <th>4</th>\n",
       "      <td>5</td>\n",
       "      <td>Адель</td>\n",
       "      <td>28</td>\n",
       "      <td>Омск</td>\n",
       "      <td>ultra</td>\n",
       "    </tr>\n",
       "    <tr>\n",
       "      <th>5</th>\n",
       "      <td>6</td>\n",
       "      <td>Регина</td>\n",
       "      <td>25</td>\n",
       "      <td>Краснодар</td>\n",
       "      <td>ultra</td>\n",
       "    </tr>\n",
       "    <tr>\n",
       "      <th>6</th>\n",
       "      <td>7</td>\n",
       "      <td>Игорь</td>\n",
       "      <td>23</td>\n",
       "      <td>Омск</td>\n",
       "      <td>ultra</td>\n",
       "    </tr>\n",
       "    <tr>\n",
       "      <th>7</th>\n",
       "      <td>8</td>\n",
       "      <td>Юрий</td>\n",
       "      <td>23</td>\n",
       "      <td>Краснодар</td>\n",
       "      <td>ultra</td>\n",
       "    </tr>\n",
       "    <tr>\n",
       "      <th>8</th>\n",
       "      <td>9</td>\n",
       "      <td>Ян</td>\n",
       "      <td>21</td>\n",
       "      <td>Пятигорск</td>\n",
       "      <td>ultra</td>\n",
       "    </tr>\n",
       "    <tr>\n",
       "      <th>9</th>\n",
       "      <td>10</td>\n",
       "      <td>Валерий</td>\n",
       "      <td>18</td>\n",
       "      <td>Екатеринбург</td>\n",
       "      <td>ultra</td>\n",
       "    </tr>\n",
       "  </tbody>\n",
       "</table>\n",
       "</div>"
      ],
      "text/plain": [
       "   user_id        name  age            city subscription_type\n",
       "0        1        Кира   22          Тюмень             ultra\n",
       "1        2   Станислав   31            Омск             ultra\n",
       "2        3     Алексей   20          Москва             ultra\n",
       "3        4  Константин   26  Ростов-на-Дону             ultra\n",
       "4        5       Адель   28            Омск             ultra\n",
       "5        6      Регина   25       Краснодар             ultra\n",
       "6        7       Игорь   23            Омск             ultra\n",
       "7        8        Юрий   23       Краснодар             ultra\n",
       "8        9          Ян   21       Пятигорск             ultra\n",
       "9       10     Валерий   18    Екатеринбург             ultra"
      ]
     },
     "metadata": {},
     "output_type": "display_data"
    },
    {
     "data": {
      "text/html": [
       "<div>\n",
       "<style scoped>\n",
       "    .dataframe tbody tr th:only-of-type {\n",
       "        vertical-align: middle;\n",
       "    }\n",
       "\n",
       "    .dataframe tbody tr th {\n",
       "        vertical-align: top;\n",
       "    }\n",
       "\n",
       "    .dataframe thead th {\n",
       "        text-align: right;\n",
       "    }\n",
       "</style>\n",
       "<table border=\"1\" class=\"dataframe\">\n",
       "  <thead>\n",
       "    <tr style=\"text-align: right;\">\n",
       "      <th></th>\n",
       "      <th>subscription_type</th>\n",
       "      <th>minute_price</th>\n",
       "      <th>start_ride_price</th>\n",
       "      <th>subscription_fee</th>\n",
       "    </tr>\n",
       "  </thead>\n",
       "  <tbody>\n",
       "    <tr>\n",
       "      <th>0</th>\n",
       "      <td>free</td>\n",
       "      <td>8</td>\n",
       "      <td>50</td>\n",
       "      <td>0</td>\n",
       "    </tr>\n",
       "    <tr>\n",
       "      <th>1</th>\n",
       "      <td>ultra</td>\n",
       "      <td>6</td>\n",
       "      <td>0</td>\n",
       "      <td>199</td>\n",
       "    </tr>\n",
       "  </tbody>\n",
       "</table>\n",
       "</div>"
      ],
      "text/plain": [
       "  subscription_type  minute_price  start_ride_price  subscription_fee\n",
       "0              free             8                50                 0\n",
       "1             ultra             6                 0               199"
      ]
     },
     "metadata": {},
     "output_type": "display_data"
    },
    {
     "data": {
      "text/html": [
       "<div>\n",
       "<style scoped>\n",
       "    .dataframe tbody tr th:only-of-type {\n",
       "        vertical-align: middle;\n",
       "    }\n",
       "\n",
       "    .dataframe tbody tr th {\n",
       "        vertical-align: top;\n",
       "    }\n",
       "\n",
       "    .dataframe thead th {\n",
       "        text-align: right;\n",
       "    }\n",
       "</style>\n",
       "<table border=\"1\" class=\"dataframe\">\n",
       "  <thead>\n",
       "    <tr style=\"text-align: right;\">\n",
       "      <th></th>\n",
       "      <th>user_id</th>\n",
       "      <th>distance</th>\n",
       "      <th>duration</th>\n",
       "      <th>date</th>\n",
       "    </tr>\n",
       "  </thead>\n",
       "  <tbody>\n",
       "    <tr>\n",
       "      <th>0</th>\n",
       "      <td>1</td>\n",
       "      <td>4409.919140</td>\n",
       "      <td>25.599769</td>\n",
       "      <td>2021-01-01</td>\n",
       "    </tr>\n",
       "    <tr>\n",
       "      <th>1</th>\n",
       "      <td>1</td>\n",
       "      <td>2617.592153</td>\n",
       "      <td>15.816871</td>\n",
       "      <td>2021-01-18</td>\n",
       "    </tr>\n",
       "    <tr>\n",
       "      <th>2</th>\n",
       "      <td>1</td>\n",
       "      <td>754.159807</td>\n",
       "      <td>6.232113</td>\n",
       "      <td>2021-04-20</td>\n",
       "    </tr>\n",
       "    <tr>\n",
       "      <th>3</th>\n",
       "      <td>1</td>\n",
       "      <td>2694.783254</td>\n",
       "      <td>18.511000</td>\n",
       "      <td>2021-08-11</td>\n",
       "    </tr>\n",
       "    <tr>\n",
       "      <th>4</th>\n",
       "      <td>1</td>\n",
       "      <td>4028.687306</td>\n",
       "      <td>26.265803</td>\n",
       "      <td>2021-08-28</td>\n",
       "    </tr>\n",
       "    <tr>\n",
       "      <th>5</th>\n",
       "      <td>1</td>\n",
       "      <td>2770.890808</td>\n",
       "      <td>16.650138</td>\n",
       "      <td>2021-10-09</td>\n",
       "    </tr>\n",
       "    <tr>\n",
       "      <th>6</th>\n",
       "      <td>1</td>\n",
       "      <td>3039.020292</td>\n",
       "      <td>14.927879</td>\n",
       "      <td>2021-10-19</td>\n",
       "    </tr>\n",
       "    <tr>\n",
       "      <th>7</th>\n",
       "      <td>1</td>\n",
       "      <td>2842.118050</td>\n",
       "      <td>23.117468</td>\n",
       "      <td>2021-11-06</td>\n",
       "    </tr>\n",
       "    <tr>\n",
       "      <th>8</th>\n",
       "      <td>1</td>\n",
       "      <td>3412.690668</td>\n",
       "      <td>15.238072</td>\n",
       "      <td>2021-11-14</td>\n",
       "    </tr>\n",
       "    <tr>\n",
       "      <th>9</th>\n",
       "      <td>1</td>\n",
       "      <td>748.690645</td>\n",
       "      <td>15.041884</td>\n",
       "      <td>2021-11-22</td>\n",
       "    </tr>\n",
       "  </tbody>\n",
       "</table>\n",
       "</div>"
      ],
      "text/plain": [
       "   user_id     distance   duration       date\n",
       "0        1  4409.919140  25.599769 2021-01-01\n",
       "1        1  2617.592153  15.816871 2021-01-18\n",
       "2        1   754.159807   6.232113 2021-04-20\n",
       "3        1  2694.783254  18.511000 2021-08-11\n",
       "4        1  4028.687306  26.265803 2021-08-28\n",
       "5        1  2770.890808  16.650138 2021-10-09\n",
       "6        1  3039.020292  14.927879 2021-10-19\n",
       "7        1  2842.118050  23.117468 2021-11-06\n",
       "8        1  3412.690668  15.238072 2021-11-14\n",
       "9        1   748.690645  15.041884 2021-11-22"
      ]
     },
     "metadata": {},
     "output_type": "display_data"
    }
   ],
   "source": [
    "display(users.head(10))\n",
    "display(subscriptions.head(10))\n",
    "display(rides.head(10))"
   ]
  },
  {
   "cell_type": "markdown",
   "id": "d5432242",
   "metadata": {},
   "source": [
    "Изучим общую информацию о полученных датафреймах."
   ]
  },
  {
   "cell_type": "code",
   "execution_count": 4,
   "id": "d160b3c1",
   "metadata": {},
   "outputs": [
    {
     "name": "stdout",
     "output_type": "stream",
     "text": [
      "Пользователи\n",
      "\n",
      "<class 'pandas.core.frame.DataFrame'>\n",
      "RangeIndex: 1565 entries, 0 to 1564\n",
      "Data columns (total 5 columns):\n",
      " #   Column             Non-Null Count  Dtype \n",
      "---  ------             --------------  ----- \n",
      " 0   user_id            1565 non-null   int64 \n",
      " 1   name               1565 non-null   object\n",
      " 2   age                1565 non-null   int64 \n",
      " 3   city               1565 non-null   object\n",
      " 4   subscription_type  1565 non-null   object\n",
      "dtypes: int64(2), object(3)\n",
      "memory usage: 61.3+ KB\n",
      "\n",
      "           user_id          age\n",
      "count  1565.000000  1565.000000\n",
      "mean    762.633866    24.922045\n",
      "std     443.260155     4.553496\n",
      "min       1.000000    12.000000\n",
      "25%     378.000000    22.000000\n",
      "50%     762.000000    25.000000\n",
      "75%    1146.000000    28.000000\n",
      "max    1534.000000    43.000000\n",
      "\n",
      "Подписки\n",
      "\n",
      "<class 'pandas.core.frame.DataFrame'>\n",
      "RangeIndex: 2 entries, 0 to 1\n",
      "Data columns (total 4 columns):\n",
      " #   Column             Non-Null Count  Dtype \n",
      "---  ------             --------------  ----- \n",
      " 0   subscription_type  2 non-null      object\n",
      " 1   minute_price       2 non-null      int64 \n",
      " 2   start_ride_price   2 non-null      int64 \n",
      " 3   subscription_fee   2 non-null      int64 \n",
      "dtypes: int64(3), object(1)\n",
      "memory usage: 192.0+ bytes\n",
      "\n",
      "       minute_price  start_ride_price  subscription_fee\n",
      "count      2.000000          2.000000          2.000000\n",
      "mean       7.000000         25.000000         99.500000\n",
      "std        1.414214         35.355339        140.714249\n",
      "min        6.000000          0.000000          0.000000\n",
      "25%        6.500000         12.500000         49.750000\n",
      "50%        7.000000         25.000000         99.500000\n",
      "75%        7.500000         37.500000        149.250000\n",
      "max        8.000000         50.000000        199.000000\n",
      "\n",
      "Поездки\n",
      "\n",
      "<class 'pandas.core.frame.DataFrame'>\n",
      "RangeIndex: 18068 entries, 0 to 18067\n",
      "Data columns (total 4 columns):\n",
      " #   Column    Non-Null Count  Dtype         \n",
      "---  ------    --------------  -----         \n",
      " 0   user_id   18068 non-null  int64         \n",
      " 1   distance  18068 non-null  float64       \n",
      " 2   duration  18068 non-null  float64       \n",
      " 3   date      18068 non-null  datetime64[ns]\n",
      "dtypes: datetime64[ns](1), float64(2), int64(1)\n",
      "memory usage: 564.8 KB\n",
      "\n",
      "            user_id      distance      duration\n",
      "count  18068.000000  18068.000000  18068.000000\n",
      "mean     842.869936   3070.659976     17.805011\n",
      "std      434.734317   1116.831209      6.091051\n",
      "min        1.000000      0.855683      0.500000\n",
      "25%      487.000000   2543.226360     13.597563\n",
      "50%      889.000000   3133.609994     17.678395\n",
      "75%     1213.250000   3776.222735     21.724800\n",
      "max     1534.000000   7211.007745     40.823963\n"
     ]
    }
   ],
   "source": [
    "print('Пользователи\\n')\n",
    "users.info()\n",
    "print()\n",
    "print(users.describe())\n",
    "print()\n",
    "print('Подписки\\n')\n",
    "subscriptions.info()\n",
    "print()\n",
    "print(subscriptions.describe())\n",
    "print()\n",
    "print('Поездки\\n')\n",
    "rides.info()\n",
    "print()\n",
    "print(rides.describe())"
   ]
  },
  {
   "cell_type": "markdown",
   "id": "13db39fe",
   "metadata": {},
   "source": [
    "**При рассмотрении данных датафреймов, можно сделать следующие выводы:**\n",
    "\n",
    "- **Пользователи:**\n",
    "   - Число запсей - 1565 \n",
    "   - Отсутствие пропусков в данных\n",
    "   - Отсутствие неверных типов данных\n",
    "   - Названия столбцов указаны верно\n",
    "   - user_id - уникальный идентификатор пользователя\n",
    "   - name - имя пользователя\n",
    "   - age - возраст\n",
    "   - city - город\n",
    "   - subscription_type - тип подписки (free, ultra)\n",
    "   \n",
    "   \n",
    "- **Подписки** \n",
    "   - Число запсей - 2\n",
    "   - Отсутствие пропусков в данных\n",
    "   - Отсутствие неверных типов данных   \n",
    "   - Названия столбцов указаны верно\n",
    "   - subscription_type - тип подписки\n",
    "   - minute_price - стоимость одной минуты поездки по данной подписке\n",
    "   - start_ride_price - стоимость начала поездки\n",
    "   - subscription_fee -\tстоимость ежемесячного платежа\n",
    "   \n",
    "   \n",
    "- **Поездки**\n",
    "   - Число запсей - 18068\n",
    "   - Отсутствие пропусков в данных\n",
    "   - Неверный тип данных у столбца date \n",
    "   - Названия столбцов указаны верно\n",
    "   - user_id - уникальный идентификатор пользователя\n",
    "   - distance - расстояние, которое пользователь проехал в текущей сессии (в метрах)\n",
    "   - duration - продолжительность сессии (в минутах) — время с того момента, как пользователь нажал кнопку «Начать поездку» до момента, как он нажал кнопку «Завершить поездку»\n",
    "   - date - дата совершения поездки"
   ]
  },
  {
   "cell_type": "markdown",
   "id": "3f256370",
   "metadata": {},
   "source": [
    "<div class=\"alert alert-success\">\n",
    "<b>✔️ Комментарий ревьюера v1:</b> \n",
    "<br>Первичный анализ данных выполнен верно. Можем переходить к следующему этапу)\n",
    "</div>"
   ]
  },
  {
   "cell_type": "markdown",
   "id": "e95ebca7",
   "metadata": {},
   "source": [
    "#### Шаг 2. Предобработка данных"
   ]
  },
  {
   "cell_type": "markdown",
   "id": "1a37329e",
   "metadata": {},
   "source": [
    "Проверим наличие пропущенных значений и дубликатов в датафреймах. Обработаем их, если такие значения присутствуют."
   ]
  },
  {
   "cell_type": "markdown",
   "id": "aa39e4a1",
   "metadata": {},
   "source": [
    "Зададим правильную маску для даты и добавим новый столбец с номером месяца.\n",
    "Заранее, для дальнейшего подсчета выручки округлим продолжительность каждой поездки по методу «потолок». Также, округлим расстояние, которое пользователь проехал в текущей сессии до двух знаков."
   ]
  },
  {
   "cell_type": "code",
   "execution_count": 5,
   "id": "730ab23f",
   "metadata": {
    "scrolled": true
   },
   "outputs": [
    {
     "data": {
      "text/html": [
       "<div>\n",
       "<style scoped>\n",
       "    .dataframe tbody tr th:only-of-type {\n",
       "        vertical-align: middle;\n",
       "    }\n",
       "\n",
       "    .dataframe tbody tr th {\n",
       "        vertical-align: top;\n",
       "    }\n",
       "\n",
       "    .dataframe thead th {\n",
       "        text-align: right;\n",
       "    }\n",
       "</style>\n",
       "<table border=\"1\" class=\"dataframe\">\n",
       "  <thead>\n",
       "    <tr style=\"text-align: right;\">\n",
       "      <th></th>\n",
       "      <th>user_id</th>\n",
       "      <th>distance</th>\n",
       "      <th>duration</th>\n",
       "      <th>date</th>\n",
       "      <th>month_number</th>\n",
       "    </tr>\n",
       "  </thead>\n",
       "  <tbody>\n",
       "    <tr>\n",
       "      <th>0</th>\n",
       "      <td>1</td>\n",
       "      <td>4409.92</td>\n",
       "      <td>26.0</td>\n",
       "      <td>2021-01-01</td>\n",
       "      <td>1</td>\n",
       "    </tr>\n",
       "    <tr>\n",
       "      <th>1</th>\n",
       "      <td>1</td>\n",
       "      <td>2617.59</td>\n",
       "      <td>16.0</td>\n",
       "      <td>2021-01-18</td>\n",
       "      <td>1</td>\n",
       "    </tr>\n",
       "    <tr>\n",
       "      <th>2</th>\n",
       "      <td>1</td>\n",
       "      <td>754.16</td>\n",
       "      <td>7.0</td>\n",
       "      <td>2021-04-20</td>\n",
       "      <td>4</td>\n",
       "    </tr>\n",
       "    <tr>\n",
       "      <th>3</th>\n",
       "      <td>1</td>\n",
       "      <td>2694.78</td>\n",
       "      <td>19.0</td>\n",
       "      <td>2021-08-11</td>\n",
       "      <td>8</td>\n",
       "    </tr>\n",
       "    <tr>\n",
       "      <th>4</th>\n",
       "      <td>1</td>\n",
       "      <td>4028.69</td>\n",
       "      <td>27.0</td>\n",
       "      <td>2021-08-28</td>\n",
       "      <td>8</td>\n",
       "    </tr>\n",
       "  </tbody>\n",
       "</table>\n",
       "</div>"
      ],
      "text/plain": [
       "   user_id  distance  duration       date  month_number\n",
       "0        1   4409.92      26.0 2021-01-01             1\n",
       "1        1   2617.59      16.0 2021-01-18             1\n",
       "2        1    754.16       7.0 2021-04-20             4\n",
       "3        1   2694.78      19.0 2021-08-11             8\n",
       "4        1   4028.69      27.0 2021-08-28             8"
      ]
     },
     "execution_count": 5,
     "metadata": {},
     "output_type": "execute_result"
    }
   ],
   "source": [
    "#rides['date'] = pd.to_datetime(rides['date'], format='%Y-%m-%dT%H:%M:%S')\n",
    "rides['month_number'] = rides['date'].dt.month\n",
    "rides['duration'] = np.ceil(rides['duration']) \n",
    "rides['distance'] = rides['distance'].round(2)\n",
    "rides.head(5)\n",
    "\n",
    "\n"
   ]
  },
  {
   "cell_type": "markdown",
   "id": "1f4b7199",
   "metadata": {},
   "source": [
    "<div class=\"alert alert-success\">\n",
    "<b>✔️ Комментарий ревьюера v1:</b> \n",
    "<br>Тип данных изменён верно! \n",
    "</div>\n",
    "\t\t\t\t\n",
    "<div class=\"alert alert-warning\">\n",
    "<b>⚠️ Комментарий ревьюера v1:</b> \n",
    "<br>Если при загрузке данных добавить параметр parse_dates: parse_dates=['date'] то список столбцов автоматически переведется в даты. Подробнее про это можно прочитать по ссылке ниже\n",
    "\t\t\t\t\n",
    "\thttps://newtechaudit.ru/gruzi-daty-krasivo/\n",
    "</div>"
   ]
  },
  {
   "cell_type": "markdown",
   "id": "f6581841",
   "metadata": {},
   "source": [
    "<div class=\"alert alert-info\">\n",
    "<b>Комментарий студента:</b>\n",
    "<br> Посмотрел ссылку, исправил, чтобы привести даты в формат “гггг-мм-дд” передал аргумент «dayfirst» со значением «True».\n",
    "</div>"
   ]
  },
  {
   "cell_type": "markdown",
   "id": "181ec417",
   "metadata": {},
   "source": [
    "<div class=\"alert alert-success\">\n",
    "<b>✔️ Комментарий ревьюера v2:</b>\n",
    "<br>👍\n",
    "</div>"
   ]
  },
  {
   "cell_type": "markdown",
   "id": "5ff3679d",
   "metadata": {},
   "source": [
    "Рассмотрим значения городов на предмет наличия неявных дубликатов.  "
   ]
  },
  {
   "cell_type": "code",
   "execution_count": 6,
   "id": "a2699ceb",
   "metadata": {},
   "outputs": [
    {
     "data": {
      "text/plain": [
       "array(['Тюмень', 'Омск', 'Москва', 'Ростов-на-Дону', 'Краснодар',\n",
       "       'Пятигорск', 'Екатеринбург', 'Сочи'], dtype=object)"
      ]
     },
     "execution_count": 6,
     "metadata": {},
     "output_type": "execute_result"
    }
   ],
   "source": [
    "users.city.unique()"
   ]
  },
  {
   "cell_type": "markdown",
   "id": "c8e882f9",
   "metadata": {},
   "source": [
    "Неявные дубликаты отсутствуют."
   ]
  },
  {
   "cell_type": "markdown",
   "id": "8907589f",
   "metadata": {},
   "source": [
    "Рассмотрим датафреймы на наличие явных дубликатов."
   ]
  },
  {
   "cell_type": "code",
   "execution_count": 7,
   "id": "ccc6f1fa",
   "metadata": {},
   "outputs": [
    {
     "data": {
      "text/plain": [
       "31"
      ]
     },
     "execution_count": 7,
     "metadata": {},
     "output_type": "execute_result"
    }
   ],
   "source": [
    "users.duplicated().sum()"
   ]
  },
  {
   "cell_type": "code",
   "execution_count": 8,
   "id": "27ef5654",
   "metadata": {},
   "outputs": [
    {
     "data": {
      "text/plain": [
       "0"
      ]
     },
     "execution_count": 8,
     "metadata": {},
     "output_type": "execute_result"
    }
   ],
   "source": [
    "subscriptions.duplicated().sum()"
   ]
  },
  {
   "cell_type": "code",
   "execution_count": 9,
   "id": "0578fc12",
   "metadata": {},
   "outputs": [
    {
     "data": {
      "text/plain": [
       "0"
      ]
     },
     "execution_count": 9,
     "metadata": {},
     "output_type": "execute_result"
    }
   ],
   "source": [
    "rides.duplicated().sum()"
   ]
  },
  {
   "cell_type": "markdown",
   "id": "64fc6ae4",
   "metadata": {},
   "source": [
    "В датафрейме Пользователи обнаружен 31 явный дубликат, избавляемся от них. В двух других явные дубликаты отсутствуют. Определим количество данных которое мы отбросили в итоге."
   ]
  },
  {
   "cell_type": "markdown",
   "id": "301d759c",
   "metadata": {},
   "source": [
    "<div class=\"alert alert-success\">\n",
    "<b>✔️ Комментарий ревьюера v1:</b>\n",
    "<br>Проверка на дубликаты выполнена!\n",
    "</div>"
   ]
  },
  {
   "cell_type": "code",
   "execution_count": 10,
   "id": "451d39f0",
   "metadata": {},
   "outputs": [
    {
     "name": "stdout",
     "output_type": "stream",
     "text": [
      "1565\n",
      "           user_id          age\n",
      "count  1534.000000  1534.000000\n",
      "mean    767.500000    24.903520\n",
      "std     442.971971     4.572367\n",
      "min       1.000000    12.000000\n",
      "25%     384.250000    22.000000\n",
      "50%     767.500000    25.000000\n",
      "75%    1150.750000    28.000000\n",
      "max    1534.000000    43.000000\n"
     ]
    },
    {
     "data": {
      "text/plain": [
       "0.9801916932907349"
      ]
     },
     "execution_count": 10,
     "metadata": {},
     "output_type": "execute_result"
    }
   ],
   "source": [
    "old_data = users.shape[0]\n",
    "print(old_data)\n",
    "users = users.sort_values(by='user_id').loc[users['user_id'].duplicated() == False]\n",
    "print(users.describe())\n",
    "users.duplicated().sum()\n",
    "users.shape[0] / old_data"
   ]
  },
  {
   "cell_type": "markdown",
   "id": "daf4f5cc",
   "metadata": {},
   "source": [
    "После удаления явных дубликатов, количество строк в датафрейме уменьшилось с 1565 до 1534 записи.\n",
    "Количество данных, которое мы отбросили составляет не более 10%, что является удовлетворительным."
   ]
  },
  {
   "cell_type": "markdown",
   "id": "212593c7",
   "metadata": {},
   "source": [
    "#### Шаг 3. Исследовательский анализ данных\n",
    "Дадим описание и визуализируем общую информацию о пользователях и поездках."
   ]
  },
  {
   "cell_type": "markdown",
   "id": "c064c317",
   "metadata": {},
   "source": [
    "**Частота встречаемости городов**"
   ]
  },
  {
   "cell_type": "markdown",
   "id": "4e15b8d0",
   "metadata": {},
   "source": [
    "Построим сводную таблицу, отображающую частоту встречаемости городов в датасете, отсортируем в проядке убывания и выведем значения на экран. По полученным значениям построим диаграмму."
   ]
  },
  {
   "cell_type": "code",
   "execution_count": 11,
   "id": "e04ade2d",
   "metadata": {},
   "outputs": [
    {
     "data": {
      "text/html": [
       "<div>\n",
       "<style scoped>\n",
       "    .dataframe tbody tr th:only-of-type {\n",
       "        vertical-align: middle;\n",
       "    }\n",
       "\n",
       "    .dataframe tbody tr th {\n",
       "        vertical-align: top;\n",
       "    }\n",
       "\n",
       "    .dataframe thead th {\n",
       "        text-align: right;\n",
       "    }\n",
       "</style>\n",
       "<table border=\"1\" class=\"dataframe\">\n",
       "  <thead>\n",
       "    <tr style=\"text-align: right;\">\n",
       "      <th></th>\n",
       "      <th>Количество пользователей</th>\n",
       "    </tr>\n",
       "    <tr>\n",
       "      <th>Город</th>\n",
       "      <th></th>\n",
       "    </tr>\n",
       "  </thead>\n",
       "  <tbody>\n",
       "    <tr>\n",
       "      <th>Пятигорск</th>\n",
       "      <td>219</td>\n",
       "    </tr>\n",
       "    <tr>\n",
       "      <th>Екатеринбург</th>\n",
       "      <td>204</td>\n",
       "    </tr>\n",
       "    <tr>\n",
       "      <th>Ростов-на-Дону</th>\n",
       "      <td>198</td>\n",
       "    </tr>\n",
       "    <tr>\n",
       "      <th>Краснодар</th>\n",
       "      <td>193</td>\n",
       "    </tr>\n",
       "    <tr>\n",
       "      <th>Сочи</th>\n",
       "      <td>189</td>\n",
       "    </tr>\n",
       "    <tr>\n",
       "      <th>Омск</th>\n",
       "      <td>183</td>\n",
       "    </tr>\n",
       "    <tr>\n",
       "      <th>Тюмень</th>\n",
       "      <td>180</td>\n",
       "    </tr>\n",
       "    <tr>\n",
       "      <th>Москва</th>\n",
       "      <td>168</td>\n",
       "    </tr>\n",
       "  </tbody>\n",
       "</table>\n",
       "</div>"
      ],
      "text/plain": [
       "                Количество пользователей\n",
       "Город                                   \n",
       "Пятигорск                            219\n",
       "Екатеринбург                         204\n",
       "Ростов-на-Дону                       198\n",
       "Краснодар                            193\n",
       "Сочи                                 189\n",
       "Омск                                 183\n",
       "Тюмень                               180\n",
       "Москва                               168"
      ]
     },
     "metadata": {},
     "output_type": "display_data"
    },
    {
     "data": {
      "text/html": [
       "<div>\n",
       "<style scoped>\n",
       "    .dataframe tbody tr th:only-of-type {\n",
       "        vertical-align: middle;\n",
       "    }\n",
       "\n",
       "    .dataframe tbody tr th {\n",
       "        vertical-align: top;\n",
       "    }\n",
       "\n",
       "    .dataframe thead th {\n",
       "        text-align: right;\n",
       "    }\n",
       "</style>\n",
       "<table border=\"1\" class=\"dataframe\">\n",
       "  <thead>\n",
       "    <tr style=\"text-align: right;\">\n",
       "      <th></th>\n",
       "      <th>Количество пользователей</th>\n",
       "    </tr>\n",
       "  </thead>\n",
       "  <tbody>\n",
       "    <tr>\n",
       "      <th>count</th>\n",
       "      <td>8.000000</td>\n",
       "    </tr>\n",
       "    <tr>\n",
       "      <th>mean</th>\n",
       "      <td>191.750000</td>\n",
       "    </tr>\n",
       "    <tr>\n",
       "      <th>std</th>\n",
       "      <td>15.672998</td>\n",
       "    </tr>\n",
       "    <tr>\n",
       "      <th>min</th>\n",
       "      <td>168.000000</td>\n",
       "    </tr>\n",
       "    <tr>\n",
       "      <th>25%</th>\n",
       "      <td>182.250000</td>\n",
       "    </tr>\n",
       "    <tr>\n",
       "      <th>50%</th>\n",
       "      <td>191.000000</td>\n",
       "    </tr>\n",
       "    <tr>\n",
       "      <th>75%</th>\n",
       "      <td>199.500000</td>\n",
       "    </tr>\n",
       "    <tr>\n",
       "      <th>max</th>\n",
       "      <td>219.000000</td>\n",
       "    </tr>\n",
       "  </tbody>\n",
       "</table>\n",
       "</div>"
      ],
      "text/plain": [
       "       Количество пользователей\n",
       "count                  8.000000\n",
       "mean                 191.750000\n",
       "std                   15.672998\n",
       "min                  168.000000\n",
       "25%                  182.250000\n",
       "50%                  191.000000\n",
       "75%                  199.500000\n",
       "max                  219.000000"
      ]
     },
     "metadata": {},
     "output_type": "display_data"
    }
   ],
   "source": [
    "pivot_frequency = users.pivot_table(index = 'city', values = 'user_id', aggfunc = 'count').sort_values(by = 'user_id', ascending = False)\n",
    "pivot_frequency.columns = ['Количество пользователей']\n",
    "pivot_frequency.rename_axis('Город', inplace=True)\n",
    "display(pivot_frequency)\n",
    "display(pivot_frequency.describe())"
   ]
  },
  {
   "cell_type": "code",
   "execution_count": 12,
   "id": "af1124c4",
   "metadata": {},
   "outputs": [
    {
     "data": {
      "image/png": "[encoded data removed]",
      "text/plain": [
       "<Figure size 864x432 with 1 Axes>"
      ]
     },
     "metadata": {
      "needs_background": "light"
     },
     "output_type": "display_data"
    }
   ],
   "source": [
    "plt.figure(figsize=(12, 6))\n",
    "sns.set_theme(style=\"darkgrid\")\n",
    "ax = sns.barplot(y=pivot_frequency.index, x=pivot_frequency['Количество пользователей'], palette='viridis')\n",
    "ax.set_title('Количество пользователей в зависимости от города')\n",
    "plt.show()"
   ]
  },
  {
   "cell_type": "markdown",
   "id": "d1129720",
   "metadata": {},
   "source": [
    "На основании построенной таблицы и диаграммы можем сделать выбор о том, что чаще всего пользователи арендуют самокаты в Пятигорске (частота 219) и Екатеринбурге (частота 204). Наименьшее количество наблюдается в Москве (частота 168). "
   ]
  },
  {
   "cell_type": "markdown",
   "id": "01d731ff",
   "metadata": {},
   "source": [
    "<div class=\"alert alert-warning\">\n",
    "<b>⚠️ Комментарий ревьюера v1:</b> \n",
    "<br>Не забывай добавлять заголовок для каждого графика\n",
    "</div>"
   ]
  },
  {
   "cell_type": "markdown",
   "id": "3ade668e",
   "metadata": {},
   "source": [
    "**Соотношение пользователей с подпиской и без подписки**"
   ]
  },
  {
   "cell_type": "markdown",
   "id": "f8fa960e",
   "metadata": {},
   "source": [
    "Построим сводную таблицу, отображающую соотношение пользователей с подпиской и без подписки в датасете, и выведем значения на экран. По полученным значениям построим диаграмму."
   ]
  },
  {
   "cell_type": "code",
   "execution_count": 13,
   "id": "1ddd3f56",
   "metadata": {},
   "outputs": [
    {
     "data": {
      "text/html": [
       "<div>\n",
       "<style scoped>\n",
       "    .dataframe tbody tr th:only-of-type {\n",
       "        vertical-align: middle;\n",
       "    }\n",
       "\n",
       "    .dataframe tbody tr th {\n",
       "        vertical-align: top;\n",
       "    }\n",
       "\n",
       "    .dataframe thead th {\n",
       "        text-align: right;\n",
       "    }\n",
       "</style>\n",
       "<table border=\"1\" class=\"dataframe\">\n",
       "  <thead>\n",
       "    <tr style=\"text-align: right;\">\n",
       "      <th></th>\n",
       "      <th>Количество пользователей</th>\n",
       "    </tr>\n",
       "    <tr>\n",
       "      <th>Тип подписки</th>\n",
       "      <th></th>\n",
       "    </tr>\n",
       "  </thead>\n",
       "  <tbody>\n",
       "    <tr>\n",
       "      <th>free</th>\n",
       "      <td>835</td>\n",
       "    </tr>\n",
       "    <tr>\n",
       "      <th>ultra</th>\n",
       "      <td>699</td>\n",
       "    </tr>\n",
       "  </tbody>\n",
       "</table>\n",
       "</div>"
      ],
      "text/plain": [
       "              Количество пользователей\n",
       "Тип подписки                          \n",
       "free                               835\n",
       "ultra                              699"
      ]
     },
     "metadata": {},
     "output_type": "display_data"
    },
    {
     "name": "stdout",
     "output_type": "stream",
     "text": [
      "Разница в количестве пользователей: 136\n"
     ]
    }
   ],
   "source": [
    "pivot_sub = users.pivot_table(index='subscription_type', values='user_id', aggfunc='count')\n",
    "#pivot_sub = users.pivot_table(index='subscription_type', values='user_id', aggfunc={'user_id': [(lambda x: len(x) / len(users) * 100),'count']})\n",
    "pivot_sub.columns = ['Количество пользователей']\n",
    "pivot_sub.rename_axis('Тип подписки', inplace=True)\n",
    "display(pivot_sub)\n",
    "print('Разница в количестве пользователей:', pivot_sub['Количество пользователей'].max() - pivot_sub['Количество пользователей'].min())\n"
   ]
  },
  {
   "cell_type": "code",
   "execution_count": 14,
   "id": "efe6b685",
   "metadata": {},
   "outputs": [
    {
     "data": {
      "image/png": "[encoded data removed]",
      "text/plain": [
       "<Figure size 576x432 with 1 Axes>"
      ]
     },
     "metadata": {},
     "output_type": "display_data"
    }
   ],
   "source": [
    "plt.figure(figsize=(8, 6))\n",
    "ax = sns.barplot(y=pivot_sub['Количество пользователей'], x=pivot_sub.index, ci=None, palette='viridis')\n",
    "ax.set_title('Соотношение количества пользователей в зависимости от их типа подписки')\n",
    "plt.show()"
   ]
  },
  {
   "cell_type": "code",
   "execution_count": 15,
   "id": "1734d97a",
   "metadata": {},
   "outputs": [
    {
     "data": {
      "image/png": "[encoded data removed]",
      "text/plain": [
       "<Figure size 576x432 with 1 Axes>"
      ]
     },
     "metadata": {},
     "output_type": "display_data"
    }
   ],
   "source": [
    "fig, ax = plt.subplots(figsize=(8, 6))\n",
    "pivot_sub['Количество пользователей'].plot(kind='pie', labels=pivot_sub.index, autopct='%1.1f%%', colors=sns.color_palette('viridis'))\n",
    "ax.set_title('Количество пользователей в зависимости от города')\n",
    "ax.legend(['free', 'ultra'])\n",
    "ax.set_title('Количество пользователей c типами подписки free и ultra по отношении ко общему числу пользователей')\n",
    "plt.show()"
   ]
  },
  {
   "cell_type": "markdown",
   "id": "7197d8a6",
   "metadata": {},
   "source": [
    "На основании построенной таблицы и диаграммы можем сделать выбор о том, что количество пользователей без подписки (835 чел.) превышает количество пользователей с подпиской ultra (699 чел.) Разница составляет 136 человек. Можно видеть, что количество пользователей с типом подписки free составляет 54.4%  от общего количества пользователей, пользователи с ultra составляют  45.6%."
   ]
  },
  {
   "cell_type": "markdown",
   "id": "4512488a",
   "metadata": {},
   "source": [
    "<div class=\"alert alert-danger\">\n",
    "<b>❌ Комментарий ревьюера v1:</b> \n",
    "<br>Для того чтобы посмотреть соотношение пользователей нужно отобразить долю каждой группы. Для этого хорошо пойдет круговая диаграмма\n",
    "</div>"
   ]
  },
  {
   "cell_type": "markdown",
   "id": "58af5c86",
   "metadata": {},
   "source": [
    "<div class=\"alert alert-info\">\n",
    "<b>Комментарий студента:</b>\n",
    "<br> Построил круговую диаграмму, добавил названия графиков. Выводы дополнил\n",
    "</div>"
   ]
  },
  {
   "cell_type": "markdown",
   "id": "36e153be",
   "metadata": {},
   "source": [
    "<div class=\"alert alert-success\">\n",
    "<b>✔️ Комментарий ревьюера v2:</b>\n",
    "<br>Правка выполнена 👍\n",
    "</div>"
   ]
  },
  {
   "cell_type": "markdown",
   "id": "d313d07e",
   "metadata": {},
   "source": [
    "**Возраст пользователей**"
   ]
  },
  {
   "cell_type": "markdown",
   "id": "14729225",
   "metadata": {},
   "source": [
    "Построим сводную таблицу, отображающую возраст пользователей в датасете, и выведем значения на экран. По полученным значениям построим диаграмму."
   ]
  },
  {
   "cell_type": "code",
   "execution_count": 16,
   "id": "2b763249",
   "metadata": {
    "scrolled": false
   },
   "outputs": [
    {
     "data": {
      "text/html": [
       "<div>\n",
       "<style scoped>\n",
       "    .dataframe tbody tr th:only-of-type {\n",
       "        vertical-align: middle;\n",
       "    }\n",
       "\n",
       "    .dataframe tbody tr th {\n",
       "        vertical-align: top;\n",
       "    }\n",
       "\n",
       "    .dataframe thead th {\n",
       "        text-align: right;\n",
       "    }\n",
       "</style>\n",
       "<table border=\"1\" class=\"dataframe\">\n",
       "  <thead>\n",
       "    <tr style=\"text-align: right;\">\n",
       "      <th></th>\n",
       "      <th>Количество пользователей</th>\n",
       "    </tr>\n",
       "    <tr>\n",
       "      <th>Возраст пользователей</th>\n",
       "      <th></th>\n",
       "    </tr>\n",
       "  </thead>\n",
       "  <tbody>\n",
       "    <tr>\n",
       "      <th>25</th>\n",
       "      <td>145</td>\n",
       "    </tr>\n",
       "    <tr>\n",
       "      <th>24</th>\n",
       "      <td>132</td>\n",
       "    </tr>\n",
       "    <tr>\n",
       "      <th>26</th>\n",
       "      <td>131</td>\n",
       "    </tr>\n",
       "    <tr>\n",
       "      <th>23</th>\n",
       "      <td>129</td>\n",
       "    </tr>\n",
       "    <tr>\n",
       "      <th>27</th>\n",
       "      <td>119</td>\n",
       "    </tr>\n",
       "    <tr>\n",
       "      <th>22</th>\n",
       "      <td>119</td>\n",
       "    </tr>\n",
       "    <tr>\n",
       "      <th>28</th>\n",
       "      <td>112</td>\n",
       "    </tr>\n",
       "    <tr>\n",
       "      <th>21</th>\n",
       "      <td>93</td>\n",
       "    </tr>\n",
       "    <tr>\n",
       "      <th>20</th>\n",
       "      <td>71</td>\n",
       "    </tr>\n",
       "    <tr>\n",
       "      <th>30</th>\n",
       "      <td>68</td>\n",
       "    </tr>\n",
       "    <tr>\n",
       "      <th>29</th>\n",
       "      <td>68</td>\n",
       "    </tr>\n",
       "    <tr>\n",
       "      <th>31</th>\n",
       "      <td>48</td>\n",
       "    </tr>\n",
       "    <tr>\n",
       "      <th>19</th>\n",
       "      <td>47</td>\n",
       "    </tr>\n",
       "    <tr>\n",
       "      <th>18</th>\n",
       "      <td>46</td>\n",
       "    </tr>\n",
       "    <tr>\n",
       "      <th>32</th>\n",
       "      <td>41</td>\n",
       "    </tr>\n",
       "    <tr>\n",
       "      <th>33</th>\n",
       "      <td>39</td>\n",
       "    </tr>\n",
       "    <tr>\n",
       "      <th>17</th>\n",
       "      <td>26</td>\n",
       "    </tr>\n",
       "    <tr>\n",
       "      <th>34</th>\n",
       "      <td>19</td>\n",
       "    </tr>\n",
       "    <tr>\n",
       "      <th>16</th>\n",
       "      <td>19</td>\n",
       "    </tr>\n",
       "    <tr>\n",
       "      <th>35</th>\n",
       "      <td>15</td>\n",
       "    </tr>\n",
       "    <tr>\n",
       "      <th>15</th>\n",
       "      <td>13</td>\n",
       "    </tr>\n",
       "    <tr>\n",
       "      <th>14</th>\n",
       "      <td>9</td>\n",
       "    </tr>\n",
       "    <tr>\n",
       "      <th>13</th>\n",
       "      <td>8</td>\n",
       "    </tr>\n",
       "    <tr>\n",
       "      <th>36</th>\n",
       "      <td>6</td>\n",
       "    </tr>\n",
       "    <tr>\n",
       "      <th>12</th>\n",
       "      <td>4</td>\n",
       "    </tr>\n",
       "    <tr>\n",
       "      <th>38</th>\n",
       "      <td>3</td>\n",
       "    </tr>\n",
       "    <tr>\n",
       "      <th>37</th>\n",
       "      <td>2</td>\n",
       "    </tr>\n",
       "    <tr>\n",
       "      <th>39</th>\n",
       "      <td>1</td>\n",
       "    </tr>\n",
       "    <tr>\n",
       "      <th>43</th>\n",
       "      <td>1</td>\n",
       "    </tr>\n",
       "  </tbody>\n",
       "</table>\n",
       "</div>"
      ],
      "text/plain": [
       "                       Количество пользователей\n",
       "Возраст пользователей                          \n",
       "25                                          145\n",
       "24                                          132\n",
       "26                                          131\n",
       "23                                          129\n",
       "27                                          119\n",
       "22                                          119\n",
       "28                                          112\n",
       "21                                           93\n",
       "20                                           71\n",
       "30                                           68\n",
       "29                                           68\n",
       "31                                           48\n",
       "19                                           47\n",
       "18                                           46\n",
       "32                                           41\n",
       "33                                           39\n",
       "17                                           26\n",
       "34                                           19\n",
       "16                                           19\n",
       "35                                           15\n",
       "15                                           13\n",
       "14                                            9\n",
       "13                                            8\n",
       "36                                            6\n",
       "12                                            4\n",
       "38                                            3\n",
       "37                                            2\n",
       "39                                            1\n",
       "43                                            1"
      ]
     },
     "metadata": {},
     "output_type": "display_data"
    },
    {
     "data": {
      "text/plain": [
       "count    1534.000000\n",
       "mean       24.903520\n",
       "std         4.572367\n",
       "min        12.000000\n",
       "25%        22.000000\n",
       "50%        25.000000\n",
       "75%        28.000000\n",
       "max        43.000000\n",
       "Name: age, dtype: float64"
      ]
     },
     "metadata": {},
     "output_type": "display_data"
    }
   ],
   "source": [
    "pivot_age = users.pivot_table(index='age', values='user_id', aggfunc='count').sort_values(by = 'user_id', ascending = False)\n",
    "pivot_frequency.columns = ['Количество пользователей']\n",
    "pivot_age.columns = ['Количество пользователей']\n",
    "pivot_age.rename_axis('Возраст пользователей', inplace=True)\n",
    "display(pivot_age)\n",
    "display(users['age'].describe())"
   ]
  },
  {
   "cell_type": "code",
   "execution_count": 17,
   "id": "9116a750",
   "metadata": {
    "scrolled": false
   },
   "outputs": [
    {
     "data": {
      "image/png": "[encoded data removed]",
      "text/plain": [
       "<Figure size 864x432 with 1 Axes>"
      ]
     },
     "metadata": {},
     "output_type": "display_data"
    }
   ],
   "source": [
    "plt.figure(figsize=(12, 6))\n",
    "ax = sns.barplot(y=pivot_age['Количество пользователей'], x=pivot_age.index, palette='viridis')\n",
    "ax.set_title('Количество пользователей в зависимости от возраста')\n",
    "plt.show()"
   ]
  },
  {
   "cell_type": "markdown",
   "id": "d874c00a",
   "metadata": {},
   "source": [
    "На основании построенной таблицы и диаграммы можем сделать выбор о том, что распределение возраста пользоваелей соответствует нормальному распределению. Разброс данных не значителен (std= 4.57). Наибольшей популярностью сервис аренды самокатов пользуется у пользователей с возрастом 25 лет (Q2)."
   ]
  },
  {
   "cell_type": "markdown",
   "id": "9fd5501f",
   "metadata": {},
   "source": [
    "<div class=\"alert alert-success\">\n",
    "<b>✔️ Комментарий ревьюера v1:</b>\n",
    "<br>Молодец, что кроме графика ещё используешь метод describe()\n",
    "</div>"
   ]
  },
  {
   "cell_type": "markdown",
   "id": "ccc95a90",
   "metadata": {},
   "source": [
    "**Расстояние, которое пользователь преодолел за одну поездку**"
   ]
  },
  {
   "cell_type": "markdown",
   "id": "df8678cb",
   "metadata": {},
   "source": [
    "В данном случае для анализа расстояния, которое пользователь преодолел за одну поездку необходимо постороить гистограмму. Рассмотрим количество поездок в зависимости от расстояния поездки"
   ]
  },
  {
   "cell_type": "code",
   "execution_count": 18,
   "id": "04ea849d",
   "metadata": {},
   "outputs": [
    {
     "data": {
      "image/png": "[encoded data removed]",
      "text/plain": [
       "<Figure size 720x432 with 1 Axes>"
      ]
     },
     "metadata": {},
     "output_type": "display_data"
    },
    {
     "data": {
      "text/plain": [
       "count    18068.000000\n",
       "mean      3070.659992\n",
       "std       1116.831222\n",
       "min          0.860000\n",
       "25%       2543.227500\n",
       "50%       3133.610000\n",
       "75%       3776.220000\n",
       "max       7211.010000\n",
       "Name: distance, dtype: float64"
      ]
     },
     "metadata": {},
     "output_type": "display_data"
    }
   ],
   "source": [
    "plt.figure(figsize=(10, 6))\n",
    "rides.distance.plot(kind='hist', bins=80)\n",
    "plt.title('Количество поездок в зависимости от расстояния, которое пользователь преодолел за одну поездку')\n",
    "plt.xlabel('Расстояние (м)')\n",
    "plt.ylabel('Количество поездок')\n",
    "plt.show()\n",
    "display(rides['distance'].describe())"
   ]
  },
  {
   "cell_type": "markdown",
   "id": "4ff23f22",
   "metadata": {},
   "source": [
    "Рассмотрим каждый пик отдельно"
   ]
  },
  {
   "cell_type": "code",
   "execution_count": 19,
   "id": "487c8bfd",
   "metadata": {},
   "outputs": [
    {
     "data": {
      "image/png": "[encoded data removed]",
      "text/plain": [
       "<Figure size 720x432 with 1 Axes>"
      ]
     },
     "metadata": {},
     "output_type": "display_data"
    }
   ],
   "source": [
    "plt.figure(figsize=(10, 6))\n",
    "rides.distance.plot(kind='hist', bins=80, range=(0,1500))\n",
    "plt.title('Количество поездок в зависимости от расстояния, которое пользователь преодолел за одну поездку')\n",
    "plt.xlabel('Расстояние (м)')\n",
    "plt.ylabel('Количество поездок')\n",
    "plt.show()"
   ]
  },
  {
   "cell_type": "code",
   "execution_count": 20,
   "id": "868c9566",
   "metadata": {},
   "outputs": [
    {
     "data": {
      "image/png": "[encoded data removed]",
      "text/plain": [
       "<Figure size 720x432 with 1 Axes>"
      ]
     },
     "metadata": {},
     "output_type": "display_data"
    }
   ],
   "source": [
    "plt.figure(figsize=(10, 6))\n",
    "rides.distance.plot(kind='hist', bins=80, range=(1500,7211))\n",
    "plt.title('Количество поездок в зависимости от расстояния, которое пользователь преодолел за одну поездку')\n",
    "plt.xlabel('Расстояние (м)')\n",
    "plt.ylabel('Количество поездок')\n",
    "plt.show()"
   ]
  },
  {
   "cell_type": "markdown",
   "id": "9df59de4",
   "metadata": {},
   "source": [
    "На основании полученных и гистограммы можем сделать выбор о том, за одну поездку пользователи преодолевают от 1 до 7211 метров. Медиана всех значений равна 3134 метров. Гистограмма имеет два пика. Первый примерно соотвествует Q2 (3133м), второй находится на уровне 700 метров. Разброс данных значителен (std= 1116.83). "
   ]
  },
  {
   "cell_type": "markdown",
   "id": "f8150aa1",
   "metadata": {},
   "source": [
    "**Продолжительность поездок**"
   ]
  },
  {
   "cell_type": "markdown",
   "id": "ddd4f2ad",
   "metadata": {},
   "source": [
    "В данном случае для анализа продолжительности поездок необходимо постороить гистограмму. Рассмотрим количество поездок в зависимости от их продолжительности."
   ]
  },
  {
   "cell_type": "code",
   "execution_count": 21,
   "id": "128de28f",
   "metadata": {},
   "outputs": [
    {
     "data": {
      "image/png": "[encoded data removed]",
      "text/plain": [
       "<Figure size 720x432 with 1 Axes>"
      ]
     },
     "metadata": {},
     "output_type": "display_data"
    },
    {
     "data": {
      "text/plain": [
       "count    18068.000000\n",
       "mean        18.303520\n",
       "std          6.094928\n",
       "min          1.000000\n",
       "25%         14.000000\n",
       "50%         18.000000\n",
       "75%         22.000000\n",
       "max         41.000000\n",
       "Name: duration, dtype: float64"
      ]
     },
     "metadata": {},
     "output_type": "display_data"
    }
   ],
   "source": [
    "plt.figure(figsize=(10, 6))\n",
    "rides.duration.plot(kind='hist', bins=40)\n",
    "plt.title('Количество поездок в зависимости от их продолжительности')\n",
    "plt.xlabel('Продолжительность поездок (мин)')\n",
    "plt.ylabel('Количество поездок')\n",
    "plt.show()\n",
    "display(rides['duration'].describe())"
   ]
  },
  {
   "cell_type": "markdown",
   "id": "0631a1cc",
   "metadata": {},
   "source": [
    "На основании полученных статистических данных и гистограммы можем сделать выбор о том, что распределение продолжительности поездок, в целом, соответствует нормальному распределению. Разброс данных (std= 6.01). Первый пик диаграммы примерно соотвествует Q2 (18 мин). Основная часть поездок пользователей занимет 15-20 мин. Можно заметить, что существуют около ста поездок с аномально низкими значеними продолжительности (1 мин). Но такая ситуация вполне реальна, к тому же эти значения не составляют значительного процента от общей выборки, поэтому оставим без изменений."
   ]
  },
  {
   "cell_type": "markdown",
   "id": "a9c90636",
   "metadata": {},
   "source": [
    "<div class=\"alert alert-success\">\n",
    "<b>✔️ Комментарий ревьюера v1:</b>\n",
    "<br>Графики и выводы корректные\n",
    "</div>"
   ]
  },
  {
   "cell_type": "markdown",
   "id": "4ef51331",
   "metadata": {},
   "source": [
    "#### Шаг 4. Объединение данных"
   ]
  },
  {
   "cell_type": "markdown",
   "id": "f22abb72",
   "metadata": {},
   "source": [
    "При помощи метода merge() объединим датафреймы о пользователях, поездках и подписках в один датафрейм внутренним соединением (inner). Выведем информацию о нем."
   ]
  },
  {
   "cell_type": "code",
   "execution_count": 22,
   "id": "6bf288b5",
   "metadata": {
    "scrolled": false
   },
   "outputs": [
    {
     "data": {
      "text/html": [
       "<div>\n",
       "<style scoped>\n",
       "    .dataframe tbody tr th:only-of-type {\n",
       "        vertical-align: middle;\n",
       "    }\n",
       "\n",
       "    .dataframe tbody tr th {\n",
       "        vertical-align: top;\n",
       "    }\n",
       "\n",
       "    .dataframe thead th {\n",
       "        text-align: right;\n",
       "    }\n",
       "</style>\n",
       "<table border=\"1\" class=\"dataframe\">\n",
       "  <thead>\n",
       "    <tr style=\"text-align: right;\">\n",
       "      <th></th>\n",
       "      <th>user_id</th>\n",
       "      <th>name</th>\n",
       "      <th>age</th>\n",
       "      <th>city</th>\n",
       "      <th>subscription_type</th>\n",
       "      <th>minute_price</th>\n",
       "      <th>start_ride_price</th>\n",
       "      <th>subscription_fee</th>\n",
       "      <th>distance</th>\n",
       "      <th>duration</th>\n",
       "      <th>date</th>\n",
       "      <th>month_number</th>\n",
       "    </tr>\n",
       "  </thead>\n",
       "  <tbody>\n",
       "    <tr>\n",
       "      <th>0</th>\n",
       "      <td>1</td>\n",
       "      <td>Кира</td>\n",
       "      <td>22</td>\n",
       "      <td>Тюмень</td>\n",
       "      <td>ultra</td>\n",
       "      <td>6</td>\n",
       "      <td>0</td>\n",
       "      <td>199</td>\n",
       "      <td>4409.92</td>\n",
       "      <td>26.0</td>\n",
       "      <td>2021-01-01</td>\n",
       "      <td>1</td>\n",
       "    </tr>\n",
       "    <tr>\n",
       "      <th>1</th>\n",
       "      <td>1</td>\n",
       "      <td>Кира</td>\n",
       "      <td>22</td>\n",
       "      <td>Тюмень</td>\n",
       "      <td>ultra</td>\n",
       "      <td>6</td>\n",
       "      <td>0</td>\n",
       "      <td>199</td>\n",
       "      <td>2617.59</td>\n",
       "      <td>16.0</td>\n",
       "      <td>2021-01-18</td>\n",
       "      <td>1</td>\n",
       "    </tr>\n",
       "    <tr>\n",
       "      <th>2</th>\n",
       "      <td>1</td>\n",
       "      <td>Кира</td>\n",
       "      <td>22</td>\n",
       "      <td>Тюмень</td>\n",
       "      <td>ultra</td>\n",
       "      <td>6</td>\n",
       "      <td>0</td>\n",
       "      <td>199</td>\n",
       "      <td>754.16</td>\n",
       "      <td>7.0</td>\n",
       "      <td>2021-04-20</td>\n",
       "      <td>4</td>\n",
       "    </tr>\n",
       "    <tr>\n",
       "      <th>3</th>\n",
       "      <td>1</td>\n",
       "      <td>Кира</td>\n",
       "      <td>22</td>\n",
       "      <td>Тюмень</td>\n",
       "      <td>ultra</td>\n",
       "      <td>6</td>\n",
       "      <td>0</td>\n",
       "      <td>199</td>\n",
       "      <td>2694.78</td>\n",
       "      <td>19.0</td>\n",
       "      <td>2021-08-11</td>\n",
       "      <td>8</td>\n",
       "    </tr>\n",
       "    <tr>\n",
       "      <th>4</th>\n",
       "      <td>1</td>\n",
       "      <td>Кира</td>\n",
       "      <td>22</td>\n",
       "      <td>Тюмень</td>\n",
       "      <td>ultra</td>\n",
       "      <td>6</td>\n",
       "      <td>0</td>\n",
       "      <td>199</td>\n",
       "      <td>4028.69</td>\n",
       "      <td>27.0</td>\n",
       "      <td>2021-08-28</td>\n",
       "      <td>8</td>\n",
       "    </tr>\n",
       "  </tbody>\n",
       "</table>\n",
       "</div>"
      ],
      "text/plain": [
       "   user_id  name  age    city subscription_type  minute_price  \\\n",
       "0        1  Кира   22  Тюмень             ultra             6   \n",
       "1        1  Кира   22  Тюмень             ultra             6   \n",
       "2        1  Кира   22  Тюмень             ultra             6   \n",
       "3        1  Кира   22  Тюмень             ultra             6   \n",
       "4        1  Кира   22  Тюмень             ultra             6   \n",
       "\n",
       "   start_ride_price  subscription_fee  distance  duration       date  \\\n",
       "0                 0               199   4409.92      26.0 2021-01-01   \n",
       "1                 0               199   2617.59      16.0 2021-01-18   \n",
       "2                 0               199    754.16       7.0 2021-04-20   \n",
       "3                 0               199   2694.78      19.0 2021-08-11   \n",
       "4                 0               199   4028.69      27.0 2021-08-28   \n",
       "\n",
       "   month_number  \n",
       "0             1  \n",
       "1             1  \n",
       "2             4  \n",
       "3             8  \n",
       "4             8  "
      ]
     },
     "metadata": {},
     "output_type": "display_data"
    },
    {
     "name": "stdout",
     "output_type": "stream",
     "text": [
      "<class 'pandas.core.frame.DataFrame'>\n",
      "Int64Index: 18068 entries, 0 to 18067\n",
      "Data columns (total 12 columns):\n",
      " #   Column             Non-Null Count  Dtype         \n",
      "---  ------             --------------  -----         \n",
      " 0   user_id            18068 non-null  int64         \n",
      " 1   name               18068 non-null  object        \n",
      " 2   age                18068 non-null  int64         \n",
      " 3   city               18068 non-null  object        \n",
      " 4   subscription_type  18068 non-null  object        \n",
      " 5   minute_price       18068 non-null  int64         \n",
      " 6   start_ride_price   18068 non-null  int64         \n",
      " 7   subscription_fee   18068 non-null  int64         \n",
      " 8   distance           18068 non-null  float64       \n",
      " 9   duration           18068 non-null  float64       \n",
      " 10  date               18068 non-null  datetime64[ns]\n",
      " 11  month_number       18068 non-null  int64         \n",
      "dtypes: datetime64[ns](1), float64(2), int64(6), object(3)\n",
      "memory usage: 1.8+ MB\n"
     ]
    }
   ],
   "source": [
    "result_table = users.merge(subscriptions, on='subscription_type', how='inner').merge(rides, on='user_id', how='inner')\n",
    "display(result_table.head(5)) \n",
    "result_table.info() "
   ]
  },
  {
   "cell_type": "markdown",
   "id": "32b6169f",
   "metadata": {},
   "source": [
    "Объединение прошло успешо, пропуски в таблице отсутствуют."
   ]
  },
  {
   "cell_type": "markdown",
   "id": "baff82b7",
   "metadata": {},
   "source": [
    "**На основе датафрейма result_table создадим датафрейм c данными о пользователях без подписки (free).\n",
    "Выведем информацию о нем.**"
   ]
  },
  {
   "cell_type": "code",
   "execution_count": 23,
   "id": "957f7f1a",
   "metadata": {},
   "outputs": [
    {
     "data": {
      "text/html": [
       "<div>\n",
       "<style scoped>\n",
       "    .dataframe tbody tr th:only-of-type {\n",
       "        vertical-align: middle;\n",
       "    }\n",
       "\n",
       "    .dataframe tbody tr th {\n",
       "        vertical-align: top;\n",
       "    }\n",
       "\n",
       "    .dataframe thead th {\n",
       "        text-align: right;\n",
       "    }\n",
       "</style>\n",
       "<table border=\"1\" class=\"dataframe\">\n",
       "  <thead>\n",
       "    <tr style=\"text-align: right;\">\n",
       "      <th></th>\n",
       "      <th>user_id</th>\n",
       "      <th>name</th>\n",
       "      <th>age</th>\n",
       "      <th>city</th>\n",
       "      <th>subscription_type</th>\n",
       "      <th>minute_price</th>\n",
       "      <th>start_ride_price</th>\n",
       "      <th>subscription_fee</th>\n",
       "      <th>distance</th>\n",
       "      <th>duration</th>\n",
       "      <th>date</th>\n",
       "      <th>month_number</th>\n",
       "    </tr>\n",
       "  </thead>\n",
       "  <tbody>\n",
       "    <tr>\n",
       "      <th>6500</th>\n",
       "      <td>700</td>\n",
       "      <td>Айдар</td>\n",
       "      <td>22</td>\n",
       "      <td>Омск</td>\n",
       "      <td>free</td>\n",
       "      <td>8</td>\n",
       "      <td>50</td>\n",
       "      <td>0</td>\n",
       "      <td>2515.69</td>\n",
       "      <td>15.0</td>\n",
       "      <td>2021-01-02</td>\n",
       "      <td>1</td>\n",
       "    </tr>\n",
       "    <tr>\n",
       "      <th>6501</th>\n",
       "      <td>700</td>\n",
       "      <td>Айдар</td>\n",
       "      <td>22</td>\n",
       "      <td>Омск</td>\n",
       "      <td>free</td>\n",
       "      <td>8</td>\n",
       "      <td>50</td>\n",
       "      <td>0</td>\n",
       "      <td>846.93</td>\n",
       "      <td>17.0</td>\n",
       "      <td>2021-02-01</td>\n",
       "      <td>2</td>\n",
       "    </tr>\n",
       "    <tr>\n",
       "      <th>6502</th>\n",
       "      <td>700</td>\n",
       "      <td>Айдар</td>\n",
       "      <td>22</td>\n",
       "      <td>Омск</td>\n",
       "      <td>free</td>\n",
       "      <td>8</td>\n",
       "      <td>50</td>\n",
       "      <td>0</td>\n",
       "      <td>4004.43</td>\n",
       "      <td>21.0</td>\n",
       "      <td>2021-02-04</td>\n",
       "      <td>2</td>\n",
       "    </tr>\n",
       "    <tr>\n",
       "      <th>6503</th>\n",
       "      <td>700</td>\n",
       "      <td>Айдар</td>\n",
       "      <td>22</td>\n",
       "      <td>Омск</td>\n",
       "      <td>free</td>\n",
       "      <td>8</td>\n",
       "      <td>50</td>\n",
       "      <td>0</td>\n",
       "      <td>1205.91</td>\n",
       "      <td>10.0</td>\n",
       "      <td>2021-02-10</td>\n",
       "      <td>2</td>\n",
       "    </tr>\n",
       "    <tr>\n",
       "      <th>6504</th>\n",
       "      <td>700</td>\n",
       "      <td>Айдар</td>\n",
       "      <td>22</td>\n",
       "      <td>Омск</td>\n",
       "      <td>free</td>\n",
       "      <td>8</td>\n",
       "      <td>50</td>\n",
       "      <td>0</td>\n",
       "      <td>3047.38</td>\n",
       "      <td>18.0</td>\n",
       "      <td>2021-02-14</td>\n",
       "      <td>2</td>\n",
       "    </tr>\n",
       "  </tbody>\n",
       "</table>\n",
       "</div>"
      ],
      "text/plain": [
       "      user_id   name  age  city subscription_type  minute_price  \\\n",
       "6500      700  Айдар   22  Омск              free             8   \n",
       "6501      700  Айдар   22  Омск              free             8   \n",
       "6502      700  Айдар   22  Омск              free             8   \n",
       "6503      700  Айдар   22  Омск              free             8   \n",
       "6504      700  Айдар   22  Омск              free             8   \n",
       "\n",
       "      start_ride_price  subscription_fee  distance  duration       date  \\\n",
       "6500                50                 0   2515.69      15.0 2021-01-02   \n",
       "6501                50                 0    846.93      17.0 2021-02-01   \n",
       "6502                50                 0   4004.43      21.0 2021-02-04   \n",
       "6503                50                 0   1205.91      10.0 2021-02-10   \n",
       "6504                50                 0   3047.38      18.0 2021-02-14   \n",
       "\n",
       "      month_number  \n",
       "6500             1  \n",
       "6501             2  \n",
       "6502             2  \n",
       "6503             2  \n",
       "6504             2  "
      ]
     },
     "metadata": {},
     "output_type": "display_data"
    },
    {
     "name": "stdout",
     "output_type": "stream",
     "text": [
      "<class 'pandas.core.frame.DataFrame'>\n",
      "Int64Index: 11568 entries, 6500 to 18067\n",
      "Data columns (total 12 columns):\n",
      " #   Column             Non-Null Count  Dtype         \n",
      "---  ------             --------------  -----         \n",
      " 0   user_id            11568 non-null  int64         \n",
      " 1   name               11568 non-null  object        \n",
      " 2   age                11568 non-null  int64         \n",
      " 3   city               11568 non-null  object        \n",
      " 4   subscription_type  11568 non-null  object        \n",
      " 5   minute_price       11568 non-null  int64         \n",
      " 6   start_ride_price   11568 non-null  int64         \n",
      " 7   subscription_fee   11568 non-null  int64         \n",
      " 8   distance           11568 non-null  float64       \n",
      " 9   duration           11568 non-null  float64       \n",
      " 10  date               11568 non-null  datetime64[ns]\n",
      " 11  month_number       11568 non-null  int64         \n",
      "dtypes: datetime64[ns](1), float64(2), int64(6), object(3)\n",
      "memory usage: 1.1+ MB\n"
     ]
    }
   ],
   "source": [
    "free_sub_table = result_table[result_table['subscription_type']=='free']\n",
    "display(free_sub_table.head(5)) \n",
    "free_sub_table.info() "
   ]
  },
  {
   "cell_type": "markdown",
   "id": "abf7b061",
   "metadata": {},
   "source": [
    "**На основе датафрейма result_table создадим датафрейм с данными о пользователях с подпиской. (ultra)\n",
    "Выведем информацию о нем.**"
   ]
  },
  {
   "cell_type": "code",
   "execution_count": 24,
   "id": "87c81447",
   "metadata": {},
   "outputs": [
    {
     "data": {
      "text/html": [
       "<div>\n",
       "<style scoped>\n",
       "    .dataframe tbody tr th:only-of-type {\n",
       "        vertical-align: middle;\n",
       "    }\n",
       "\n",
       "    .dataframe tbody tr th {\n",
       "        vertical-align: top;\n",
       "    }\n",
       "\n",
       "    .dataframe thead th {\n",
       "        text-align: right;\n",
       "    }\n",
       "</style>\n",
       "<table border=\"1\" class=\"dataframe\">\n",
       "  <thead>\n",
       "    <tr style=\"text-align: right;\">\n",
       "      <th></th>\n",
       "      <th>user_id</th>\n",
       "      <th>name</th>\n",
       "      <th>age</th>\n",
       "      <th>city</th>\n",
       "      <th>subscription_type</th>\n",
       "      <th>minute_price</th>\n",
       "      <th>start_ride_price</th>\n",
       "      <th>subscription_fee</th>\n",
       "      <th>distance</th>\n",
       "      <th>duration</th>\n",
       "      <th>date</th>\n",
       "      <th>month_number</th>\n",
       "    </tr>\n",
       "  </thead>\n",
       "  <tbody>\n",
       "    <tr>\n",
       "      <th>0</th>\n",
       "      <td>1</td>\n",
       "      <td>Кира</td>\n",
       "      <td>22</td>\n",
       "      <td>Тюмень</td>\n",
       "      <td>ultra</td>\n",
       "      <td>6</td>\n",
       "      <td>0</td>\n",
       "      <td>199</td>\n",
       "      <td>4409.92</td>\n",
       "      <td>26.0</td>\n",
       "      <td>2021-01-01</td>\n",
       "      <td>1</td>\n",
       "    </tr>\n",
       "    <tr>\n",
       "      <th>1</th>\n",
       "      <td>1</td>\n",
       "      <td>Кира</td>\n",
       "      <td>22</td>\n",
       "      <td>Тюмень</td>\n",
       "      <td>ultra</td>\n",
       "      <td>6</td>\n",
       "      <td>0</td>\n",
       "      <td>199</td>\n",
       "      <td>2617.59</td>\n",
       "      <td>16.0</td>\n",
       "      <td>2021-01-18</td>\n",
       "      <td>1</td>\n",
       "    </tr>\n",
       "    <tr>\n",
       "      <th>2</th>\n",
       "      <td>1</td>\n",
       "      <td>Кира</td>\n",
       "      <td>22</td>\n",
       "      <td>Тюмень</td>\n",
       "      <td>ultra</td>\n",
       "      <td>6</td>\n",
       "      <td>0</td>\n",
       "      <td>199</td>\n",
       "      <td>754.16</td>\n",
       "      <td>7.0</td>\n",
       "      <td>2021-04-20</td>\n",
       "      <td>4</td>\n",
       "    </tr>\n",
       "    <tr>\n",
       "      <th>3</th>\n",
       "      <td>1</td>\n",
       "      <td>Кира</td>\n",
       "      <td>22</td>\n",
       "      <td>Тюмень</td>\n",
       "      <td>ultra</td>\n",
       "      <td>6</td>\n",
       "      <td>0</td>\n",
       "      <td>199</td>\n",
       "      <td>2694.78</td>\n",
       "      <td>19.0</td>\n",
       "      <td>2021-08-11</td>\n",
       "      <td>8</td>\n",
       "    </tr>\n",
       "    <tr>\n",
       "      <th>4</th>\n",
       "      <td>1</td>\n",
       "      <td>Кира</td>\n",
       "      <td>22</td>\n",
       "      <td>Тюмень</td>\n",
       "      <td>ultra</td>\n",
       "      <td>6</td>\n",
       "      <td>0</td>\n",
       "      <td>199</td>\n",
       "      <td>4028.69</td>\n",
       "      <td>27.0</td>\n",
       "      <td>2021-08-28</td>\n",
       "      <td>8</td>\n",
       "    </tr>\n",
       "  </tbody>\n",
       "</table>\n",
       "</div>"
      ],
      "text/plain": [
       "   user_id  name  age    city subscription_type  minute_price  \\\n",
       "0        1  Кира   22  Тюмень             ultra             6   \n",
       "1        1  Кира   22  Тюмень             ultra             6   \n",
       "2        1  Кира   22  Тюмень             ultra             6   \n",
       "3        1  Кира   22  Тюмень             ultra             6   \n",
       "4        1  Кира   22  Тюмень             ultra             6   \n",
       "\n",
       "   start_ride_price  subscription_fee  distance  duration       date  \\\n",
       "0                 0               199   4409.92      26.0 2021-01-01   \n",
       "1                 0               199   2617.59      16.0 2021-01-18   \n",
       "2                 0               199    754.16       7.0 2021-04-20   \n",
       "3                 0               199   2694.78      19.0 2021-08-11   \n",
       "4                 0               199   4028.69      27.0 2021-08-28   \n",
       "\n",
       "   month_number  \n",
       "0             1  \n",
       "1             1  \n",
       "2             4  \n",
       "3             8  \n",
       "4             8  "
      ]
     },
     "metadata": {},
     "output_type": "display_data"
    },
    {
     "name": "stdout",
     "output_type": "stream",
     "text": [
      "<class 'pandas.core.frame.DataFrame'>\n",
      "Int64Index: 6500 entries, 0 to 6499\n",
      "Data columns (total 12 columns):\n",
      " #   Column             Non-Null Count  Dtype         \n",
      "---  ------             --------------  -----         \n",
      " 0   user_id            6500 non-null   int64         \n",
      " 1   name               6500 non-null   object        \n",
      " 2   age                6500 non-null   int64         \n",
      " 3   city               6500 non-null   object        \n",
      " 4   subscription_type  6500 non-null   object        \n",
      " 5   minute_price       6500 non-null   int64         \n",
      " 6   start_ride_price   6500 non-null   int64         \n",
      " 7   subscription_fee   6500 non-null   int64         \n",
      " 8   distance           6500 non-null   float64       \n",
      " 9   duration           6500 non-null   float64       \n",
      " 10  date               6500 non-null   datetime64[ns]\n",
      " 11  month_number       6500 non-null   int64         \n",
      "dtypes: datetime64[ns](1), float64(2), int64(6), object(3)\n",
      "memory usage: 660.2+ KB\n"
     ]
    }
   ],
   "source": [
    "ultra_sub_table = result_table[result_table['subscription_type']=='ultra']\n",
    "display(ultra_sub_table.head(5)) \n",
    "ultra_sub_table.info() "
   ]
  },
  {
   "cell_type": "markdown",
   "id": "50948dcb",
   "metadata": {},
   "source": [
    "<div class=\"alert alert-success\">\n",
    "<b>✔️ Комментарий ревьюера v1:</b>\n",
    "<br>Новые таблицы созданы верно\n",
    "</div>"
   ]
  },
  {
   "cell_type": "markdown",
   "id": "00b5591c",
   "metadata": {},
   "source": [
    "**Выведем статистическую информацию и построим гистограммы по расстоянию и времени поездок  пользователей обеих категорий для выявления зависимости между величинами.**"
   ]
  },
  {
   "cell_type": "code",
   "execution_count": 25,
   "id": "3e5b2e00",
   "metadata": {
    "scrolled": false
   },
   "outputs": [
    {
     "data": {
      "image/png": "[encoded data removed]",
      "text/plain": [
       "<Figure size 720x432 with 1 Axes>"
      ]
     },
     "metadata": {},
     "output_type": "display_data"
    },
    {
     "name": "stdout",
     "output_type": "stream",
     "text": [
      "Статистических данные о расстоянии поездок пользователей с подпиской free\n"
     ]
    },
    {
     "data": {
      "text/plain": [
       "count    11568.000000\n",
       "mean      3045.495284\n",
       "std       1246.173810\n",
       "min          0.860000\n",
       "25%       2366.560000\n",
       "50%       3114.650000\n",
       "75%       3905.695000\n",
       "max       7211.010000\n",
       "Name: distance, dtype: float64"
      ]
     },
     "metadata": {},
     "output_type": "display_data"
    },
    {
     "name": "stdout",
     "output_type": "stream",
     "text": [
      "Статистических данные о расстоянии поездок пользователей с подпиской ultra\n"
     ]
    },
    {
     "data": {
      "text/plain": [
       "count    6500.000000\n",
       "mean     3115.445431\n",
       "std       836.895369\n",
       "min       244.210000\n",
       "25%      2785.447500\n",
       "50%      3148.640000\n",
       "75%      3560.577500\n",
       "max      5699.770000\n",
       "Name: distance, dtype: float64"
      ]
     },
     "metadata": {},
     "output_type": "display_data"
    }
   ],
   "source": [
    "#Гистограмма по расстоянию поездки\n",
    "plt.figure(figsize=(10, 6))\n",
    "plt.hist(free_sub_table.distance, bins=100, label='free_sub')\n",
    "plt.hist(ultra_sub_table.distance, bins=100, label='ultra_sub')\n",
    "plt.title('Количество поездок в зависимости расстояния поездки')\n",
    "plt.xlabel('Расстояние (м)')\n",
    "plt.ylabel('Количество поездок')\n",
    "plt.legend()\n",
    "plt.show()\n",
    "print('Статистических данные о расстоянии поездок пользователей с подпиской free')\n",
    "display(free_sub_table.distance.describe()) \n",
    "print('Статистических данные о расстоянии поездок пользователей с подпиской ultra')\n",
    "display(ultra_sub_table.distance.describe()) "
   ]
  },
  {
   "cell_type": "markdown",
   "id": "b8d6d2a3",
   "metadata": {},
   "source": [
    "<div class=\"alert alert-success\">\n",
    "<b>✔️ Комментарий ревьюера v1:</b>\n",
    "<br>Ты правильно делаешь, что совмещаешь оба графика, так их проще сравнить друг с другом\n",
    "</div>"
   ]
  },
  {
   "cell_type": "markdown",
   "id": "07f15c69",
   "metadata": {},
   "source": [
    "На основании полученных статистических данных и гистограммы можем сделать выбор о том, что существует явная разница в расстоянии у пользователей в зависимости от типа подписки. \n",
    "\n",
    "У пользователей с подпиской ultra распределение ближе к нормальному (std=836.89) чем у пользователей с подпиской free (std=1246.17). Количество пользователей без подписки выше на 5046 пользователей с подпиской ultra. В среднем, пользователи с обоими типам подписки проезжают примерно одинаковое расстояние, но пользовати с подпиской ultra все же больше: \n",
    "- free (Q2=3114.65)\n",
    "- ultra (Q2=3148.64). "
   ]
  },
  {
   "cell_type": "code",
   "execution_count": 26,
   "id": "deaeb036",
   "metadata": {},
   "outputs": [
    {
     "data": {
      "image/png": "[encoded data removed]",
      "text/plain": [
       "<Figure size 720x432 with 1 Axes>"
      ]
     },
     "metadata": {},
     "output_type": "display_data"
    },
    {
     "name": "stdout",
     "output_type": "stream",
     "text": [
      "Статистических данные о продолжительности поездок пользователей с подпиской free\n"
     ]
    },
    {
     "data": {
      "text/plain": [
       "count    11568.000000\n",
       "mean        17.890992\n",
       "std          6.330250\n",
       "min          1.000000\n",
       "25%         13.000000\n",
       "50%         18.000000\n",
       "75%         22.000000\n",
       "max         35.000000\n",
       "Name: duration, dtype: float64"
      ]
     },
     "metadata": {},
     "output_type": "display_data"
    },
    {
     "name": "stdout",
     "output_type": "stream",
     "text": [
      "Статистических данные о продолжительности поездок пользователей с подпиской ultra\n"
     ]
    },
    {
     "data": {
      "text/plain": [
       "count    6500.000000\n",
       "mean       19.037692\n",
       "std         5.577439\n",
       "min         4.000000\n",
       "25%        15.000000\n",
       "50%        19.000000\n",
       "75%        22.000000\n",
       "max        41.000000\n",
       "Name: duration, dtype: float64"
      ]
     },
     "metadata": {},
     "output_type": "display_data"
    }
   ],
   "source": [
    "plt.figure(figsize=(10, 6))\n",
    "plt.hist(free_sub_table.duration, bins=80, label='free_sub')\n",
    "plt.hist(ultra_sub_table.duration, bins=80, label='ultra_sub')\n",
    "plt.title('Количество поездок в зависимости от длительности поездки')\n",
    "plt.xlabel('Длительность (мин)')\n",
    "plt.ylabel('Количество поездок')\n",
    "plt.legend()\n",
    "plt.show()\n",
    "print('Статистических данные о продолжительности поездок пользователей с подпиской free')\n",
    "display(free_sub_table.duration.describe()) \n",
    "print('Статистических данные о продолжительности поездок пользователей с подпиской ultra')\n",
    "display(ultra_sub_table.duration.describe()) "
   ]
  },
  {
   "cell_type": "markdown",
   "id": "14de4f87",
   "metadata": {},
   "source": [
    "На основании полученных статистических данных и гистограммы можем сделать выбор о том, что существует явная разница в длительности у пользователей в зависимости от типа подписки. \n",
    "\n",
    "У пользователей с подпиской ultra распределение ближе к нормальному (std=5.57) чем у пользователей с подпиской free (std=6.33). Количество пользователей без подписки выше на 5046 пользователей с подпиской ultra. В среднем, пользователи с обоими типам подписки тратят примерно одинаковое время на поездку, но пользовати с подпиской ultra все же больше: \n",
    " - free (Q2=18)\n",
    " - ultra (Q2=19). "
   ]
  },
  {
   "cell_type": "markdown",
   "id": "7ea6b891",
   "metadata": {},
   "source": [
    "<div class=\"alert alert-success\">\n",
    "<b>✔️ Комментарий ревьюера v1:</b>\n",
    "<br>Тут всё верно!\n",
    "</div>"
   ]
  },
  {
   "cell_type": "markdown",
   "id": "402d620f",
   "metadata": {},
   "source": [
    "#### Шаг 5. Подсчёт выручки"
   ]
  },
  {
   "cell_type": "markdown",
   "id": "caf94bab",
   "metadata": {},
   "source": [
    "Создадим датафрейм с агрегированными данными о поездках на основе датафрейма result_table с объединёнными данными. Продолжительность каждой поездки была округлена ранее с помощью метода «потолок»."
   ]
  },
  {
   "cell_type": "markdown",
   "id": "16cc0d79",
   "metadata": {},
   "source": [
    "Определим суммарное расстояние, количество поездок и суммарное время для каждого пользователя за каждый месяц. Выведем значения на экран."
   ]
  },
  {
   "cell_type": "code",
   "execution_count": 27,
   "id": "754df356",
   "metadata": {},
   "outputs": [
    {
     "data": {
      "text/html": [
       "<div>\n",
       "<style scoped>\n",
       "    .dataframe tbody tr th:only-of-type {\n",
       "        vertical-align: middle;\n",
       "    }\n",
       "\n",
       "    .dataframe tbody tr th {\n",
       "        vertical-align: top;\n",
       "    }\n",
       "\n",
       "    .dataframe thead th {\n",
       "        text-align: right;\n",
       "    }\n",
       "</style>\n",
       "<table border=\"1\" class=\"dataframe\">\n",
       "  <thead>\n",
       "    <tr style=\"text-align: right;\">\n",
       "      <th></th>\n",
       "      <th>user_id</th>\n",
       "      <th>name</th>\n",
       "      <th>age</th>\n",
       "      <th>city</th>\n",
       "      <th>subscription_type</th>\n",
       "      <th>minute_price</th>\n",
       "      <th>start_ride_price</th>\n",
       "      <th>subscription_fee</th>\n",
       "      <th>distance</th>\n",
       "      <th>duration</th>\n",
       "      <th>date</th>\n",
       "      <th>month_number</th>\n",
       "    </tr>\n",
       "  </thead>\n",
       "  <tbody>\n",
       "    <tr>\n",
       "      <th>0</th>\n",
       "      <td>1</td>\n",
       "      <td>Кира</td>\n",
       "      <td>22</td>\n",
       "      <td>Тюмень</td>\n",
       "      <td>ultra</td>\n",
       "      <td>6</td>\n",
       "      <td>0</td>\n",
       "      <td>199</td>\n",
       "      <td>4409.92</td>\n",
       "      <td>26.0</td>\n",
       "      <td>2021-01-01</td>\n",
       "      <td>1</td>\n",
       "    </tr>\n",
       "  </tbody>\n",
       "</table>\n",
       "</div>"
      ],
      "text/plain": [
       "   user_id  name  age    city subscription_type  minute_price  \\\n",
       "0        1  Кира   22  Тюмень             ultra             6   \n",
       "\n",
       "   start_ride_price  subscription_fee  distance  duration       date  \\\n",
       "0                 0               199   4409.92      26.0 2021-01-01   \n",
       "\n",
       "   month_number  \n",
       "0             1  "
      ]
     },
     "execution_count": 27,
     "metadata": {},
     "output_type": "execute_result"
    }
   ],
   "source": [
    "result_table.head(1)\n"
   ]
  },
  {
   "cell_type": "markdown",
   "id": "08653c34",
   "metadata": {},
   "source": [
    "Добавим новый датафрейм следующие значения: \n",
    " - Количество поездок\n",
    " - Суммарное расстояние\n",
    " - Суммарное время\n",
    " \n",
    "Также необходимо добавить в таблицу еще 3 столбца:\n",
    " - start_ride_price - Стоимость старта поездки\n",
    " - minute_price - Стоимость минуты поездки\n",
    " - subscription_fee - Стоимость подписки\n",
    "\n",
    "Поскольку нам необходимо просто перенести эти значения из таблицы result_table, то при записи условия aggfunc() применим параметр 'first', который выбирает первое значение в группе и оставляет его без изменений. Это позволит нам получить необходимую таблицу."
   ]
  },
  {
   "cell_type": "code",
   "execution_count": 28,
   "id": "53049e0a",
   "metadata": {},
   "outputs": [
    {
     "data": {
      "text/html": [
       "<div>\n",
       "<style scoped>\n",
       "    .dataframe tbody tr th:only-of-type {\n",
       "        vertical-align: middle;\n",
       "    }\n",
       "\n",
       "    .dataframe tbody tr th {\n",
       "        vertical-align: top;\n",
       "    }\n",
       "\n",
       "    .dataframe thead th {\n",
       "        text-align: right;\n",
       "    }\n",
       "</style>\n",
       "<table border=\"1\" class=\"dataframe\">\n",
       "  <thead>\n",
       "    <tr style=\"text-align: right;\">\n",
       "      <th></th>\n",
       "      <th></th>\n",
       "      <th>Количество поездок</th>\n",
       "      <th>Суммарное расстояние</th>\n",
       "      <th>Общая продолжительность</th>\n",
       "      <th>Стоимость минуты поездки</th>\n",
       "      <th>Стоимость старта поездки</th>\n",
       "      <th>Стоимость подписки</th>\n",
       "    </tr>\n",
       "    <tr>\n",
       "      <th>user_id</th>\n",
       "      <th>month_number</th>\n",
       "      <th></th>\n",
       "      <th></th>\n",
       "      <th></th>\n",
       "      <th></th>\n",
       "      <th></th>\n",
       "      <th></th>\n",
       "    </tr>\n",
       "  </thead>\n",
       "  <tbody>\n",
       "    <tr>\n",
       "      <th rowspan=\"5\" valign=\"top\">1</th>\n",
       "      <th>1</th>\n",
       "      <td>2</td>\n",
       "      <td>7027.51</td>\n",
       "      <td>42.0</td>\n",
       "      <td>6</td>\n",
       "      <td>0</td>\n",
       "      <td>199</td>\n",
       "    </tr>\n",
       "    <tr>\n",
       "      <th>4</th>\n",
       "      <td>1</td>\n",
       "      <td>754.16</td>\n",
       "      <td>7.0</td>\n",
       "      <td>6</td>\n",
       "      <td>0</td>\n",
       "      <td>199</td>\n",
       "    </tr>\n",
       "    <tr>\n",
       "      <th>8</th>\n",
       "      <td>2</td>\n",
       "      <td>6723.47</td>\n",
       "      <td>46.0</td>\n",
       "      <td>6</td>\n",
       "      <td>0</td>\n",
       "      <td>199</td>\n",
       "    </tr>\n",
       "    <tr>\n",
       "      <th>10</th>\n",
       "      <td>2</td>\n",
       "      <td>5809.91</td>\n",
       "      <td>32.0</td>\n",
       "      <td>6</td>\n",
       "      <td>0</td>\n",
       "      <td>199</td>\n",
       "    </tr>\n",
       "    <tr>\n",
       "      <th>11</th>\n",
       "      <td>3</td>\n",
       "      <td>7003.50</td>\n",
       "      <td>56.0</td>\n",
       "      <td>6</td>\n",
       "      <td>0</td>\n",
       "      <td>199</td>\n",
       "    </tr>\n",
       "    <tr>\n",
       "      <th>...</th>\n",
       "      <th>...</th>\n",
       "      <td>...</td>\n",
       "      <td>...</td>\n",
       "      <td>...</td>\n",
       "      <td>...</td>\n",
       "      <td>...</td>\n",
       "      <td>...</td>\n",
       "    </tr>\n",
       "    <tr>\n",
       "      <th rowspan=\"5\" valign=\"top\">1534</th>\n",
       "      <th>6</th>\n",
       "      <td>2</td>\n",
       "      <td>3409.47</td>\n",
       "      <td>26.0</td>\n",
       "      <td>8</td>\n",
       "      <td>50</td>\n",
       "      <td>0</td>\n",
       "    </tr>\n",
       "    <tr>\n",
       "      <th>8</th>\n",
       "      <td>2</td>\n",
       "      <td>7622.45</td>\n",
       "      <td>48.0</td>\n",
       "      <td>8</td>\n",
       "      <td>50</td>\n",
       "      <td>0</td>\n",
       "    </tr>\n",
       "    <tr>\n",
       "      <th>9</th>\n",
       "      <td>1</td>\n",
       "      <td>4928.17</td>\n",
       "      <td>23.0</td>\n",
       "      <td>8</td>\n",
       "      <td>50</td>\n",
       "      <td>0</td>\n",
       "    </tr>\n",
       "    <tr>\n",
       "      <th>11</th>\n",
       "      <td>4</td>\n",
       "      <td>13350.02</td>\n",
       "      <td>78.0</td>\n",
       "      <td>8</td>\n",
       "      <td>50</td>\n",
       "      <td>0</td>\n",
       "    </tr>\n",
       "    <tr>\n",
       "      <th>12</th>\n",
       "      <td>1</td>\n",
       "      <td>2371.71</td>\n",
       "      <td>16.0</td>\n",
       "      <td>8</td>\n",
       "      <td>50</td>\n",
       "      <td>0</td>\n",
       "    </tr>\n",
       "  </tbody>\n",
       "</table>\n",
       "<p>11331 rows × 6 columns</p>\n",
       "</div>"
      ],
      "text/plain": [
       "                      Количество поездок  Суммарное расстояние  \\\n",
       "user_id month_number                                             \n",
       "1       1                              2               7027.51   \n",
       "        4                              1                754.16   \n",
       "        8                              2               6723.47   \n",
       "        10                             2               5809.91   \n",
       "        11                             3               7003.50   \n",
       "...                                  ...                   ...   \n",
       "1534    6                              2               3409.47   \n",
       "        8                              2               7622.45   \n",
       "        9                              1               4928.17   \n",
       "        11                             4              13350.02   \n",
       "        12                             1               2371.71   \n",
       "\n",
       "                      Общая продолжительность  Стоимость минуты поездки  \\\n",
       "user_id month_number                                                      \n",
       "1       1                                42.0                         6   \n",
       "        4                                 7.0                         6   \n",
       "        8                                46.0                         6   \n",
       "        10                               32.0                         6   \n",
       "        11                               56.0                         6   \n",
       "...                                       ...                       ...   \n",
       "1534    6                                26.0                         8   \n",
       "        8                                48.0                         8   \n",
       "        9                                23.0                         8   \n",
       "        11                               78.0                         8   \n",
       "        12                               16.0                         8   \n",
       "\n",
       "                      Стоимость старта поездки  Стоимость подписки  \n",
       "user_id month_number                                                \n",
       "1       1                                    0                 199  \n",
       "        4                                    0                 199  \n",
       "        8                                    0                 199  \n",
       "        10                                   0                 199  \n",
       "        11                                   0                 199  \n",
       "...                                        ...                 ...  \n",
       "1534    6                                   50                   0  \n",
       "        8                                   50                   0  \n",
       "        9                                   50                   0  \n",
       "        11                                  50                   0  \n",
       "        12                                  50                   0  \n",
       "\n",
       "[11331 rows x 6 columns]"
      ]
     },
     "execution_count": 28,
     "metadata": {},
     "output_type": "execute_result"
    }
   ],
   "source": [
    "agg_table = result_table.pivot_table(index=['user_id', 'month_number'], values=['distance', 'duration','start_ride_price','minute_price','subscription_fee'], aggfunc={'distance': ['count', 'sum'], 'duration': 'sum','start_ride_price': 'first','minute_price': 'first','subscription_fee': 'first'})\n",
    "agg_table.columns = ['Количество поездок', 'Суммарное расстояние', 'Общая продолжительность','Стоимость минуты поездки','Стоимость старта поездки','Стоимость подписки']\n",
    "agg_table"
   ]
  },
  {
   "cell_type": "markdown",
   "id": "21d484c1",
   "metadata": {},
   "source": [
    "В этот же датафрейм добавим столбец с помесячной выручкой, которую принёс каждый пользователь.\n",
    "\n",
    "Помесячная выручка считается по формуле: стоимость старта поездки * количество поездок + стоимость одной минуты поездки * общая продолжительность всех поездок в минутах +  стоимость подписки."
   ]
  },
  {
   "cell_type": "code",
   "execution_count": 29,
   "id": "fab45abf",
   "metadata": {},
   "outputs": [
    {
     "data": {
      "text/html": [
       "<div>\n",
       "<style scoped>\n",
       "    .dataframe tbody tr th:only-of-type {\n",
       "        vertical-align: middle;\n",
       "    }\n",
       "\n",
       "    .dataframe tbody tr th {\n",
       "        vertical-align: top;\n",
       "    }\n",
       "\n",
       "    .dataframe thead th {\n",
       "        text-align: right;\n",
       "    }\n",
       "</style>\n",
       "<table border=\"1\" class=\"dataframe\">\n",
       "  <thead>\n",
       "    <tr style=\"text-align: right;\">\n",
       "      <th></th>\n",
       "      <th></th>\n",
       "      <th>Количество поездок</th>\n",
       "      <th>Суммарное расстояние</th>\n",
       "      <th>Общая продолжительность</th>\n",
       "      <th>Стоимость минуты поездки</th>\n",
       "      <th>Стоимость старта поездки</th>\n",
       "      <th>Стоимость подписки</th>\n",
       "      <th>month_income</th>\n",
       "    </tr>\n",
       "    <tr>\n",
       "      <th>user_id</th>\n",
       "      <th>month_number</th>\n",
       "      <th></th>\n",
       "      <th></th>\n",
       "      <th></th>\n",
       "      <th></th>\n",
       "      <th></th>\n",
       "      <th></th>\n",
       "      <th></th>\n",
       "    </tr>\n",
       "  </thead>\n",
       "  <tbody>\n",
       "    <tr>\n",
       "      <th rowspan=\"5\" valign=\"top\">1</th>\n",
       "      <th>1</th>\n",
       "      <td>2</td>\n",
       "      <td>7027.51</td>\n",
       "      <td>42.0</td>\n",
       "      <td>6</td>\n",
       "      <td>0</td>\n",
       "      <td>199</td>\n",
       "      <td>451.0</td>\n",
       "    </tr>\n",
       "    <tr>\n",
       "      <th>4</th>\n",
       "      <td>1</td>\n",
       "      <td>754.16</td>\n",
       "      <td>7.0</td>\n",
       "      <td>6</td>\n",
       "      <td>0</td>\n",
       "      <td>199</td>\n",
       "      <td>241.0</td>\n",
       "    </tr>\n",
       "    <tr>\n",
       "      <th>8</th>\n",
       "      <td>2</td>\n",
       "      <td>6723.47</td>\n",
       "      <td>46.0</td>\n",
       "      <td>6</td>\n",
       "      <td>0</td>\n",
       "      <td>199</td>\n",
       "      <td>475.0</td>\n",
       "    </tr>\n",
       "    <tr>\n",
       "      <th>10</th>\n",
       "      <td>2</td>\n",
       "      <td>5809.91</td>\n",
       "      <td>32.0</td>\n",
       "      <td>6</td>\n",
       "      <td>0</td>\n",
       "      <td>199</td>\n",
       "      <td>391.0</td>\n",
       "    </tr>\n",
       "    <tr>\n",
       "      <th>11</th>\n",
       "      <td>3</td>\n",
       "      <td>7003.50</td>\n",
       "      <td>56.0</td>\n",
       "      <td>6</td>\n",
       "      <td>0</td>\n",
       "      <td>199</td>\n",
       "      <td>535.0</td>\n",
       "    </tr>\n",
       "    <tr>\n",
       "      <th>...</th>\n",
       "      <th>...</th>\n",
       "      <td>...</td>\n",
       "      <td>...</td>\n",
       "      <td>...</td>\n",
       "      <td>...</td>\n",
       "      <td>...</td>\n",
       "      <td>...</td>\n",
       "      <td>...</td>\n",
       "    </tr>\n",
       "    <tr>\n",
       "      <th rowspan=\"5\" valign=\"top\">1534</th>\n",
       "      <th>6</th>\n",
       "      <td>2</td>\n",
       "      <td>3409.47</td>\n",
       "      <td>26.0</td>\n",
       "      <td>8</td>\n",
       "      <td>50</td>\n",
       "      <td>0</td>\n",
       "      <td>308.0</td>\n",
       "    </tr>\n",
       "    <tr>\n",
       "      <th>8</th>\n",
       "      <td>2</td>\n",
       "      <td>7622.45</td>\n",
       "      <td>48.0</td>\n",
       "      <td>8</td>\n",
       "      <td>50</td>\n",
       "      <td>0</td>\n",
       "      <td>484.0</td>\n",
       "    </tr>\n",
       "    <tr>\n",
       "      <th>9</th>\n",
       "      <td>1</td>\n",
       "      <td>4928.17</td>\n",
       "      <td>23.0</td>\n",
       "      <td>8</td>\n",
       "      <td>50</td>\n",
       "      <td>0</td>\n",
       "      <td>234.0</td>\n",
       "    </tr>\n",
       "    <tr>\n",
       "      <th>11</th>\n",
       "      <td>4</td>\n",
       "      <td>13350.02</td>\n",
       "      <td>78.0</td>\n",
       "      <td>8</td>\n",
       "      <td>50</td>\n",
       "      <td>0</td>\n",
       "      <td>824.0</td>\n",
       "    </tr>\n",
       "    <tr>\n",
       "      <th>12</th>\n",
       "      <td>1</td>\n",
       "      <td>2371.71</td>\n",
       "      <td>16.0</td>\n",
       "      <td>8</td>\n",
       "      <td>50</td>\n",
       "      <td>0</td>\n",
       "      <td>178.0</td>\n",
       "    </tr>\n",
       "  </tbody>\n",
       "</table>\n",
       "<p>11331 rows × 7 columns</p>\n",
       "</div>"
      ],
      "text/plain": [
       "                      Количество поездок  Суммарное расстояние  \\\n",
       "user_id month_number                                             \n",
       "1       1                              2               7027.51   \n",
       "        4                              1                754.16   \n",
       "        8                              2               6723.47   \n",
       "        10                             2               5809.91   \n",
       "        11                             3               7003.50   \n",
       "...                                  ...                   ...   \n",
       "1534    6                              2               3409.47   \n",
       "        8                              2               7622.45   \n",
       "        9                              1               4928.17   \n",
       "        11                             4              13350.02   \n",
       "        12                             1               2371.71   \n",
       "\n",
       "                      Общая продолжительность  Стоимость минуты поездки  \\\n",
       "user_id month_number                                                      \n",
       "1       1                                42.0                         6   \n",
       "        4                                 7.0                         6   \n",
       "        8                                46.0                         6   \n",
       "        10                               32.0                         6   \n",
       "        11                               56.0                         6   \n",
       "...                                       ...                       ...   \n",
       "1534    6                                26.0                         8   \n",
       "        8                                48.0                         8   \n",
       "        9                                23.0                         8   \n",
       "        11                               78.0                         8   \n",
       "        12                               16.0                         8   \n",
       "\n",
       "                      Стоимость старта поездки  Стоимость подписки  \\\n",
       "user_id month_number                                                 \n",
       "1       1                                    0                 199   \n",
       "        4                                    0                 199   \n",
       "        8                                    0                 199   \n",
       "        10                                   0                 199   \n",
       "        11                                   0                 199   \n",
       "...                                        ...                 ...   \n",
       "1534    6                                   50                   0   \n",
       "        8                                   50                   0   \n",
       "        9                                   50                   0   \n",
       "        11                                  50                   0   \n",
       "        12                                  50                   0   \n",
       "\n",
       "                      month_income  \n",
       "user_id month_number                \n",
       "1       1                    451.0  \n",
       "        4                    241.0  \n",
       "        8                    475.0  \n",
       "        10                   391.0  \n",
       "        11                   535.0  \n",
       "...                            ...  \n",
       "1534    6                    308.0  \n",
       "        8                    484.0  \n",
       "        9                    234.0  \n",
       "        11                   824.0  \n",
       "        12                   178.0  \n",
       "\n",
       "[11331 rows x 7 columns]"
      ]
     },
     "metadata": {},
     "output_type": "display_data"
    },
    {
     "data": {
      "text/plain": [
       "count    11331.000000\n",
       "mean       342.303504\n",
       "std        153.875346\n",
       "min         58.000000\n",
       "25%        234.000000\n",
       "50%        319.000000\n",
       "75%        415.000000\n",
       "max       1444.000000\n",
       "Name: month_income, dtype: float64"
      ]
     },
     "execution_count": 29,
     "metadata": {},
     "output_type": "execute_result"
    }
   ],
   "source": [
    "agg_table['month_income'] = agg_table['Стоимость старта поездки']*agg_table['Количество поездок']+agg_table['Стоимость минуты поездки']*agg_table['Общая продолжительность']+agg_table['Стоимость подписки']\n",
    "display(agg_table)\n",
    "agg_table['month_income'].describe()"
   ]
  },
  {
   "cell_type": "code",
   "execution_count": 30,
   "id": "288ddb8e",
   "metadata": {},
   "outputs": [
    {
     "name": "stdout",
     "output_type": "stream",
     "text": [
      "Общая выручка: 3878641.0 руб.\n"
     ]
    }
   ],
   "source": [
    "print('Общая выручка:', agg_table['month_income'].sum(), 'руб.')"
   ]
  },
  {
   "cell_type": "markdown",
   "id": "fe2962fb",
   "metadata": {},
   "source": [
    "В ходе данного пункта был добавлен столбец с помесячной выручкой, которую принёс каждый пользователь. Подсчитана общая выручка (3878641.0 руб). На основании полученных данных можно сделать вывод о том, что, в среднем, помесячная выручка с одного пользователя составляет 342 руб. "
   ]
  },
  {
   "cell_type": "markdown",
   "id": "2416be89",
   "metadata": {},
   "source": [
    "<div class=\"alert alert-success\">\n",
    "<b>✔️ Комментарий ревьюера v1:</b>\n",
    "<br>Молодец, что создаешь функцию для расчета выручки\n",
    "</div>"
   ]
  },
  {
   "cell_type": "markdown",
   "id": "41545ac0",
   "metadata": {},
   "source": [
    "#### Шаг 6. Проверка гипотез"
   ]
  },
  {
   "cell_type": "markdown",
   "id": "89826b29",
   "metadata": {},
   "source": [
    "Для увеличения количество пользователей с подпиской посредством проведения различных акциий, сначала необходимо выяснить несколько важных моментов. Рассмотрим их ниже."
   ]
  },
  {
   "cell_type": "markdown",
   "id": "17f07b47",
   "metadata": {},
   "source": [
    "**Тратят ли пользователи с подпиской больше времени на поездки?**\n",
    "\n",
    "Сформулируем, и выдвинем следующие гипотезы:\n",
    "- **H0:**  Средняя продолжительность поездок пользователей с типом подписки ultra равна средней продолжительности поездок пользователей с типом подписки free.\n",
    "- **H1:**  Средняя продолжительность поездок пользователей с типом подписки ultra больше средней продолжительности поездок пользователей с типом подписки free."
   ]
  },
  {
   "cell_type": "markdown",
   "id": "f540592c",
   "metadata": {},
   "source": [
    "<div class=\"alert alert-success\">\n",
    "<b>✔️ Комментарий ревьюера v1:</b>\n",
    "<br>Гипотезы сформулированы верно\n",
    "</div>"
   ]
  },
  {
   "cell_type": "markdown",
   "id": "b6a4fbd3",
   "metadata": {},
   "source": [
    "В данном случае мы имеем дело с односторонней гипотезой о равенстве средних двух выборок. Считаем, что дисперсии выборок не равны, поэтому equal_var=False.\n",
    "Проведем двухвыборочный t-тест для независимых выборок."
   ]
  },
  {
   "cell_type": "code",
   "execution_count": 31,
   "id": "88a0a5e0",
   "metadata": {},
   "outputs": [
    {
     "name": "stdout",
     "output_type": "stream",
     "text": [
      "Среднее первой выборки: 19.037692307692307\n",
      "Среднее второй выборки: 17.890992392807746\n",
      "p-значение: 1.1814679253701353e-36\n",
      "Отвергаем нулевую гипотезу\n"
     ]
    }
   ],
   "source": [
    "print(f'Среднее первой выборки: {np.mean(ultra_sub_table.duration)}')\n",
    "print(f'Среднее второй выборки: {np.mean(free_sub_table.duration)}')\n",
    "\n",
    "alpha = 0.05 # задаем уровень стат. значимости\n",
    "\n",
    "# проведим стат. тест о равенстве продолжительности поездок с ultra и без.\n",
    "results = st.ttest_ind(ultra_sub_table.duration, free_sub_table.duration, equal_var=False, alternative='greater')\n",
    "\n",
    "# выводим на экран получившееся p-значение\n",
    "print('p-значение:', results.pvalue) \n",
    "\n",
    "if (results.pvalue < alpha):\n",
    "    print('Отвергаем нулевую гипотезу')\n",
    "else:\n",
    "    print('Не получилось отвергнуть нулевую гипотезу')"
   ]
  },
  {
   "cell_type": "markdown",
   "id": "bd64c8b1",
   "metadata": {},
   "source": [
    "На основании полученных результатов можно отвергнуть нулевую гипотезу H0, так как на основании проведенного t-теста мы можем наблюдать, что средняя продолжительность поездок пользователей с типом подписки ultra больше продолжительности поездок пользователей с типом подписки free, при установленном уровне значимости (alpha = 0.05)."
   ]
  },
  {
   "cell_type": "markdown",
   "id": "cdb6f369",
   "metadata": {},
   "source": [
    "<div class=\"alert alert-success\">\n",
    "<b>✔️ Комментарий ревьюера v1:</b>\n",
    "<br>Вывод верный\n",
    "</div>"
   ]
  },
  {
   "cell_type": "markdown",
   "id": "b3557051",
   "metadata": {},
   "source": [
    "**Можно ли сказать, что среднее расстояние, которое проезжают пользователи с подпиской за одну поездку, не превышает оптимальное, с точки зрения износа самоката, расстояние одной поездки - 3130 метров?**\n",
    "\n",
    "Сформулируем, и выдвинем следующие гипотезы:\n",
    "- **H0:**  Среднее расстояние, которое проезжают пользователи с типом подписки ultra за одну поездку равно опримальному, с точки зрения износа самоката, значению в 3130 метров.\n",
    "- **H1:**  Среднее расстояние, которое проезжают пользователи с типом подписки ultra за одну поездку больше опримального, с точки зрения износа самоката, значению в 3130 метров."
   ]
  },
  {
   "cell_type": "markdown",
   "id": "5a88558a",
   "metadata": {},
   "source": [
    "<div class=\"alert alert-success\">\n",
    "<b>✔️ Комментарий ревьюера v1:</b>\n",
    "<br>Гипотезы сформулированы верно\n",
    "</div>"
   ]
  },
  {
   "cell_type": "markdown",
   "id": "6159fbb3",
   "metadata": {},
   "source": [
    "В данном случае мы имеем дело с односторонней гипотезой о равенстве среднего выборки, зафиксированному в нулевой гипотезе. Проведем одновыборочный t-тест для данной выборки."
   ]
  },
  {
   "cell_type": "code",
   "execution_count": 32,
   "id": "b8258096",
   "metadata": {},
   "outputs": [
    {
     "name": "stdout",
     "output_type": "stream",
     "text": [
      "Среднее выборки: 3115.445430769231\n",
      "p-значение: 0.9195362605842414\n",
      "Не получилось отвергнуть нулевую гипотезу\n"
     ]
    }
   ],
   "source": [
    "print('Среднее выборки:', ultra_sub_table.distance.mean())\n",
    "\n",
    "optimum_distance = 3130 #Предположенное в нулевой гипотезе число.\n",
    "\n",
    "alpha = 0.05 # задаем уровень стат. значимости\n",
    "\n",
    "# проведим стат. тест о равенстве расстояния поездок с ultra и оптимальном в 3130.\n",
    "results = st.ttest_1samp(ultra_sub_table.distance, optimum_distance, alternative='greater' )\n",
    "\n",
    "# выводим на экран получившееся p-значение\n",
    "print('p-значение:', results.pvalue) \n",
    "\n",
    "if (results.pvalue < alpha):\n",
    "    print('Отвергаем нулевую гипотезу')\n",
    "else:\n",
    "    print('Не получилось отвергнуть нулевую гипотезу')"
   ]
  },
  {
   "cell_type": "markdown",
   "id": "19acaef5",
   "metadata": {},
   "source": [
    "<div class=\"alert alert-danger\">\n",
    "<b>❌ Комментарий ревьюера v1:</b> \n",
    "<br>Нужно выбрать столбец с расстоянием\n",
    "</div>"
   ]
  },
  {
   "cell_type": "markdown",
   "id": "c8d0825e",
   "metadata": {},
   "source": [
    "<div class=\"alert alert-info\">\n",
    "<b>Комментарий студента:</b>\n",
    "<br> Заменил на нужный столбец. Выводы исправил\n",
    "</div>"
   ]
  },
  {
   "cell_type": "markdown",
   "id": "65f49a84",
   "metadata": {},
   "source": [
    "<div class=\"alert alert-success\">\n",
    "<b>✔️ Комментарий ревьюера v2:</b>\n",
    "<br>Правка выполнена 👍\n",
    "</div>"
   ]
  },
  {
   "cell_type": "markdown",
   "id": "e6434a92",
   "metadata": {},
   "source": [
    "На основании полученных результатов делаем вывод о том, что нулевая гипотеза H0 не может быть отвергнута, так как на основании проведенного t-теста мы можем наблюдать, что среднее расстояние пользователей с типом подписки ultra не превышает опримального, с точки зрения износа самоката, значения в 3115 метров, при установленном уровне значимости (alpha = 0.05)."
   ]
  },
  {
   "cell_type": "markdown",
   "id": "fbb4a0fc",
   "metadata": {},
   "source": [
    "**Будет ли помесячная выручка от пользователей с подпиской по месяцам выше, чем выручка от пользователей без подписки.**\n",
    "\n",
    "Сформулируем, и выдвинем следующие гипотезы:\n",
    "- **H0:**  Помесячная средняя выручка от пользователей с типом подписки ultra равна помесячной средней выручке от с типом подписки free.\n",
    "- **H1:**  Помесячная средняя выручка от пользователей с типом подписки ultra больше помесячной средней выручке от с типом подписки free."
   ]
  },
  {
   "cell_type": "markdown",
   "id": "1b8f7e38",
   "metadata": {},
   "source": [
    "<div class=\"alert alert-success\">\n",
    "<b>✔️ Комментарий ревьюера v1:</b>\n",
    "<br>Гипотезы сформулированы верно\n",
    "</div>"
   ]
  },
  {
   "cell_type": "markdown",
   "id": "15b3142b",
   "metadata": {},
   "source": [
    "В данном случае мы имеем дело с односторонней гипотезой о равенстве средних двух выборок. Проведем двухвыборочный t-тест для данных выборок."
   ]
  },
  {
   "cell_type": "code",
   "execution_count": 33,
   "id": "e6e27893",
   "metadata": {},
   "outputs": [
    {
     "name": "stdout",
     "output_type": "stream",
     "text": [
      "p-значение: 1.8850394384715216e-31\n",
      "Отвергаем нулевую гипотезу\n"
     ]
    }
   ],
   "source": [
    "alpha = 0.05  # задаем уровень стат. значимости\n",
    "\n",
    "# Предварительно сгруппируем значения значения помесячной выручки в зависимости от типа подписки.\n",
    "# Проводим стат. тест о равенстве выручки от пользователей с ultra и без.\n",
    "results = st.ttest_ind(agg_table[agg_table['Стоимость подписки'] == 199]['month_income'], agg_table[agg_table['Стоимость подписки'] == 0]['month_income'], alternative='greater')\n",
    "\n",
    "# выводим на экран получившееся p-значение\n",
    "print('p-значение:', results.pvalue)\n",
    "\n",
    "if (results.pvalue < alpha):\n",
    "    print('Отвергаем нулевую гипотезу')\n",
    "else:\n",
    "    print('Не получилось отвергнуть нулевую гипотезу')"
   ]
  },
  {
   "cell_type": "markdown",
   "id": "3c863e81",
   "metadata": {},
   "source": [
    "На основании полученных результатов можно отвергнуть нулевую гипотезу H0, так как на основании проведенного t-теста мы можем наблюдать, что помесячной выручка от пользователей с типом подписки ultra больше помесячной выручки от пользователей с типом подписки free, при установленном уровне значимости (alpha = 0.05)."
   ]
  },
  {
   "cell_type": "markdown",
   "id": "941f1f46",
   "metadata": {},
   "source": [
    "<div class=\"alert alert-success\">\n",
    "<b>✔️ Комментарий ревьюера v1:</b>\n",
    "<br>Вывод верный\n",
    "</div>"
   ]
  },
  {
   "cell_type": "markdown",
   "id": "8bc4be2d",
   "metadata": {},
   "source": [
    "**Рассмотрим следующую ситуацию:** \n",
    "\n",
    "Техническая команда сервиса обновила сервера, с которыми взаимодействует мобильное приложение. Она надеется, что из-за этого количество обращений в техподдержку значимо снизилось. Некоторый файл содержит для каждого пользователя данные о количестве обращений до обновления и после него. Необходимо подобрать тип t-теста для проверки этой гипотезы."
   ]
  },
  {
   "cell_type": "markdown",
   "id": "ce39a0a4",
   "metadata": {},
   "source": [
    "В данном случае мы имеем дело с двумя зависимыми (парными) выборками. Следовательно, будет проверяться гипотеза о равенстве значения генеральной совокупности до и после изменеия. \n",
    "Для проверки данной гипотезы применяется двухвыборочный t-тест для зависимых выборок.\n",
    "Опишем принцип проведения t-теста для данной гипотезы.\n",
    "\n",
    "**Необходимый метод в данном случае:** st.ttest_rel(sample_before, sample_after, equal_var=False, alternative='less')\n",
    "\n",
    " - Стоит указать аргумент (equal_var=False), так как полагаем, что дисперсии генеральных совокупностей не равны.\n",
    "\n",
    " - Проверяться будет левосторонняя альтернативная гипотеза (alternative='less'), так как из условия можем видеть, что техническая команда считает, что количество обращений в техподдержку значимо снизилось.\n",
    "\n",
    "Таким образом, после проведения данного t-теста, после сравнения p-value с установленным уровнем значимости, мы сможем сделать выводы об отвержении или неотвержении нулевой гипотезы."
   ]
  },
  {
   "cell_type": "markdown",
   "id": "ecb00253",
   "metadata": {},
   "source": [
    "<div class=\"alert alert-success\">\n",
    "<b>✔️ Комментарий ревьюера v1:</b>\n",
    "<br>Метод выбран верно!\n",
    "</div>"
   ]
  },
  {
   "cell_type": "markdown",
   "id": "61213c5e",
   "metadata": {},
   "source": [
    "#### Шаг 7. Распределения"
   ]
  },
  {
   "cell_type": "markdown",
   "id": "2b427b2b",
   "metadata": {},
   "source": [
    "**Отделу маркетинга GoFast поставили задачу: нужно провести акцию с раздачей промокодов на один бесплатный месяц подписки, в рамках которой как минимум 100 существующих клиентов должны продлить эту подписку. То есть по завершении периода действия подписки пользователь может либо отказаться от неё, либо продлить, совершив соответствующий платёж.**\n",
    "\n",
    "\n",
    "**Эта акция уже проводилась ранее и по итогу выяснилось, что после бесплатного пробного периода подписку продлевают 10 % пользователей. Выясните, какое минимальное количество промокодов нужно разослать, чтобы вероятность не выполнить план была примерно 5 %. Подберите параметры распределения, описывающего эту ситуацию, постройте график распределения и сформулируйте ответ на вопрос о количестве промокодов.**"
   ]
  },
  {
   "cell_type": "markdown",
   "id": "89528901",
   "metadata": {},
   "source": [
    "В данном случае необходимо выяснить, какое минимальное количество промокодов нужно разослать, чтобы вероятность не выполнить план была примерно 5 %.\n",
    "\n",
    "Данная ситуация описывается биномиальным распределением.\n",
    "\n",
    "Следовательно, необходимо подобрать значение параметра n для заданного параметра p=0.1 в цикле.\n",
    "\n",
    "Будем использовать cdf - кумулятивную функцию распределения, которая показывает вероятность того, что целевое значение меньше указанного значения либо равно ему.\n",
    "\n",
    "Определим параметры биномиального распределения:\n",
    " - p = 0.1  - Вероятность продления подписки (успех)\n",
    " - target_prob = 0.05  - Вероятность не выполнения плана \n",
    " - min_count_clients = 100  - Минимальное количество клиентов, которые должны продлить подписку\n"
   ]
  },
  {
   "cell_type": "code",
   "execution_count": 34,
   "id": "49639d94",
   "metadata": {},
   "outputs": [
    {
     "data": {
      "image/png": "[encoded data removed]",
      "text/plain": [
       "<Figure size 432x288 with 1 Axes>"
      ]
     },
     "metadata": {},
     "output_type": "display_data"
    },
    {
     "name": "stdout",
     "output_type": "stream",
     "text": [
      "Минимальное количество промокодов, необходимых для достижения целевой вероятности: 1172\n"
     ]
    }
   ],
   "source": [
    "p = 0.1  # Вероятность продления подписки (успех)\n",
    "target_prob = 0.05  # Вероятность не выполнения плана \n",
    "min_count_clients = 100  # Минимальное количество клиентов, которые должны продлить подписку\n",
    "\n",
    "# Ищем n таким в цикле таким образом, чтобы вероятность того, что менее чем 100 клиентов продлят подписку была <= 0.05\n",
    "for n in range(1, 10000):  \n",
    "    if binom.cdf(min_count_clients, n, p) <= target_prob:\n",
    "        break\n",
    "\n",
    "# Зададим мат.ожидание и ст.отклонение нормального распределения равными\n",
    "# мат.ожиданию и ст.отклонению биномиального распределения      \n",
    "mu = n * p\n",
    "sigma = (n * p * (1 - p))**0.5\n",
    "\n",
    "# границы промежутка, в котором будем строить аппроксимацию -\n",
    "# от n*p минус 4 ст.отклонения бином.распределения\n",
    "# до n*p плюс 4 ст.отклонения бином.распределения\n",
    "# (там, где вероятности значений почти не равны нулю)\n",
    "left = int(n * p - 4 * sqrt(n * p * (1 - p)))\n",
    "right = int(n * p + 4 * sqrt(n * p * (1 - p)))\n",
    " \n",
    "# зададим набор значений биномиальной величины на выбранном промежутке:\n",
    "# все неотрицательные целые числа от left до right\n",
    "x = list(range(max(0, left), right))\n",
    "\n",
    "# рисуем график биномиального распределения   \n",
    "ax = plt.subplot()\n",
    "ax.plot(x, binom.pmf(x, n, p))\n",
    "ax.axvline(x=min_count_clients, color='black')\n",
    "plt.show()\n",
    "print('Минимальное количество промокодов, необходимых для достижения целевой вероятности:', n)"
   ]
  },
  {
   "cell_type": "markdown",
   "id": "87e96997",
   "metadata": {},
   "source": [
    "На основании полученных результатов можно, сделать вывод о том, что для того, чтобы как минимум 100 существующих клиентов продлили подписку необходимо разослать минимум 1172 промокода. Такое количество промокодов обеспечит вероятность не выполнить план примерно в 5 %."
   ]
  },
  {
   "cell_type": "markdown",
   "id": "b55e0e5d",
   "metadata": {},
   "source": [
    "**Отдел маркетинга рассылает клиентам push-уведомления в мобильном приложении. Клиенты могут открыть его или не открывать. Известно, что уведомления открывают около 40 % получивших клиентов. Отдел планирует разослать 1 млн уведомлений.**\n",
    "\n",
    "**С помощью аппроксимации постройте примерный график распределения и оцените вероятность того, что уведомление откроют не более 399,5 тыс. пользователей.**"
   ]
  },
  {
   "cell_type": "markdown",
   "id": "75dff3ac",
   "metadata": {},
   "source": [
    "Данная ситуация описывается биномиальным распределением, с нормальной аппроксимацией биномиального распределения.\n",
    "Для оценки вероятности того, что уведомление откроют не более 399,5 тыс. пользователей воспользуемся нормальной аппроксимацией биномиального распределения и cdf для более быстрой оценки хвоста слева от указанного значения.\n",
    "\n",
    "Определим параметры биномиального распределения согласно устоявшимся условия аппроксимации (большое n и близость p к 0.5):\n",
    "\n",
    " - p = 0.4 - Вероятность открытия уведомления (успех)\n",
    " - n = 1000000 - Количество попыток \n",
    " - max_count = 399500 - Количество пользователей для которого расчитывается вероятность\n",
    "\n"
   ]
  },
  {
   "cell_type": "markdown",
   "id": "fe290874",
   "metadata": {},
   "source": [
    "**Зададим нормальное распределение и посчитаем вероятность хвоста слева от 399,5 тыс. пользователей, построим график.**"
   ]
  },
  {
   "cell_type": "code",
   "execution_count": 35,
   "id": "c5916fd1",
   "metadata": {},
   "outputs": [
    {
     "data": {
      "image/png": "[encoded data removed]",
      "text/plain": [
       "<Figure size 432x288 with 1 Axes>"
      ]
     },
     "metadata": {},
     "output_type": "display_data"
    },
    {
     "name": "stdout",
     "output_type": "stream",
     "text": [
      "Вероятность того, что уведомление откроют не более 399,5 тыс. пользователей: 15.37%\n",
      "Условие аппроксимации выполняется\n"
     ]
    }
   ],
   "source": [
    "p = 0.4 # Вероятность открытия уведомления (успех)\n",
    "n = 1000000 # Количество попыток по плану отдела\n",
    "max_count = 399500 # Количество пользователей для которого расчитывается вероятность\n",
    "\n",
    "# Мат.ожидание и ст.отклонение нормального распределения равные\n",
    "# мат.ожиданию и ст.отклонению биномиального распределения\n",
    "mu = n * p\n",
    "sigma = (n * p * (1 - p))**0.5\n",
    "\n",
    "# Задаём нормальное распределение\n",
    "distr = st.norm(mu, sigma) \n",
    "# Считаем вероятность хвоста слева от 399.5 тысяч\n",
    "result = distr.cdf(max_count).round(5)\n",
    "\n",
    "# Границы промежутка, в котором будем строить аппроксимацию -\n",
    "# от n*p минус 4 ст.отклонения бином.распределения\n",
    "# до n*p плюс 4 ст.отклонения бином.распределения\n",
    "# (там, где вероятности значений почти не равны нулю)\n",
    "left = int(n * p - 4 * sqrt(n * p * (1 - p)))\n",
    "right = int(n * p + 4 * sqrt(n * p * (1 - p)))\n",
    " \n",
    "# Зададим набор значений биномиальной величины на выбранном промежутке:\n",
    "# все неотрицательные целые числа от left до right\n",
    "x = list(range(max(0, left), right))\n",
    "\n",
    "# Рисуем примерный график биномиального распределения   \n",
    "sns.set (font_scale= 0.8)\n",
    "ax = plt.subplot()\n",
    "ax.plot(x, binom.pmf(x, n, p))\n",
    "ax.axvline(x=max_count, color='black')\n",
    "plt.show()\n",
    "print('Вероятность того, что уведомление откроют не более 399,5 тыс. пользователей: {:.2%}'.format(result))\n",
    "\n",
    "# Выводим, выполняется ли условие аппроксимации:\n",
    "# лежит ли mu ± 3 sigma в промежутке от 0 до n:\n",
    "if (mu - (3 * sigma) >= 0) and ((mu + (3 * sigma) <= n)):\n",
    "    print('Условие аппроксимации выполняется')\n",
    "else:\n",
    "    print('Условие аппроксимации не выполняется')"
   ]
  },
  {
   "cell_type": "markdown",
   "id": "8fb17cb1",
   "metadata": {},
   "source": [
    "На основании полученных результатов можно, сделать вывод о том, что, при условии что рассылается 1 млн. уведомлений, которые открывают клиенты с вероятностью 40%, вероятность того, что уведомление откроют не более 399,5 тыс. составит 15.37%.\n",
    "\n",
    "Данная вероятность соответствует условию аппроксимации и его можно учитывать при дальнейшем анализе бизнес-показателей отдела."
   ]
  },
  {
   "cell_type": "markdown",
   "id": "7ed89612",
   "metadata": {},
   "source": [
    "<div class=\"alert alert-success\">\n",
    "<b>✔️ Комментарий ревьюера v1:</b>\n",
    "<br>Дополнительное задание выполнено верно!\n",
    "</div>"
   ]
  },
  {
   "cell_type": "markdown",
   "id": "495e690f",
   "metadata": {},
   "source": [
    "**В рамках проведения статистического анализ данных сервиса аренды самокатов GoFast, были проведены  следующие этапы:**\n",
    "\n",
    "- **1) Загрузка данных**\n",
    "\n",
    "При рассмотрении датафреймов, были выявлены следующие особенности в датафрейме Поездки:\n",
    "\n",
    "  - Число запсей - 18068\n",
    "  - Отсутствие пропусков в данных\n",
    "  - Неверный тип данных у столбца date\n",
    "  - Названия столбцов указаны верно\n",
    "  \n",
    "- **2) Предобработка данных**\n",
    "\n",
    " - Столбец date приведен к типу даты pandas.\n",
    " - Создан новый столбец с номером месяца на основе столбца date.\n",
    " - После удаления явных дубликатов, в датафрейме Пользователи количество строк в уменьшилось с 1565 до 1534 записи (количество данных, которое мы отбросили составляет не более 10%, что является удовлетворительным).\n",
    "  \n",
    "\n",
    "- **3) Исследовательский анализ данных**\n",
    "\n",
    " - Чаще всего пользователи арендуют самокаты в Пятигорске и Екатеринбурге.\n",
    " - Количество пользователей с типом подписки free составляет 54.4% (835 чел.) от общего количества пользователей, пользователи с типом подписки ultra составляют 45.6% (699 чел.) от общего количества пользователей.\n",
    " - Наибольшей популярностью сервис аренды самокатов пользуется у пользователей с возрастом 25 лет.\n",
    " - За одну поездку пользователи преодолевают от 1 до 7211 метров. Медианно расстояние равно 3134 метров.\n",
    " - Основная часть поездок пользователей занимет 15-20 мин, продолжительность в 18 минут наиболее распространена.\n",
    "\n",
    "- **4) Объединение данных**\n",
    "\n",
    " - Объединены датафреймы о пользователях, поездках и подписках в один датафрейм внутренним соединением. \n",
    " - На основе данного датафрейма создан датафрейм c данными о пользователях без подписки (free) и с подпиской (ultra).\n",
    " - Количество пользователей без подписки выше на 5046 пользователей с подпиской ultra.\n",
    " - В среднем, пользователи с обоими типам подписки проезжают примерно одинаковое расстояние, но пользовати с подпиской ultra все же больше: \n",
    "    - Среднее расстояние для пользователей free - 3114.65 метров.\n",
    "    - Среднее расстояние для пользователей ultra - 3148.64 метров. \n",
    " - В среднем,     пользователи с обоими типам подписки тратят примерно одинаковое время на поездку, но пользовати с подпиской ultra все же больше: \n",
    "     - Средняя продолжительность для пользователей free (Q2=18)\n",
    "     - Средняя продолжительность для пользователей ultra (Q2=18)\n",
    "     \n",
    "     \n",
    "- **5) Подсчёт выручки**     \n",
    "\n",
    " - Создан датафрейм с агрегированными данными о поездках\n",
    " - Округлена продолжительность каждой поездки с помощью метода «потолок».\n",
    " - Опредено суммарное расстояние, количество поездок и суммарное время для каждого пользователя за каждый месяц. \n",
    " - В датафрейм добавлен столбец с помесячной выручкой, которую принёс каждый пользователь.\n",
    " - Подсчитана общая выручка сервиса аренды самокатов GoFast - 3878641 руб. \n",
    " - В среднем, помесячная выручка с одного пользователя составляет 342 руб. \n",
    " \n",
    "\n",
    "- **6) Проверка гипотез**  \n",
    "\n",
    "В рамках данного пункта выдвигались следующие нулевые гипотезы:\n",
    "\n",
    " - 1) H0:  Средняя продолжительность поездок пользователей с типом подписки ultra равна средней продолжительности поездок пользователей с типом подписки free.\n",
    "\n",
    "На основании полученных результатов нулевая гипотеза была отвергнута. (см. пункт №6)\n",
    "\n",
    " - 2) H0:  Среднее расстояние, которое проезжают пользователи с типом подписки ultra за одну поездку равно опримальному, с точки зрения износа самоката, значению в 3115 метров.\n",
    " \n",
    " На основании полученных результатов нулевая гипотеза H0 не была отвергнута. (см. пункт №6)\n",
    " \n",
    "- 3) H0:  Помесячная средняя выручка от пользователей с типом подписки ultra равна помесячной средней выручке от с типом подписки free.\n",
    "\n",
    "На основании полученных результатов нулевая гипотеза была отвергнута. (см. пункт №6)\n",
    "\n",
    "**Для решения проблемы технической команы GoFast (подбор t-теста) было предложено следующее решение:**\n",
    "\n",
    "В данном случае мы имеем дело с двумя зависимыми (парными) выборками. Следовательно, будет проверяться гипотеза о равенстве значения генеральной совокупности до и после изменеия. \n",
    "Для проверки данной гипотезы применяется двухвыборочный t-тест для зависимых выборок.\n",
    "Опишем принцип проведения t-теста для данной гипотезы.\n",
    "\n",
    "**Необходимый метод в данном случае:** st.ttest_rel(sample_before, sample_after, equal_var=False, alternative='less')\n",
    "\n",
    " - Стоит указать аргумент (equal_var=False), так как полагаем, что дисперсии генеральных совокупностей не равны.\n",
    "\n",
    " - Проверяться будет левосторонняя альтернативная гипотеза (alternative='less'), так как из условия можем видеть, что техническая команда считает, что количество обращений в техподдержку значимо снизилось.\n",
    "\n",
    "Таким образом, после проведения данного t-теста, после сравнения p-value с установленным уровнем значимости, мы сможем сделать выводы об отвержении или неотвержении нулевой гипотезы.\n",
    "\n",
    "- **7) Проверка гипотез** \n",
    "\n",
    "**Для решения проблемы отдела маркетинга GoFast было предложено следующее решение:**\n",
    "\n",
    "Чтобы как минимум 100 существующих клиентов продлили подписку необходимо разослать минимум 1172 промокода. Такое количество промокодов обеспечит вероятность не выполнить план примерно в 5 %.\n",
    "\n",
    "**Для решения проблемы отдела маркетинга GoFast было предложено следующее решение:**\n",
    "\n",
    "При условии что рассылается 1 млн. уведомлений, которые открывают клиенты с вероятностью 40%, вероятность того, что уведомление откроют не более 399,5 тыс. составит 15.37%.\n",
    "\n"
   ]
  },
  {
   "cell_type": "markdown",
   "id": "88fbaf0d",
   "metadata": {},
   "source": [
    "<div class=\"alert alert-danger\">\n",
    "<b>❌ Итоговый комментарий ревьюера v1:</b> \n",
    "<br>Необходимо поправить:\n",
    "<br>- отобразить долю каждой группы пользователей\n",
    "<br>- корректно проверить вторую гипотезу\n",
    "\n",
    "<br>После всех внесённых правок не забудь поправить выводы там, где это необходимо\n",
    "</div>"
   ]
  },
  {
   "cell_type": "markdown",
   "id": "5330bd89",
   "metadata": {},
   "source": [
    "<div class=\"alert alert-info\">\n",
    "<b>Комментарий студента:</b>\n",
    "<br> Внес правки, где было необходимо, общий и промежуточные выводы исправил.\n",
    "</div>"
   ]
  },
  {
   "cell_type": "markdown",
   "id": "a0766f4e",
   "metadata": {},
   "source": [
    "<div class=\"alert alert-success\">\n",
    "<b>✔️ Итоговый комментарий ревьюера v2:</b>\n",
    "<br>Все правки выполнены. Молодец!\n",
    "<br>Я рад был поработать над проверкой твоей работы) В качестве дополнительного материала для изучения могу порекомендовать следующие материалы:\n",
    "\n",
    "    Курс \"Вероятность и статистика\" | Глеб Михайлов (free): https://www.youtube.com/playlist?list=PLQJ7ptkRY-xbHLLI66KdscKp_FJt0FsIi\n",
    "\n",
    "    Методы обнаружения выбросов: https://youtu.be/TOK7Kq7x0yc\n",
    "\n",
    "<br>Поздравляю со сдачей проекта и желаю удачи в дальнейшем обучении! 😉    \n",
    "</div>"
   ]
  }
 ],
 "metadata": {
  "ExecuteTimeLog": [
   {
    "duration": 1320,
    "start_time": "2024-05-24T05:13:30.405Z"
   },
   {
    "duration": 323,
    "start_time": "2024-05-24T05:13:31.727Z"
   },
   {
    "duration": 34,
    "start_time": "2024-05-24T05:13:32.051Z"
   },
   {
    "duration": 62,
    "start_time": "2024-05-24T05:13:32.088Z"
   },
   {
    "duration": 1001,
    "start_time": "2024-05-24T05:13:32.152Z"
   },
   {
    "duration": 0,
    "start_time": "2024-05-24T05:13:33.155Z"
   },
   {
    "duration": 0,
    "start_time": "2024-05-24T05:13:33.156Z"
   },
   {
    "duration": 0,
    "start_time": "2024-05-24T05:13:33.158Z"
   },
   {
    "duration": 0,
    "start_time": "2024-05-24T05:13:33.159Z"
   },
   {
    "duration": 0,
    "start_time": "2024-05-24T05:13:33.160Z"
   },
   {
    "duration": 0,
    "start_time": "2024-05-24T05:13:33.162Z"
   },
   {
    "duration": 0,
    "start_time": "2024-05-24T05:13:33.163Z"
   },
   {
    "duration": 0,
    "start_time": "2024-05-24T05:13:33.163Z"
   },
   {
    "duration": 0,
    "start_time": "2024-05-24T05:13:33.165Z"
   },
   {
    "duration": 0,
    "start_time": "2024-05-24T05:13:33.166Z"
   },
   {
    "duration": 0,
    "start_time": "2024-05-24T05:13:33.167Z"
   },
   {
    "duration": 0,
    "start_time": "2024-05-24T05:13:33.168Z"
   },
   {
    "duration": 0,
    "start_time": "2024-05-24T05:13:33.169Z"
   },
   {
    "duration": 0,
    "start_time": "2024-05-24T05:13:33.170Z"
   },
   {
    "duration": 0,
    "start_time": "2024-05-24T05:13:33.171Z"
   },
   {
    "duration": 0,
    "start_time": "2024-05-24T05:13:33.172Z"
   },
   {
    "duration": 0,
    "start_time": "2024-05-24T05:13:33.173Z"
   },
   {
    "duration": 0,
    "start_time": "2024-05-24T05:13:33.174Z"
   },
   {
    "duration": 0,
    "start_time": "2024-05-24T05:13:33.175Z"
   },
   {
    "duration": 0,
    "start_time": "2024-05-24T05:13:33.176Z"
   },
   {
    "duration": 0,
    "start_time": "2024-05-24T05:13:33.177Z"
   },
   {
    "duration": 0,
    "start_time": "2024-05-24T05:13:33.178Z"
   },
   {
    "duration": 0,
    "start_time": "2024-05-24T05:13:33.179Z"
   },
   {
    "duration": 0,
    "start_time": "2024-05-24T05:13:33.180Z"
   },
   {
    "duration": 0,
    "start_time": "2024-05-24T05:13:33.181Z"
   },
   {
    "duration": 0,
    "start_time": "2024-05-24T05:13:33.182Z"
   },
   {
    "duration": 0,
    "start_time": "2024-05-24T05:13:33.183Z"
   },
   {
    "duration": 0,
    "start_time": "2024-05-24T05:13:33.184Z"
   },
   {
    "duration": 0,
    "start_time": "2024-05-24T05:13:33.185Z"
   },
   {
    "duration": 1269,
    "start_time": "2024-05-24T08:23:31.697Z"
   },
   {
    "duration": 320,
    "start_time": "2024-05-24T08:23:32.968Z"
   },
   {
    "duration": 22,
    "start_time": "2024-05-24T08:23:33.289Z"
   },
   {
    "duration": 53,
    "start_time": "2024-05-24T08:23:33.313Z"
   },
   {
    "duration": 834,
    "start_time": "2024-05-24T08:23:33.368Z"
   },
   {
    "duration": 0,
    "start_time": "2024-05-24T08:23:34.204Z"
   },
   {
    "duration": 0,
    "start_time": "2024-05-24T08:23:34.206Z"
   },
   {
    "duration": 0,
    "start_time": "2024-05-24T08:23:34.207Z"
   },
   {
    "duration": 0,
    "start_time": "2024-05-24T08:23:34.208Z"
   },
   {
    "duration": 0,
    "start_time": "2024-05-24T08:23:34.209Z"
   },
   {
    "duration": 0,
    "start_time": "2024-05-24T08:23:34.210Z"
   },
   {
    "duration": 0,
    "start_time": "2024-05-24T08:23:34.211Z"
   },
   {
    "duration": 0,
    "start_time": "2024-05-24T08:23:34.212Z"
   },
   {
    "duration": 0,
    "start_time": "2024-05-24T08:23:34.213Z"
   },
   {
    "duration": 0,
    "start_time": "2024-05-24T08:23:34.214Z"
   },
   {
    "duration": 0,
    "start_time": "2024-05-24T08:23:34.215Z"
   },
   {
    "duration": 0,
    "start_time": "2024-05-24T08:23:34.216Z"
   },
   {
    "duration": 0,
    "start_time": "2024-05-24T08:23:34.217Z"
   },
   {
    "duration": 0,
    "start_time": "2024-05-24T08:23:34.219Z"
   },
   {
    "duration": 0,
    "start_time": "2024-05-24T08:23:34.220Z"
   },
   {
    "duration": 0,
    "start_time": "2024-05-24T08:23:34.221Z"
   },
   {
    "duration": 0,
    "start_time": "2024-05-24T08:23:34.222Z"
   },
   {
    "duration": 0,
    "start_time": "2024-05-24T08:23:34.223Z"
   },
   {
    "duration": 0,
    "start_time": "2024-05-24T08:23:34.224Z"
   },
   {
    "duration": 0,
    "start_time": "2024-05-24T08:23:34.224Z"
   },
   {
    "duration": 0,
    "start_time": "2024-05-24T08:23:34.225Z"
   },
   {
    "duration": 0,
    "start_time": "2024-05-24T08:23:34.226Z"
   },
   {
    "duration": 0,
    "start_time": "2024-05-24T08:23:34.227Z"
   },
   {
    "duration": 0,
    "start_time": "2024-05-24T08:23:34.228Z"
   },
   {
    "duration": 0,
    "start_time": "2024-05-24T08:23:34.229Z"
   },
   {
    "duration": 0,
    "start_time": "2024-05-24T08:23:34.230Z"
   },
   {
    "duration": 0,
    "start_time": "2024-05-24T08:23:34.231Z"
   },
   {
    "duration": 0,
    "start_time": "2024-05-24T08:23:34.232Z"
   },
   {
    "duration": 0,
    "start_time": "2024-05-24T08:23:34.233Z"
   },
   {
    "duration": 1122,
    "start_time": "2024-05-24T08:25:05.790Z"
   },
   {
    "duration": 67,
    "start_time": "2024-05-24T08:25:06.914Z"
   },
   {
    "duration": 20,
    "start_time": "2024-05-24T08:25:06.983Z"
   },
   {
    "duration": 50,
    "start_time": "2024-05-24T08:25:07.005Z"
   },
   {
    "duration": 842,
    "start_time": "2024-05-24T08:25:07.057Z"
   },
   {
    "duration": 0,
    "start_time": "2024-05-24T08:25:07.901Z"
   },
   {
    "duration": 0,
    "start_time": "2024-05-24T08:25:07.902Z"
   },
   {
    "duration": 0,
    "start_time": "2024-05-24T08:25:07.903Z"
   },
   {
    "duration": 0,
    "start_time": "2024-05-24T08:25:07.904Z"
   },
   {
    "duration": 0,
    "start_time": "2024-05-24T08:25:07.906Z"
   },
   {
    "duration": 0,
    "start_time": "2024-05-24T08:25:07.907Z"
   },
   {
    "duration": 0,
    "start_time": "2024-05-24T08:25:07.908Z"
   },
   {
    "duration": 0,
    "start_time": "2024-05-24T08:25:07.909Z"
   },
   {
    "duration": 0,
    "start_time": "2024-05-24T08:25:07.909Z"
   },
   {
    "duration": 0,
    "start_time": "2024-05-24T08:25:07.910Z"
   },
   {
    "duration": 0,
    "start_time": "2024-05-24T08:25:07.911Z"
   },
   {
    "duration": 0,
    "start_time": "2024-05-24T08:25:07.912Z"
   },
   {
    "duration": 0,
    "start_time": "2024-05-24T08:25:07.913Z"
   },
   {
    "duration": 0,
    "start_time": "2024-05-24T08:25:07.914Z"
   },
   {
    "duration": 0,
    "start_time": "2024-05-24T08:25:07.915Z"
   },
   {
    "duration": 0,
    "start_time": "2024-05-24T08:25:07.916Z"
   },
   {
    "duration": 0,
    "start_time": "2024-05-24T08:25:07.917Z"
   },
   {
    "duration": 0,
    "start_time": "2024-05-24T08:25:07.918Z"
   },
   {
    "duration": 0,
    "start_time": "2024-05-24T08:25:07.919Z"
   },
   {
    "duration": 0,
    "start_time": "2024-05-24T08:25:07.920Z"
   },
   {
    "duration": 0,
    "start_time": "2024-05-24T08:25:07.922Z"
   },
   {
    "duration": 0,
    "start_time": "2024-05-24T08:25:07.923Z"
   },
   {
    "duration": 0,
    "start_time": "2024-05-24T08:25:07.924Z"
   },
   {
    "duration": 0,
    "start_time": "2024-05-24T08:25:07.926Z"
   },
   {
    "duration": 0,
    "start_time": "2024-05-24T08:25:07.927Z"
   },
   {
    "duration": 0,
    "start_time": "2024-05-24T08:25:07.928Z"
   },
   {
    "duration": 0,
    "start_time": "2024-05-24T08:25:07.930Z"
   },
   {
    "duration": 0,
    "start_time": "2024-05-24T08:25:07.931Z"
   },
   {
    "duration": 0,
    "start_time": "2024-05-24T08:25:07.932Z"
   },
   {
    "duration": 745,
    "start_time": "2024-05-24T08:27:48.843Z"
   },
   {
    "duration": 727,
    "start_time": "2024-05-24T08:28:36.711Z"
   },
   {
    "duration": 693,
    "start_time": "2024-05-24T08:28:43.117Z"
   },
   {
    "duration": 1150,
    "start_time": "2024-05-24T08:30:12.464Z"
   },
   {
    "duration": 67,
    "start_time": "2024-05-24T08:30:13.616Z"
   },
   {
    "duration": 20,
    "start_time": "2024-05-24T08:30:13.684Z"
   },
   {
    "duration": 47,
    "start_time": "2024-05-24T08:30:13.705Z"
   },
   {
    "duration": 860,
    "start_time": "2024-05-24T08:30:13.754Z"
   },
   {
    "duration": 0,
    "start_time": "2024-05-24T08:30:14.616Z"
   },
   {
    "duration": 0,
    "start_time": "2024-05-24T08:30:14.617Z"
   },
   {
    "duration": 0,
    "start_time": "2024-05-24T08:30:14.618Z"
   },
   {
    "duration": 0,
    "start_time": "2024-05-24T08:30:14.620Z"
   },
   {
    "duration": 0,
    "start_time": "2024-05-24T08:30:14.621Z"
   },
   {
    "duration": 0,
    "start_time": "2024-05-24T08:30:14.623Z"
   },
   {
    "duration": 0,
    "start_time": "2024-05-24T08:30:14.624Z"
   },
   {
    "duration": 0,
    "start_time": "2024-05-24T08:30:14.625Z"
   },
   {
    "duration": 0,
    "start_time": "2024-05-24T08:30:14.627Z"
   },
   {
    "duration": 0,
    "start_time": "2024-05-24T08:30:14.628Z"
   },
   {
    "duration": 0,
    "start_time": "2024-05-24T08:30:14.629Z"
   },
   {
    "duration": 0,
    "start_time": "2024-05-24T08:30:14.630Z"
   },
   {
    "duration": 0,
    "start_time": "2024-05-24T08:30:14.631Z"
   },
   {
    "duration": 1,
    "start_time": "2024-05-24T08:30:14.632Z"
   },
   {
    "duration": 0,
    "start_time": "2024-05-24T08:30:14.634Z"
   },
   {
    "duration": 0,
    "start_time": "2024-05-24T08:30:14.635Z"
   },
   {
    "duration": 0,
    "start_time": "2024-05-24T08:30:14.636Z"
   },
   {
    "duration": 0,
    "start_time": "2024-05-24T08:30:14.637Z"
   },
   {
    "duration": 0,
    "start_time": "2024-05-24T08:30:14.638Z"
   },
   {
    "duration": 0,
    "start_time": "2024-05-24T08:30:14.639Z"
   },
   {
    "duration": 0,
    "start_time": "2024-05-24T08:30:14.641Z"
   },
   {
    "duration": 0,
    "start_time": "2024-05-24T08:30:14.642Z"
   },
   {
    "duration": 0,
    "start_time": "2024-05-24T08:30:14.643Z"
   },
   {
    "duration": 0,
    "start_time": "2024-05-24T08:30:14.644Z"
   },
   {
    "duration": 0,
    "start_time": "2024-05-24T08:30:14.645Z"
   },
   {
    "duration": 0,
    "start_time": "2024-05-24T08:30:14.645Z"
   },
   {
    "duration": 0,
    "start_time": "2024-05-24T08:30:14.646Z"
   },
   {
    "duration": 0,
    "start_time": "2024-05-24T08:30:14.647Z"
   },
   {
    "duration": 0,
    "start_time": "2024-05-24T08:30:14.648Z"
   },
   {
    "duration": 717,
    "start_time": "2024-05-24T08:30:33.621Z"
   },
   {
    "duration": 66,
    "start_time": "2024-05-24T08:33:16.221Z"
   },
   {
    "duration": 66,
    "start_time": "2024-05-24T08:33:21.489Z"
   },
   {
    "duration": 1131,
    "start_time": "2024-05-24T08:33:25.184Z"
   },
   {
    "duration": 66,
    "start_time": "2024-05-24T08:33:26.317Z"
   },
   {
    "duration": 19,
    "start_time": "2024-05-24T08:33:26.385Z"
   },
   {
    "duration": 48,
    "start_time": "2024-05-24T08:33:26.406Z"
   },
   {
    "duration": 20,
    "start_time": "2024-05-24T08:33:26.456Z"
   },
   {
    "duration": 24,
    "start_time": "2024-05-24T08:33:26.478Z"
   },
   {
    "duration": 6,
    "start_time": "2024-05-24T08:33:26.503Z"
   },
   {
    "duration": 6,
    "start_time": "2024-05-24T08:33:26.511Z"
   },
   {
    "duration": 8,
    "start_time": "2024-05-24T08:33:26.519Z"
   },
   {
    "duration": 16,
    "start_time": "2024-05-24T08:33:26.530Z"
   },
   {
    "duration": 17,
    "start_time": "2024-05-24T08:33:26.547Z"
   },
   {
    "duration": 183,
    "start_time": "2024-05-24T08:33:26.599Z"
   },
   {
    "duration": 18,
    "start_time": "2024-05-24T08:33:26.783Z"
   },
   {
    "duration": 126,
    "start_time": "2024-05-24T08:33:26.802Z"
   },
   {
    "duration": 18,
    "start_time": "2024-05-24T08:33:26.929Z"
   },
   {
    "duration": 335,
    "start_time": "2024-05-24T08:33:26.948Z"
   },
   {
    "duration": 301,
    "start_time": "2024-05-24T08:33:27.285Z"
   },
   {
    "duration": 285,
    "start_time": "2024-05-24T08:33:27.587Z"
   },
   {
    "duration": 328,
    "start_time": "2024-05-24T08:33:27.874Z"
   },
   {
    "duration": 230,
    "start_time": "2024-05-24T08:33:28.203Z"
   },
   {
    "duration": 28,
    "start_time": "2024-05-24T08:33:28.435Z"
   },
   {
    "duration": 49,
    "start_time": "2024-05-24T08:33:28.464Z"
   },
   {
    "duration": 27,
    "start_time": "2024-05-24T08:33:28.515Z"
   },
   {
    "duration": 489,
    "start_time": "2024-05-24T08:33:28.543Z"
   },
   {
    "duration": 429,
    "start_time": "2024-05-24T08:33:29.033Z"
   },
   {
    "duration": 10,
    "start_time": "2024-05-24T08:33:29.464Z"
   },
   {
    "duration": 61,
    "start_time": "2024-05-24T08:33:29.475Z"
   },
   {
    "duration": 24,
    "start_time": "2024-05-24T08:33:29.539Z"
   },
   {
    "duration": 3,
    "start_time": "2024-05-24T08:33:29.564Z"
   },
   {
    "duration": 32,
    "start_time": "2024-05-24T08:33:29.569Z"
   },
   {
    "duration": 6,
    "start_time": "2024-05-24T08:33:29.603Z"
   },
   {
    "duration": 8,
    "start_time": "2024-05-24T08:33:29.610Z"
   },
   {
    "duration": 430,
    "start_time": "2024-05-24T08:33:29.620Z"
   },
   {
    "duration": 271,
    "start_time": "2024-05-24T08:33:30.052Z"
   },
   {
    "duration": 289,
    "start_time": "2024-05-24T08:37:21.076Z"
   },
   {
    "duration": 338,
    "start_time": "2024-05-24T08:37:28.043Z"
   },
   {
    "duration": 534,
    "start_time": "2024-05-24T08:39:18.219Z"
   },
   {
    "duration": 267,
    "start_time": "2024-05-24T08:39:34.947Z"
   },
   {
    "duration": 273,
    "start_time": "2024-05-24T08:41:51.827Z"
   },
   {
    "duration": 293,
    "start_time": "2024-05-24T08:45:56.323Z"
   },
   {
    "duration": 250,
    "start_time": "2024-05-24T08:48:35.859Z"
   },
   {
    "duration": 302,
    "start_time": "2024-05-24T08:48:45.211Z"
   },
   {
    "duration": 313,
    "start_time": "2024-05-24T08:48:56.387Z"
   },
   {
    "duration": 295,
    "start_time": "2024-05-24T08:49:02.992Z"
   },
   {
    "duration": 287,
    "start_time": "2024-05-24T08:49:11.030Z"
   },
   {
    "duration": 1075,
    "start_time": "2024-05-24T18:04:12.902Z"
   },
   {
    "duration": 68,
    "start_time": "2024-05-24T18:04:13.979Z"
   },
   {
    "duration": 22,
    "start_time": "2024-05-24T18:04:14.049Z"
   },
   {
    "duration": 51,
    "start_time": "2024-05-24T18:04:14.074Z"
   },
   {
    "duration": 17,
    "start_time": "2024-05-24T18:04:14.144Z"
   },
   {
    "duration": 9,
    "start_time": "2024-05-24T18:04:14.163Z"
   },
   {
    "duration": 13,
    "start_time": "2024-05-24T18:04:14.173Z"
   },
   {
    "duration": 19,
    "start_time": "2024-05-24T18:04:14.188Z"
   },
   {
    "duration": 34,
    "start_time": "2024-05-24T18:04:14.208Z"
   },
   {
    "duration": 16,
    "start_time": "2024-05-24T18:04:14.244Z"
   },
   {
    "duration": 19,
    "start_time": "2024-05-24T18:04:14.262Z"
   },
   {
    "duration": 203,
    "start_time": "2024-05-24T18:04:14.282Z"
   },
   {
    "duration": 12,
    "start_time": "2024-05-24T18:04:14.487Z"
   },
   {
    "duration": 131,
    "start_time": "2024-05-24T18:04:14.501Z"
   },
   {
    "duration": 24,
    "start_time": "2024-05-24T18:04:14.634Z"
   },
   {
    "duration": 369,
    "start_time": "2024-05-24T18:04:14.659Z"
   },
   {
    "duration": 316,
    "start_time": "2024-05-24T18:04:15.030Z"
   },
   {
    "duration": 300,
    "start_time": "2024-05-24T18:04:15.347Z"
   },
   {
    "duration": 342,
    "start_time": "2024-05-24T18:04:15.648Z"
   },
   {
    "duration": 241,
    "start_time": "2024-05-24T18:04:15.992Z"
   },
   {
    "duration": 38,
    "start_time": "2024-05-24T18:04:16.235Z"
   },
   {
    "duration": 23,
    "start_time": "2024-05-24T18:04:16.275Z"
   },
   {
    "duration": 21,
    "start_time": "2024-05-24T18:04:16.299Z"
   },
   {
    "duration": 535,
    "start_time": "2024-05-24T18:04:16.321Z"
   },
   {
    "duration": 494,
    "start_time": "2024-05-24T18:04:16.858Z"
   },
   {
    "duration": 11,
    "start_time": "2024-05-24T18:04:17.354Z"
   },
   {
    "duration": 52,
    "start_time": "2024-05-24T18:04:17.367Z"
   },
   {
    "duration": 47,
    "start_time": "2024-05-24T18:04:17.423Z"
   },
   {
    "duration": 4,
    "start_time": "2024-05-24T18:04:17.472Z"
   },
   {
    "duration": 15,
    "start_time": "2024-05-24T18:04:17.477Z"
   },
   {
    "duration": 8,
    "start_time": "2024-05-24T18:04:17.493Z"
   },
   {
    "duration": 24,
    "start_time": "2024-05-24T18:04:17.503Z"
   },
   {
    "duration": 445,
    "start_time": "2024-05-24T18:04:17.529Z"
   },
   {
    "duration": 294,
    "start_time": "2024-05-24T18:04:17.976Z"
   },
   {
    "duration": 6,
    "start_time": "2024-05-24T18:10:00.570Z"
   },
   {
    "duration": 7,
    "start_time": "2024-05-24T18:10:24.316Z"
   },
   {
    "duration": 5,
    "start_time": "2024-05-24T18:11:25.509Z"
   },
   {
    "duration": 1405,
    "start_time": "2024-05-25T15:02:05.060Z"
   },
   {
    "duration": 306,
    "start_time": "2024-05-25T15:02:06.467Z"
   },
   {
    "duration": 23,
    "start_time": "2024-05-25T15:02:06.775Z"
   },
   {
    "duration": 102,
    "start_time": "2024-05-25T15:02:06.800Z"
   },
   {
    "duration": 137,
    "start_time": "2024-05-25T15:02:06.904Z"
   },
   {
    "duration": 0,
    "start_time": "2024-05-25T15:02:07.044Z"
   },
   {
    "duration": 0,
    "start_time": "2024-05-25T15:02:07.045Z"
   },
   {
    "duration": 0,
    "start_time": "2024-05-25T15:02:07.046Z"
   },
   {
    "duration": 0,
    "start_time": "2024-05-25T15:02:07.048Z"
   },
   {
    "duration": 0,
    "start_time": "2024-05-25T15:02:07.049Z"
   },
   {
    "duration": 0,
    "start_time": "2024-05-25T15:02:07.050Z"
   },
   {
    "duration": 0,
    "start_time": "2024-05-25T15:02:07.050Z"
   },
   {
    "duration": 0,
    "start_time": "2024-05-25T15:02:07.051Z"
   },
   {
    "duration": 0,
    "start_time": "2024-05-25T15:02:07.053Z"
   },
   {
    "duration": 0,
    "start_time": "2024-05-25T15:02:07.054Z"
   },
   {
    "duration": 0,
    "start_time": "2024-05-25T15:02:07.055Z"
   },
   {
    "duration": 0,
    "start_time": "2024-05-25T15:02:07.056Z"
   },
   {
    "duration": 0,
    "start_time": "2024-05-25T15:02:07.057Z"
   },
   {
    "duration": 0,
    "start_time": "2024-05-25T15:02:07.058Z"
   },
   {
    "duration": 0,
    "start_time": "2024-05-25T15:02:07.060Z"
   },
   {
    "duration": 0,
    "start_time": "2024-05-25T15:02:07.061Z"
   },
   {
    "duration": 0,
    "start_time": "2024-05-25T15:02:07.062Z"
   },
   {
    "duration": 1,
    "start_time": "2024-05-25T15:02:07.091Z"
   },
   {
    "duration": 0,
    "start_time": "2024-05-25T15:02:07.093Z"
   },
   {
    "duration": 0,
    "start_time": "2024-05-25T15:02:07.094Z"
   },
   {
    "duration": 0,
    "start_time": "2024-05-25T15:02:07.095Z"
   },
   {
    "duration": 0,
    "start_time": "2024-05-25T15:02:07.096Z"
   },
   {
    "duration": 0,
    "start_time": "2024-05-25T15:02:07.097Z"
   },
   {
    "duration": 0,
    "start_time": "2024-05-25T15:02:07.098Z"
   },
   {
    "duration": 0,
    "start_time": "2024-05-25T15:02:07.100Z"
   },
   {
    "duration": 0,
    "start_time": "2024-05-25T15:02:07.100Z"
   },
   {
    "duration": 0,
    "start_time": "2024-05-25T15:02:07.101Z"
   },
   {
    "duration": 0,
    "start_time": "2024-05-25T15:02:07.103Z"
   },
   {
    "duration": 0,
    "start_time": "2024-05-25T15:02:07.104Z"
   },
   {
    "duration": 1150,
    "start_time": "2024-05-25T15:02:25.421Z"
   },
   {
    "duration": 71,
    "start_time": "2024-05-25T15:02:26.574Z"
   },
   {
    "duration": 22,
    "start_time": "2024-05-25T15:02:26.646Z"
   },
   {
    "duration": 57,
    "start_time": "2024-05-25T15:02:26.670Z"
   },
   {
    "duration": 13,
    "start_time": "2024-05-25T15:02:26.729Z"
   },
   {
    "duration": 6,
    "start_time": "2024-05-25T15:02:26.744Z"
   },
   {
    "duration": 60,
    "start_time": "2024-05-25T15:02:26.752Z"
   },
   {
    "duration": 36,
    "start_time": "2024-05-25T15:02:26.814Z"
   },
   {
    "duration": 40,
    "start_time": "2024-05-25T15:02:26.852Z"
   },
   {
    "duration": 31,
    "start_time": "2024-05-25T15:02:26.894Z"
   },
   {
    "duration": 28,
    "start_time": "2024-05-25T15:02:26.927Z"
   },
   {
    "duration": 217,
    "start_time": "2024-05-25T15:02:26.957Z"
   },
   {
    "duration": 18,
    "start_time": "2024-05-25T15:02:27.176Z"
   },
   {
    "duration": 144,
    "start_time": "2024-05-25T15:02:27.196Z"
   },
   {
    "duration": 19,
    "start_time": "2024-05-25T15:02:27.342Z"
   },
   {
    "duration": 405,
    "start_time": "2024-05-25T15:02:27.363Z"
   },
   {
    "duration": 353,
    "start_time": "2024-05-25T15:02:27.769Z"
   },
   {
    "duration": 337,
    "start_time": "2024-05-25T15:02:28.124Z"
   },
   {
    "duration": 375,
    "start_time": "2024-05-25T15:02:28.463Z"
   },
   {
    "duration": 288,
    "start_time": "2024-05-25T15:02:28.840Z"
   },
   {
    "duration": 33,
    "start_time": "2024-05-25T15:02:29.130Z"
   },
   {
    "duration": 44,
    "start_time": "2024-05-25T15:02:29.165Z"
   },
   {
    "duration": 25,
    "start_time": "2024-05-25T15:02:29.210Z"
   },
   {
    "duration": 583,
    "start_time": "2024-05-25T15:02:29.237Z"
   },
   {
    "duration": 523,
    "start_time": "2024-05-25T15:02:29.822Z"
   },
   {
    "duration": 15,
    "start_time": "2024-05-25T15:02:30.347Z"
   },
   {
    "duration": 142,
    "start_time": "2024-05-25T15:02:30.364Z"
   },
   {
    "duration": 29,
    "start_time": "2024-05-25T15:02:30.509Z"
   },
   {
    "duration": 60,
    "start_time": "2024-05-25T15:02:30.540Z"
   },
   {
    "duration": 135,
    "start_time": "2024-05-25T15:02:30.601Z"
   },
   {
    "duration": 292,
    "start_time": "2024-05-25T15:02:30.737Z"
   },
   {
    "duration": 326,
    "start_time": "2024-05-25T15:02:31.031Z"
   },
   {
    "duration": 534,
    "start_time": "2024-05-25T15:02:31.359Z"
   },
   {
    "duration": 338,
    "start_time": "2024-05-25T15:02:31.895Z"
   },
   {
    "duration": 117,
    "start_time": "2024-05-25T15:02:50.970Z"
   },
   {
    "duration": 1232,
    "start_time": "2024-05-25T15:02:59.761Z"
   },
   {
    "duration": 73,
    "start_time": "2024-05-25T15:03:00.995Z"
   },
   {
    "duration": 388,
    "start_time": "2024-05-25T15:03:01.070Z"
   },
   {
    "duration": 274,
    "start_time": "2024-05-25T15:03:01.460Z"
   },
   {
    "duration": 113,
    "start_time": "2024-05-25T15:03:01.736Z"
   },
   {
    "duration": 46,
    "start_time": "2024-05-25T15:03:01.851Z"
   },
   {
    "duration": 47,
    "start_time": "2024-05-25T15:03:01.899Z"
   },
   {
    "duration": 27,
    "start_time": "2024-05-25T15:03:01.948Z"
   },
   {
    "duration": 44,
    "start_time": "2024-05-25T15:03:01.977Z"
   },
   {
    "duration": 36,
    "start_time": "2024-05-25T15:03:02.024Z"
   },
   {
    "duration": 32,
    "start_time": "2024-05-25T15:03:02.062Z"
   },
   {
    "duration": 217,
    "start_time": "2024-05-25T15:03:02.096Z"
   },
   {
    "duration": 15,
    "start_time": "2024-05-25T15:03:02.315Z"
   },
   {
    "duration": 169,
    "start_time": "2024-05-25T15:03:02.333Z"
   },
   {
    "duration": 20,
    "start_time": "2024-05-25T15:03:02.504Z"
   },
   {
    "duration": 510,
    "start_time": "2024-05-25T15:03:02.526Z"
   },
   {
    "duration": 356,
    "start_time": "2024-05-25T15:03:03.039Z"
   },
   {
    "duration": 329,
    "start_time": "2024-05-25T15:03:03.397Z"
   },
   {
    "duration": 415,
    "start_time": "2024-05-25T15:03:03.728Z"
   },
   {
    "duration": 284,
    "start_time": "2024-05-25T15:03:04.145Z"
   },
   {
    "duration": 34,
    "start_time": "2024-05-25T15:03:04.431Z"
   },
   {
    "duration": 43,
    "start_time": "2024-05-25T15:03:04.467Z"
   },
   {
    "duration": 24,
    "start_time": "2024-05-25T15:03:04.512Z"
   },
   {
    "duration": 562,
    "start_time": "2024-05-25T15:03:04.537Z"
   },
   {
    "duration": 530,
    "start_time": "2024-05-25T15:03:05.101Z"
   },
   {
    "duration": 13,
    "start_time": "2024-05-25T15:03:05.632Z"
   },
   {
    "duration": 79,
    "start_time": "2024-05-25T15:03:05.646Z"
   },
   {
    "duration": 35,
    "start_time": "2024-05-25T15:03:05.729Z"
   },
   {
    "duration": 5,
    "start_time": "2024-05-25T15:03:05.766Z"
   },
   {
    "duration": 34,
    "start_time": "2024-05-25T15:03:05.772Z"
   },
   {
    "duration": 11,
    "start_time": "2024-05-25T15:03:05.808Z"
   },
   {
    "duration": 17,
    "start_time": "2024-05-25T15:03:05.821Z"
   },
   {
    "duration": 463,
    "start_time": "2024-05-25T15:03:05.839Z"
   },
   {
    "duration": 313,
    "start_time": "2024-05-25T15:03:06.304Z"
   },
   {
    "duration": 43,
    "start_time": "2024-05-25T15:08:11.808Z"
   },
   {
    "duration": 48,
    "start_time": "2024-05-25T15:08:14.771Z"
   },
   {
    "duration": 44,
    "start_time": "2024-05-25T15:08:19.034Z"
   },
   {
    "duration": 46,
    "start_time": "2024-05-25T15:08:23.234Z"
   },
   {
    "duration": 71,
    "start_time": "2024-05-25T15:09:53.709Z"
   },
   {
    "duration": 206,
    "start_time": "2024-05-25T15:11:20.577Z"
   },
   {
    "duration": 330,
    "start_time": "2024-05-25T15:11:31.754Z"
   },
   {
    "duration": 91,
    "start_time": "2024-05-25T15:12:41.081Z"
   },
   {
    "duration": 135,
    "start_time": "2024-05-25T15:13:30.987Z"
   },
   {
    "duration": 81,
    "start_time": "2024-05-25T15:13:33.720Z"
   },
   {
    "duration": 5,
    "start_time": "2024-05-25T15:16:11.240Z"
   },
   {
    "duration": 169,
    "start_time": "2024-05-25T15:16:29.712Z"
   },
   {
    "duration": 10,
    "start_time": "2024-05-25T15:16:45.296Z"
   },
   {
    "duration": 13,
    "start_time": "2024-05-25T15:16:48.544Z"
   },
   {
    "duration": 5,
    "start_time": "2024-05-25T15:17:07.976Z"
   },
   {
    "duration": 141,
    "start_time": "2024-05-25T15:17:34.760Z"
   },
   {
    "duration": 172,
    "start_time": "2024-05-25T15:17:41.000Z"
   },
   {
    "duration": 75,
    "start_time": "2024-05-25T15:18:24.136Z"
   },
   {
    "duration": 80,
    "start_time": "2024-05-25T15:18:27.200Z"
   },
   {
    "duration": 123,
    "start_time": "2024-05-25T15:18:39.064Z"
   },
   {
    "duration": 132,
    "start_time": "2024-05-25T15:18:45.680Z"
   },
   {
    "duration": 134,
    "start_time": "2024-05-25T15:19:02.039Z"
   },
   {
    "duration": 130,
    "start_time": "2024-05-25T15:19:42.319Z"
   },
   {
    "duration": 152,
    "start_time": "2024-05-25T15:19:50.575Z"
   },
   {
    "duration": 257,
    "start_time": "2024-05-25T15:20:01.511Z"
   },
   {
    "duration": 174,
    "start_time": "2024-05-25T15:20:48.272Z"
   },
   {
    "duration": 180,
    "start_time": "2024-05-25T15:20:51.310Z"
   },
   {
    "duration": 163,
    "start_time": "2024-05-25T15:22:15.294Z"
   },
   {
    "duration": 162,
    "start_time": "2024-05-25T15:23:10.597Z"
   },
   {
    "duration": 153,
    "start_time": "2024-05-25T15:23:18.646Z"
   },
   {
    "duration": 84,
    "start_time": "2024-05-25T15:24:36.549Z"
   },
   {
    "duration": 129,
    "start_time": "2024-05-25T15:25:00.137Z"
   },
   {
    "duration": 86,
    "start_time": "2024-05-25T15:25:10.606Z"
   },
   {
    "duration": 42,
    "start_time": "2024-05-25T15:25:29.546Z"
   },
   {
    "duration": 80,
    "start_time": "2024-05-25T15:25:52.192Z"
   },
   {
    "duration": 167,
    "start_time": "2024-05-25T15:25:55.677Z"
   },
   {
    "duration": 153,
    "start_time": "2024-05-25T15:26:11.493Z"
   },
   {
    "duration": 175,
    "start_time": "2024-05-25T15:29:45.230Z"
   },
   {
    "duration": 449,
    "start_time": "2024-05-25T15:31:22.957Z"
   },
   {
    "duration": 371,
    "start_time": "2024-05-25T15:32:07.733Z"
   },
   {
    "duration": 372,
    "start_time": "2024-05-25T15:32:13.908Z"
   },
   {
    "duration": 368,
    "start_time": "2024-05-25T15:32:51.496Z"
   },
   {
    "duration": 370,
    "start_time": "2024-05-25T15:32:55.037Z"
   },
   {
    "duration": 130,
    "start_time": "2024-05-25T15:33:33.397Z"
   },
   {
    "duration": 129,
    "start_time": "2024-05-25T15:33:36.605Z"
   },
   {
    "duration": 294,
    "start_time": "2024-05-25T15:35:24.999Z"
   },
   {
    "duration": 228,
    "start_time": "2024-05-25T15:36:07.067Z"
   },
   {
    "duration": 169,
    "start_time": "2024-05-25T15:37:14.883Z"
   },
   {
    "duration": 181,
    "start_time": "2024-05-25T15:37:23.708Z"
   },
   {
    "duration": 200,
    "start_time": "2024-05-25T15:38:17.123Z"
   },
   {
    "duration": 41,
    "start_time": "2024-05-25T15:38:22.523Z"
   },
   {
    "duration": 189,
    "start_time": "2024-05-25T15:38:25.516Z"
   },
   {
    "duration": 190,
    "start_time": "2024-05-25T15:38:37.145Z"
   },
   {
    "duration": 146,
    "start_time": "2024-05-25T15:39:24.849Z"
   },
   {
    "duration": 153,
    "start_time": "2024-05-25T15:39:32.819Z"
   },
   {
    "duration": 359,
    "start_time": "2024-05-25T15:40:11.699Z"
   },
   {
    "duration": 452,
    "start_time": "2024-05-25T15:40:15.322Z"
   },
   {
    "duration": 393,
    "start_time": "2024-05-25T15:40:33.002Z"
   },
   {
    "duration": 379,
    "start_time": "2024-05-25T15:40:48.584Z"
   },
   {
    "duration": 1214,
    "start_time": "2024-05-25T15:41:19.766Z"
   },
   {
    "duration": 73,
    "start_time": "2024-05-25T15:41:20.982Z"
   },
   {
    "duration": 25,
    "start_time": "2024-05-25T15:41:21.058Z"
   },
   {
    "duration": 61,
    "start_time": "2024-05-25T15:41:21.085Z"
   },
   {
    "duration": 15,
    "start_time": "2024-05-25T15:41:21.148Z"
   },
   {
    "duration": 4,
    "start_time": "2024-05-25T15:41:21.165Z"
   },
   {
    "duration": 23,
    "start_time": "2024-05-25T15:41:21.171Z"
   },
   {
    "duration": 6,
    "start_time": "2024-05-25T15:41:21.196Z"
   },
   {
    "duration": 9,
    "start_time": "2024-05-25T15:41:21.203Z"
   },
   {
    "duration": 20,
    "start_time": "2024-05-25T15:41:21.214Z"
   },
   {
    "duration": 57,
    "start_time": "2024-05-25T15:41:21.236Z"
   },
   {
    "duration": 231,
    "start_time": "2024-05-25T15:41:21.295Z"
   },
   {
    "duration": 15,
    "start_time": "2024-05-25T15:41:21.527Z"
   },
   {
    "duration": 167,
    "start_time": "2024-05-25T15:41:21.544Z"
   },
   {
    "duration": 178,
    "start_time": "2024-05-25T15:41:21.713Z"
   },
   {
    "duration": 20,
    "start_time": "2024-05-25T15:41:21.893Z"
   },
   {
    "duration": 395,
    "start_time": "2024-05-25T15:41:21.914Z"
   },
   {
    "duration": 321,
    "start_time": "2024-05-25T15:41:22.311Z"
   },
   {
    "duration": 335,
    "start_time": "2024-05-25T15:41:22.634Z"
   },
   {
    "duration": 388,
    "start_time": "2024-05-25T15:41:22.971Z"
   },
   {
    "duration": 257,
    "start_time": "2024-05-25T15:41:23.361Z"
   },
   {
    "duration": 31,
    "start_time": "2024-05-25T15:41:23.620Z"
   },
   {
    "duration": 46,
    "start_time": "2024-05-25T15:41:23.653Z"
   },
   {
    "duration": 24,
    "start_time": "2024-05-25T15:41:23.701Z"
   },
   {
    "duration": 546,
    "start_time": "2024-05-25T15:41:23.727Z"
   },
   {
    "duration": 497,
    "start_time": "2024-05-25T15:41:24.275Z"
   },
   {
    "duration": 19,
    "start_time": "2024-05-25T15:41:24.774Z"
   },
   {
    "duration": 59,
    "start_time": "2024-05-25T15:41:24.796Z"
   },
   {
    "duration": 48,
    "start_time": "2024-05-25T15:41:24.857Z"
   },
   {
    "duration": 35,
    "start_time": "2024-05-25T15:41:24.907Z"
   },
   {
    "duration": 60,
    "start_time": "2024-05-25T15:41:24.943Z"
   },
   {
    "duration": 6,
    "start_time": "2024-05-25T15:41:25.005Z"
   },
   {
    "duration": 9,
    "start_time": "2024-05-25T15:41:25.013Z"
   },
   {
    "duration": 440,
    "start_time": "2024-05-25T15:41:25.024Z"
   },
   {
    "duration": 329,
    "start_time": "2024-05-25T15:41:25.466Z"
   },
   {
    "duration": 7,
    "start_time": "2024-05-25T15:44:41.355Z"
   },
   {
    "duration": 8,
    "start_time": "2024-05-25T15:46:08.041Z"
   },
   {
    "duration": 5,
    "start_time": "2024-05-25T15:48:40.124Z"
   },
   {
    "duration": 6,
    "start_time": "2024-05-25T15:48:46.506Z"
   },
   {
    "duration": 7,
    "start_time": "2024-05-25T15:48:49.712Z"
   },
   {
    "duration": 6,
    "start_time": "2024-05-25T15:48:52.263Z"
   },
   {
    "duration": 45,
    "start_time": "2024-05-25T15:50:02.808Z"
   },
   {
    "duration": 42,
    "start_time": "2024-05-25T15:54:45.511Z"
   },
   {
    "duration": 1212,
    "start_time": "2024-05-25T15:55:28.446Z"
   },
   {
    "duration": 72,
    "start_time": "2024-05-25T15:55:29.660Z"
   },
   {
    "duration": 27,
    "start_time": "2024-05-25T15:55:29.733Z"
   },
   {
    "duration": 78,
    "start_time": "2024-05-25T15:55:29.763Z"
   },
   {
    "duration": 14,
    "start_time": "2024-05-25T15:55:29.843Z"
   },
   {
    "duration": 40,
    "start_time": "2024-05-25T15:55:29.859Z"
   },
   {
    "duration": 18,
    "start_time": "2024-05-25T15:55:29.900Z"
   },
   {
    "duration": 14,
    "start_time": "2024-05-25T15:55:29.920Z"
   },
   {
    "duration": 17,
    "start_time": "2024-05-25T15:55:29.936Z"
   },
   {
    "duration": 19,
    "start_time": "2024-05-25T15:55:29.956Z"
   },
   {
    "duration": 23,
    "start_time": "2024-05-25T15:55:29.977Z"
   },
   {
    "duration": 268,
    "start_time": "2024-05-25T15:55:30.002Z"
   },
   {
    "duration": 23,
    "start_time": "2024-05-25T15:55:30.271Z"
   },
   {
    "duration": 268,
    "start_time": "2024-05-25T15:55:30.296Z"
   },
   {
    "duration": 203,
    "start_time": "2024-05-25T15:55:30.566Z"
   },
   {
    "duration": 191,
    "start_time": "2024-05-25T15:55:30.771Z"
   },
   {
    "duration": 585,
    "start_time": "2024-05-25T15:55:30.964Z"
   },
   {
    "duration": 380,
    "start_time": "2024-05-25T15:55:31.551Z"
   },
   {
    "duration": 367,
    "start_time": "2024-05-25T15:55:31.932Z"
   },
   {
    "duration": 457,
    "start_time": "2024-05-25T15:55:32.301Z"
   },
   {
    "duration": 271,
    "start_time": "2024-05-25T15:55:32.760Z"
   },
   {
    "duration": 34,
    "start_time": "2024-05-25T15:55:33.033Z"
   },
   {
    "duration": 206,
    "start_time": "2024-05-25T15:55:33.069Z"
   },
   {
    "duration": 25,
    "start_time": "2024-05-25T15:55:33.277Z"
   },
   {
    "duration": 559,
    "start_time": "2024-05-25T15:55:33.304Z"
   },
   {
    "duration": 486,
    "start_time": "2024-05-25T15:55:33.865Z"
   },
   {
    "duration": 11,
    "start_time": "2024-05-25T15:55:34.353Z"
   },
   {
    "duration": 64,
    "start_time": "2024-05-25T15:55:34.367Z"
   },
   {
    "duration": 26,
    "start_time": "2024-05-25T15:55:34.433Z"
   },
   {
    "duration": 3,
    "start_time": "2024-05-25T15:55:34.461Z"
   },
   {
    "duration": 28,
    "start_time": "2024-05-25T15:55:34.466Z"
   },
   {
    "duration": 5,
    "start_time": "2024-05-25T15:55:34.496Z"
   },
   {
    "duration": 15,
    "start_time": "2024-05-25T15:55:34.503Z"
   },
   {
    "duration": 460,
    "start_time": "2024-05-25T15:55:34.520Z"
   },
   {
    "duration": 328,
    "start_time": "2024-05-25T15:55:34.982Z"
   },
   {
    "duration": 1096,
    "start_time": "2024-05-26T09:30:22.596Z"
   },
   {
    "duration": 68,
    "start_time": "2024-05-26T09:30:23.694Z"
   },
   {
    "duration": 19,
    "start_time": "2024-05-26T09:30:23.764Z"
   },
   {
    "duration": 64,
    "start_time": "2024-05-26T09:30:23.785Z"
   },
   {
    "duration": 12,
    "start_time": "2024-05-26T09:30:23.850Z"
   },
   {
    "duration": 4,
    "start_time": "2024-05-26T09:30:23.863Z"
   },
   {
    "duration": 5,
    "start_time": "2024-05-26T09:30:23.869Z"
   },
   {
    "duration": 6,
    "start_time": "2024-05-26T09:30:23.876Z"
   },
   {
    "duration": 8,
    "start_time": "2024-05-26T09:30:23.883Z"
   },
   {
    "duration": 16,
    "start_time": "2024-05-26T09:30:23.893Z"
   },
   {
    "duration": 51,
    "start_time": "2024-05-26T09:30:23.910Z"
   },
   {
    "duration": 204,
    "start_time": "2024-05-26T09:30:23.962Z"
   },
   {
    "duration": 13,
    "start_time": "2024-05-26T09:30:24.168Z"
   },
   {
    "duration": 147,
    "start_time": "2024-05-26T09:30:24.183Z"
   },
   {
    "duration": 166,
    "start_time": "2024-05-26T09:30:24.332Z"
   },
   {
    "duration": 16,
    "start_time": "2024-05-26T09:30:24.499Z"
   },
   {
    "duration": 338,
    "start_time": "2024-05-26T09:30:24.516Z"
   },
   {
    "duration": 305,
    "start_time": "2024-05-26T09:30:24.855Z"
   },
   {
    "duration": 283,
    "start_time": "2024-05-26T09:30:25.162Z"
   },
   {
    "duration": 325,
    "start_time": "2024-05-26T09:30:25.446Z"
   },
   {
    "duration": 230,
    "start_time": "2024-05-26T09:30:25.772Z"
   },
   {
    "duration": 41,
    "start_time": "2024-05-26T09:30:26.004Z"
   },
   {
    "duration": 25,
    "start_time": "2024-05-26T09:30:26.047Z"
   },
   {
    "duration": 22,
    "start_time": "2024-05-26T09:30:26.074Z"
   },
   {
    "duration": 537,
    "start_time": "2024-05-26T09:30:26.098Z"
   },
   {
    "duration": 449,
    "start_time": "2024-05-26T09:30:26.645Z"
   },
   {
    "duration": 10,
    "start_time": "2024-05-26T09:30:27.096Z"
   },
   {
    "duration": 84,
    "start_time": "2024-05-26T09:30:27.110Z"
   },
   {
    "duration": 26,
    "start_time": "2024-05-26T09:30:27.196Z"
   },
   {
    "duration": 3,
    "start_time": "2024-05-26T09:30:27.224Z"
   },
   {
    "duration": 45,
    "start_time": "2024-05-26T09:30:27.228Z"
   },
   {
    "duration": 6,
    "start_time": "2024-05-26T09:30:27.274Z"
   },
   {
    "duration": 10,
    "start_time": "2024-05-26T09:30:27.281Z"
   },
   {
    "duration": 404,
    "start_time": "2024-05-26T09:30:27.292Z"
   },
   {
    "duration": 296,
    "start_time": "2024-05-26T09:30:27.699Z"
   }
  ],
  "kernelspec": {
   "display_name": "Python 3 (ipykernel)",
   "language": "python",
   "name": "python3"
  },
  "language_info": {
   "codemirror_mode": {
    "name": "ipython",
    "version": 3
   },
   "file_extension": ".py",
   "mimetype": "text/x-python",
   "name": "python",
   "nbconvert_exporter": "python",
   "pygments_lexer": "ipython3",
   "version": "3.9.5"
  },
  "toc": {
   "base_numbering": 1,
   "nav_menu": {},
   "number_sections": true,
   "sideBar": true,
   "skip_h1_title": true,
   "title_cell": "Table of Contents",
   "title_sidebar": "Contents",
   "toc_cell": false,
   "toc_position": {},
   "toc_section_display": true,
   "toc_window_display": false
  }
 },
 "nbformat": 4,
 "nbformat_minor": 5
}
