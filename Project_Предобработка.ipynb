{
 "cells": [
  {
   "cell_type": "markdown",
   "id": "cda6915d",
   "metadata": {},
   "source": [
    "<div style=\"border:solid Chocolate 2px; padding: 40px\">\n",
    "\n",
    "<b>Матвей, приветствую!</b>\n",
    "\n",
    "Буду рада с тобой познакомиться. Меня зовут Евгения Маракова и я буду ревьюером твоего проекта. Если ты не против, то предлагаю общаться на \"ты\":) Если удобнее на \"вы\", то нет проблем, только скажи об этом.\n",
    "\n",
    "В процессе работы ты встретишь комментарии <font color='green'>зеленого</font>, <font color='gold'>желтого</font> и <font color='red'>красного</font> цветов. Что они значат, смотри ниже:\n",
    "    <br/>\n",
    "\n",
    "<div class=\"alert alert-success\">\n",
    "<h2> Комментарий ревьюера <a class=\"tocSkip\"> </h2>\n",
    "\n",
    "<b>Отлично!✅:</b> Решение на этом шаге является полностью правильным.\n",
    "</div>\n",
    "\n",
    "<br/>\n",
    "\n",
    "<div class=\"alert alert-warning\">\n",
    "    <h2> Комментарий ревьюера <a class=\"tocSkip\"> </h2>\n",
    "    \n",
    "<b>Можно лучше⚠️:</b> Решение на этом шаге станет еще лучше, если внести небольшие коррективы.\n",
    "</div>\n",
    "\n",
    "\n",
    "<br/>\n",
    "<div class=\"alert alert-block alert-danger\">\n",
    "<h2> Комментарий ревьюера <a class=\"tocSkip\"></h2>\n",
    "\n",
    "    \n",
    "<b>Необходимо исправить❌:</b>\n",
    " Решение на этом шаге требует существенной переработки и внесения правок. Напоминаю, что проект не может быть принят с первого раза, если ревью содержит комментарии, рекомендующие доработать шаги.\n",
    "</div>\n",
    "    \n",
    "Увидев мой комментарий, не удаляй его, он будет очень полезен в случае повторной проверки работы😊\n",
    "    \n",
    "Свой комментарий помечай так, как показано ниже, тогда нам будет легче вести диалог, а мне выполнить повторную проверку проекта.\n",
    "    <div class=\"alert alert-info\"> <b>Комментарий студента: </b> </div>\n",
    "    \n"
   ]
  },
  {
   "cell_type": "markdown",
   "id": "386f2ae7",
   "metadata": {
    "deletable": false,
    "editable": false,
    "id": "386f2ae7"
   },
   "source": [
    "# Исследование надежности заемщиков\n"
   ]
  },
  {
   "cell_type": "markdown",
   "id": "ffe86f65",
   "metadata": {
    "deletable": false,
    "editable": false,
    "id": "ffe86f65"
   },
   "source": [
    "Во второй части проекта вы выполните шаги 3 и 4. Их вручную проверит ревьюер.\n",
    "Чтобы вам не пришлось писать код заново для шагов 1 и 2, мы добавили авторские решения в ячейки с кодом. \n",
    "\n"
   ]
  },
  {
   "cell_type": "markdown",
   "id": "26613308",
   "metadata": {
    "deletable": false,
    "editable": false,
    "id": "26613308"
   },
   "source": [
    "## Откройте таблицу и изучите общую информацию о данных"
   ]
  },
  {
   "cell_type": "markdown",
   "id": "3c9f838e",
   "metadata": {
    "deletable": false,
    "editable": false,
    "id": "3c9f838e"
   },
   "source": [
    "**Задание 1. Импортируйте библиотеку pandas. Считайте данные из csv-файла в датафрейм и сохраните в переменную `data`. Путь к файлу:**\n",
    "\n",
    "`/datasets/data.csv`"
   ]
  },
  {
   "cell_type": "code",
   "execution_count": 1,
   "id": "77a68a90",
   "metadata": {
    "deletable": false,
    "id": "77a68a90"
   },
   "outputs": [],
   "source": [
    "# Импортируем библиотеку pandas\n",
    "# Читаем csv-файл\n",
    "import pandas as pd\n",
    "try:\n",
    "    data = pd.read_csv('/datasets/data.csv')\n",
    "except:\n",
    "    data = pd.read_csv('https://code.s3.yandex.net/datasets/data.csv')"
   ]
  },
  {
   "cell_type": "markdown",
   "id": "45365635",
   "metadata": {
    "deletable": false,
    "editable": false,
    "id": "45365635"
   },
   "source": [
    "**Задание 2. Выведите первые 20 строчек датафрейма `data` на экран.**"
   ]
  },
  {
   "cell_type": "code",
   "execution_count": 2,
   "id": "b0451a9a",
   "metadata": {
    "deletable": false,
    "id": "b0451a9a",
    "outputId": "1a8f3ef2-d323-4ec2-ddf7-89670b5944c4"
   },
   "outputs": [
    {
     "data": {
      "text/html": [
       "<div>\n",
       "<style scoped>\n",
       "    .dataframe tbody tr th:only-of-type {\n",
       "        vertical-align: middle;\n",
       "    }\n",
       "\n",
       "    .dataframe tbody tr th {\n",
       "        vertical-align: top;\n",
       "    }\n",
       "\n",
       "    .dataframe thead th {\n",
       "        text-align: right;\n",
       "    }\n",
       "</style>\n",
       "<table border=\"1\" class=\"dataframe\">\n",
       "  <thead>\n",
       "    <tr style=\"text-align: right;\">\n",
       "      <th></th>\n",
       "      <th>children</th>\n",
       "      <th>days_employed</th>\n",
       "      <th>dob_years</th>\n",
       "      <th>education</th>\n",
       "      <th>education_id</th>\n",
       "      <th>family_status</th>\n",
       "      <th>family_status_id</th>\n",
       "      <th>gender</th>\n",
       "      <th>income_type</th>\n",
       "      <th>debt</th>\n",
       "      <th>total_income</th>\n",
       "      <th>purpose</th>\n",
       "    </tr>\n",
       "  </thead>\n",
       "  <tbody>\n",
       "    <tr>\n",
       "      <th>0</th>\n",
       "      <td>1</td>\n",
       "      <td>-8437.673028</td>\n",
       "      <td>42</td>\n",
       "      <td>высшее</td>\n",
       "      <td>0</td>\n",
       "      <td>женат / замужем</td>\n",
       "      <td>0</td>\n",
       "      <td>F</td>\n",
       "      <td>сотрудник</td>\n",
       "      <td>0</td>\n",
       "      <td>253875.639453</td>\n",
       "      <td>покупка жилья</td>\n",
       "    </tr>\n",
       "    <tr>\n",
       "      <th>1</th>\n",
       "      <td>1</td>\n",
       "      <td>-4024.803754</td>\n",
       "      <td>36</td>\n",
       "      <td>среднее</td>\n",
       "      <td>1</td>\n",
       "      <td>женат / замужем</td>\n",
       "      <td>0</td>\n",
       "      <td>F</td>\n",
       "      <td>сотрудник</td>\n",
       "      <td>0</td>\n",
       "      <td>112080.014102</td>\n",
       "      <td>приобретение автомобиля</td>\n",
       "    </tr>\n",
       "    <tr>\n",
       "      <th>2</th>\n",
       "      <td>0</td>\n",
       "      <td>-5623.422610</td>\n",
       "      <td>33</td>\n",
       "      <td>Среднее</td>\n",
       "      <td>1</td>\n",
       "      <td>женат / замужем</td>\n",
       "      <td>0</td>\n",
       "      <td>M</td>\n",
       "      <td>сотрудник</td>\n",
       "      <td>0</td>\n",
       "      <td>145885.952297</td>\n",
       "      <td>покупка жилья</td>\n",
       "    </tr>\n",
       "    <tr>\n",
       "      <th>3</th>\n",
       "      <td>3</td>\n",
       "      <td>-4124.747207</td>\n",
       "      <td>32</td>\n",
       "      <td>среднее</td>\n",
       "      <td>1</td>\n",
       "      <td>женат / замужем</td>\n",
       "      <td>0</td>\n",
       "      <td>M</td>\n",
       "      <td>сотрудник</td>\n",
       "      <td>0</td>\n",
       "      <td>267628.550329</td>\n",
       "      <td>дополнительное образование</td>\n",
       "    </tr>\n",
       "    <tr>\n",
       "      <th>4</th>\n",
       "      <td>0</td>\n",
       "      <td>340266.072047</td>\n",
       "      <td>53</td>\n",
       "      <td>среднее</td>\n",
       "      <td>1</td>\n",
       "      <td>гражданский брак</td>\n",
       "      <td>1</td>\n",
       "      <td>F</td>\n",
       "      <td>пенсионер</td>\n",
       "      <td>0</td>\n",
       "      <td>158616.077870</td>\n",
       "      <td>сыграть свадьбу</td>\n",
       "    </tr>\n",
       "    <tr>\n",
       "      <th>5</th>\n",
       "      <td>0</td>\n",
       "      <td>-926.185831</td>\n",
       "      <td>27</td>\n",
       "      <td>высшее</td>\n",
       "      <td>0</td>\n",
       "      <td>гражданский брак</td>\n",
       "      <td>1</td>\n",
       "      <td>M</td>\n",
       "      <td>компаньон</td>\n",
       "      <td>0</td>\n",
       "      <td>255763.565419</td>\n",
       "      <td>покупка жилья</td>\n",
       "    </tr>\n",
       "    <tr>\n",
       "      <th>6</th>\n",
       "      <td>0</td>\n",
       "      <td>-2879.202052</td>\n",
       "      <td>43</td>\n",
       "      <td>высшее</td>\n",
       "      <td>0</td>\n",
       "      <td>женат / замужем</td>\n",
       "      <td>0</td>\n",
       "      <td>F</td>\n",
       "      <td>компаньон</td>\n",
       "      <td>0</td>\n",
       "      <td>240525.971920</td>\n",
       "      <td>операции с жильем</td>\n",
       "    </tr>\n",
       "    <tr>\n",
       "      <th>7</th>\n",
       "      <td>0</td>\n",
       "      <td>-152.779569</td>\n",
       "      <td>50</td>\n",
       "      <td>СРЕДНЕЕ</td>\n",
       "      <td>1</td>\n",
       "      <td>женат / замужем</td>\n",
       "      <td>0</td>\n",
       "      <td>M</td>\n",
       "      <td>сотрудник</td>\n",
       "      <td>0</td>\n",
       "      <td>135823.934197</td>\n",
       "      <td>образование</td>\n",
       "    </tr>\n",
       "    <tr>\n",
       "      <th>8</th>\n",
       "      <td>2</td>\n",
       "      <td>-6929.865299</td>\n",
       "      <td>35</td>\n",
       "      <td>ВЫСШЕЕ</td>\n",
       "      <td>0</td>\n",
       "      <td>гражданский брак</td>\n",
       "      <td>1</td>\n",
       "      <td>F</td>\n",
       "      <td>сотрудник</td>\n",
       "      <td>0</td>\n",
       "      <td>95856.832424</td>\n",
       "      <td>на проведение свадьбы</td>\n",
       "    </tr>\n",
       "    <tr>\n",
       "      <th>9</th>\n",
       "      <td>0</td>\n",
       "      <td>-2188.756445</td>\n",
       "      <td>41</td>\n",
       "      <td>среднее</td>\n",
       "      <td>1</td>\n",
       "      <td>женат / замужем</td>\n",
       "      <td>0</td>\n",
       "      <td>M</td>\n",
       "      <td>сотрудник</td>\n",
       "      <td>0</td>\n",
       "      <td>144425.938277</td>\n",
       "      <td>покупка жилья для семьи</td>\n",
       "    </tr>\n",
       "    <tr>\n",
       "      <th>10</th>\n",
       "      <td>2</td>\n",
       "      <td>-4171.483647</td>\n",
       "      <td>36</td>\n",
       "      <td>высшее</td>\n",
       "      <td>0</td>\n",
       "      <td>женат / замужем</td>\n",
       "      <td>0</td>\n",
       "      <td>M</td>\n",
       "      <td>компаньон</td>\n",
       "      <td>0</td>\n",
       "      <td>113943.491460</td>\n",
       "      <td>покупка недвижимости</td>\n",
       "    </tr>\n",
       "    <tr>\n",
       "      <th>11</th>\n",
       "      <td>0</td>\n",
       "      <td>-792.701887</td>\n",
       "      <td>40</td>\n",
       "      <td>среднее</td>\n",
       "      <td>1</td>\n",
       "      <td>женат / замужем</td>\n",
       "      <td>0</td>\n",
       "      <td>F</td>\n",
       "      <td>сотрудник</td>\n",
       "      <td>0</td>\n",
       "      <td>77069.234271</td>\n",
       "      <td>покупка коммерческой недвижимости</td>\n",
       "    </tr>\n",
       "    <tr>\n",
       "      <th>12</th>\n",
       "      <td>0</td>\n",
       "      <td>NaN</td>\n",
       "      <td>65</td>\n",
       "      <td>среднее</td>\n",
       "      <td>1</td>\n",
       "      <td>гражданский брак</td>\n",
       "      <td>1</td>\n",
       "      <td>M</td>\n",
       "      <td>пенсионер</td>\n",
       "      <td>0</td>\n",
       "      <td>NaN</td>\n",
       "      <td>сыграть свадьбу</td>\n",
       "    </tr>\n",
       "    <tr>\n",
       "      <th>13</th>\n",
       "      <td>0</td>\n",
       "      <td>-1846.641941</td>\n",
       "      <td>54</td>\n",
       "      <td>неоконченное высшее</td>\n",
       "      <td>2</td>\n",
       "      <td>женат / замужем</td>\n",
       "      <td>0</td>\n",
       "      <td>F</td>\n",
       "      <td>сотрудник</td>\n",
       "      <td>0</td>\n",
       "      <td>130458.228857</td>\n",
       "      <td>приобретение автомобиля</td>\n",
       "    </tr>\n",
       "    <tr>\n",
       "      <th>14</th>\n",
       "      <td>0</td>\n",
       "      <td>-1844.956182</td>\n",
       "      <td>56</td>\n",
       "      <td>высшее</td>\n",
       "      <td>0</td>\n",
       "      <td>гражданский брак</td>\n",
       "      <td>1</td>\n",
       "      <td>F</td>\n",
       "      <td>компаньон</td>\n",
       "      <td>1</td>\n",
       "      <td>165127.911772</td>\n",
       "      <td>покупка жилой недвижимости</td>\n",
       "    </tr>\n",
       "    <tr>\n",
       "      <th>15</th>\n",
       "      <td>1</td>\n",
       "      <td>-972.364419</td>\n",
       "      <td>26</td>\n",
       "      <td>среднее</td>\n",
       "      <td>1</td>\n",
       "      <td>женат / замужем</td>\n",
       "      <td>0</td>\n",
       "      <td>F</td>\n",
       "      <td>сотрудник</td>\n",
       "      <td>0</td>\n",
       "      <td>116820.904450</td>\n",
       "      <td>строительство собственной недвижимости</td>\n",
       "    </tr>\n",
       "    <tr>\n",
       "      <th>16</th>\n",
       "      <td>0</td>\n",
       "      <td>-1719.934226</td>\n",
       "      <td>35</td>\n",
       "      <td>среднее</td>\n",
       "      <td>1</td>\n",
       "      <td>женат / замужем</td>\n",
       "      <td>0</td>\n",
       "      <td>F</td>\n",
       "      <td>сотрудник</td>\n",
       "      <td>0</td>\n",
       "      <td>289202.704229</td>\n",
       "      <td>недвижимость</td>\n",
       "    </tr>\n",
       "    <tr>\n",
       "      <th>17</th>\n",
       "      <td>0</td>\n",
       "      <td>-2369.999720</td>\n",
       "      <td>33</td>\n",
       "      <td>высшее</td>\n",
       "      <td>0</td>\n",
       "      <td>гражданский брак</td>\n",
       "      <td>1</td>\n",
       "      <td>M</td>\n",
       "      <td>сотрудник</td>\n",
       "      <td>0</td>\n",
       "      <td>90410.586745</td>\n",
       "      <td>строительство недвижимости</td>\n",
       "    </tr>\n",
       "    <tr>\n",
       "      <th>18</th>\n",
       "      <td>0</td>\n",
       "      <td>400281.136913</td>\n",
       "      <td>53</td>\n",
       "      <td>среднее</td>\n",
       "      <td>1</td>\n",
       "      <td>вдовец / вдова</td>\n",
       "      <td>2</td>\n",
       "      <td>F</td>\n",
       "      <td>пенсионер</td>\n",
       "      <td>0</td>\n",
       "      <td>56823.777243</td>\n",
       "      <td>на покупку подержанного автомобиля</td>\n",
       "    </tr>\n",
       "    <tr>\n",
       "      <th>19</th>\n",
       "      <td>0</td>\n",
       "      <td>-10038.818549</td>\n",
       "      <td>48</td>\n",
       "      <td>СРЕДНЕЕ</td>\n",
       "      <td>1</td>\n",
       "      <td>в разводе</td>\n",
       "      <td>3</td>\n",
       "      <td>F</td>\n",
       "      <td>сотрудник</td>\n",
       "      <td>0</td>\n",
       "      <td>242831.107982</td>\n",
       "      <td>на покупку своего автомобиля</td>\n",
       "    </tr>\n",
       "  </tbody>\n",
       "</table>\n",
       "</div>"
      ],
      "text/plain": [
       "    children  days_employed  dob_years            education  education_id  \\\n",
       "0          1   -8437.673028         42               высшее             0   \n",
       "1          1   -4024.803754         36              среднее             1   \n",
       "2          0   -5623.422610         33              Среднее             1   \n",
       "3          3   -4124.747207         32              среднее             1   \n",
       "4          0  340266.072047         53              среднее             1   \n",
       "5          0    -926.185831         27               высшее             0   \n",
       "6          0   -2879.202052         43               высшее             0   \n",
       "7          0    -152.779569         50              СРЕДНЕЕ             1   \n",
       "8          2   -6929.865299         35               ВЫСШЕЕ             0   \n",
       "9          0   -2188.756445         41              среднее             1   \n",
       "10         2   -4171.483647         36               высшее             0   \n",
       "11         0    -792.701887         40              среднее             1   \n",
       "12         0            NaN         65              среднее             1   \n",
       "13         0   -1846.641941         54  неоконченное высшее             2   \n",
       "14         0   -1844.956182         56               высшее             0   \n",
       "15         1    -972.364419         26              среднее             1   \n",
       "16         0   -1719.934226         35              среднее             1   \n",
       "17         0   -2369.999720         33               высшее             0   \n",
       "18         0  400281.136913         53              среднее             1   \n",
       "19         0  -10038.818549         48              СРЕДНЕЕ             1   \n",
       "\n",
       "       family_status  family_status_id gender income_type  debt  \\\n",
       "0    женат / замужем                 0      F   сотрудник     0   \n",
       "1    женат / замужем                 0      F   сотрудник     0   \n",
       "2    женат / замужем                 0      M   сотрудник     0   \n",
       "3    женат / замужем                 0      M   сотрудник     0   \n",
       "4   гражданский брак                 1      F   пенсионер     0   \n",
       "5   гражданский брак                 1      M   компаньон     0   \n",
       "6    женат / замужем                 0      F   компаньон     0   \n",
       "7    женат / замужем                 0      M   сотрудник     0   \n",
       "8   гражданский брак                 1      F   сотрудник     0   \n",
       "9    женат / замужем                 0      M   сотрудник     0   \n",
       "10   женат / замужем                 0      M   компаньон     0   \n",
       "11   женат / замужем                 0      F   сотрудник     0   \n",
       "12  гражданский брак                 1      M   пенсионер     0   \n",
       "13   женат / замужем                 0      F   сотрудник     0   \n",
       "14  гражданский брак                 1      F   компаньон     1   \n",
       "15   женат / замужем                 0      F   сотрудник     0   \n",
       "16   женат / замужем                 0      F   сотрудник     0   \n",
       "17  гражданский брак                 1      M   сотрудник     0   \n",
       "18    вдовец / вдова                 2      F   пенсионер     0   \n",
       "19         в разводе                 3      F   сотрудник     0   \n",
       "\n",
       "     total_income                                 purpose  \n",
       "0   253875.639453                           покупка жилья  \n",
       "1   112080.014102                 приобретение автомобиля  \n",
       "2   145885.952297                           покупка жилья  \n",
       "3   267628.550329              дополнительное образование  \n",
       "4   158616.077870                         сыграть свадьбу  \n",
       "5   255763.565419                           покупка жилья  \n",
       "6   240525.971920                       операции с жильем  \n",
       "7   135823.934197                             образование  \n",
       "8    95856.832424                   на проведение свадьбы  \n",
       "9   144425.938277                 покупка жилья для семьи  \n",
       "10  113943.491460                    покупка недвижимости  \n",
       "11   77069.234271       покупка коммерческой недвижимости  \n",
       "12            NaN                         сыграть свадьбу  \n",
       "13  130458.228857                 приобретение автомобиля  \n",
       "14  165127.911772              покупка жилой недвижимости  \n",
       "15  116820.904450  строительство собственной недвижимости  \n",
       "16  289202.704229                            недвижимость  \n",
       "17   90410.586745              строительство недвижимости  \n",
       "18   56823.777243      на покупку подержанного автомобиля  \n",
       "19  242831.107982            на покупку своего автомобиля  "
      ]
     },
     "execution_count": 2,
     "metadata": {},
     "output_type": "execute_result"
    }
   ],
   "source": [
    "data.head(20)"
   ]
  },
  {
   "cell_type": "markdown",
   "id": "0ed8f27f",
   "metadata": {
    "deletable": false,
    "editable": false,
    "id": "0ed8f27f"
   },
   "source": [
    "**Задание 3. Выведите основную информацию о датафрейме с помощью метода `info()`.**"
   ]
  },
  {
   "cell_type": "code",
   "execution_count": 3,
   "id": "ab3f863b",
   "metadata": {
    "deletable": false,
    "id": "ab3f863b",
    "outputId": "15376089-8dad-46c9-b520-c05248d43158"
   },
   "outputs": [
    {
     "name": "stdout",
     "output_type": "stream",
     "text": [
      "<class 'pandas.core.frame.DataFrame'>\n",
      "RangeIndex: 21525 entries, 0 to 21524\n",
      "Data columns (total 12 columns):\n",
      " #   Column            Non-Null Count  Dtype  \n",
      "---  ------            --------------  -----  \n",
      " 0   children          21525 non-null  int64  \n",
      " 1   days_employed     19351 non-null  float64\n",
      " 2   dob_years         21525 non-null  int64  \n",
      " 3   education         21525 non-null  object \n",
      " 4   education_id      21525 non-null  int64  \n",
      " 5   family_status     21525 non-null  object \n",
      " 6   family_status_id  21525 non-null  int64  \n",
      " 7   gender            21525 non-null  object \n",
      " 8   income_type       21525 non-null  object \n",
      " 9   debt              21525 non-null  int64  \n",
      " 10  total_income      19351 non-null  float64\n",
      " 11  purpose           21525 non-null  object \n",
      "dtypes: float64(2), int64(5), object(5)\n",
      "memory usage: 2.0+ MB\n"
     ]
    }
   ],
   "source": [
    "data.info()"
   ]
  },
  {
   "cell_type": "markdown",
   "id": "60e3e22d",
   "metadata": {
    "deletable": false,
    "editable": false,
    "id": "60e3e22d"
   },
   "source": [
    "## Предобработка данных"
   ]
  },
  {
   "cell_type": "markdown",
   "id": "03dc170c",
   "metadata": {
    "deletable": false,
    "editable": false,
    "id": "03dc170c"
   },
   "source": [
    "### Удаление пропусков"
   ]
  },
  {
   "cell_type": "markdown",
   "id": "a4f54eef",
   "metadata": {
    "deletable": false,
    "editable": false,
    "id": "a4f54eef"
   },
   "source": [
    "**Задание 4. Выведите количество пропущенных значений для каждого столбца. Используйте комбинацию двух методов.**"
   ]
  },
  {
   "cell_type": "code",
   "execution_count": 4,
   "id": "2dc372b2",
   "metadata": {
    "deletable": false,
    "id": "2dc372b2",
    "outputId": "81f4d817-781c-465c-ed15-91ce4446810d"
   },
   "outputs": [
    {
     "data": {
      "text/plain": [
       "children               0\n",
       "days_employed       2174\n",
       "dob_years              0\n",
       "education              0\n",
       "education_id           0\n",
       "family_status          0\n",
       "family_status_id       0\n",
       "gender                 0\n",
       "income_type            0\n",
       "debt                   0\n",
       "total_income        2174\n",
       "purpose                0\n",
       "dtype: int64"
      ]
     },
     "execution_count": 4,
     "metadata": {},
     "output_type": "execute_result"
    }
   ],
   "source": [
    "data.isna().sum()"
   ]
  },
  {
   "cell_type": "markdown",
   "id": "14f011b1",
   "metadata": {
    "deletable": false,
    "editable": false,
    "id": "14f011b1"
   },
   "source": [
    "**Задание 5. В двух столбцах есть пропущенные значения. Один из них — `days_employed`. Пропуски в этом столбце вы обработаете на следующем этапе. Другой столбец с пропущенными значениями — `total_income` — хранит данные о доходах. На сумму дохода сильнее всего влияет тип занятости, поэтому заполнить пропуски в этом столбце нужно медианным значением по каждому типу из столбца `income_type`. Например, у человека с типом занятости `сотрудник` пропуск в столбце `total_income` должен быть заполнен медианным доходом среди всех записей с тем же типом.**"
   ]
  },
  {
   "cell_type": "code",
   "execution_count": 5,
   "id": "bdabfb6e",
   "metadata": {
    "deletable": false,
    "id": "bdabfb6e"
   },
   "outputs": [],
   "source": [
    "for t in data['income_type'].unique():\n",
    "    data.loc[(data['income_type'] == t) & (data['total_income'].isna()), 'total_income'] = \\\n",
    "    data.loc[(data['income_type'] == t), 'total_income'].median()"
   ]
  },
  {
   "cell_type": "markdown",
   "id": "5be34059",
   "metadata": {
    "deletable": false,
    "editable": false,
    "id": "5be34059"
   },
   "source": [
    "### Обработка аномальных значений"
   ]
  },
  {
   "cell_type": "markdown",
   "id": "a87606cb",
   "metadata": {
    "deletable": false,
    "editable": false,
    "id": "a87606cb"
   },
   "source": [
    "**Задание 6. В данных могут встречаться артефакты (аномалии) — значения, которые не отражают действительность и появились по какой-то ошибке. таким артефактом будет отрицательное количество дней трудового стажа в столбце `days_employed`. Для реальных данных это нормально. Обработайте значения в этом столбце: замените все отрицательные значения положительными с помощью метода `abs()`.**"
   ]
  },
  {
   "cell_type": "code",
   "execution_count": 6,
   "id": "020c46cc",
   "metadata": {
    "deletable": false,
    "id": "020c46cc"
   },
   "outputs": [],
   "source": [
    "data['days_employed'] = data['days_employed'].abs()"
   ]
  },
  {
   "cell_type": "markdown",
   "id": "45538a3a",
   "metadata": {
    "deletable": false,
    "editable": false,
    "id": "45538a3a"
   },
   "source": [
    "**Задание 7. Для каждого типа занятости выведите медианное значение трудового стажа `days_employed` в днях.**"
   ]
  },
  {
   "cell_type": "code",
   "execution_count": 7,
   "id": "cd3e6328",
   "metadata": {
    "deletable": false,
    "id": "cd3e6328",
    "outputId": "801ef80e-522b-4668-f34e-565af7432bcf"
   },
   "outputs": [
    {
     "data": {
      "text/plain": [
       "income_type\n",
       "безработный        366413.652744\n",
       "в декрете            3296.759962\n",
       "госслужащий          2689.368353\n",
       "компаньон            1547.382223\n",
       "пенсионер          365213.306266\n",
       "предприниматель       520.848083\n",
       "сотрудник            1574.202821\n",
       "студент               578.751554\n",
       "Name: days_employed, dtype: float64"
      ]
     },
     "execution_count": 7,
     "metadata": {},
     "output_type": "execute_result"
    }
   ],
   "source": [
    "data.groupby('income_type')['days_employed'].agg('median')"
   ]
  },
  {
   "cell_type": "markdown",
   "id": "90c5f058",
   "metadata": {
    "deletable": false,
    "editable": false,
    "id": "90c5f058"
   },
   "source": [
    "У двух типов (безработные и пенсионеры) получатся аномально большие значения. Исправить такие значения сложно, поэтому оставьте их как есть."
   ]
  },
  {
   "cell_type": "markdown",
   "id": "9652e50d",
   "metadata": {
    "deletable": false,
    "editable": false,
    "id": "9652e50d"
   },
   "source": [
    "**Задание 8. Выведите перечень уникальных значений столбца `children`.**"
   ]
  },
  {
   "cell_type": "code",
   "execution_count": 8,
   "id": "dbb37b8e",
   "metadata": {
    "deletable": false,
    "id": "dbb37b8e",
    "outputId": "6975b15c-7f95-4697-d16d-a0c79b657b03"
   },
   "outputs": [
    {
     "data": {
      "text/plain": [
       "array([ 1,  0,  3,  2, -1,  4, 20,  5])"
      ]
     },
     "execution_count": 8,
     "metadata": {},
     "output_type": "execute_result"
    }
   ],
   "source": [
    "data['children'].unique()"
   ]
  },
  {
   "cell_type": "markdown",
   "id": "2b8b0715",
   "metadata": {
    "deletable": false,
    "editable": false,
    "id": "2b8b0715"
   },
   "source": [
    "**Задание 9. В столбце `children` есть два аномальных значения. Удалите строки, в которых встречаются такие аномальные значения из датафрейма `data`.**"
   ]
  },
  {
   "cell_type": "code",
   "execution_count": 9,
   "id": "20009df8",
   "metadata": {
    "deletable": false,
    "id": "20009df8"
   },
   "outputs": [],
   "source": [
    "data = data[(data['children'] != -1) & (data['children'] != 20)]"
   ]
  },
  {
   "cell_type": "markdown",
   "id": "8c6ac9f1",
   "metadata": {
    "deletable": false,
    "editable": false,
    "id": "8c6ac9f1"
   },
   "source": [
    "**Задание 10. Ещё раз выведите перечень уникальных значений столбца `children`, чтобы убедиться, что артефакты удалены.**"
   ]
  },
  {
   "cell_type": "code",
   "execution_count": 10,
   "id": "07337b81",
   "metadata": {
    "deletable": false,
    "id": "07337b81",
    "outputId": "b2097101-d49d-44d9-901b-32a65c9463d1"
   },
   "outputs": [
    {
     "data": {
      "text/plain": [
       "array([1, 0, 3, 2, 4, 5])"
      ]
     },
     "execution_count": 10,
     "metadata": {},
     "output_type": "execute_result"
    }
   ],
   "source": [
    "data['children'].unique()"
   ]
  },
  {
   "cell_type": "markdown",
   "id": "ee3f52d4",
   "metadata": {
    "deletable": false,
    "editable": false,
    "id": "ee3f52d4"
   },
   "source": [
    "### Удаление пропусков (продолжение)"
   ]
  },
  {
   "cell_type": "markdown",
   "id": "a700b0e4",
   "metadata": {
    "deletable": false,
    "editable": false,
    "id": "a700b0e4"
   },
   "source": [
    "**Задание 11. Заполните пропуски в столбце `days_employed` медианными значениями по каждого типа занятости `income_type`.**"
   ]
  },
  {
   "cell_type": "code",
   "execution_count": 11,
   "id": "61946b83",
   "metadata": {
    "deletable": false,
    "id": "61946b83"
   },
   "outputs": [],
   "source": [
    "for t in data['income_type'].unique():\n",
    "    data.loc[(data['income_type'] == t) & (data['days_employed'].isna()), 'days_employed'] = \\\n",
    "    data.loc[(data['income_type'] == t), 'days_employed'].median()"
   ]
  },
  {
   "cell_type": "markdown",
   "id": "550dcd9b",
   "metadata": {
    "deletable": false,
    "editable": false,
    "id": "550dcd9b"
   },
   "source": [
    "**Задание 12. Убедитесь, что все пропуски заполнены. Проверьте себя и ещё раз выведите количество пропущенных значений для каждого столбца с помощью двух методов.**"
   ]
  },
  {
   "cell_type": "code",
   "execution_count": 12,
   "id": "937c7014",
   "metadata": {
    "deletable": false,
    "id": "937c7014",
    "outputId": "8da1e4e1-358e-4e87-98c9-f261bce0a7b2"
   },
   "outputs": [
    {
     "data": {
      "text/plain": [
       "children            0\n",
       "days_employed       0\n",
       "dob_years           0\n",
       "education           0\n",
       "education_id        0\n",
       "family_status       0\n",
       "family_status_id    0\n",
       "gender              0\n",
       "income_type         0\n",
       "debt                0\n",
       "total_income        0\n",
       "purpose             0\n",
       "dtype: int64"
      ]
     },
     "execution_count": 12,
     "metadata": {},
     "output_type": "execute_result"
    }
   ],
   "source": [
    "data.isna().sum()"
   ]
  },
  {
   "cell_type": "markdown",
   "id": "d522e295",
   "metadata": {
    "deletable": false,
    "editable": false,
    "id": "d522e295"
   },
   "source": [
    "### Изменение типов данных"
   ]
  },
  {
   "cell_type": "markdown",
   "id": "c229c581",
   "metadata": {
    "deletable": false,
    "editable": false,
    "id": "c229c581"
   },
   "source": [
    "**Задание 13. Замените вещественный тип данных в столбце `total_income` на целочисленный с помощью метода `astype()`.**"
   ]
  },
  {
   "cell_type": "code",
   "execution_count": 13,
   "id": "31036462",
   "metadata": {
    "deletable": false,
    "id": "31036462"
   },
   "outputs": [],
   "source": [
    "data['total_income'] = data['total_income'].astype(int)"
   ]
  },
  {
   "cell_type": "markdown",
   "id": "b8e3d1d9",
   "metadata": {
    "deletable": false,
    "editable": false,
    "id": "b8e3d1d9"
   },
   "source": [
    "### Обработка дубликатов"
   ]
  },
  {
   "cell_type": "markdown",
   "id": "9be53c49",
   "metadata": {
    "deletable": false,
    "editable": false,
    "id": "9be53c49"
   },
   "source": [
    "**Задание 14. Обработайте неявные дубликаты в столбце `education`. В этом столбце есть одни и те же значения, но записанные по-разному: с использованием заглавных и строчных букв. Приведите их к нижнему регистру.**"
   ]
  },
  {
   "cell_type": "code",
   "execution_count": 14,
   "id": "d89e73e1",
   "metadata": {
    "deletable": false,
    "id": "d89e73e1"
   },
   "outputs": [],
   "source": [
    "data['education'] = data['education'].str.lower()"
   ]
  },
  {
   "cell_type": "markdown",
   "id": "01d4500e",
   "metadata": {
    "deletable": false,
    "editable": false,
    "id": "01d4500e"
   },
   "source": [
    "**Задание 15. Выведите на экран количество строк-дубликатов в данных. Если такие строки присутствуют, удалите их.**"
   ]
  },
  {
   "cell_type": "code",
   "execution_count": 15,
   "id": "e10efb23",
   "metadata": {
    "deletable": false,
    "id": "e10efb23",
    "outputId": "9684deba-1934-42d1-99e1-cda61740f822"
   },
   "outputs": [
    {
     "data": {
      "text/plain": [
       "71"
      ]
     },
     "execution_count": 15,
     "metadata": {},
     "output_type": "execute_result"
    }
   ],
   "source": [
    "data.duplicated().sum()"
   ]
  },
  {
   "cell_type": "code",
   "execution_count": 16,
   "id": "df853f20",
   "metadata": {
    "deletable": false,
    "id": "df853f20"
   },
   "outputs": [],
   "source": [
    "data = data.drop_duplicates()"
   ]
  },
  {
   "cell_type": "markdown",
   "id": "627be38f",
   "metadata": {
    "deletable": false,
    "editable": false,
    "id": "627be38f"
   },
   "source": [
    "### Категоризация данных"
   ]
  },
  {
   "cell_type": "markdown",
   "id": "4684c3e0",
   "metadata": {
    "deletable": false,
    "editable": false,
    "id": "4684c3e0"
   },
   "source": [
    "**Задание 16. На основании диапазонов, указанных ниже, создайте в датафрейме `data` столбец `total_income_category` с категориями:**\n",
    "\n",
    "- 0–30000 — `'E'`;\n",
    "- 30001–50000 — `'D'`;\n",
    "- 50001–200000 — `'C'`;\n",
    "- 200001–1000000 — `'B'`;\n",
    "- 1000001 и выше — `'A'`.\n",
    "\n",
    "\n",
    "**Например, кредитополучателю с доходом 25000 нужно назначить категорию `'E'`, а клиенту, получающему 235000, — `'B'`. Используйте собственную функцию с именем `categorize_income()` и метод `apply()`.**"
   ]
  },
  {
   "cell_type": "code",
   "execution_count": 17,
   "id": "78965238",
   "metadata": {
    "deletable": false,
    "id": "78965238"
   },
   "outputs": [],
   "source": [
    "def categorize_income(income):\n",
    "    try:\n",
    "        if 0 <= income <= 30000:\n",
    "            return 'E'\n",
    "        elif 30001 <= income <= 50000:\n",
    "            return 'D'\n",
    "        elif 50001 <= income <= 200000:\n",
    "            return 'C'\n",
    "        elif 200001 <= income <= 1000000:\n",
    "            return 'B'\n",
    "        elif income >= 1000001:\n",
    "            return 'A'\n",
    "    except:\n",
    "        pass"
   ]
  },
  {
   "cell_type": "code",
   "execution_count": 18,
   "id": "0980ada1",
   "metadata": {
    "deletable": false,
    "id": "0980ada1"
   },
   "outputs": [],
   "source": [
    "data['total_income_category'] = data['total_income'].apply(categorize_income)"
   ]
  },
  {
   "cell_type": "markdown",
   "id": "9917bba0",
   "metadata": {
    "deletable": false,
    "editable": false,
    "id": "9917bba0"
   },
   "source": [
    "**Задание 17. Выведите на экран перечень уникальных целей взятия кредита из столбца `purpose`.**"
   ]
  },
  {
   "cell_type": "code",
   "execution_count": 19,
   "id": "ee07b65e",
   "metadata": {
    "deletable": false,
    "id": "ee07b65e",
    "outputId": "673c12d9-7d7e-4ae0-9812-c622c89dd244"
   },
   "outputs": [
    {
     "data": {
      "text/plain": [
       "array(['покупка жилья', 'приобретение автомобиля',\n",
       "       'дополнительное образование', 'сыграть свадьбу',\n",
       "       'операции с жильем', 'образование', 'на проведение свадьбы',\n",
       "       'покупка жилья для семьи', 'покупка недвижимости',\n",
       "       'покупка коммерческой недвижимости', 'покупка жилой недвижимости',\n",
       "       'строительство собственной недвижимости', 'недвижимость',\n",
       "       'строительство недвижимости', 'на покупку подержанного автомобиля',\n",
       "       'на покупку своего автомобиля',\n",
       "       'операции с коммерческой недвижимостью',\n",
       "       'строительство жилой недвижимости', 'жилье',\n",
       "       'операции со своей недвижимостью', 'автомобили',\n",
       "       'заняться образованием', 'сделка с подержанным автомобилем',\n",
       "       'получение образования', 'автомобиль', 'свадьба',\n",
       "       'получение дополнительного образования', 'покупка своего жилья',\n",
       "       'операции с недвижимостью', 'получение высшего образования',\n",
       "       'свой автомобиль', 'сделка с автомобилем',\n",
       "       'профильное образование', 'высшее образование',\n",
       "       'покупка жилья для сдачи', 'на покупку автомобиля', 'ремонт жилью',\n",
       "       'заняться высшим образованием'], dtype=object)"
      ]
     },
     "execution_count": 19,
     "metadata": {},
     "output_type": "execute_result"
    }
   ],
   "source": [
    "data['purpose'].unique()"
   ]
  },
  {
   "cell_type": "markdown",
   "id": "52b79d56",
   "metadata": {
    "deletable": false,
    "editable": false,
    "id": "52b79d56"
   },
   "source": [
    "**Задание 18. Создайте функцию, которая на основании данных из столбца `purpose` сформирует новый столбец `purpose_category`, в который войдут следующие категории:**\n",
    "\n",
    "- `'операции с автомобилем'`,\n",
    "- `'операции с недвижимостью'`,\n",
    "- `'проведение свадьбы'`,\n",
    "- `'получение образования'`.\n",
    "\n",
    "**Например, если в столбце `purpose` находится подстрока `'на покупку автомобиля'`, то в столбце `purpose_category` должна появиться строка `'операции с автомобилем'`.**\n",
    "\n",
    "**Используйте собственную функцию с именем `categorize_purpose()` и метод `apply()`. Изучите данные в столбце `purpose` и определите, какие подстроки помогут вам правильно определить категорию.**"
   ]
  },
  {
   "cell_type": "code",
   "execution_count": 20,
   "id": "be41da5d",
   "metadata": {
    "deletable": false,
    "id": "be41da5d"
   },
   "outputs": [],
   "source": [
    "def categorize_purpose(row):\n",
    "    try:\n",
    "        if 'автом' in row:\n",
    "            return 'операции с автомобилем'\n",
    "        elif 'жил' in row or 'недвиж' in row:\n",
    "            return 'операции с недвижимостью'\n",
    "        elif 'свад' in row:\n",
    "            return 'проведение свадьбы'\n",
    "        elif 'образов' in row:\n",
    "            return 'получение образования'\n",
    "    except:\n",
    "        return 'нет категории'"
   ]
  },
  {
   "cell_type": "code",
   "execution_count": 21,
   "id": "94c4a19a",
   "metadata": {
    "deletable": false,
    "id": "94c4a19a"
   },
   "outputs": [],
   "source": [
    "data['purpose_category'] = data['purpose'].apply(categorize_purpose)"
   ]
  },
  {
   "cell_type": "markdown",
   "id": "3d596c34",
   "metadata": {
    "deletable": false,
    "editable": false,
    "id": "3d596c34"
   },
   "source": [
    "### Шаг 3. Исследуйте данные и ответьте на вопросы"
   ]
  },
  {
   "cell_type": "markdown",
   "id": "648db036",
   "metadata": {
    "deletable": false,
    "editable": false,
    "id": "648db036"
   },
   "source": [
    "#### 3.1 Есть ли зависимость между количеством детей и возвратом кредита в срок?"
   ]
  },
  {
   "cell_type": "markdown",
   "id": "9131a04e",
   "metadata": {},
   "source": [
    "В зависимости от количества детей у заемщика определяется количество записей и среднее значение."
   ]
  },
  {
   "cell_type": "code",
   "execution_count": 22,
   "id": "7fcff25e",
   "metadata": {
    "deletable": false,
    "id": "7fcff25e"
   },
   "outputs": [
    {
     "data": {
      "text/html": [
       "<style  type=\"text/css\" >\n",
       "</style><table id=\"T_57945_\" ><thead>    <tr>        <th class=\"blank level0\" ></th>        <th class=\"col_heading level0 col0\" >Количество записей</th>        <th class=\"col_heading level0 col1\" >Среднее значение</th>    </tr>    <tr>        <th class=\"index_name level0\" >children</th>        <th class=\"blank\" ></th>        <th class=\"blank\" ></th>    </tr></thead><tbody>\n",
       "                <tr>\n",
       "                        <th id=\"T_57945_level0_row0\" class=\"row_heading level0 row0\" >0</th>\n",
       "                        <td id=\"T_57945_row0_col0\" class=\"data row0 col0\" >14091</td>\n",
       "                        <td id=\"T_57945_row0_col1\" class=\"data row0 col1\" >7.5%</td>\n",
       "            </tr>\n",
       "            <tr>\n",
       "                        <th id=\"T_57945_level0_row1\" class=\"row_heading level0 row1\" >1</th>\n",
       "                        <td id=\"T_57945_row1_col0\" class=\"data row1 col0\" >4808</td>\n",
       "                        <td id=\"T_57945_row1_col1\" class=\"data row1 col1\" >9.2%</td>\n",
       "            </tr>\n",
       "            <tr>\n",
       "                        <th id=\"T_57945_level0_row2\" class=\"row_heading level0 row2\" >2</th>\n",
       "                        <td id=\"T_57945_row2_col0\" class=\"data row2 col0\" >2052</td>\n",
       "                        <td id=\"T_57945_row2_col1\" class=\"data row2 col1\" >9.5%</td>\n",
       "            </tr>\n",
       "            <tr>\n",
       "                        <th id=\"T_57945_level0_row3\" class=\"row_heading level0 row3\" >3</th>\n",
       "                        <td id=\"T_57945_row3_col0\" class=\"data row3 col0\" >330</td>\n",
       "                        <td id=\"T_57945_row3_col1\" class=\"data row3 col1\" >8.2%</td>\n",
       "            </tr>\n",
       "            <tr>\n",
       "                        <th id=\"T_57945_level0_row4\" class=\"row_heading level0 row4\" >4</th>\n",
       "                        <td id=\"T_57945_row4_col0\" class=\"data row4 col0\" >41</td>\n",
       "                        <td id=\"T_57945_row4_col1\" class=\"data row4 col1\" >9.8%</td>\n",
       "            </tr>\n",
       "            <tr>\n",
       "                        <th id=\"T_57945_level0_row5\" class=\"row_heading level0 row5\" >5</th>\n",
       "                        <td id=\"T_57945_row5_col0\" class=\"data row5 col0\" >9</td>\n",
       "                        <td id=\"T_57945_row5_col1\" class=\"data row5 col1\" >0.0%</td>\n",
       "            </tr>\n",
       "    </tbody></table>"
      ],
      "text/plain": [
       "<pandas.io.formats.style.Styler at 0x7ff97ffbe910>"
      ]
     },
     "execution_count": 22,
     "metadata": {},
     "output_type": "execute_result"
    }
   ],
   "source": [
    "# Данная функция определяет зависимость между количеством детей и возвратом кредита в срок.\n",
    "def check_dependency(data, children, debt):\n",
    "    debt_dependence = data.groupby('children')['debt'].agg(['count', 'mean'])#.reset_index()\n",
    "    debt_dependence = debt_dependence.rename(columns = {'count': 'Количество записей', 'mean': 'Среднее значение'})\n",
    "#   debt_dependence.style.format({'Среднее значение': '{:.1%}'.format})\n",
    "# Приводим среднее значение в привычному виду в процентах.\n",
    "    return debt_dependence.style.format({'Среднее значение': '{:.1%}'.format})\n",
    "check_dependency(data, 'children', 'debt')"
   ]
  },
  {
   "cell_type": "markdown",
   "id": "6420247d",
   "metadata": {},
   "source": [
    "<div class=\"alert alert-success\">\n",
    "<h2> Комментарий ревьюера <a class=\"tocSkip\"> </h2>\n",
    "\n",
    "<b>Отлично!✅:</b> Cупер, верно сгруппировал данные для анализа!\n",
    "\n",
    "</div>"
   ]
  },
  {
   "cell_type": "markdown",
   "id": "65355bf1",
   "metadata": {},
   "source": [
    "Также, зависимость между количеством детей и возвратом кредита в срок можно увидеть на графике."
   ]
  },
  {
   "cell_type": "code",
   "execution_count": 23,
   "id": "e3743f99",
   "metadata": {},
   "outputs": [
    {
     "data": {
      "image/png": "[encoded data removed]",
      "text/plain": [
       "<Figure size 432x288 with 1 Axes>"
      ]
     },
     "metadata": {
      "needs_background": "light"
     },
     "output_type": "display_data"
    }
   ],
   "source": [
    "import numpy as np\n",
    "import matplotlib.pyplot as plt\n",
    "data.groupby('children')['debt'].mean().plot()\n",
    "plt.title('Зависимость между количеством детей и возвратом кредита в срок')\n",
    "plt.xlabel('Количество детей')\n",
    "plt.ylabel('Среднее значение')\n",
    "plt.show()"
   ]
  },
  {
   "cell_type": "markdown",
   "id": "e5b253f8",
   "metadata": {},
   "source": [
    "<div class=\"alert alert-success\">\n",
    "<h2> Комментарий ревьюера <a class=\"tocSkip\"> </h2>\n",
    "\n",
    "<b>Отлично!✅:</b> Матвей, здорово, что наполнил работу визуализациями. Только для информативности рекомендую оформлять графики (подписывать оси и название, желательно на русском). Данный источник тебе в этом поможет: https://python-graph-gallery.com/4-add-title-and-axis-label/\n",
    "</div>\n",
    "\n",
    "</div>"
   ]
  },
  {
   "cell_type": "markdown",
   "id": "49aa35d5",
   "metadata": {},
   "source": [
    "<div class=\"alert alert-success\">\n",
    "<h2> Комментарий ревьюера v2<a class=\"tocSkip\"> </h2>\n",
    "\n",
    "<b>Отлично!✅:</b> Красота, доработал!\n",
    "</div>"
   ]
  },
  {
   "cell_type": "markdown",
   "id": "50d6821f",
   "metadata": {
    "deletable": false,
    "id": "2eb9088e"
   },
   "source": [
    "**Вывод:** На основании полученной выборки можем сделать выбор о том, что зависимость между количеством детей и возвратом кредита в срок есть.           С увеличением количества детей возрастает количество просроченных задолженностей. Категория заемщиков без детей, находится на первом месте по покрытию кредита в срок. Из всех категорий заемщиков с детьми стоит обратить внимание на клиентов с тремя детьми. Они находятся на втором месте по возврату кредита в срок, что выбивается из общей тенденции возврата кредитов в срок. "
   ]
  },
  {
   "cell_type": "markdown",
   "id": "5c043d6e",
   "metadata": {},
   "source": [
    "<div class=\"alert alert-success\">\n",
    "<h2> Комментарий ревьюера <a class=\"tocSkip\"> </h2>\n",
    "\n",
    "<b>Отлично!✅:</b> Cогласна, бездетные семьи более ответственные!\n",
    "\n",
    "</div>"
   ]
  },
  {
   "cell_type": "markdown",
   "id": "74c9b3a7",
   "metadata": {
    "deletable": false,
    "editable": false,
    "id": "74c9b3a7"
   },
   "source": [
    "#### 3.2 Есть ли зависимость между семейным положением и возвратом кредита в срок?"
   ]
  },
  {
   "cell_type": "markdown",
   "id": "ce082b78",
   "metadata": {},
   "source": [
    "В зависимости от семейного положения заемшика определяется количество записей и среднее значение."
   ]
  },
  {
   "cell_type": "code",
   "execution_count": 24,
   "id": "8098ab3b",
   "metadata": {
    "deletable": false,
    "id": "8098ab3b"
   },
   "outputs": [
    {
     "data": {
      "text/html": [
       "<style  type=\"text/css\" >\n",
       "</style><table id=\"T_86c0b_\" ><thead>    <tr>        <th class=\"blank\" ></th>        <th class=\"blank level0\" ></th>        <th class=\"col_heading level0 col0\" >Количество записей</th>        <th class=\"col_heading level0 col1\" >Среднее значение</th>    </tr>    <tr>        <th class=\"index_name level0\" >family_status</th>        <th class=\"index_name level1\" >family_status_id</th>        <th class=\"blank\" ></th>        <th class=\"blank\" ></th>    </tr></thead><tbody>\n",
       "                <tr>\n",
       "                        <th id=\"T_86c0b_level0_row0\" class=\"row_heading level0 row0\" >женат / замужем</th>\n",
       "                        <th id=\"T_86c0b_level1_row0\" class=\"row_heading level1 row0\" >0</th>\n",
       "                        <td id=\"T_86c0b_row0_col0\" class=\"data row0 col0\" >12261</td>\n",
       "                        <td id=\"T_86c0b_row0_col1\" class=\"data row0 col1\" >7.6%</td>\n",
       "            </tr>\n",
       "            <tr>\n",
       "                        <th id=\"T_86c0b_level0_row1\" class=\"row_heading level0 row1\" >гражданский брак</th>\n",
       "                        <th id=\"T_86c0b_level1_row1\" class=\"row_heading level1 row1\" >1</th>\n",
       "                        <td id=\"T_86c0b_row1_col0\" class=\"data row1 col0\" >4134</td>\n",
       "                        <td id=\"T_86c0b_row1_col1\" class=\"data row1 col1\" >9.3%</td>\n",
       "            </tr>\n",
       "            <tr>\n",
       "                        <th id=\"T_86c0b_level0_row2\" class=\"row_heading level0 row2\" >Не женат / не замужем</th>\n",
       "                        <th id=\"T_86c0b_level1_row2\" class=\"row_heading level1 row2\" >4</th>\n",
       "                        <td id=\"T_86c0b_row2_col0\" class=\"data row2 col0\" >2796</td>\n",
       "                        <td id=\"T_86c0b_row2_col1\" class=\"data row2 col1\" >9.8%</td>\n",
       "            </tr>\n",
       "            <tr>\n",
       "                        <th id=\"T_86c0b_level0_row3\" class=\"row_heading level0 row3\" >в разводе</th>\n",
       "                        <th id=\"T_86c0b_level1_row3\" class=\"row_heading level1 row3\" >3</th>\n",
       "                        <td id=\"T_86c0b_row3_col0\" class=\"data row3 col0\" >1189</td>\n",
       "                        <td id=\"T_86c0b_row3_col1\" class=\"data row3 col1\" >7.1%</td>\n",
       "            </tr>\n",
       "            <tr>\n",
       "                        <th id=\"T_86c0b_level0_row4\" class=\"row_heading level0 row4\" >вдовец / вдова</th>\n",
       "                        <th id=\"T_86c0b_level1_row4\" class=\"row_heading level1 row4\" >2</th>\n",
       "                        <td id=\"T_86c0b_row4_col0\" class=\"data row4 col0\" >951</td>\n",
       "                        <td id=\"T_86c0b_row4_col1\" class=\"data row4 col1\" >6.6%</td>\n",
       "            </tr>\n",
       "    </tbody></table>"
      ],
      "text/plain": [
       "<pandas.io.formats.style.Styler at 0x7ff97e28fc10>"
      ]
     },
     "execution_count": 24,
     "metadata": {},
     "output_type": "execute_result"
    }
   ],
   "source": [
    "# Данная функция определяет зависимость между семейным положением и возвратом кредита в срок.\n",
    "# Значения сортируются по количеству записей в порядке убывания.\n",
    "def check_status(data, family_status, family_status_id, debt):\n",
    "#Группируем по возростанию количеству записей.\n",
    "    status_dependence = data.groupby(['family_status','family_status_id'])['debt'].agg(['count', 'mean']).sort_values('count', ascending=False)#.reset_index()\n",
    "    status_dependence = status_dependence.rename(columns = {'count': 'Количество записей', 'mean': 'Среднее значение'})\n",
    "# Приводим среднее значение в привычному виду в процентах.\n",
    "    return status_dependence.style.format({'Среднее значение': '{:.1%}'.format})\n",
    "check_status(data, 'family_status', 'family_status_id' , 'debt')  "
   ]
  },
  {
   "cell_type": "markdown",
   "id": "c138e68c",
   "metadata": {},
   "source": [
    "Также, зависимость между семейным положением и возвратом кредита в срок можем увидеть на графике."
   ]
  },
  {
   "cell_type": "code",
   "execution_count": 25,
   "id": "d5aa31dc",
   "metadata": {},
   "outputs": [
    {
     "data": {
      "image/png": "[encoded data removed]",
      "text/plain": [
       "<Figure size 432x288 with 1 Axes>"
      ]
     },
     "metadata": {
      "needs_background": "light"
     },
     "output_type": "display_data"
    }
   ],
   "source": [
    "# По оси абсцисс откладываем ID каждой категории.\n",
    "import numpy as np\n",
    "import matplotlib.pyplot as plt\n",
    "x = [0, 1, 2, 3, 4]\n",
    "plt.xticks(np.arange(min(x), max(x)+1, 1.0))  # изменяем шаг делений на оси X для отображения всех четырех категорий.\n",
    "data.groupby('family_status_id')['debt'].mean().plot()\n",
    "plt.title('Зависимость между семейным положением и возвратом кредита в срок')\n",
    "plt.xlabel('Семейный статус')\n",
    "plt.ylabel('Среднее значение')\n",
    "plt.show()\n"
   ]
  },
  {
   "cell_type": "markdown",
   "id": "c389ca63",
   "metadata": {
    "deletable": false,
    "id": "c389ca63"
   },
   "source": [
    "**Вывод:** На основании полученной выборки можем сделать выбор о том, что зависимость между семейным положением и возвратом кредита в срок есть. \n",
    "    Заемщики из категорий: 'Не женат / не замужем' и 'гражданский брак' имеют больший процент невозвратов в срок. Но берут кредиты гораздо реже чем заемщики из категории 'женат / замужем' у которых процент невозвратов меньше. \n",
    "    Также, стоит отметить, что заемщики из категорий: 'вдовец / вдова' и 'в разводе', имеют наименьший процент по невозврату кредитов в срок. Они самыми малочисленными, но самыми надежными заемщиками. "
   ]
  },
  {
   "cell_type": "markdown",
   "id": "d77f30aa",
   "metadata": {},
   "source": [
    "<div class=\"alert alert-success\">\n",
    "<h2> Комментарий ревьюера <a class=\"tocSkip\"> </h2>\n",
    "\n",
    "<b>Отлично!✅:</b> Абсолютно правильно, заемщики состоящие или состоявшие в браке реже допускают просрочку!\n",
    "\n",
    "</div>"
   ]
  },
  {
   "cell_type": "markdown",
   "id": "9529de68",
   "metadata": {
    "deletable": false,
    "editable": false,
    "id": "9529de68"
   },
   "source": [
    "#### 3.3 Есть ли зависимость между уровнем дохода и возвратом кредита в срок?"
   ]
  },
  {
   "cell_type": "markdown",
   "id": "2ed855a5",
   "metadata": {
    "deletable": false,
    "id": "8787f44a"
   },
   "source": [
    "В зависимости от уровня дохода заемшика определяется количество записей и среднее значение."
   ]
  },
  {
   "cell_type": "code",
   "execution_count": 26,
   "id": "5026f11e",
   "metadata": {},
   "outputs": [
    {
     "data": {
      "text/html": [
       "<style  type=\"text/css\" >\n",
       "</style><table id=\"T_28a9a_\" ><thead>    <tr>        <th class=\"blank level0\" ></th>        <th class=\"col_heading level0 col0\" >Количество записей</th>        <th class=\"col_heading level0 col1\" >Среднее значение</th>    </tr>    <tr>        <th class=\"index_name level0\" >total_income_category</th>        <th class=\"blank\" ></th>        <th class=\"blank\" ></th>    </tr></thead><tbody>\n",
       "                <tr>\n",
       "                        <th id=\"T_28a9a_level0_row0\" class=\"row_heading level0 row0\" >E</th>\n",
       "                        <td id=\"T_28a9a_row0_col0\" class=\"data row0 col0\" >22</td>\n",
       "                        <td id=\"T_28a9a_row0_col1\" class=\"data row0 col1\" >9.1%</td>\n",
       "            </tr>\n",
       "            <tr>\n",
       "                        <th id=\"T_28a9a_level0_row1\" class=\"row_heading level0 row1\" >D</th>\n",
       "                        <td id=\"T_28a9a_row1_col0\" class=\"data row1 col0\" >349</td>\n",
       "                        <td id=\"T_28a9a_row1_col1\" class=\"data row1 col1\" >6.0%</td>\n",
       "            </tr>\n",
       "            <tr>\n",
       "                        <th id=\"T_28a9a_level0_row2\" class=\"row_heading level0 row2\" >C</th>\n",
       "                        <td id=\"T_28a9a_row2_col0\" class=\"data row2 col0\" >15921</td>\n",
       "                        <td id=\"T_28a9a_row2_col1\" class=\"data row2 col1\" >8.5%</td>\n",
       "            </tr>\n",
       "            <tr>\n",
       "                        <th id=\"T_28a9a_level0_row3\" class=\"row_heading level0 row3\" >B</th>\n",
       "                        <td id=\"T_28a9a_row3_col0\" class=\"data row3 col0\" >5014</td>\n",
       "                        <td id=\"T_28a9a_row3_col1\" class=\"data row3 col1\" >7.1%</td>\n",
       "            </tr>\n",
       "            <tr>\n",
       "                        <th id=\"T_28a9a_level0_row4\" class=\"row_heading level0 row4\" >A</th>\n",
       "                        <td id=\"T_28a9a_row4_col0\" class=\"data row4 col0\" >25</td>\n",
       "                        <td id=\"T_28a9a_row4_col1\" class=\"data row4 col1\" >8.0%</td>\n",
       "            </tr>\n",
       "    </tbody></table>"
      ],
      "text/plain": [
       "<pandas.io.formats.style.Styler at 0x7ff976100310>"
      ]
     },
     "execution_count": 26,
     "metadata": {},
     "output_type": "execute_result"
    }
   ],
   "source": [
    "# Данная функция определяет зависимость между уровнем дохода заемщика и возвратом кредита в срок.\n",
    "def check_debt(data, total_income_category, debt):\n",
    "    debt_dependence = data.groupby('total_income_category')['debt'].agg(['count', 'mean']) \n",
    "#Группируем по возростанию дохода\n",
    "    debt_dependence = debt_dependence.sort_values(['total_income_category'], ascending=( False)) \n",
    "    debt_dependence = debt_dependence.rename(columns = {'count': 'Количество записей', 'mean': 'Среднее значение'})\n",
    "# Приводим среднее значение в привычному виду в процентах.\n",
    "    return debt_dependence.style.format({'Среднее значение': '{:.1%}'.format})\n",
    "check_debt(data, 'total_income_category', 'debt')"
   ]
  },
  {
   "cell_type": "markdown",
   "id": "22d6c2d2",
   "metadata": {},
   "source": [
    "Также, зависимость между уровнем дохода и возвратом кредита в срок можем увидеть на графике."
   ]
  },
  {
   "cell_type": "code",
   "execution_count": 27,
   "id": "eab2dd12",
   "metadata": {},
   "outputs": [
    {
     "data": {
      "image/png": "[encoded data removed]",
      "text/plain": [
       "<Figure size 432x288 with 1 Axes>"
      ]
     },
     "metadata": {
      "needs_background": "light"
     },
     "output_type": "display_data"
    }
   ],
   "source": [
    "import numpy as np\n",
    "import matplotlib.pyplot as plt\n",
    "data.groupby('total_income_category')['debt'].mean().plot()\n",
    "plt.title('Зависимость между уровнем дохода и возвратом кредита в срок')\n",
    "plt.xlabel('Уровни дохода')\n",
    "plt.ylabel('Среднее значение')\n",
    "plt.show()"
   ]
  },
  {
   "cell_type": "markdown",
   "id": "6dd14b57",
   "metadata": {
    "deletable": false,
    "id": "6dd14b57"
   },
   "source": [
    "**Вывод:** На основании полученной выборки можем сделать выбор о том, что явной зависимости между уровнем дохода и возвратом кредита в срок не наблюдается. В данном случае выборка нерепрезентативна, так как по большинству выделенных категорий недостаточно записей для более ли менее детального анализа.\n",
    "**Можно провести сравнение двух самых многочисленных выборок B и C для выявления зависимости.**\n",
    "Сравивая две данные категории, можно сделать вывод о том, что заемщики из категории 'C', с доходм (50001–200000) берут кредиты на 68.47% чаще чем заемщики с уровнем дохода 'B' (200001–1000000). Это делает категорию 'С' самой востребованной категорией заемщиков. При этом процент просроченных кредитов меньше у заемщиков с уровнем дохода 'B'."
   ]
  },
  {
   "cell_type": "markdown",
   "id": "efdf038a",
   "metadata": {},
   "source": [
    "<div class=\"alert alert-warning\">\n",
    "    <h2> Комментарий ревьюера <a class=\"tocSkip\"> </h2>\n",
    "    \n",
    "<b>Можно лучше⚠️:</b> Матвей, давай сравним две самые многочисленные выборки B и C для выявления зависимости.\n",
    "</div>"
   ]
  },
  {
   "cell_type": "markdown",
   "id": "236b08fd",
   "metadata": {},
   "source": [
    "<div class=\"alert alert-success\">\n",
    "<h2> Комментарий ревьюера v2<a class=\"tocSkip\"> </h2>\n",
    "\n",
    "<b>Отлично!✅:</b> Можно сказать, чем выше доход, тем надежнее заемщик!\n",
    "</div>"
   ]
  },
  {
   "cell_type": "markdown",
   "id": "1dcc9b12",
   "metadata": {
    "deletable": false,
    "editable": false,
    "id": "1dcc9b12"
   },
   "source": [
    "#### 3.4 Как разные цели кредита влияют на его возврат в срок?"
   ]
  },
  {
   "cell_type": "markdown",
   "id": "8f1d9407",
   "metadata": {},
   "source": [
    "В зависимости от целий взятия кредита заемщиком определяется количество записей и среднее значение."
   ]
  },
  {
   "cell_type": "code",
   "execution_count": 28,
   "id": "0e8544bc",
   "metadata": {},
   "outputs": [
    {
     "data": {
      "text/html": [
       "<style  type=\"text/css\" >\n",
       "</style><table id=\"T_c89db_\" ><thead>    <tr>        <th class=\"blank level0\" ></th>        <th class=\"col_heading level0 col0\" >Количество записей</th>        <th class=\"col_heading level0 col1\" >Среднее значение</th>    </tr>    <tr>        <th class=\"index_name level0\" >purpose_category</th>        <th class=\"blank\" ></th>        <th class=\"blank\" ></th>    </tr></thead><tbody>\n",
       "                <tr>\n",
       "                        <th id=\"T_c89db_level0_row0\" class=\"row_heading level0 row0\" >операции с недвижимостью</th>\n",
       "                        <td id=\"T_c89db_row0_col0\" class=\"data row0 col0\" >10751</td>\n",
       "                        <td id=\"T_c89db_row0_col1\" class=\"data row0 col1\" >7.3%</td>\n",
       "            </tr>\n",
       "            <tr>\n",
       "                        <th id=\"T_c89db_level0_row1\" class=\"row_heading level0 row1\" >операции с автомобилем</th>\n",
       "                        <td id=\"T_c89db_row1_col0\" class=\"data row1 col0\" >4279</td>\n",
       "                        <td id=\"T_c89db_row1_col1\" class=\"data row1 col1\" >9.3%</td>\n",
       "            </tr>\n",
       "            <tr>\n",
       "                        <th id=\"T_c89db_level0_row2\" class=\"row_heading level0 row2\" >получение образования</th>\n",
       "                        <td id=\"T_c89db_row2_col0\" class=\"data row2 col0\" >3988</td>\n",
       "                        <td id=\"T_c89db_row2_col1\" class=\"data row2 col1\" >9.3%</td>\n",
       "            </tr>\n",
       "            <tr>\n",
       "                        <th id=\"T_c89db_level0_row3\" class=\"row_heading level0 row3\" >проведение свадьбы</th>\n",
       "                        <td id=\"T_c89db_row3_col0\" class=\"data row3 col0\" >2313</td>\n",
       "                        <td id=\"T_c89db_row3_col1\" class=\"data row3 col1\" >7.9%</td>\n",
       "            </tr>\n",
       "    </tbody></table>"
      ],
      "text/plain": [
       "<pandas.io.formats.style.Styler at 0x7ff97610ec70>"
      ]
     },
     "execution_count": 28,
     "metadata": {},
     "output_type": "execute_result"
    }
   ],
   "source": [
    "def check_debt(data, purpose_category, debt):\n",
    "    purpose_dependence = data.groupby('purpose_category')['debt'].agg(['count', 'mean'])\n",
    "#Группируем по возростанию количеству записей.\n",
    "    purpose_dependence = purpose_dependence.sort_values(['count'], ascending=( False))\n",
    "    purpose_dependence = purpose_dependence.rename(columns = {'count': 'Количество записей', 'mean': 'Среднее значение'})\n",
    "# Приводим среднее значение в привычному виду в процентах.\n",
    "    return purpose_dependence.style.format({'Среднее значение': '{:.1%}'.format})\n",
    "check_debt(data, 'purpose_category', 'debt')"
   ]
  },
  {
   "cell_type": "markdown",
   "id": "270a7af9",
   "metadata": {},
   "source": [
    " Также, зависимость целий взятия кредита и возвратом кредита заемщиком в срок можем увидеть на графике."
   ]
  },
  {
   "cell_type": "code",
   "execution_count": 29,
   "id": "c602bc8b",
   "metadata": {
    "deletable": false,
    "id": "c602bc8b"
   },
   "outputs": [
    {
     "data": {
      "image/png": "[encoded data removed]",
      "text/plain": [
       "<Figure size 432x288 with 1 Axes>"
      ]
     },
     "metadata": {},
     "output_type": "display_data"
    }
   ],
   "source": [
    "# Использую библиотеку seaborn чтобы уменьшить размер подписей на оси абсцисс.\n",
    "import seaborn as sns\n",
    "import numpy as np\n",
    "import matplotlib.pyplot as plt\n",
    "sns.set (font_scale= 0.6 ) # Уменьшаю маштаб \n",
    "data.groupby('purpose_category')['debt'].mean().plot()\n",
    "plt.title('Зависимость целий взятия кредита и возвратом кредита заемщиком в срок')\n",
    "plt.xlabel('Уровни дохода')\n",
    "plt.ylabel('Среднее значение')\n",
    "plt.show()"
   ]
  },
  {
   "cell_type": "markdown",
   "id": "cf05ed63",
   "metadata": {
    "deletable": false,
    "id": "cf05ed63"
   },
   "source": [
    "**Вывод:** На основании полученной выборки можем сделать выбор о том, что лучший показатель возврата кредита в срок у заемщиков, берущих кредит с целью пороведения операций с недвижимостью. Это самая востребованная категория заемщиков. Наибольший процент просроченных кредитов у заемщиков, которые берут кредит на авто и образование."
   ]
  },
  {
   "cell_type": "markdown",
   "id": "385b0632",
   "metadata": {},
   "source": [
    "<div class=\"alert alert-success\">\n",
    "<h2> Комментарий ревьюера <a class=\"tocSkip\"> </h2>\n",
    "\n",
    "<b>Отлично!✅:</b> Молодец, верно определил более и менее рискованные для банка категории заемщиков по целям кредита!\n",
    "</div>"
   ]
  },
  {
   "cell_type": "markdown",
   "id": "46c1f10b",
   "metadata": {
    "deletable": false,
    "editable": false,
    "id": "46c1f10b"
   },
   "source": [
    "#### 3.5 Приведите возможные причины появления пропусков в исходных данных."
   ]
  },
  {
   "cell_type": "markdown",
   "id": "3697d2a9",
   "metadata": {
    "deletable": false,
    "id": "3697d2a9"
   },
   "source": [
    "Пропуски в данных могли возникнуть на этапах копирования, считывания, смене формата при выгрузке данных. Изначально, некоторые поля могли быть заполнены таким образом, что на одном из описанных выше этапов система восприняла их как пропуски. \n",
    "Также не стоит исключать человеческий фактор. Несмотря на то, что речь идет о банковской системе, где действуют строгие условия заполнения полей персональных данных, некоторые поля, все же могли быть заполнены неверно или не заполнены вообще."
   ]
  },
  {
   "cell_type": "markdown",
   "id": "a9e542f7",
   "metadata": {},
   "source": [
    "<div class=\"alert alert-success\">\n",
    "<h2> Комментарий ревьюера <a class=\"tocSkip\"> </h2>\n",
    "\n",
    "<b>Отлично!✅:</b> Совершенно верно, на пропуски в данных, в основном, оказывают влияние человеческий и технический факторы!\n",
    "</div>"
   ]
  },
  {
   "cell_type": "markdown",
   "id": "3137d257",
   "metadata": {
    "deletable": false,
    "editable": false,
    "id": "3137d257"
   },
   "source": [
    "#### 3.6 Объясните, почему заполнить пропуски медианным значением — лучшее решение для количественных переменных."
   ]
  },
  {
   "cell_type": "markdown",
   "id": "cf40012a",
   "metadata": {
    "deletable": false,
    "id": "cf40012a"
   },
   "source": [
    "Медиана является лучшим решением для оценки количественных переменных так как она не так сильно зависит от выбросов, как среднее значение. В сравнении со средним арифметическим, этот факт делает медиану более устойчивой к аномалиям в данных, что особенно важно при анализе количественных переменных, где распределение значений может быть неравномерным."
   ]
  },
  {
   "cell_type": "markdown",
   "id": "1939ac42",
   "metadata": {},
   "source": [
    "<div class=\"alert alert-success\">\n",
    "<h2> Комментарий ревьюера <a class=\"tocSkip\"> </h2>\n",
    "\n",
    "<b>Отлично!✅:</b> Правильно, медиана менее чувствительна к выбросам!\n",
    "</div>"
   ]
  },
  {
   "cell_type": "markdown",
   "id": "57bc304e",
   "metadata": {
    "deletable": false,
    "editable": false,
    "id": "57bc304e"
   },
   "source": [
    "### Шаг 4: общий вывод."
   ]
  },
  {
   "cell_type": "markdown",
   "id": "1ab75d1c",
   "metadata": {
    "deletable": false,
    "id": "1ab75d1c"
   },
   "source": [
    "**В рамках проведения предобработки данных о надёжности заемщиков, полученные данные прошли следующие этапы:**\n",
    "- \tУдалены пропуски (замена медианными значениями),\n",
    "- \tОбработаны аномальные значения,\n",
    "- \tИсправлены типы данных,\n",
    "- \tОбработаны неявные дубликаты,\n",
    "- \tПроведена категоризация данных по различным параметрам.\n",
    "- \tИсследовательский анализ данных, определение зависимостей в данных."
   ]
  },
  {
   "cell_type": "markdown",
   "id": "26ea4842",
   "metadata": {},
   "source": [
    "В рамках проведения анализа данных, были определены следующие зависимости:\n",
    "\n",
    "**Зависимость между количеством детей и возвратом кредита в срок:**\n",
    "С увеличением количества детей возрастает количество просроченных задолженностей.\n",
    "\n",
    "**Зависимость между семейным положением и возвратом кредита в срок:**\n",
    "Заемщики из категорий 'Не женат / не замужем' и 'гражданский брак' имеют больший процент невозвратов в срок. Однако берут кредиты гораздо реже чем заемщики из категории 'женат / замужем' у которых процент невозвратов меньше. Заемщики из категорий 'вдовец / вдова' и 'в разводе', имеют наименьший процент по невозврату кредитов в срок.\n",
    "\n",
    "**Зависимость между уровнем дохода и возвратом кредита в срок:**\n",
    "Явной зависимости между уровнем дохода и возвратом кредита в срок не наблюдается. В данном случае выборка нерепрезентативна, так как по большинству выделенных категорий недостаточно записей для более ли менее детального анализа.\n",
    "\n",
    "**Влияние цели кредита на его возврат в срок:**\n",
    "Наибольшее влияние на возврат кредита в срок оказывает оформление кредита с целью проведения операций с недвижимостью. Это самая востребованная цель для взятия кредитов заемщиками."
   ]
  },
  {
   "cell_type": "markdown",
   "id": "9e31d4c5",
   "metadata": {},
   "source": [
    "<div class=\"alert alert-success\">\n",
    "<h2> Комментарий ревьюера <a class=\"tocSkip\"> </h2>\n",
    "\n",
    "<b>Отлично!✅:</b> Супер, что собрал все данные в общий вывод!\n",
    "</div>"
   ]
  },
  {
   "cell_type": "markdown",
   "id": "bbd7534f",
   "metadata": {},
   "source": [
    "<div class=\"alert alert-success\">\n",
    "<h2> Комментарий ревьюера v2<a class=\"tocSkip\"> </h2>\n",
    "\n",
    "<b>Отлично!✅:</b> Матвей, привет! Молодец, оперативно и верно доработал проект. Работа принята, отличных выходных:)\n",
    "</div>"
   ]
  },
  {
   "cell_type": "markdown",
   "id": "b7d921d3",
   "metadata": {},
   "source": [
    "<div style=\"border:solid Chocolate 2px; padding: 40px\">\n",
    "Матвей, давай подведем итоги. Ты большой молодец, что старался и проделал такую большую работу. Шаг 1 и 2 ты выполнил без проблем, что очень хорошо:)\n",
    "    \n",
    "    Разберем над чем стоит поработать:\n",
    "    \n",
    "    1. Рекомендую:\n",
    "    - оформить графики;\n",
    "    - учитывать несбалансированность выборок.\n",
    "    \n",
    "    Пересмотри работу и исправь ошибки. Обязательно пиши, если я могу тебе еще чем-то помочь. Удачи!)\n",
    "  "
   ]
  }
 ],
 "metadata": {
  "ExecuteTimeLog": [
   {
    "duration": 646,
    "start_time": "2024-04-26T19:33:15.111Z"
   },
   {
    "duration": 25,
    "start_time": "2024-04-26T19:33:15.759Z"
   },
   {
    "duration": 17,
    "start_time": "2024-04-26T19:33:15.786Z"
   },
   {
    "duration": 13,
    "start_time": "2024-04-26T19:33:15.806Z"
   },
   {
    "duration": 42,
    "start_time": "2024-04-26T19:33:15.829Z"
   },
   {
    "duration": 3,
    "start_time": "2024-04-26T19:33:15.873Z"
   },
   {
    "duration": 10,
    "start_time": "2024-04-26T19:33:15.878Z"
   },
   {
    "duration": 5,
    "start_time": "2024-04-26T19:33:15.889Z"
   },
   {
    "duration": 11,
    "start_time": "2024-04-26T19:33:15.929Z"
   },
   {
    "duration": 6,
    "start_time": "2024-04-26T19:33:15.944Z"
   },
   {
    "duration": 54,
    "start_time": "2024-04-26T19:33:15.952Z"
   },
   {
    "duration": 23,
    "start_time": "2024-04-26T19:33:16.007Z"
   },
   {
    "duration": 5,
    "start_time": "2024-04-26T19:33:16.032Z"
   },
   {
    "duration": 20,
    "start_time": "2024-04-26T19:33:16.038Z"
   },
   {
    "duration": 21,
    "start_time": "2024-04-26T19:33:16.060Z"
   },
   {
    "duration": 17,
    "start_time": "2024-04-26T19:33:16.083Z"
   },
   {
    "duration": 5,
    "start_time": "2024-04-26T19:33:16.130Z"
   },
   {
    "duration": 17,
    "start_time": "2024-04-26T19:33:16.137Z"
   },
   {
    "duration": 9,
    "start_time": "2024-04-26T19:33:16.156Z"
   },
   {
    "duration": 4,
    "start_time": "2024-04-26T19:33:16.167Z"
   },
   {
    "duration": 15,
    "start_time": "2024-04-26T19:33:16.172Z"
   },
   {
    "duration": 7,
    "start_time": "2024-04-26T19:33:16.188Z"
   },
   {
    "duration": 8,
    "start_time": "2024-04-26T19:33:16.197Z"
   },
   {
    "duration": 11,
    "start_time": "2024-04-26T19:33:16.230Z"
   },
   {
    "duration": 13,
    "start_time": "2024-04-26T19:33:16.243Z"
   },
   {
    "duration": 41,
    "start_time": "2024-04-27T13:45:41.526Z"
   },
   {
    "duration": 561,
    "start_time": "2024-04-27T13:45:47.401Z"
   },
   {
    "duration": 21,
    "start_time": "2024-04-27T13:45:47.964Z"
   },
   {
    "duration": 13,
    "start_time": "2024-04-27T13:45:47.986Z"
   },
   {
    "duration": 7,
    "start_time": "2024-04-27T13:45:48.001Z"
   },
   {
    "duration": 37,
    "start_time": "2024-04-27T13:45:48.009Z"
   },
   {
    "duration": 3,
    "start_time": "2024-04-27T13:45:48.047Z"
   },
   {
    "duration": 13,
    "start_time": "2024-04-27T13:45:48.052Z"
   },
   {
    "duration": 4,
    "start_time": "2024-04-27T13:45:48.066Z"
   },
   {
    "duration": 11,
    "start_time": "2024-04-27T13:45:48.071Z"
   },
   {
    "duration": 18,
    "start_time": "2024-04-27T13:45:48.085Z"
   },
   {
    "duration": 45,
    "start_time": "2024-04-27T13:45:48.104Z"
   },
   {
    "duration": 10,
    "start_time": "2024-04-27T13:45:48.150Z"
   },
   {
    "duration": 8,
    "start_time": "2024-04-27T13:45:48.161Z"
   },
   {
    "duration": 13,
    "start_time": "2024-04-27T13:45:48.170Z"
   },
   {
    "duration": 21,
    "start_time": "2024-04-27T13:45:48.184Z"
   },
   {
    "duration": 14,
    "start_time": "2024-04-27T13:45:48.206Z"
   },
   {
    "duration": 3,
    "start_time": "2024-04-27T13:45:48.222Z"
   },
   {
    "duration": 12,
    "start_time": "2024-04-27T13:45:48.226Z"
   },
   {
    "duration": 9,
    "start_time": "2024-04-27T13:45:48.240Z"
   },
   {
    "duration": 3,
    "start_time": "2024-04-27T13:45:48.250Z"
   },
   {
    "duration": 15,
    "start_time": "2024-04-27T13:45:48.254Z"
   },
   {
    "duration": 417,
    "start_time": "2024-04-27T13:45:48.270Z"
   },
   {
    "duration": 115,
    "start_time": "2024-04-27T13:45:48.689Z"
   },
   {
    "duration": 2,
    "start_time": "2024-04-27T13:45:48.805Z"
   },
   {
    "duration": 23,
    "start_time": "2024-04-27T13:45:48.808Z"
   },
   {
    "duration": 10,
    "start_time": "2024-04-27T13:45:48.833Z"
   },
   {
    "duration": 9,
    "start_time": "2024-04-27T13:46:55.370Z"
   },
   {
    "duration": 96,
    "start_time": "2024-04-27T13:46:59.109Z"
   },
   {
    "duration": 411,
    "start_time": "2024-04-27T14:27:13.850Z"
   },
   {
    "duration": 19,
    "start_time": "2024-04-27T14:27:14.264Z"
   },
   {
    "duration": 24,
    "start_time": "2024-04-27T14:27:14.285Z"
   },
   {
    "duration": 8,
    "start_time": "2024-04-27T14:27:14.311Z"
   },
   {
    "duration": 27,
    "start_time": "2024-04-27T14:27:14.321Z"
   },
   {
    "duration": 3,
    "start_time": "2024-04-27T14:27:14.349Z"
   },
   {
    "duration": 26,
    "start_time": "2024-04-27T14:27:14.354Z"
   },
   {
    "duration": 3,
    "start_time": "2024-04-27T14:27:14.381Z"
   },
   {
    "duration": 8,
    "start_time": "2024-04-27T14:27:14.385Z"
   },
   {
    "duration": 3,
    "start_time": "2024-04-27T14:27:14.402Z"
   },
   {
    "duration": 32,
    "start_time": "2024-04-27T14:27:14.407Z"
   },
   {
    "duration": 7,
    "start_time": "2024-04-27T14:27:14.441Z"
   },
   {
    "duration": 3,
    "start_time": "2024-04-27T14:27:14.450Z"
   },
   {
    "duration": 32,
    "start_time": "2024-04-27T14:27:14.454Z"
   },
   {
    "duration": 22,
    "start_time": "2024-04-27T14:27:14.487Z"
   },
   {
    "duration": 23,
    "start_time": "2024-04-27T14:27:14.510Z"
   },
   {
    "duration": 3,
    "start_time": "2024-04-27T14:27:14.534Z"
   },
   {
    "duration": 13,
    "start_time": "2024-04-27T14:27:14.538Z"
   },
   {
    "duration": 7,
    "start_time": "2024-04-27T14:27:14.552Z"
   },
   {
    "duration": 3,
    "start_time": "2024-04-27T14:27:14.560Z"
   },
   {
    "duration": 17,
    "start_time": "2024-04-27T14:27:14.564Z"
   },
   {
    "duration": 234,
    "start_time": "2024-04-27T14:27:14.582Z"
   },
   {
    "duration": 113,
    "start_time": "2024-04-27T14:27:14.818Z"
   },
   {
    "duration": 2,
    "start_time": "2024-04-27T14:27:14.932Z"
   },
   {
    "duration": 8,
    "start_time": "2024-04-27T14:27:14.935Z"
   },
   {
    "duration": 7,
    "start_time": "2024-04-27T14:27:14.944Z"
   },
   {
    "duration": 489,
    "start_time": "2024-04-27T14:44:41.899Z"
   },
   {
    "duration": 20,
    "start_time": "2024-04-27T14:44:42.390Z"
   },
   {
    "duration": 13,
    "start_time": "2024-04-27T14:44:42.411Z"
   },
   {
    "duration": 29,
    "start_time": "2024-04-27T14:44:42.426Z"
   },
   {
    "duration": 42,
    "start_time": "2024-04-27T14:44:42.457Z"
   },
   {
    "duration": 3,
    "start_time": "2024-04-27T14:44:42.500Z"
   },
   {
    "duration": 17,
    "start_time": "2024-04-27T14:44:42.504Z"
   },
   {
    "duration": 5,
    "start_time": "2024-04-27T14:44:42.523Z"
   },
   {
    "duration": 7,
    "start_time": "2024-04-27T14:44:42.530Z"
   },
   {
    "duration": 4,
    "start_time": "2024-04-27T14:44:42.540Z"
   },
   {
    "duration": 32,
    "start_time": "2024-04-27T14:44:42.545Z"
   },
   {
    "duration": 8,
    "start_time": "2024-04-27T14:44:42.578Z"
   },
   {
    "duration": 15,
    "start_time": "2024-04-27T14:44:42.587Z"
   },
   {
    "duration": 28,
    "start_time": "2024-04-27T14:44:42.603Z"
   },
   {
    "duration": 37,
    "start_time": "2024-04-27T14:44:42.633Z"
   },
   {
    "duration": 13,
    "start_time": "2024-04-27T14:44:42.672Z"
   },
   {
    "duration": 3,
    "start_time": "2024-04-27T14:44:42.687Z"
   },
   {
    "duration": 14,
    "start_time": "2024-04-27T14:44:42.690Z"
   },
   {
    "duration": 5,
    "start_time": "2024-04-27T14:44:42.704Z"
   },
   {
    "duration": 12,
    "start_time": "2024-04-27T14:44:42.710Z"
   },
   {
    "duration": 18,
    "start_time": "2024-04-27T14:44:42.724Z"
   },
   {
    "duration": 227,
    "start_time": "2024-04-27T14:44:42.743Z"
   },
   {
    "duration": 112,
    "start_time": "2024-04-27T14:44:42.972Z"
   },
   {
    "duration": 23,
    "start_time": "2024-04-27T14:44:43.085Z"
   },
   {
    "duration": 2,
    "start_time": "2024-04-27T14:44:43.109Z"
   },
   {
    "duration": 6,
    "start_time": "2024-04-27T14:44:43.112Z"
   },
   {
    "duration": 453,
    "start_time": "2024-04-27T14:46:05.479Z"
   },
   {
    "duration": 19,
    "start_time": "2024-04-27T14:46:05.934Z"
   },
   {
    "duration": 12,
    "start_time": "2024-04-27T14:46:05.954Z"
   },
   {
    "duration": 25,
    "start_time": "2024-04-27T14:46:05.967Z"
   },
   {
    "duration": 31,
    "start_time": "2024-04-27T14:46:05.994Z"
   },
   {
    "duration": 3,
    "start_time": "2024-04-27T14:46:06.026Z"
   },
   {
    "duration": 30,
    "start_time": "2024-04-27T14:46:06.030Z"
   },
   {
    "duration": 3,
    "start_time": "2024-04-27T14:46:06.062Z"
   },
   {
    "duration": 8,
    "start_time": "2024-04-27T14:46:06.066Z"
   },
   {
    "duration": 4,
    "start_time": "2024-04-27T14:46:06.075Z"
   },
   {
    "duration": 35,
    "start_time": "2024-04-27T14:46:06.080Z"
   },
   {
    "duration": 8,
    "start_time": "2024-04-27T14:46:06.116Z"
   },
   {
    "duration": 6,
    "start_time": "2024-04-27T14:46:06.125Z"
   },
   {
    "duration": 24,
    "start_time": "2024-04-27T14:46:06.133Z"
   },
   {
    "duration": 17,
    "start_time": "2024-04-27T14:46:06.158Z"
   },
   {
    "duration": 13,
    "start_time": "2024-04-27T14:46:06.177Z"
   },
   {
    "duration": 3,
    "start_time": "2024-04-27T14:46:06.192Z"
   },
   {
    "duration": 23,
    "start_time": "2024-04-27T14:46:06.196Z"
   },
   {
    "duration": 7,
    "start_time": "2024-04-27T14:46:06.220Z"
   },
   {
    "duration": 4,
    "start_time": "2024-04-27T14:46:06.228Z"
   },
   {
    "duration": 18,
    "start_time": "2024-04-27T14:46:06.233Z"
   },
   {
    "duration": 303,
    "start_time": "2024-04-27T14:46:06.252Z"
   },
   {
    "duration": 114,
    "start_time": "2024-04-27T14:46:06.556Z"
   },
   {
    "duration": 12,
    "start_time": "2024-04-27T14:46:06.671Z"
   },
   {
    "duration": 1,
    "start_time": "2024-04-27T14:46:06.685Z"
   },
   {
    "duration": 15,
    "start_time": "2024-04-27T14:46:06.687Z"
   },
   {
    "duration": 342,
    "start_time": "2024-04-27T14:49:02.193Z"
   },
   {
    "duration": 51,
    "start_time": "2024-04-27T14:49:06.028Z"
   },
   {
    "duration": 429,
    "start_time": "2024-04-27T14:49:24.008Z"
   },
   {
    "duration": 18,
    "start_time": "2024-04-27T14:49:24.439Z"
   },
   {
    "duration": 11,
    "start_time": "2024-04-27T14:49:24.459Z"
   },
   {
    "duration": 9,
    "start_time": "2024-04-27T14:49:24.471Z"
   },
   {
    "duration": 40,
    "start_time": "2024-04-27T14:49:24.481Z"
   },
   {
    "duration": 2,
    "start_time": "2024-04-27T14:49:24.522Z"
   },
   {
    "duration": 14,
    "start_time": "2024-04-27T14:49:24.525Z"
   },
   {
    "duration": 6,
    "start_time": "2024-04-27T14:49:24.540Z"
   },
   {
    "duration": 18,
    "start_time": "2024-04-27T14:49:24.547Z"
   },
   {
    "duration": 13,
    "start_time": "2024-04-27T14:49:24.568Z"
   },
   {
    "duration": 33,
    "start_time": "2024-04-27T14:49:24.583Z"
   },
   {
    "duration": 9,
    "start_time": "2024-04-27T14:49:24.617Z"
   },
   {
    "duration": 5,
    "start_time": "2024-04-27T14:49:24.627Z"
   },
   {
    "duration": 17,
    "start_time": "2024-04-27T14:49:24.633Z"
   },
   {
    "duration": 32,
    "start_time": "2024-04-27T14:49:24.651Z"
   },
   {
    "duration": 15,
    "start_time": "2024-04-27T14:49:24.684Z"
   },
   {
    "duration": 3,
    "start_time": "2024-04-27T14:49:24.701Z"
   },
   {
    "duration": 16,
    "start_time": "2024-04-27T14:49:24.705Z"
   },
   {
    "duration": 8,
    "start_time": "2024-04-27T14:49:24.722Z"
   },
   {
    "duration": 4,
    "start_time": "2024-04-27T14:49:24.731Z"
   },
   {
    "duration": 10,
    "start_time": "2024-04-27T14:49:24.736Z"
   },
   {
    "duration": 234,
    "start_time": "2024-04-27T14:49:24.747Z"
   },
   {
    "duration": 116,
    "start_time": "2024-04-27T14:49:24.982Z"
   },
   {
    "duration": 66,
    "start_time": "2024-04-27T14:49:25.102Z"
   },
   {
    "duration": 0,
    "start_time": "2024-04-27T14:49:25.169Z"
   },
   {
    "duration": 0,
    "start_time": "2024-04-27T14:49:25.170Z"
   },
   {
    "duration": 13,
    "start_time": "2024-04-27T14:50:04.547Z"
   },
   {
    "duration": 101,
    "start_time": "2024-04-27T14:51:56.794Z"
   },
   {
    "duration": 565,
    "start_time": "2024-04-27T15:00:54.463Z"
   },
   {
    "duration": 117,
    "start_time": "2024-04-27T15:01:04.439Z"
   },
   {
    "duration": 113,
    "start_time": "2024-04-27T15:01:11.950Z"
   },
   {
    "duration": 124,
    "start_time": "2024-04-27T15:01:19.207Z"
   },
   {
    "duration": 118,
    "start_time": "2024-04-27T15:01:40.831Z"
   },
   {
    "duration": 89,
    "start_time": "2024-04-27T15:02:23.799Z"
   },
   {
    "duration": 161,
    "start_time": "2024-04-27T15:03:08.463Z"
   },
   {
    "duration": 10,
    "start_time": "2024-04-27T15:03:32.358Z"
   },
   {
    "duration": 118,
    "start_time": "2024-04-27T15:03:35.638Z"
   },
   {
    "duration": 112,
    "start_time": "2024-04-27T15:03:42.278Z"
   },
   {
    "duration": 119,
    "start_time": "2024-04-27T15:03:47.405Z"
   },
   {
    "duration": 123,
    "start_time": "2024-04-27T15:04:29.213Z"
   },
   {
    "duration": 138,
    "start_time": "2024-04-27T15:04:38.053Z"
   },
   {
    "duration": 124,
    "start_time": "2024-04-27T15:09:00.244Z"
   },
   {
    "duration": 3,
    "start_time": "2024-04-27T15:29:20.683Z"
   },
   {
    "duration": 9,
    "start_time": "2024-04-27T15:29:22.362Z"
   },
   {
    "duration": 9,
    "start_time": "2024-04-27T15:29:25.036Z"
   },
   {
    "duration": 11,
    "start_time": "2024-04-27T15:29:42.836Z"
   },
   {
    "duration": 8,
    "start_time": "2024-04-27T15:41:02.834Z"
   },
   {
    "duration": 10,
    "start_time": "2024-04-27T16:17:53.469Z"
   },
   {
    "duration": 10,
    "start_time": "2024-04-27T16:28:41.236Z"
   },
   {
    "duration": 111,
    "start_time": "2024-04-27T16:39:13.817Z"
   },
   {
    "duration": 399,
    "start_time": "2024-04-27T16:39:25.539Z"
   },
   {
    "duration": 18,
    "start_time": "2024-04-27T16:39:25.940Z"
   },
   {
    "duration": 26,
    "start_time": "2024-04-27T16:39:25.959Z"
   },
   {
    "duration": 8,
    "start_time": "2024-04-27T16:39:25.987Z"
   },
   {
    "duration": 39,
    "start_time": "2024-04-27T16:39:25.996Z"
   },
   {
    "duration": 3,
    "start_time": "2024-04-27T16:39:26.037Z"
   },
   {
    "duration": 12,
    "start_time": "2024-04-27T16:39:26.041Z"
   },
   {
    "duration": 23,
    "start_time": "2024-04-27T16:39:26.054Z"
   },
   {
    "duration": 13,
    "start_time": "2024-04-27T16:39:26.078Z"
   },
   {
    "duration": 16,
    "start_time": "2024-04-27T16:39:26.094Z"
   },
   {
    "duration": 33,
    "start_time": "2024-04-27T16:39:26.111Z"
   },
   {
    "duration": 7,
    "start_time": "2024-04-27T16:39:26.146Z"
   },
   {
    "duration": 5,
    "start_time": "2024-04-27T16:39:26.154Z"
   },
   {
    "duration": 35,
    "start_time": "2024-04-27T16:39:26.160Z"
   },
   {
    "duration": 31,
    "start_time": "2024-04-27T16:39:26.197Z"
   },
   {
    "duration": 14,
    "start_time": "2024-04-27T16:39:26.230Z"
   },
   {
    "duration": 3,
    "start_time": "2024-04-27T16:39:26.245Z"
   },
   {
    "duration": 28,
    "start_time": "2024-04-27T16:39:26.249Z"
   },
   {
    "duration": 15,
    "start_time": "2024-04-27T16:39:26.279Z"
   },
   {
    "duration": 10,
    "start_time": "2024-04-27T16:39:26.295Z"
   },
   {
    "duration": 15,
    "start_time": "2024-04-27T16:39:26.306Z"
   },
   {
    "duration": 250,
    "start_time": "2024-04-27T16:39:26.322Z"
   },
   {
    "duration": 107,
    "start_time": "2024-04-27T16:39:26.573Z"
   },
   {
    "duration": 21,
    "start_time": "2024-04-27T16:39:26.681Z"
   },
   {
    "duration": 113,
    "start_time": "2024-04-27T16:39:26.703Z"
   },
   {
    "duration": 9,
    "start_time": "2024-04-27T16:39:26.818Z"
   },
   {
    "duration": 119,
    "start_time": "2024-04-27T16:39:26.829Z"
   },
   {
    "duration": 1,
    "start_time": "2024-04-27T16:39:26.951Z"
   },
   {
    "duration": 12,
    "start_time": "2024-04-27T21:56:58.389Z"
   },
   {
    "duration": 11,
    "start_time": "2024-04-27T21:57:07.852Z"
   },
   {
    "duration": 119,
    "start_time": "2024-04-27T21:57:12.527Z"
   },
   {
    "duration": 12,
    "start_time": "2024-04-27T21:57:22.599Z"
   },
   {
    "duration": 500,
    "start_time": "2024-04-27T21:58:33.718Z"
   },
   {
    "duration": 110,
    "start_time": "2024-04-27T21:58:56.469Z"
   },
   {
    "duration": 111,
    "start_time": "2024-04-27T21:58:59.630Z"
   },
   {
    "duration": 147,
    "start_time": "2024-04-27T21:59:02.454Z"
   },
   {
    "duration": 120,
    "start_time": "2024-04-27T21:59:11.470Z"
   },
   {
    "duration": 104,
    "start_time": "2024-04-27T21:59:14.782Z"
   },
   {
    "duration": 467,
    "start_time": "2024-04-27T22:03:03.868Z"
   },
   {
    "duration": 19,
    "start_time": "2024-04-27T22:03:04.337Z"
   },
   {
    "duration": 23,
    "start_time": "2024-04-27T22:03:04.358Z"
   },
   {
    "duration": 13,
    "start_time": "2024-04-27T22:03:04.383Z"
   },
   {
    "duration": 60,
    "start_time": "2024-04-27T22:03:04.397Z"
   },
   {
    "duration": 7,
    "start_time": "2024-04-27T22:03:04.458Z"
   },
   {
    "duration": 39,
    "start_time": "2024-04-27T22:03:04.466Z"
   },
   {
    "duration": 8,
    "start_time": "2024-04-27T22:03:04.507Z"
   },
   {
    "duration": 13,
    "start_time": "2024-04-27T22:03:04.516Z"
   },
   {
    "duration": 23,
    "start_time": "2024-04-27T22:03:04.532Z"
   },
   {
    "duration": 31,
    "start_time": "2024-04-27T22:03:04.556Z"
   },
   {
    "duration": 9,
    "start_time": "2024-04-27T22:03:04.588Z"
   },
   {
    "duration": 13,
    "start_time": "2024-04-27T22:03:04.598Z"
   },
   {
    "duration": 15,
    "start_time": "2024-04-27T22:03:04.613Z"
   },
   {
    "duration": 21,
    "start_time": "2024-04-27T22:03:04.629Z"
   },
   {
    "duration": 15,
    "start_time": "2024-04-27T22:03:04.652Z"
   },
   {
    "duration": 4,
    "start_time": "2024-04-27T22:03:04.668Z"
   },
   {
    "duration": 21,
    "start_time": "2024-04-27T22:03:04.673Z"
   },
   {
    "duration": 10,
    "start_time": "2024-04-27T22:03:04.696Z"
   },
   {
    "duration": 5,
    "start_time": "2024-04-27T22:03:04.707Z"
   },
   {
    "duration": 16,
    "start_time": "2024-04-27T22:03:04.713Z"
   },
   {
    "duration": 230,
    "start_time": "2024-04-27T22:03:04.730Z"
   },
   {
    "duration": 110,
    "start_time": "2024-04-27T22:03:04.961Z"
   },
   {
    "duration": 12,
    "start_time": "2024-04-27T22:03:05.072Z"
   },
   {
    "duration": 130,
    "start_time": "2024-04-27T22:03:05.085Z"
   },
   {
    "duration": 10,
    "start_time": "2024-04-27T22:03:05.217Z"
   },
   {
    "duration": 59,
    "start_time": "2024-04-27T22:03:05.228Z"
   },
   {
    "duration": 0,
    "start_time": "2024-04-27T22:03:05.288Z"
   },
   {
    "duration": 0,
    "start_time": "2024-04-27T22:03:05.289Z"
   },
   {
    "duration": 0,
    "start_time": "2024-04-27T22:03:05.290Z"
   },
   {
    "duration": 441,
    "start_time": "2024-04-27T22:03:17.133Z"
   },
   {
    "duration": 18,
    "start_time": "2024-04-27T22:03:17.577Z"
   },
   {
    "duration": 13,
    "start_time": "2024-04-27T22:03:17.597Z"
   },
   {
    "duration": 8,
    "start_time": "2024-04-27T22:03:17.612Z"
   },
   {
    "duration": 32,
    "start_time": "2024-04-27T22:03:17.622Z"
   },
   {
    "duration": 3,
    "start_time": "2024-04-27T22:03:17.656Z"
   },
   {
    "duration": 10,
    "start_time": "2024-04-27T22:03:17.660Z"
   },
   {
    "duration": 4,
    "start_time": "2024-04-27T22:03:17.671Z"
   },
   {
    "duration": 27,
    "start_time": "2024-04-27T22:03:17.676Z"
   },
   {
    "duration": 4,
    "start_time": "2024-04-27T22:03:17.706Z"
   },
   {
    "duration": 37,
    "start_time": "2024-04-27T22:03:17.712Z"
   },
   {
    "duration": 8,
    "start_time": "2024-04-27T22:03:17.750Z"
   },
   {
    "duration": 5,
    "start_time": "2024-04-27T22:03:17.759Z"
   },
   {
    "duration": 16,
    "start_time": "2024-04-27T22:03:17.765Z"
   },
   {
    "duration": 30,
    "start_time": "2024-04-27T22:03:17.782Z"
   },
   {
    "duration": 33,
    "start_time": "2024-04-27T22:03:17.813Z"
   },
   {
    "duration": 12,
    "start_time": "2024-04-27T22:03:17.847Z"
   },
   {
    "duration": 18,
    "start_time": "2024-04-27T22:03:17.860Z"
   },
   {
    "duration": 5,
    "start_time": "2024-04-27T22:03:17.879Z"
   },
   {
    "duration": 9,
    "start_time": "2024-04-27T22:03:17.885Z"
   },
   {
    "duration": 11,
    "start_time": "2024-04-27T22:03:17.895Z"
   },
   {
    "duration": 238,
    "start_time": "2024-04-27T22:03:17.907Z"
   },
   {
    "duration": 111,
    "start_time": "2024-04-27T22:03:18.146Z"
   },
   {
    "duration": 12,
    "start_time": "2024-04-27T22:03:18.258Z"
   },
   {
    "duration": 178,
    "start_time": "2024-04-27T22:03:18.271Z"
   },
   {
    "duration": 9,
    "start_time": "2024-04-27T22:03:18.450Z"
   },
   {
    "duration": 106,
    "start_time": "2024-04-27T22:03:18.460Z"
   },
   {
    "duration": 10,
    "start_time": "2024-04-27T22:03:18.569Z"
   },
   {
    "duration": 550,
    "start_time": "2024-04-27T22:03:18.580Z"
   },
   {
    "duration": 441,
    "start_time": "2024-04-27T22:24:25.282Z"
   },
   {
    "duration": 17,
    "start_time": "2024-04-27T22:24:25.725Z"
   },
   {
    "duration": 11,
    "start_time": "2024-04-27T22:24:25.743Z"
   },
   {
    "duration": 7,
    "start_time": "2024-04-27T22:24:25.756Z"
   },
   {
    "duration": 37,
    "start_time": "2024-04-27T22:24:25.764Z"
   },
   {
    "duration": 3,
    "start_time": "2024-04-27T22:24:25.802Z"
   },
   {
    "duration": 10,
    "start_time": "2024-04-27T22:24:25.807Z"
   },
   {
    "duration": 3,
    "start_time": "2024-04-27T22:24:25.818Z"
   },
   {
    "duration": 6,
    "start_time": "2024-04-27T22:24:25.822Z"
   },
   {
    "duration": 3,
    "start_time": "2024-04-27T22:24:25.831Z"
   },
   {
    "duration": 25,
    "start_time": "2024-04-27T22:24:25.835Z"
   },
   {
    "duration": 7,
    "start_time": "2024-04-27T22:24:25.861Z"
   },
   {
    "duration": 3,
    "start_time": "2024-04-27T22:24:25.870Z"
   },
   {
    "duration": 36,
    "start_time": "2024-04-27T22:24:25.874Z"
   },
   {
    "duration": 18,
    "start_time": "2024-04-27T22:24:25.911Z"
   },
   {
    "duration": 15,
    "start_time": "2024-04-27T22:24:25.930Z"
   },
   {
    "duration": 3,
    "start_time": "2024-04-27T22:24:25.946Z"
   },
   {
    "duration": 9,
    "start_time": "2024-04-27T22:24:25.950Z"
   },
   {
    "duration": 7,
    "start_time": "2024-04-27T22:24:25.960Z"
   },
   {
    "duration": 4,
    "start_time": "2024-04-27T22:24:25.968Z"
   },
   {
    "duration": 7,
    "start_time": "2024-04-27T22:24:26.002Z"
   },
   {
    "duration": 231,
    "start_time": "2024-04-27T22:24:26.010Z"
   },
   {
    "duration": 124,
    "start_time": "2024-04-27T22:24:26.242Z"
   },
   {
    "duration": 13,
    "start_time": "2024-04-27T22:24:26.368Z"
   },
   {
    "duration": 101,
    "start_time": "2024-04-27T22:24:26.382Z"
   },
   {
    "duration": 20,
    "start_time": "2024-04-27T22:24:26.484Z"
   },
   {
    "duration": 113,
    "start_time": "2024-04-27T22:24:26.505Z"
   },
   {
    "duration": 9,
    "start_time": "2024-04-27T22:24:26.621Z"
   },
   {
    "duration": 574,
    "start_time": "2024-04-27T22:24:26.632Z"
   },
   {
    "duration": 8,
    "start_time": "2024-04-27T22:52:21.226Z"
   },
   {
    "duration": 847,
    "start_time": "2024-04-28T13:29:08.463Z"
   },
   {
    "duration": 11,
    "start_time": "2024-04-28T13:29:28.776Z"
   },
   {
    "duration": 7,
    "start_time": "2024-04-28T13:29:33.705Z"
   },
   {
    "duration": 7,
    "start_time": "2024-04-28T13:29:48.644Z"
   },
   {
    "duration": 8,
    "start_time": "2024-04-28T13:32:39.409Z"
   },
   {
    "duration": 138,
    "start_time": "2024-04-28T13:33:19.520Z"
   },
   {
    "duration": 120,
    "start_time": "2024-04-28T13:33:31.465Z"
   },
   {
    "duration": 8,
    "start_time": "2024-04-28T13:34:43.072Z"
   },
   {
    "duration": 580,
    "start_time": "2024-04-28T13:34:49.511Z"
   },
   {
    "duration": 24,
    "start_time": "2024-04-28T13:34:50.092Z"
   },
   {
    "duration": 30,
    "start_time": "2024-04-28T13:34:50.118Z"
   },
   {
    "duration": 13,
    "start_time": "2024-04-28T13:34:50.150Z"
   },
   {
    "duration": 48,
    "start_time": "2024-04-28T13:34:50.165Z"
   },
   {
    "duration": 3,
    "start_time": "2024-04-28T13:34:50.214Z"
   },
   {
    "duration": 21,
    "start_time": "2024-04-28T13:34:50.219Z"
   },
   {
    "duration": 13,
    "start_time": "2024-04-28T13:34:50.242Z"
   },
   {
    "duration": 11,
    "start_time": "2024-04-28T13:34:50.257Z"
   },
   {
    "duration": 7,
    "start_time": "2024-04-28T13:34:50.271Z"
   },
   {
    "duration": 46,
    "start_time": "2024-04-28T13:34:50.280Z"
   },
   {
    "duration": 11,
    "start_time": "2024-04-28T13:34:50.327Z"
   },
   {
    "duration": 21,
    "start_time": "2024-04-28T13:34:50.340Z"
   },
   {
    "duration": 14,
    "start_time": "2024-04-28T13:34:50.362Z"
   },
   {
    "duration": 27,
    "start_time": "2024-04-28T13:34:50.378Z"
   },
   {
    "duration": 22,
    "start_time": "2024-04-28T13:34:50.407Z"
   },
   {
    "duration": 5,
    "start_time": "2024-04-28T13:34:50.431Z"
   },
   {
    "duration": 32,
    "start_time": "2024-04-28T13:34:50.438Z"
   },
   {
    "duration": 21,
    "start_time": "2024-04-28T13:34:50.472Z"
   },
   {
    "duration": 20,
    "start_time": "2024-04-28T13:34:50.495Z"
   },
   {
    "duration": 11,
    "start_time": "2024-04-28T13:34:50.517Z"
   },
   {
    "duration": 268,
    "start_time": "2024-04-28T13:34:50.529Z"
   },
   {
    "duration": 146,
    "start_time": "2024-04-28T13:34:50.798Z"
   },
   {
    "duration": 22,
    "start_time": "2024-04-28T13:34:50.946Z"
   },
   {
    "duration": 128,
    "start_time": "2024-04-28T13:34:50.970Z"
   },
   {
    "duration": 12,
    "start_time": "2024-04-28T13:34:51.099Z"
   },
   {
    "duration": 140,
    "start_time": "2024-04-28T13:34:51.112Z"
   },
   {
    "duration": 12,
    "start_time": "2024-04-28T13:34:51.260Z"
   },
   {
    "duration": 716,
    "start_time": "2024-04-28T13:34:51.273Z"
   },
   {
    "duration": 154,
    "start_time": "2024-04-28T13:37:59.512Z"
   },
   {
    "duration": 155,
    "start_time": "2024-04-28T13:38:06.808Z"
   },
   {
    "duration": 156,
    "start_time": "2024-04-28T13:38:09.569Z"
   },
   {
    "duration": 226,
    "start_time": "2024-04-28T13:38:26.573Z"
   },
   {
    "duration": 161,
    "start_time": "2024-04-28T13:38:48.846Z"
   },
   {
    "duration": 153,
    "start_time": "2024-04-28T13:39:14.543Z"
   },
   {
    "duration": 140,
    "start_time": "2024-04-28T13:39:28.601Z"
   },
   {
    "duration": 158,
    "start_time": "2024-04-28T13:39:30.953Z"
   },
   {
    "duration": 142,
    "start_time": "2024-04-28T13:39:51.089Z"
   },
   {
    "duration": 142,
    "start_time": "2024-04-28T13:40:21.552Z"
   },
   {
    "duration": 153,
    "start_time": "2024-04-28T13:40:41.848Z"
   },
   {
    "duration": 149,
    "start_time": "2024-04-28T13:41:16.353Z"
   },
   {
    "duration": 147,
    "start_time": "2024-04-28T13:41:19.904Z"
   },
   {
    "duration": 160,
    "start_time": "2024-04-28T13:41:34.961Z"
   },
   {
    "duration": 163,
    "start_time": "2024-04-28T13:42:03.513Z"
   },
   {
    "duration": 155,
    "start_time": "2024-04-28T13:42:26.032Z"
   },
   {
    "duration": 243,
    "start_time": "2024-04-28T13:42:50.967Z"
   },
   {
    "duration": 170,
    "start_time": "2024-04-28T13:43:25.463Z"
   },
   {
    "duration": 146,
    "start_time": "2024-04-28T13:43:50.641Z"
   },
   {
    "duration": 515,
    "start_time": "2024-04-28T14:00:39.414Z"
   },
   {
    "duration": 46,
    "start_time": "2024-04-28T14:00:39.931Z"
   },
   {
    "duration": 20,
    "start_time": "2024-04-28T14:00:39.980Z"
   },
   {
    "duration": 12,
    "start_time": "2024-04-28T14:00:40.002Z"
   },
   {
    "duration": 66,
    "start_time": "2024-04-28T14:00:40.017Z"
   },
   {
    "duration": 3,
    "start_time": "2024-04-28T14:00:40.085Z"
   },
   {
    "duration": 15,
    "start_time": "2024-04-28T14:00:40.090Z"
   },
   {
    "duration": 5,
    "start_time": "2024-04-28T14:00:40.107Z"
   },
   {
    "duration": 17,
    "start_time": "2024-04-28T14:00:40.113Z"
   },
   {
    "duration": 6,
    "start_time": "2024-04-28T14:00:40.132Z"
   },
   {
    "duration": 50,
    "start_time": "2024-04-28T14:00:40.166Z"
   },
   {
    "duration": 16,
    "start_time": "2024-04-28T14:00:40.218Z"
   },
   {
    "duration": 8,
    "start_time": "2024-04-28T14:00:40.237Z"
   },
   {
    "duration": 30,
    "start_time": "2024-04-28T14:00:40.260Z"
   },
   {
    "duration": 23,
    "start_time": "2024-04-28T14:00:40.295Z"
   },
   {
    "duration": 20,
    "start_time": "2024-04-28T14:00:40.320Z"
   },
   {
    "duration": 26,
    "start_time": "2024-04-28T14:00:40.341Z"
   },
   {
    "duration": 21,
    "start_time": "2024-04-28T14:00:40.369Z"
   },
   {
    "duration": 5,
    "start_time": "2024-04-28T14:00:40.392Z"
   },
   {
    "duration": 4,
    "start_time": "2024-04-28T14:00:40.399Z"
   },
   {
    "duration": 19,
    "start_time": "2024-04-28T14:00:40.404Z"
   },
   {
    "duration": 434,
    "start_time": "2024-04-28T14:00:40.424Z"
   },
   {
    "duration": 182,
    "start_time": "2024-04-28T14:00:40.860Z"
   },
   {
    "duration": 31,
    "start_time": "2024-04-28T14:00:41.043Z"
   },
   {
    "duration": 162,
    "start_time": "2024-04-28T14:00:41.081Z"
   },
   {
    "duration": 25,
    "start_time": "2024-04-28T14:00:41.245Z"
   },
   {
    "duration": 157,
    "start_time": "2024-04-28T14:00:41.272Z"
   },
   {
    "duration": 32,
    "start_time": "2024-04-28T14:00:41.430Z"
   },
   {
    "duration": 794,
    "start_time": "2024-04-28T14:00:41.463Z"
   }
  ],
  "colab": {
   "provenance": []
  },
  "kernelspec": {
   "display_name": "Python 3 (ipykernel)",
   "language": "python",
   "name": "python3"
  },
  "language_info": {
   "codemirror_mode": {
    "name": "ipython",
    "version": 3
   },
   "file_extension": ".py",
   "mimetype": "text/x-python",
   "name": "python",
   "nbconvert_exporter": "python",
   "pygments_lexer": "ipython3",
   "version": "3.9.5"
  },
  "toc": {
   "base_numbering": 1,
   "nav_menu": {},
   "number_sections": true,
   "sideBar": true,
   "skip_h1_title": true,
   "title_cell": "Table of Contents",
   "title_sidebar": "Contents",
   "toc_cell": false,
   "toc_position": {},
   "toc_section_display": true,
   "toc_window_display": false
  }
 },
 "nbformat": 4,
 "nbformat_minor": 5
}
